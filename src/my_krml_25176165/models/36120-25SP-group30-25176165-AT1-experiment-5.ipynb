{
  "cells": [
    {
      "cell_type": "markdown",
      "metadata": {
        "id": "uQ6wc2HE0pke"
      },
      "source": [
        "# **Experiment Notebook**\n",
        "\n"
      ]
    },
    {
      "cell_type": "code",
      "source": [
        "# Do not modify this code\n",
        "!pip install -q utstd\n",
        "\n",
        "from utstd.ipyrenders import *"
      ],
      "metadata": {
        "id": "qNOA146K2c6f",
        "colab": {
          "base_uri": "https://localhost:8080/"
        },
        "outputId": "73cc63ba-4e73-4011-bbcd-6db5b5087169"
      },
      "execution_count": 1,
      "outputs": [
        {
          "output_type": "stream",
          "name": "stdout",
          "text": [
            "\u001b[2K   \u001b[90m━━━━━━━━━━━━━━━━━━━━━━━━━━━━━━━━━━━━━━━━\u001b[0m \u001b[32m12.9/12.9 MB\u001b[0m \u001b[31m75.5 MB/s\u001b[0m eta \u001b[36m0:00:00\u001b[0m\n",
            "\u001b[2K   \u001b[90m━━━━━━━━━━━━━━━━━━━━━━━━━━━━━━━━━━━━━━━━\u001b[0m \u001b[32m1.6/1.6 MB\u001b[0m \u001b[31m67.3 MB/s\u001b[0m eta \u001b[36m0:00:00\u001b[0m\n",
            "\u001b[?25h\u001b[31mERROR: pip's dependency resolver does not currently take into account all the packages that are installed. This behaviour is the source of the following dependency conflicts.\n",
            "umap-learn 0.5.9.post2 requires scikit-learn>=1.6, but you have scikit-learn 1.5.2 which is incompatible.\u001b[0m\u001b[31m\n",
            "\u001b[0m"
          ]
        }
      ]
    },
    {
      "cell_type": "code",
      "source": [
        "# Do not modify this code\n",
        "import warnings\n",
        "warnings.simplefilter(action='ignore')"
      ],
      "metadata": {
        "id": "6FneOmBfka9G"
      },
      "execution_count": 2,
      "outputs": []
    },
    {
      "cell_type": "markdown",
      "source": [
        "## 0. Import Packages"
      ],
      "metadata": {
        "id": "mXFKfa2tp1ch"
      }
    },
    {
      "cell_type": "code",
      "source": [
        "# <Student to fill this section>\n"
      ],
      "metadata": {
        "id": "GBEAwdncnlAx"
      },
      "execution_count": null,
      "outputs": []
    },
    {
      "cell_type": "markdown",
      "metadata": {
        "id": "tQgxLRrvjiJb"
      },
      "source": [
        "---\n",
        "## A. Project Description\n"
      ]
    },
    {
      "cell_type": "code",
      "source": [
        "# <Student to fill this section>\n",
        "student_name = \"Nian-Ya, Weng\"\n",
        "student_id = \"25176165\"\n",
        "group_id = \"30\""
      ],
      "metadata": {
        "id": "Je1EzzfFD5hj"
      },
      "execution_count": 4,
      "outputs": []
    },
    {
      "cell_type": "code",
      "source": [
        "# Do not modify this code\n",
        "print_tile(size=\"h1\", key='student_name', value=student_name)"
      ],
      "metadata": {
        "id": "pdKiYvFWD5my",
        "colab": {
          "base_uri": "https://localhost:8080/",
          "height": 98
        },
        "outputId": "c657f02c-7e43-4b7c-e62a-1e7675f5af13"
      },
      "execution_count": 5,
      "outputs": [
        {
          "output_type": "display_data",
          "data": {
            "text/plain": [
              "<IPython.core.display.HTML object>"
            ],
            "text/html": [
              "<p style=\"color:grey\">student_name</p><h1 font-size: 3em>Nian-Ya, Weng</h1>"
            ]
          },
          "metadata": {}
        }
      ]
    },
    {
      "cell_type": "code",
      "source": [
        "# Do not modify this code\n",
        "print_tile(size=\"h1\", key='student_id', value=student_id)"
      ],
      "metadata": {
        "id": "9KTEbRjqD5o_",
        "colab": {
          "base_uri": "https://localhost:8080/",
          "height": 98
        },
        "outputId": "9cd1f8dc-2a4c-4c6b-97d6-78716a63084e"
      },
      "execution_count": 6,
      "outputs": [
        {
          "output_type": "display_data",
          "data": {
            "text/plain": [
              "<IPython.core.display.HTML object>"
            ],
            "text/html": [
              "<p style=\"color:grey\">student_id</p><h1 font-size: 3em>25176165</h1>"
            ]
          },
          "metadata": {}
        }
      ]
    },
    {
      "cell_type": "code",
      "source": [
        "# Do not modify this code\n",
        "print_tile(size=\"h1\", key='group_id', value=group_id)"
      ],
      "metadata": {
        "id": "UKRt4jK6rInY",
        "colab": {
          "base_uri": "https://localhost:8080/",
          "height": 98
        },
        "outputId": "5ee0d13b-065c-4451-b90b-81ddd0b1ffa2"
      },
      "execution_count": 7,
      "outputs": [
        {
          "output_type": "display_data",
          "data": {
            "text/plain": [
              "<IPython.core.display.HTML object>"
            ],
            "text/html": [
              "<p style=\"color:grey\">group_id</p><h1 font-size: 3em>30</h1>"
            ]
          },
          "metadata": {}
        }
      ]
    },
    {
      "cell_type": "markdown",
      "source": [
        "---\n",
        "## B. Business Understanding"
      ],
      "metadata": {
        "id": "4q1Bzcejvfpm"
      }
    },
    {
      "cell_type": "code",
      "source": [
        "# <Student to fill this section>\n",
        "business_use_case_description = \"\"\"\n",
        "The goal of this project is to assist NBA teams in identifying college basketball players who are most likely to be drafted. By building a predictive model using historical player statistics, teams can make more informed scouting decisions and better allocate their resources. This tool can also support media and fan engagement platforms that predict player drafts, enhancing audience interaction and content value.\n",
        "\"\"\""
      ],
      "metadata": {
        "id": "Mmo6apC9EEv8"
      },
      "execution_count": 8,
      "outputs": []
    },
    {
      "cell_type": "code",
      "source": [
        "# Do not modify this code\n",
        "print_tile(size=\"h3\", key='business_use_case_description', value=business_use_case_description)"
      ],
      "metadata": {
        "id": "bgb0DkG2EE2e",
        "colab": {
          "base_uri": "https://localhost:8080/",
          "height": 142
        },
        "outputId": "67ef2e68-24f5-4e60-d047-87435fcf3326"
      },
      "execution_count": 9,
      "outputs": [
        {
          "output_type": "display_data",
          "data": {
            "text/plain": [
              "<IPython.core.display.HTML object>"
            ],
            "text/html": [
              "<p style=\"color:grey\">business_use_case_description</p><h3 font-size: 3em>\n",
              "The goal of this project is to assist NBA teams in identifying college basketball players who are most likely to be drafted. By building a predictive model using historical player statistics, teams can make more informed scouting decisions and better allocate their resources. This tool can also support media and fan engagement platforms that predict player drafts, enhancing audience interaction and content value.\n",
              "</h3>"
            ]
          },
          "metadata": {}
        }
      ]
    },
    {
      "cell_type": "code",
      "source": [
        "# <Student to fill this section>\n",
        "business_objectives = \"\"\"\n",
        "Accurate predictions can significantly improve the efficiency and success of NBA teams' draft strategies by identifying high-potential players early, reducing scouting costs, and increasing the return on investment in drafted players. It can also enhance fan engagement and media analytics products by providing more reliable draft forecasts.\n",
        "\n",
        "On the other hand, incorrect predictions may lead to poor draft choices, missed opportunities to recruit strong players, wasted resources on ineffective scouting, and reduced confidence in analytics-driven decision-making within the organization.\n",
        "\"\"\""
      ],
      "metadata": {
        "id": "29Yqk3d2EE8q"
      },
      "execution_count": 11,
      "outputs": []
    },
    {
      "cell_type": "code",
      "source": [
        "# Do not modify this code\n",
        "print_tile(size=\"h3\", key='business_objectives', value=business_objectives)"
      ],
      "metadata": {
        "id": "sSu_8J96EFDs",
        "colab": {
          "base_uri": "https://localhost:8080/",
          "height": 162
        },
        "outputId": "d1a3358a-2c5e-4a2d-c537-bf90e46bba72"
      },
      "execution_count": 12,
      "outputs": [
        {
          "output_type": "display_data",
          "data": {
            "text/plain": [
              "<IPython.core.display.HTML object>"
            ],
            "text/html": [
              "<p style=\"color:grey\">business_objectives</p><h3 font-size: 3em>\n",
              "Accurate predictions can significantly improve the efficiency and success of NBA teams' draft strategies by identifying high-potential players early, reducing scouting costs, and increasing the return on investment in drafted players. It can also enhance fan engagement and media analytics products by providing more reliable draft forecasts.\n",
              "\n",
              "On the other hand, incorrect predictions may lead to poor draft choices, missed opportunities to recruit strong players, wasted resources on ineffective scouting, and reduced confidence in analytics-driven decision-making within the organization.\n",
              "</h3>"
            ]
          },
          "metadata": {}
        }
      ]
    },
    {
      "cell_type": "code",
      "source": [
        "# <Student to fill this section>\n",
        "stakeholders_expectations_explanations = \"\"\"\n",
        "The results of the predictions will be used to support NBA team management, scouts, and analysts in making informed draft decisions. The primary users of the predictions will be the team's data analytics departments and decision makers involved in the player selection process.\n",
        "\n",
        "Other stakeholders impacted by the predictions include players whose draft chances and career opportunities may be affected, media platforms that use such data for public draft forecasts, and fans who follow and engage with draft related content. Accurate predictions are expected to improve trust in analytics and enhance engagement across these stakeholders.\n",
        "\"\"\""
      ],
      "metadata": {
        "id": "Hf4ThY5cEF5W"
      },
      "execution_count": 17,
      "outputs": []
    },
    {
      "cell_type": "code",
      "source": [
        "# Do not modify this code\n",
        "print_tile(size=\"h3\", key='stakeholders_expectations_explanations', value=stakeholders_expectations_explanations)"
      ],
      "metadata": {
        "id": "jH9a2X70EF8M",
        "colab": {
          "base_uri": "https://localhost:8080/",
          "height": 162
        },
        "outputId": "b7cd7266-ebd2-46b6-8304-515bfc5b8b73"
      },
      "execution_count": 18,
      "outputs": [
        {
          "output_type": "display_data",
          "data": {
            "text/plain": [
              "<IPython.core.display.HTML object>"
            ],
            "text/html": [
              "<p style=\"color:grey\">stakeholders_expectations_explanations</p><h3 font-size: 3em>\n",
              "The results of the predictions will be used to support NBA team management, scouts, and analysts in making informed draft decisions. The primary users of the predictions will be the team's data analytics departments and decision makers involved in the player selection process.\n",
              "\n",
              "Other stakeholders impacted by the predictions include players whose draft chances and career opportunities may be affected, media platforms that use such data for public draft forecasts, and fans who follow and engage with draft related content. Accurate predictions are expected to improve trust in analytics and enhance engagement across these stakeholders.\n",
              "</h3>"
            ]
          },
          "metadata": {}
        }
      ]
    },
    {
      "cell_type": "markdown",
      "source": [
        "---\n",
        "## C. Data Understanding"
      ],
      "metadata": {
        "id": "P0zsEPshwy1K"
      }
    },
    {
      "cell_type": "markdown",
      "source": [
        "### C.1   Load Datasets\n"
      ],
      "metadata": {
        "id": "sGMWhKSbUl63"
      }
    },
    {
      "cell_type": "code",
      "source": [
        "# <Student to fill this section>\n",
        "# <Student to fill this section>\n",
        "\n",
        "import os\n",
        "import pandas as pd\n",
        "from pathlib import Path\n",
        "\n",
        "# check if you are in the Colab environment\n",
        "IN_COLAB = \"google.colab\" in str(get_ipython())\n",
        "\n",
        "# automatically set the path\n",
        "if IN_COLAB:\n",
        "    from google.colab import files\n",
        "    print(\"Colab detected. Please upload your 'train.csv' and 'test.csv' files.\")\n",
        "    uploaded = files.upload()\n",
        "    PATH_TRAIN = \"train.csv\"\n",
        "    PATH_TEST = \"test.csv\"\n",
        "else:\n",
        "    PATH_TRAIN = Path(\"data/raw/train.csv\")\n",
        "    PATH_TEST = Path(\"data/raw/test.csv\")\n",
        "\n",
        "# load data\n",
        "train = pd.read_csv(PATH_TRAIN)\n",
        "test = pd.read_csv(PATH_TEST)\n",
        "\n",
        "# show basic information\n",
        "print(\"Train shape:\", train.shape)\n",
        "print(\"Test shape:\", test.shape)\n",
        "print(\"Columns in Train:\", train.columns.tolist())\n",
        "\n",
        "# display data\n",
        "display(train.head())"
      ],
      "metadata": {
        "id": "NKgOzSn-w0eq",
        "colab": {
          "base_uri": "https://localhost:8080/",
          "height": 682
        },
        "outputId": "85aa6694-8959-4076-e4b0-92e1cd5f399e"
      },
      "execution_count": 19,
      "outputs": [
        {
          "output_type": "stream",
          "name": "stdout",
          "text": [
            "Colab detected. Please upload your 'train.csv' and 'test.csv' files.\n"
          ]
        },
        {
          "output_type": "display_data",
          "data": {
            "text/plain": [
              "<IPython.core.display.HTML object>"
            ],
            "text/html": [
              "\n",
              "     <input type=\"file\" id=\"files-3d53b262-7fd4-415c-aa2c-6a91a99ab10c\" name=\"files[]\" multiple disabled\n",
              "        style=\"border:none\" />\n",
              "     <output id=\"result-3d53b262-7fd4-415c-aa2c-6a91a99ab10c\">\n",
              "      Upload widget is only available when the cell has been executed in the\n",
              "      current browser session. Please rerun this cell to enable.\n",
              "      </output>\n",
              "      <script>// Copyright 2017 Google LLC\n",
              "//\n",
              "// Licensed under the Apache License, Version 2.0 (the \"License\");\n",
              "// you may not use this file except in compliance with the License.\n",
              "// You may obtain a copy of the License at\n",
              "//\n",
              "//      http://www.apache.org/licenses/LICENSE-2.0\n",
              "//\n",
              "// Unless required by applicable law or agreed to in writing, software\n",
              "// distributed under the License is distributed on an \"AS IS\" BASIS,\n",
              "// WITHOUT WARRANTIES OR CONDITIONS OF ANY KIND, either express or implied.\n",
              "// See the License for the specific language governing permissions and\n",
              "// limitations under the License.\n",
              "\n",
              "/**\n",
              " * @fileoverview Helpers for google.colab Python module.\n",
              " */\n",
              "(function(scope) {\n",
              "function span(text, styleAttributes = {}) {\n",
              "  const element = document.createElement('span');\n",
              "  element.textContent = text;\n",
              "  for (const key of Object.keys(styleAttributes)) {\n",
              "    element.style[key] = styleAttributes[key];\n",
              "  }\n",
              "  return element;\n",
              "}\n",
              "\n",
              "// Max number of bytes which will be uploaded at a time.\n",
              "const MAX_PAYLOAD_SIZE = 100 * 1024;\n",
              "\n",
              "function _uploadFiles(inputId, outputId) {\n",
              "  const steps = uploadFilesStep(inputId, outputId);\n",
              "  const outputElement = document.getElementById(outputId);\n",
              "  // Cache steps on the outputElement to make it available for the next call\n",
              "  // to uploadFilesContinue from Python.\n",
              "  outputElement.steps = steps;\n",
              "\n",
              "  return _uploadFilesContinue(outputId);\n",
              "}\n",
              "\n",
              "// This is roughly an async generator (not supported in the browser yet),\n",
              "// where there are multiple asynchronous steps and the Python side is going\n",
              "// to poll for completion of each step.\n",
              "// This uses a Promise to block the python side on completion of each step,\n",
              "// then passes the result of the previous step as the input to the next step.\n",
              "function _uploadFilesContinue(outputId) {\n",
              "  const outputElement = document.getElementById(outputId);\n",
              "  const steps = outputElement.steps;\n",
              "\n",
              "  const next = steps.next(outputElement.lastPromiseValue);\n",
              "  return Promise.resolve(next.value.promise).then((value) => {\n",
              "    // Cache the last promise value to make it available to the next\n",
              "    // step of the generator.\n",
              "    outputElement.lastPromiseValue = value;\n",
              "    return next.value.response;\n",
              "  });\n",
              "}\n",
              "\n",
              "/**\n",
              " * Generator function which is called between each async step of the upload\n",
              " * process.\n",
              " * @param {string} inputId Element ID of the input file picker element.\n",
              " * @param {string} outputId Element ID of the output display.\n",
              " * @return {!Iterable<!Object>} Iterable of next steps.\n",
              " */\n",
              "function* uploadFilesStep(inputId, outputId) {\n",
              "  const inputElement = document.getElementById(inputId);\n",
              "  inputElement.disabled = false;\n",
              "\n",
              "  const outputElement = document.getElementById(outputId);\n",
              "  outputElement.innerHTML = '';\n",
              "\n",
              "  const pickedPromise = new Promise((resolve) => {\n",
              "    inputElement.addEventListener('change', (e) => {\n",
              "      resolve(e.target.files);\n",
              "    });\n",
              "  });\n",
              "\n",
              "  const cancel = document.createElement('button');\n",
              "  inputElement.parentElement.appendChild(cancel);\n",
              "  cancel.textContent = 'Cancel upload';\n",
              "  const cancelPromise = new Promise((resolve) => {\n",
              "    cancel.onclick = () => {\n",
              "      resolve(null);\n",
              "    };\n",
              "  });\n",
              "\n",
              "  // Wait for the user to pick the files.\n",
              "  const files = yield {\n",
              "    promise: Promise.race([pickedPromise, cancelPromise]),\n",
              "    response: {\n",
              "      action: 'starting',\n",
              "    }\n",
              "  };\n",
              "\n",
              "  cancel.remove();\n",
              "\n",
              "  // Disable the input element since further picks are not allowed.\n",
              "  inputElement.disabled = true;\n",
              "\n",
              "  if (!files) {\n",
              "    return {\n",
              "      response: {\n",
              "        action: 'complete',\n",
              "      }\n",
              "    };\n",
              "  }\n",
              "\n",
              "  for (const file of files) {\n",
              "    const li = document.createElement('li');\n",
              "    li.append(span(file.name, {fontWeight: 'bold'}));\n",
              "    li.append(span(\n",
              "        `(${file.type || 'n/a'}) - ${file.size} bytes, ` +\n",
              "        `last modified: ${\n",
              "            file.lastModifiedDate ? file.lastModifiedDate.toLocaleDateString() :\n",
              "                                    'n/a'} - `));\n",
              "    const percent = span('0% done');\n",
              "    li.appendChild(percent);\n",
              "\n",
              "    outputElement.appendChild(li);\n",
              "\n",
              "    const fileDataPromise = new Promise((resolve) => {\n",
              "      const reader = new FileReader();\n",
              "      reader.onload = (e) => {\n",
              "        resolve(e.target.result);\n",
              "      };\n",
              "      reader.readAsArrayBuffer(file);\n",
              "    });\n",
              "    // Wait for the data to be ready.\n",
              "    let fileData = yield {\n",
              "      promise: fileDataPromise,\n",
              "      response: {\n",
              "        action: 'continue',\n",
              "      }\n",
              "    };\n",
              "\n",
              "    // Use a chunked sending to avoid message size limits. See b/62115660.\n",
              "    let position = 0;\n",
              "    do {\n",
              "      const length = Math.min(fileData.byteLength - position, MAX_PAYLOAD_SIZE);\n",
              "      const chunk = new Uint8Array(fileData, position, length);\n",
              "      position += length;\n",
              "\n",
              "      const base64 = btoa(String.fromCharCode.apply(null, chunk));\n",
              "      yield {\n",
              "        response: {\n",
              "          action: 'append',\n",
              "          file: file.name,\n",
              "          data: base64,\n",
              "        },\n",
              "      };\n",
              "\n",
              "      let percentDone = fileData.byteLength === 0 ?\n",
              "          100 :\n",
              "          Math.round((position / fileData.byteLength) * 100);\n",
              "      percent.textContent = `${percentDone}% done`;\n",
              "\n",
              "    } while (position < fileData.byteLength);\n",
              "  }\n",
              "\n",
              "  // All done.\n",
              "  yield {\n",
              "    response: {\n",
              "      action: 'complete',\n",
              "    }\n",
              "  };\n",
              "}\n",
              "\n",
              "scope.google = scope.google || {};\n",
              "scope.google.colab = scope.google.colab || {};\n",
              "scope.google.colab._files = {\n",
              "  _uploadFiles,\n",
              "  _uploadFilesContinue,\n",
              "};\n",
              "})(self);\n",
              "</script> "
            ]
          },
          "metadata": {}
        },
        {
          "output_type": "stream",
          "name": "stdout",
          "text": [
            "Saving test.csv to test.csv\n",
            "Saving train.csv to train.csv\n",
            "Train shape: (14774, 62)\n",
            "Test shape: (1297, 61)\n",
            "Columns in Train: ['team', 'conf', 'GP', 'Min_per', 'Ortg', 'usg', 'eFG', 'TS_per', 'ORB_per', 'DRB_per', 'AST_per', 'TO_per', 'FTM', 'FTA', 'FT_per', 'twoPM', 'twoPA', 'twoP_per', 'TPM', 'TPA', 'TP_per', 'blk_per', 'stl_per', 'ftr', 'yr', 'ht', 'porpag', 'adjoe', 'pfr', 'year', 'type', 'Rec_Rank', 'ast_tov', 'rimmade', 'rimmade_rimmiss', 'midmade', 'midmade_midmiss', 'rim_ratio', 'mid_ratio', 'dunksmade', 'dunksmiss_dunksmade', 'dunks_ratio', 'drtg', 'adrtg', 'dporpag', 'stops', 'bpm', 'obpm', 'dbpm', 'gbpm', 'mp', 'ogbpm', 'dgbpm', 'oreb', 'dreb', 'treb', 'ast', 'stl', 'blk', 'pts', 'player_id', 'drafted']\n"
          ]
        },
        {
          "output_type": "display_data",
          "data": {
            "text/plain": [
              "                team  conf  GP  Min_per   Ortg   usg   eFG  TS_per  ORB_per  \\\n",
              "0            Pacific    BW  26     52.6  111.8  19.3  61.8   64.93      1.1   \n",
              "1        Mississippi   SEC   2      0.8   63.6  29.6  33.3   33.33      0.0   \n",
              "2  Stephen F. Austin  Slnd   4      0.6   61.4  21.7  50.0   50.00      0.0   \n",
              "3           Virginia   ACC  28     59.2   88.2  21.7  46.2   47.25      1.5   \n",
              "4               Elon    SC  21     13.7   47.5  15.0  26.2   26.20      5.8   \n",
              "\n",
              "   DRB_per  ...    dgbpm    oreb    dreb    treb     ast     stl     blk  \\\n",
              "0      7.5  ... -1.34201  0.2308  1.5769  1.8077  2.2308  0.6538  0.0769   \n",
              "1     21.5  ... -5.42104  0.0000  1.0000  1.0000  0.0000  0.0000  0.0000   \n",
              "2      0.0  ...  6.46650  0.0000  0.0000  0.0000  0.0000  0.2500  0.0000   \n",
              "3      9.7  ...  1.45913  0.3214  2.0357  2.3571  3.0000  1.2857  0.0714   \n",
              "4      2.3  ... -3.75694  0.3810  0.1429  0.5238  0.4286  0.1905  0.0000   \n",
              "\n",
              "      pts                             player_id  drafted  \n",
              "0  9.6538  681edf6e-41cb-4fd1-ba91-da573e063fbc      0.0  \n",
              "1  2.0000  3542dcb7-19ad-47f2-8b3a-eb79eb3ec4c4      0.0  \n",
              "2  0.5000  ca0d8700-807d-4fce-a7a9-63922d1981e6      0.0  \n",
              "3  7.7500  01285c6b-bc71-4fa8-941a-28cf3976a117      0.0  \n",
              "4  0.5714  a962c41c-55ff-461e-8585-db32e4fa0580      0.0  \n",
              "\n",
              "[5 rows x 62 columns]"
            ],
            "text/html": [
              "\n",
              "  <div id=\"df-191ced4c-bfbb-4ce8-8443-38568e838526\" class=\"colab-df-container\">\n",
              "    <div>\n",
              "<style scoped>\n",
              "    .dataframe tbody tr th:only-of-type {\n",
              "        vertical-align: middle;\n",
              "    }\n",
              "\n",
              "    .dataframe tbody tr th {\n",
              "        vertical-align: top;\n",
              "    }\n",
              "\n",
              "    .dataframe thead th {\n",
              "        text-align: right;\n",
              "    }\n",
              "</style>\n",
              "<table border=\"1\" class=\"dataframe\">\n",
              "  <thead>\n",
              "    <tr style=\"text-align: right;\">\n",
              "      <th></th>\n",
              "      <th>team</th>\n",
              "      <th>conf</th>\n",
              "      <th>GP</th>\n",
              "      <th>Min_per</th>\n",
              "      <th>Ortg</th>\n",
              "      <th>usg</th>\n",
              "      <th>eFG</th>\n",
              "      <th>TS_per</th>\n",
              "      <th>ORB_per</th>\n",
              "      <th>DRB_per</th>\n",
              "      <th>...</th>\n",
              "      <th>dgbpm</th>\n",
              "      <th>oreb</th>\n",
              "      <th>dreb</th>\n",
              "      <th>treb</th>\n",
              "      <th>ast</th>\n",
              "      <th>stl</th>\n",
              "      <th>blk</th>\n",
              "      <th>pts</th>\n",
              "      <th>player_id</th>\n",
              "      <th>drafted</th>\n",
              "    </tr>\n",
              "  </thead>\n",
              "  <tbody>\n",
              "    <tr>\n",
              "      <th>0</th>\n",
              "      <td>Pacific</td>\n",
              "      <td>BW</td>\n",
              "      <td>26</td>\n",
              "      <td>52.6</td>\n",
              "      <td>111.8</td>\n",
              "      <td>19.3</td>\n",
              "      <td>61.8</td>\n",
              "      <td>64.93</td>\n",
              "      <td>1.1</td>\n",
              "      <td>7.5</td>\n",
              "      <td>...</td>\n",
              "      <td>-1.34201</td>\n",
              "      <td>0.2308</td>\n",
              "      <td>1.5769</td>\n",
              "      <td>1.8077</td>\n",
              "      <td>2.2308</td>\n",
              "      <td>0.6538</td>\n",
              "      <td>0.0769</td>\n",
              "      <td>9.6538</td>\n",
              "      <td>681edf6e-41cb-4fd1-ba91-da573e063fbc</td>\n",
              "      <td>0.0</td>\n",
              "    </tr>\n",
              "    <tr>\n",
              "      <th>1</th>\n",
              "      <td>Mississippi</td>\n",
              "      <td>SEC</td>\n",
              "      <td>2</td>\n",
              "      <td>0.8</td>\n",
              "      <td>63.6</td>\n",
              "      <td>29.6</td>\n",
              "      <td>33.3</td>\n",
              "      <td>33.33</td>\n",
              "      <td>0.0</td>\n",
              "      <td>21.5</td>\n",
              "      <td>...</td>\n",
              "      <td>-5.42104</td>\n",
              "      <td>0.0000</td>\n",
              "      <td>1.0000</td>\n",
              "      <td>1.0000</td>\n",
              "      <td>0.0000</td>\n",
              "      <td>0.0000</td>\n",
              "      <td>0.0000</td>\n",
              "      <td>2.0000</td>\n",
              "      <td>3542dcb7-19ad-47f2-8b3a-eb79eb3ec4c4</td>\n",
              "      <td>0.0</td>\n",
              "    </tr>\n",
              "    <tr>\n",
              "      <th>2</th>\n",
              "      <td>Stephen F. Austin</td>\n",
              "      <td>Slnd</td>\n",
              "      <td>4</td>\n",
              "      <td>0.6</td>\n",
              "      <td>61.4</td>\n",
              "      <td>21.7</td>\n",
              "      <td>50.0</td>\n",
              "      <td>50.00</td>\n",
              "      <td>0.0</td>\n",
              "      <td>0.0</td>\n",
              "      <td>...</td>\n",
              "      <td>6.46650</td>\n",
              "      <td>0.0000</td>\n",
              "      <td>0.0000</td>\n",
              "      <td>0.0000</td>\n",
              "      <td>0.0000</td>\n",
              "      <td>0.2500</td>\n",
              "      <td>0.0000</td>\n",
              "      <td>0.5000</td>\n",
              "      <td>ca0d8700-807d-4fce-a7a9-63922d1981e6</td>\n",
              "      <td>0.0</td>\n",
              "    </tr>\n",
              "    <tr>\n",
              "      <th>3</th>\n",
              "      <td>Virginia</td>\n",
              "      <td>ACC</td>\n",
              "      <td>28</td>\n",
              "      <td>59.2</td>\n",
              "      <td>88.2</td>\n",
              "      <td>21.7</td>\n",
              "      <td>46.2</td>\n",
              "      <td>47.25</td>\n",
              "      <td>1.5</td>\n",
              "      <td>9.7</td>\n",
              "      <td>...</td>\n",
              "      <td>1.45913</td>\n",
              "      <td>0.3214</td>\n",
              "      <td>2.0357</td>\n",
              "      <td>2.3571</td>\n",
              "      <td>3.0000</td>\n",
              "      <td>1.2857</td>\n",
              "      <td>0.0714</td>\n",
              "      <td>7.7500</td>\n",
              "      <td>01285c6b-bc71-4fa8-941a-28cf3976a117</td>\n",
              "      <td>0.0</td>\n",
              "    </tr>\n",
              "    <tr>\n",
              "      <th>4</th>\n",
              "      <td>Elon</td>\n",
              "      <td>SC</td>\n",
              "      <td>21</td>\n",
              "      <td>13.7</td>\n",
              "      <td>47.5</td>\n",
              "      <td>15.0</td>\n",
              "      <td>26.2</td>\n",
              "      <td>26.20</td>\n",
              "      <td>5.8</td>\n",
              "      <td>2.3</td>\n",
              "      <td>...</td>\n",
              "      <td>-3.75694</td>\n",
              "      <td>0.3810</td>\n",
              "      <td>0.1429</td>\n",
              "      <td>0.5238</td>\n",
              "      <td>0.4286</td>\n",
              "      <td>0.1905</td>\n",
              "      <td>0.0000</td>\n",
              "      <td>0.5714</td>\n",
              "      <td>a962c41c-55ff-461e-8585-db32e4fa0580</td>\n",
              "      <td>0.0</td>\n",
              "    </tr>\n",
              "  </tbody>\n",
              "</table>\n",
              "<p>5 rows × 62 columns</p>\n",
              "</div>\n",
              "    <div class=\"colab-df-buttons\">\n",
              "\n",
              "  <div class=\"colab-df-container\">\n",
              "    <button class=\"colab-df-convert\" onclick=\"convertToInteractive('df-191ced4c-bfbb-4ce8-8443-38568e838526')\"\n",
              "            title=\"Convert this dataframe to an interactive table.\"\n",
              "            style=\"display:none;\">\n",
              "\n",
              "  <svg xmlns=\"http://www.w3.org/2000/svg\" height=\"24px\" viewBox=\"0 -960 960 960\">\n",
              "    <path d=\"M120-120v-720h720v720H120Zm60-500h600v-160H180v160Zm220 220h160v-160H400v160Zm0 220h160v-160H400v160ZM180-400h160v-160H180v160Zm440 0h160v-160H620v160ZM180-180h160v-160H180v160Zm440 0h160v-160H620v160Z\"/>\n",
              "  </svg>\n",
              "    </button>\n",
              "\n",
              "  <style>\n",
              "    .colab-df-container {\n",
              "      display:flex;\n",
              "      gap: 12px;\n",
              "    }\n",
              "\n",
              "    .colab-df-convert {\n",
              "      background-color: #E8F0FE;\n",
              "      border: none;\n",
              "      border-radius: 50%;\n",
              "      cursor: pointer;\n",
              "      display: none;\n",
              "      fill: #1967D2;\n",
              "      height: 32px;\n",
              "      padding: 0 0 0 0;\n",
              "      width: 32px;\n",
              "    }\n",
              "\n",
              "    .colab-df-convert:hover {\n",
              "      background-color: #E2EBFA;\n",
              "      box-shadow: 0px 1px 2px rgba(60, 64, 67, 0.3), 0px 1px 3px 1px rgba(60, 64, 67, 0.15);\n",
              "      fill: #174EA6;\n",
              "    }\n",
              "\n",
              "    .colab-df-buttons div {\n",
              "      margin-bottom: 4px;\n",
              "    }\n",
              "\n",
              "    [theme=dark] .colab-df-convert {\n",
              "      background-color: #3B4455;\n",
              "      fill: #D2E3FC;\n",
              "    }\n",
              "\n",
              "    [theme=dark] .colab-df-convert:hover {\n",
              "      background-color: #434B5C;\n",
              "      box-shadow: 0px 1px 3px 1px rgba(0, 0, 0, 0.15);\n",
              "      filter: drop-shadow(0px 1px 2px rgba(0, 0, 0, 0.3));\n",
              "      fill: #FFFFFF;\n",
              "    }\n",
              "  </style>\n",
              "\n",
              "    <script>\n",
              "      const buttonEl =\n",
              "        document.querySelector('#df-191ced4c-bfbb-4ce8-8443-38568e838526 button.colab-df-convert');\n",
              "      buttonEl.style.display =\n",
              "        google.colab.kernel.accessAllowed ? 'block' : 'none';\n",
              "\n",
              "      async function convertToInteractive(key) {\n",
              "        const element = document.querySelector('#df-191ced4c-bfbb-4ce8-8443-38568e838526');\n",
              "        const dataTable =\n",
              "          await google.colab.kernel.invokeFunction('convertToInteractive',\n",
              "                                                    [key], {});\n",
              "        if (!dataTable) return;\n",
              "\n",
              "        const docLinkHtml = 'Like what you see? Visit the ' +\n",
              "          '<a target=\"_blank\" href=https://colab.research.google.com/notebooks/data_table.ipynb>data table notebook</a>'\n",
              "          + ' to learn more about interactive tables.';\n",
              "        element.innerHTML = '';\n",
              "        dataTable['output_type'] = 'display_data';\n",
              "        await google.colab.output.renderOutput(dataTable, element);\n",
              "        const docLink = document.createElement('div');\n",
              "        docLink.innerHTML = docLinkHtml;\n",
              "        element.appendChild(docLink);\n",
              "      }\n",
              "    </script>\n",
              "  </div>\n",
              "\n",
              "\n",
              "    <div id=\"df-de6c7f53-6553-4756-8daf-bd1c2b4a0d96\">\n",
              "      <button class=\"colab-df-quickchart\" onclick=\"quickchart('df-de6c7f53-6553-4756-8daf-bd1c2b4a0d96')\"\n",
              "                title=\"Suggest charts\"\n",
              "                style=\"display:none;\">\n",
              "\n",
              "<svg xmlns=\"http://www.w3.org/2000/svg\" height=\"24px\"viewBox=\"0 0 24 24\"\n",
              "     width=\"24px\">\n",
              "    <g>\n",
              "        <path d=\"M19 3H5c-1.1 0-2 .9-2 2v14c0 1.1.9 2 2 2h14c1.1 0 2-.9 2-2V5c0-1.1-.9-2-2-2zM9 17H7v-7h2v7zm4 0h-2V7h2v10zm4 0h-2v-4h2v4z\"/>\n",
              "    </g>\n",
              "</svg>\n",
              "      </button>\n",
              "\n",
              "<style>\n",
              "  .colab-df-quickchart {\n",
              "      --bg-color: #E8F0FE;\n",
              "      --fill-color: #1967D2;\n",
              "      --hover-bg-color: #E2EBFA;\n",
              "      --hover-fill-color: #174EA6;\n",
              "      --disabled-fill-color: #AAA;\n",
              "      --disabled-bg-color: #DDD;\n",
              "  }\n",
              "\n",
              "  [theme=dark] .colab-df-quickchart {\n",
              "      --bg-color: #3B4455;\n",
              "      --fill-color: #D2E3FC;\n",
              "      --hover-bg-color: #434B5C;\n",
              "      --hover-fill-color: #FFFFFF;\n",
              "      --disabled-bg-color: #3B4455;\n",
              "      --disabled-fill-color: #666;\n",
              "  }\n",
              "\n",
              "  .colab-df-quickchart {\n",
              "    background-color: var(--bg-color);\n",
              "    border: none;\n",
              "    border-radius: 50%;\n",
              "    cursor: pointer;\n",
              "    display: none;\n",
              "    fill: var(--fill-color);\n",
              "    height: 32px;\n",
              "    padding: 0;\n",
              "    width: 32px;\n",
              "  }\n",
              "\n",
              "  .colab-df-quickchart:hover {\n",
              "    background-color: var(--hover-bg-color);\n",
              "    box-shadow: 0 1px 2px rgba(60, 64, 67, 0.3), 0 1px 3px 1px rgba(60, 64, 67, 0.15);\n",
              "    fill: var(--button-hover-fill-color);\n",
              "  }\n",
              "\n",
              "  .colab-df-quickchart-complete:disabled,\n",
              "  .colab-df-quickchart-complete:disabled:hover {\n",
              "    background-color: var(--disabled-bg-color);\n",
              "    fill: var(--disabled-fill-color);\n",
              "    box-shadow: none;\n",
              "  }\n",
              "\n",
              "  .colab-df-spinner {\n",
              "    border: 2px solid var(--fill-color);\n",
              "    border-color: transparent;\n",
              "    border-bottom-color: var(--fill-color);\n",
              "    animation:\n",
              "      spin 1s steps(1) infinite;\n",
              "  }\n",
              "\n",
              "  @keyframes spin {\n",
              "    0% {\n",
              "      border-color: transparent;\n",
              "      border-bottom-color: var(--fill-color);\n",
              "      border-left-color: var(--fill-color);\n",
              "    }\n",
              "    20% {\n",
              "      border-color: transparent;\n",
              "      border-left-color: var(--fill-color);\n",
              "      border-top-color: var(--fill-color);\n",
              "    }\n",
              "    30% {\n",
              "      border-color: transparent;\n",
              "      border-left-color: var(--fill-color);\n",
              "      border-top-color: var(--fill-color);\n",
              "      border-right-color: var(--fill-color);\n",
              "    }\n",
              "    40% {\n",
              "      border-color: transparent;\n",
              "      border-right-color: var(--fill-color);\n",
              "      border-top-color: var(--fill-color);\n",
              "    }\n",
              "    60% {\n",
              "      border-color: transparent;\n",
              "      border-right-color: var(--fill-color);\n",
              "    }\n",
              "    80% {\n",
              "      border-color: transparent;\n",
              "      border-right-color: var(--fill-color);\n",
              "      border-bottom-color: var(--fill-color);\n",
              "    }\n",
              "    90% {\n",
              "      border-color: transparent;\n",
              "      border-bottom-color: var(--fill-color);\n",
              "    }\n",
              "  }\n",
              "</style>\n",
              "\n",
              "      <script>\n",
              "        async function quickchart(key) {\n",
              "          const quickchartButtonEl =\n",
              "            document.querySelector('#' + key + ' button');\n",
              "          quickchartButtonEl.disabled = true;  // To prevent multiple clicks.\n",
              "          quickchartButtonEl.classList.add('colab-df-spinner');\n",
              "          try {\n",
              "            const charts = await google.colab.kernel.invokeFunction(\n",
              "                'suggestCharts', [key], {});\n",
              "          } catch (error) {\n",
              "            console.error('Error during call to suggestCharts:', error);\n",
              "          }\n",
              "          quickchartButtonEl.classList.remove('colab-df-spinner');\n",
              "          quickchartButtonEl.classList.add('colab-df-quickchart-complete');\n",
              "        }\n",
              "        (() => {\n",
              "          let quickchartButtonEl =\n",
              "            document.querySelector('#df-de6c7f53-6553-4756-8daf-bd1c2b4a0d96 button');\n",
              "          quickchartButtonEl.style.display =\n",
              "            google.colab.kernel.accessAllowed ? 'block' : 'none';\n",
              "        })();\n",
              "      </script>\n",
              "    </div>\n",
              "\n",
              "    </div>\n",
              "  </div>\n"
            ],
            "application/vnd.google.colaboratory.intrinsic+json": {
              "type": "dataframe"
            }
          },
          "metadata": {}
        }
      ]
    },
    {
      "cell_type": "code",
      "source": [
        "# Check the number of missing values\n",
        "\n",
        "missing_train = train.isnull().sum()\n",
        "missing_test = test.isnull().sum()\n",
        "\n",
        "# Show columns with missing values\n",
        "print(\"Train missing fields\")\n",
        "display(missing_train[missing_train > 0])\n",
        "\n",
        "print(\"Test missing fields\")\n",
        "display(missing_test[missing_test > 0])"
      ],
      "metadata": {
        "colab": {
          "base_uri": "https://localhost:8080/",
          "height": 1000
        },
        "id": "BrTA3gCY9IuQ",
        "outputId": "071b620c-dd92-44a7-8b95-d3ee3b1d1ea1"
      },
      "execution_count": 20,
      "outputs": [
        {
          "output_type": "stream",
          "name": "stdout",
          "text": [
            "Train missing fields\n"
          ]
        },
        {
          "output_type": "display_data",
          "data": {
            "text/plain": [
              "ht                        8\n",
              "Rec_Rank               9885\n",
              "ast_tov                1535\n",
              "rimmade                2075\n",
              "rimmade_rimmiss        2075\n",
              "midmade                2075\n",
              "midmade_midmiss        2075\n",
              "rim_ratio              3203\n",
              "mid_ratio              3191\n",
              "dunksmade              2075\n",
              "dunksmiss_dunksmade    2075\n",
              "dunks_ratio            9388\n",
              "drtg                      5\n",
              "adrtg                     5\n",
              "dporpag                   5\n",
              "stops                     5\n",
              "bpm                       5\n",
              "obpm                      5\n",
              "dbpm                      5\n",
              "gbpm                      5\n",
              "mp                        1\n",
              "ogbpm                     5\n",
              "dgbpm                     5\n",
              "oreb                      1\n",
              "dreb                      1\n",
              "treb                      1\n",
              "ast                       1\n",
              "stl                       1\n",
              "blk                       1\n",
              "pts                       1\n",
              "dtype: int64"
            ],
            "text/html": [
              "<div>\n",
              "<style scoped>\n",
              "    .dataframe tbody tr th:only-of-type {\n",
              "        vertical-align: middle;\n",
              "    }\n",
              "\n",
              "    .dataframe tbody tr th {\n",
              "        vertical-align: top;\n",
              "    }\n",
              "\n",
              "    .dataframe thead th {\n",
              "        text-align: right;\n",
              "    }\n",
              "</style>\n",
              "<table border=\"1\" class=\"dataframe\">\n",
              "  <thead>\n",
              "    <tr style=\"text-align: right;\">\n",
              "      <th></th>\n",
              "      <th>0</th>\n",
              "    </tr>\n",
              "  </thead>\n",
              "  <tbody>\n",
              "    <tr>\n",
              "      <th>ht</th>\n",
              "      <td>8</td>\n",
              "    </tr>\n",
              "    <tr>\n",
              "      <th>Rec_Rank</th>\n",
              "      <td>9885</td>\n",
              "    </tr>\n",
              "    <tr>\n",
              "      <th>ast_tov</th>\n",
              "      <td>1535</td>\n",
              "    </tr>\n",
              "    <tr>\n",
              "      <th>rimmade</th>\n",
              "      <td>2075</td>\n",
              "    </tr>\n",
              "    <tr>\n",
              "      <th>rimmade_rimmiss</th>\n",
              "      <td>2075</td>\n",
              "    </tr>\n",
              "    <tr>\n",
              "      <th>midmade</th>\n",
              "      <td>2075</td>\n",
              "    </tr>\n",
              "    <tr>\n",
              "      <th>midmade_midmiss</th>\n",
              "      <td>2075</td>\n",
              "    </tr>\n",
              "    <tr>\n",
              "      <th>rim_ratio</th>\n",
              "      <td>3203</td>\n",
              "    </tr>\n",
              "    <tr>\n",
              "      <th>mid_ratio</th>\n",
              "      <td>3191</td>\n",
              "    </tr>\n",
              "    <tr>\n",
              "      <th>dunksmade</th>\n",
              "      <td>2075</td>\n",
              "    </tr>\n",
              "    <tr>\n",
              "      <th>dunksmiss_dunksmade</th>\n",
              "      <td>2075</td>\n",
              "    </tr>\n",
              "    <tr>\n",
              "      <th>dunks_ratio</th>\n",
              "      <td>9388</td>\n",
              "    </tr>\n",
              "    <tr>\n",
              "      <th>drtg</th>\n",
              "      <td>5</td>\n",
              "    </tr>\n",
              "    <tr>\n",
              "      <th>adrtg</th>\n",
              "      <td>5</td>\n",
              "    </tr>\n",
              "    <tr>\n",
              "      <th>dporpag</th>\n",
              "      <td>5</td>\n",
              "    </tr>\n",
              "    <tr>\n",
              "      <th>stops</th>\n",
              "      <td>5</td>\n",
              "    </tr>\n",
              "    <tr>\n",
              "      <th>bpm</th>\n",
              "      <td>5</td>\n",
              "    </tr>\n",
              "    <tr>\n",
              "      <th>obpm</th>\n",
              "      <td>5</td>\n",
              "    </tr>\n",
              "    <tr>\n",
              "      <th>dbpm</th>\n",
              "      <td>5</td>\n",
              "    </tr>\n",
              "    <tr>\n",
              "      <th>gbpm</th>\n",
              "      <td>5</td>\n",
              "    </tr>\n",
              "    <tr>\n",
              "      <th>mp</th>\n",
              "      <td>1</td>\n",
              "    </tr>\n",
              "    <tr>\n",
              "      <th>ogbpm</th>\n",
              "      <td>5</td>\n",
              "    </tr>\n",
              "    <tr>\n",
              "      <th>dgbpm</th>\n",
              "      <td>5</td>\n",
              "    </tr>\n",
              "    <tr>\n",
              "      <th>oreb</th>\n",
              "      <td>1</td>\n",
              "    </tr>\n",
              "    <tr>\n",
              "      <th>dreb</th>\n",
              "      <td>1</td>\n",
              "    </tr>\n",
              "    <tr>\n",
              "      <th>treb</th>\n",
              "      <td>1</td>\n",
              "    </tr>\n",
              "    <tr>\n",
              "      <th>ast</th>\n",
              "      <td>1</td>\n",
              "    </tr>\n",
              "    <tr>\n",
              "      <th>stl</th>\n",
              "      <td>1</td>\n",
              "    </tr>\n",
              "    <tr>\n",
              "      <th>blk</th>\n",
              "      <td>1</td>\n",
              "    </tr>\n",
              "    <tr>\n",
              "      <th>pts</th>\n",
              "      <td>1</td>\n",
              "    </tr>\n",
              "  </tbody>\n",
              "</table>\n",
              "</div><br><label><b>dtype:</b> int64</label>"
            ]
          },
          "metadata": {}
        },
        {
          "output_type": "stream",
          "name": "stdout",
          "text": [
            "Test missing fields\n"
          ]
        },
        {
          "output_type": "display_data",
          "data": {
            "text/plain": [
              "ht                       6\n",
              "Rec_Rank               894\n",
              "ast_tov                125\n",
              "rimmade                 61\n",
              "rimmade_rimmiss         61\n",
              "midmade                 61\n",
              "midmade_midmiss         61\n",
              "rim_ratio              178\n",
              "mid_ratio              196\n",
              "dunksmade               61\n",
              "dunksmiss_dunksmade     61\n",
              "dunks_ratio            738\n",
              "dtype: int64"
            ],
            "text/html": [
              "<div>\n",
              "<style scoped>\n",
              "    .dataframe tbody tr th:only-of-type {\n",
              "        vertical-align: middle;\n",
              "    }\n",
              "\n",
              "    .dataframe tbody tr th {\n",
              "        vertical-align: top;\n",
              "    }\n",
              "\n",
              "    .dataframe thead th {\n",
              "        text-align: right;\n",
              "    }\n",
              "</style>\n",
              "<table border=\"1\" class=\"dataframe\">\n",
              "  <thead>\n",
              "    <tr style=\"text-align: right;\">\n",
              "      <th></th>\n",
              "      <th>0</th>\n",
              "    </tr>\n",
              "  </thead>\n",
              "  <tbody>\n",
              "    <tr>\n",
              "      <th>ht</th>\n",
              "      <td>6</td>\n",
              "    </tr>\n",
              "    <tr>\n",
              "      <th>Rec_Rank</th>\n",
              "      <td>894</td>\n",
              "    </tr>\n",
              "    <tr>\n",
              "      <th>ast_tov</th>\n",
              "      <td>125</td>\n",
              "    </tr>\n",
              "    <tr>\n",
              "      <th>rimmade</th>\n",
              "      <td>61</td>\n",
              "    </tr>\n",
              "    <tr>\n",
              "      <th>rimmade_rimmiss</th>\n",
              "      <td>61</td>\n",
              "    </tr>\n",
              "    <tr>\n",
              "      <th>midmade</th>\n",
              "      <td>61</td>\n",
              "    </tr>\n",
              "    <tr>\n",
              "      <th>midmade_midmiss</th>\n",
              "      <td>61</td>\n",
              "    </tr>\n",
              "    <tr>\n",
              "      <th>rim_ratio</th>\n",
              "      <td>178</td>\n",
              "    </tr>\n",
              "    <tr>\n",
              "      <th>mid_ratio</th>\n",
              "      <td>196</td>\n",
              "    </tr>\n",
              "    <tr>\n",
              "      <th>dunksmade</th>\n",
              "      <td>61</td>\n",
              "    </tr>\n",
              "    <tr>\n",
              "      <th>dunksmiss_dunksmade</th>\n",
              "      <td>61</td>\n",
              "    </tr>\n",
              "    <tr>\n",
              "      <th>dunks_ratio</th>\n",
              "      <td>738</td>\n",
              "    </tr>\n",
              "  </tbody>\n",
              "</table>\n",
              "</div><br><label><b>dtype:</b> int64</label>"
            ]
          },
          "metadata": {}
        }
      ]
    },
    {
      "cell_type": "code",
      "source": [
        "import numpy as np\n",
        "\n",
        "# Delete fields with too high a missing value ratio (cannot be filled)\n",
        "cols_to_drop = ['Rec_Rank', 'dunks_ratio', 'ht']\n",
        "train = train.drop(columns=cols_to_drop, errors='ignore')\n",
        "test = test.drop(columns=cols_to_drop, errors='ignore')\n",
        "\n",
        "# These fields are filled with median values\n",
        "num_impute_cols = [\n",
        "    'ast_tov', 'rimmade', 'rimmade_rimmiss', 'midmade', 'midmade_midmiss',\n",
        "    'rim_ratio', 'mid_ratio', 'dunksmade', 'dunksmiss_dunksmade'\n",
        "]\n",
        "\n",
        "for col in num_impute_cols:\n",
        "    if col in train.columns:\n",
        "        train[col] = train[col].fillna(train[col].median())\n",
        "    if col in test.columns:\n",
        "        test[col] = test[col].fillna(test[col].median())"
      ],
      "metadata": {
        "id": "qmmXwCjn9QIb"
      },
      "execution_count": 21,
      "outputs": []
    },
    {
      "cell_type": "code",
      "source": [
        "print(\"Train Missing Value Statistics (only non-zero will be shown)\")\n",
        "display(train.isnull().sum()[train.isnull().sum() > 0])\n",
        "\n",
        "print(\"Test Missing Value Statistics (only non-zero will be shown)\")\n",
        "display(test.isnull().sum()[test.isnull().sum() > 0])\n",
        "\n",
        "print(\"'ht' in train:\", 'ht' in train.columns)\n",
        "print(\"'Rec_Rank' in train:\", 'Rec_Rank' in train.columns)\n",
        "print(\"'dunks_ratio' in train:\", 'dunks_ratio' in train.columns)\n",
        "\n",
        "train[['ast_tov', 'rim_ratio', 'mid_ratio']].describe()"
      ],
      "metadata": {
        "colab": {
          "base_uri": "https://localhost:8080/",
          "height": 1000
        },
        "id": "-AyFmXo39RI4",
        "outputId": "1d1cef97-f666-4192-afb8-d99c8a0c8fac"
      },
      "execution_count": 22,
      "outputs": [
        {
          "output_type": "stream",
          "name": "stdout",
          "text": [
            "Train Missing Value Statistics (only non-zero will be shown)\n"
          ]
        },
        {
          "output_type": "display_data",
          "data": {
            "text/plain": [
              "drtg       5\n",
              "adrtg      5\n",
              "dporpag    5\n",
              "stops      5\n",
              "bpm        5\n",
              "obpm       5\n",
              "dbpm       5\n",
              "gbpm       5\n",
              "mp         1\n",
              "ogbpm      5\n",
              "dgbpm      5\n",
              "oreb       1\n",
              "dreb       1\n",
              "treb       1\n",
              "ast        1\n",
              "stl        1\n",
              "blk        1\n",
              "pts        1\n",
              "dtype: int64"
            ],
            "text/html": [
              "<div>\n",
              "<style scoped>\n",
              "    .dataframe tbody tr th:only-of-type {\n",
              "        vertical-align: middle;\n",
              "    }\n",
              "\n",
              "    .dataframe tbody tr th {\n",
              "        vertical-align: top;\n",
              "    }\n",
              "\n",
              "    .dataframe thead th {\n",
              "        text-align: right;\n",
              "    }\n",
              "</style>\n",
              "<table border=\"1\" class=\"dataframe\">\n",
              "  <thead>\n",
              "    <tr style=\"text-align: right;\">\n",
              "      <th></th>\n",
              "      <th>0</th>\n",
              "    </tr>\n",
              "  </thead>\n",
              "  <tbody>\n",
              "    <tr>\n",
              "      <th>drtg</th>\n",
              "      <td>5</td>\n",
              "    </tr>\n",
              "    <tr>\n",
              "      <th>adrtg</th>\n",
              "      <td>5</td>\n",
              "    </tr>\n",
              "    <tr>\n",
              "      <th>dporpag</th>\n",
              "      <td>5</td>\n",
              "    </tr>\n",
              "    <tr>\n",
              "      <th>stops</th>\n",
              "      <td>5</td>\n",
              "    </tr>\n",
              "    <tr>\n",
              "      <th>bpm</th>\n",
              "      <td>5</td>\n",
              "    </tr>\n",
              "    <tr>\n",
              "      <th>obpm</th>\n",
              "      <td>5</td>\n",
              "    </tr>\n",
              "    <tr>\n",
              "      <th>dbpm</th>\n",
              "      <td>5</td>\n",
              "    </tr>\n",
              "    <tr>\n",
              "      <th>gbpm</th>\n",
              "      <td>5</td>\n",
              "    </tr>\n",
              "    <tr>\n",
              "      <th>mp</th>\n",
              "      <td>1</td>\n",
              "    </tr>\n",
              "    <tr>\n",
              "      <th>ogbpm</th>\n",
              "      <td>5</td>\n",
              "    </tr>\n",
              "    <tr>\n",
              "      <th>dgbpm</th>\n",
              "      <td>5</td>\n",
              "    </tr>\n",
              "    <tr>\n",
              "      <th>oreb</th>\n",
              "      <td>1</td>\n",
              "    </tr>\n",
              "    <tr>\n",
              "      <th>dreb</th>\n",
              "      <td>1</td>\n",
              "    </tr>\n",
              "    <tr>\n",
              "      <th>treb</th>\n",
              "      <td>1</td>\n",
              "    </tr>\n",
              "    <tr>\n",
              "      <th>ast</th>\n",
              "      <td>1</td>\n",
              "    </tr>\n",
              "    <tr>\n",
              "      <th>stl</th>\n",
              "      <td>1</td>\n",
              "    </tr>\n",
              "    <tr>\n",
              "      <th>blk</th>\n",
              "      <td>1</td>\n",
              "    </tr>\n",
              "    <tr>\n",
              "      <th>pts</th>\n",
              "      <td>1</td>\n",
              "    </tr>\n",
              "  </tbody>\n",
              "</table>\n",
              "</div><br><label><b>dtype:</b> int64</label>"
            ]
          },
          "metadata": {}
        },
        {
          "output_type": "stream",
          "name": "stdout",
          "text": [
            "Test Missing Value Statistics (only non-zero will be shown)\n"
          ]
        },
        {
          "output_type": "display_data",
          "data": {
            "text/plain": [
              "Series([], dtype: int64)"
            ],
            "text/html": [
              "<div>\n",
              "<style scoped>\n",
              "    .dataframe tbody tr th:only-of-type {\n",
              "        vertical-align: middle;\n",
              "    }\n",
              "\n",
              "    .dataframe tbody tr th {\n",
              "        vertical-align: top;\n",
              "    }\n",
              "\n",
              "    .dataframe thead th {\n",
              "        text-align: right;\n",
              "    }\n",
              "</style>\n",
              "<table border=\"1\" class=\"dataframe\">\n",
              "  <thead>\n",
              "    <tr style=\"text-align: right;\">\n",
              "      <th></th>\n",
              "      <th>0</th>\n",
              "    </tr>\n",
              "  </thead>\n",
              "  <tbody>\n",
              "  </tbody>\n",
              "</table>\n",
              "</div><br><label><b>dtype:</b> int64</label>"
            ]
          },
          "metadata": {}
        },
        {
          "output_type": "stream",
          "name": "stdout",
          "text": [
            "'ht' in train: False\n",
            "'Rec_Rank' in train: False\n",
            "'dunks_ratio' in train: False\n"
          ]
        },
        {
          "output_type": "execute_result",
          "data": {
            "text/plain": [
              "            ast_tov     rim_ratio     mid_ratio\n",
              "count  14774.000000  14774.000000  14774.000000\n",
              "mean       0.816108      0.545881      0.305822\n",
              "std        0.638141      0.190989      0.170348\n",
              "min        0.000000      0.000000      0.000000\n",
              "25%        0.407446      0.500000      0.250000\n",
              "50%        0.714322      0.558600      0.315800\n",
              "75%        1.066650      0.626900      0.366700\n",
              "max       10.000000      1.000000      1.000000"
            ],
            "text/html": [
              "\n",
              "  <div id=\"df-5ecc7cf0-c054-4361-aef8-0af20d55b9a0\" class=\"colab-df-container\">\n",
              "    <div>\n",
              "<style scoped>\n",
              "    .dataframe tbody tr th:only-of-type {\n",
              "        vertical-align: middle;\n",
              "    }\n",
              "\n",
              "    .dataframe tbody tr th {\n",
              "        vertical-align: top;\n",
              "    }\n",
              "\n",
              "    .dataframe thead th {\n",
              "        text-align: right;\n",
              "    }\n",
              "</style>\n",
              "<table border=\"1\" class=\"dataframe\">\n",
              "  <thead>\n",
              "    <tr style=\"text-align: right;\">\n",
              "      <th></th>\n",
              "      <th>ast_tov</th>\n",
              "      <th>rim_ratio</th>\n",
              "      <th>mid_ratio</th>\n",
              "    </tr>\n",
              "  </thead>\n",
              "  <tbody>\n",
              "    <tr>\n",
              "      <th>count</th>\n",
              "      <td>14774.000000</td>\n",
              "      <td>14774.000000</td>\n",
              "      <td>14774.000000</td>\n",
              "    </tr>\n",
              "    <tr>\n",
              "      <th>mean</th>\n",
              "      <td>0.816108</td>\n",
              "      <td>0.545881</td>\n",
              "      <td>0.305822</td>\n",
              "    </tr>\n",
              "    <tr>\n",
              "      <th>std</th>\n",
              "      <td>0.638141</td>\n",
              "      <td>0.190989</td>\n",
              "      <td>0.170348</td>\n",
              "    </tr>\n",
              "    <tr>\n",
              "      <th>min</th>\n",
              "      <td>0.000000</td>\n",
              "      <td>0.000000</td>\n",
              "      <td>0.000000</td>\n",
              "    </tr>\n",
              "    <tr>\n",
              "      <th>25%</th>\n",
              "      <td>0.407446</td>\n",
              "      <td>0.500000</td>\n",
              "      <td>0.250000</td>\n",
              "    </tr>\n",
              "    <tr>\n",
              "      <th>50%</th>\n",
              "      <td>0.714322</td>\n",
              "      <td>0.558600</td>\n",
              "      <td>0.315800</td>\n",
              "    </tr>\n",
              "    <tr>\n",
              "      <th>75%</th>\n",
              "      <td>1.066650</td>\n",
              "      <td>0.626900</td>\n",
              "      <td>0.366700</td>\n",
              "    </tr>\n",
              "    <tr>\n",
              "      <th>max</th>\n",
              "      <td>10.000000</td>\n",
              "      <td>1.000000</td>\n",
              "      <td>1.000000</td>\n",
              "    </tr>\n",
              "  </tbody>\n",
              "</table>\n",
              "</div>\n",
              "    <div class=\"colab-df-buttons\">\n",
              "\n",
              "  <div class=\"colab-df-container\">\n",
              "    <button class=\"colab-df-convert\" onclick=\"convertToInteractive('df-5ecc7cf0-c054-4361-aef8-0af20d55b9a0')\"\n",
              "            title=\"Convert this dataframe to an interactive table.\"\n",
              "            style=\"display:none;\">\n",
              "\n",
              "  <svg xmlns=\"http://www.w3.org/2000/svg\" height=\"24px\" viewBox=\"0 -960 960 960\">\n",
              "    <path d=\"M120-120v-720h720v720H120Zm60-500h600v-160H180v160Zm220 220h160v-160H400v160Zm0 220h160v-160H400v160ZM180-400h160v-160H180v160Zm440 0h160v-160H620v160ZM180-180h160v-160H180v160Zm440 0h160v-160H620v160Z\"/>\n",
              "  </svg>\n",
              "    </button>\n",
              "\n",
              "  <style>\n",
              "    .colab-df-container {\n",
              "      display:flex;\n",
              "      gap: 12px;\n",
              "    }\n",
              "\n",
              "    .colab-df-convert {\n",
              "      background-color: #E8F0FE;\n",
              "      border: none;\n",
              "      border-radius: 50%;\n",
              "      cursor: pointer;\n",
              "      display: none;\n",
              "      fill: #1967D2;\n",
              "      height: 32px;\n",
              "      padding: 0 0 0 0;\n",
              "      width: 32px;\n",
              "    }\n",
              "\n",
              "    .colab-df-convert:hover {\n",
              "      background-color: #E2EBFA;\n",
              "      box-shadow: 0px 1px 2px rgba(60, 64, 67, 0.3), 0px 1px 3px 1px rgba(60, 64, 67, 0.15);\n",
              "      fill: #174EA6;\n",
              "    }\n",
              "\n",
              "    .colab-df-buttons div {\n",
              "      margin-bottom: 4px;\n",
              "    }\n",
              "\n",
              "    [theme=dark] .colab-df-convert {\n",
              "      background-color: #3B4455;\n",
              "      fill: #D2E3FC;\n",
              "    }\n",
              "\n",
              "    [theme=dark] .colab-df-convert:hover {\n",
              "      background-color: #434B5C;\n",
              "      box-shadow: 0px 1px 3px 1px rgba(0, 0, 0, 0.15);\n",
              "      filter: drop-shadow(0px 1px 2px rgba(0, 0, 0, 0.3));\n",
              "      fill: #FFFFFF;\n",
              "    }\n",
              "  </style>\n",
              "\n",
              "    <script>\n",
              "      const buttonEl =\n",
              "        document.querySelector('#df-5ecc7cf0-c054-4361-aef8-0af20d55b9a0 button.colab-df-convert');\n",
              "      buttonEl.style.display =\n",
              "        google.colab.kernel.accessAllowed ? 'block' : 'none';\n",
              "\n",
              "      async function convertToInteractive(key) {\n",
              "        const element = document.querySelector('#df-5ecc7cf0-c054-4361-aef8-0af20d55b9a0');\n",
              "        const dataTable =\n",
              "          await google.colab.kernel.invokeFunction('convertToInteractive',\n",
              "                                                    [key], {});\n",
              "        if (!dataTable) return;\n",
              "\n",
              "        const docLinkHtml = 'Like what you see? Visit the ' +\n",
              "          '<a target=\"_blank\" href=https://colab.research.google.com/notebooks/data_table.ipynb>data table notebook</a>'\n",
              "          + ' to learn more about interactive tables.';\n",
              "        element.innerHTML = '';\n",
              "        dataTable['output_type'] = 'display_data';\n",
              "        await google.colab.output.renderOutput(dataTable, element);\n",
              "        const docLink = document.createElement('div');\n",
              "        docLink.innerHTML = docLinkHtml;\n",
              "        element.appendChild(docLink);\n",
              "      }\n",
              "    </script>\n",
              "  </div>\n",
              "\n",
              "\n",
              "    <div id=\"df-1aaf31f3-7d84-4f0f-89ed-7cb580998754\">\n",
              "      <button class=\"colab-df-quickchart\" onclick=\"quickchart('df-1aaf31f3-7d84-4f0f-89ed-7cb580998754')\"\n",
              "                title=\"Suggest charts\"\n",
              "                style=\"display:none;\">\n",
              "\n",
              "<svg xmlns=\"http://www.w3.org/2000/svg\" height=\"24px\"viewBox=\"0 0 24 24\"\n",
              "     width=\"24px\">\n",
              "    <g>\n",
              "        <path d=\"M19 3H5c-1.1 0-2 .9-2 2v14c0 1.1.9 2 2 2h14c1.1 0 2-.9 2-2V5c0-1.1-.9-2-2-2zM9 17H7v-7h2v7zm4 0h-2V7h2v10zm4 0h-2v-4h2v4z\"/>\n",
              "    </g>\n",
              "</svg>\n",
              "      </button>\n",
              "\n",
              "<style>\n",
              "  .colab-df-quickchart {\n",
              "      --bg-color: #E8F0FE;\n",
              "      --fill-color: #1967D2;\n",
              "      --hover-bg-color: #E2EBFA;\n",
              "      --hover-fill-color: #174EA6;\n",
              "      --disabled-fill-color: #AAA;\n",
              "      --disabled-bg-color: #DDD;\n",
              "  }\n",
              "\n",
              "  [theme=dark] .colab-df-quickchart {\n",
              "      --bg-color: #3B4455;\n",
              "      --fill-color: #D2E3FC;\n",
              "      --hover-bg-color: #434B5C;\n",
              "      --hover-fill-color: #FFFFFF;\n",
              "      --disabled-bg-color: #3B4455;\n",
              "      --disabled-fill-color: #666;\n",
              "  }\n",
              "\n",
              "  .colab-df-quickchart {\n",
              "    background-color: var(--bg-color);\n",
              "    border: none;\n",
              "    border-radius: 50%;\n",
              "    cursor: pointer;\n",
              "    display: none;\n",
              "    fill: var(--fill-color);\n",
              "    height: 32px;\n",
              "    padding: 0;\n",
              "    width: 32px;\n",
              "  }\n",
              "\n",
              "  .colab-df-quickchart:hover {\n",
              "    background-color: var(--hover-bg-color);\n",
              "    box-shadow: 0 1px 2px rgba(60, 64, 67, 0.3), 0 1px 3px 1px rgba(60, 64, 67, 0.15);\n",
              "    fill: var(--button-hover-fill-color);\n",
              "  }\n",
              "\n",
              "  .colab-df-quickchart-complete:disabled,\n",
              "  .colab-df-quickchart-complete:disabled:hover {\n",
              "    background-color: var(--disabled-bg-color);\n",
              "    fill: var(--disabled-fill-color);\n",
              "    box-shadow: none;\n",
              "  }\n",
              "\n",
              "  .colab-df-spinner {\n",
              "    border: 2px solid var(--fill-color);\n",
              "    border-color: transparent;\n",
              "    border-bottom-color: var(--fill-color);\n",
              "    animation:\n",
              "      spin 1s steps(1) infinite;\n",
              "  }\n",
              "\n",
              "  @keyframes spin {\n",
              "    0% {\n",
              "      border-color: transparent;\n",
              "      border-bottom-color: var(--fill-color);\n",
              "      border-left-color: var(--fill-color);\n",
              "    }\n",
              "    20% {\n",
              "      border-color: transparent;\n",
              "      border-left-color: var(--fill-color);\n",
              "      border-top-color: var(--fill-color);\n",
              "    }\n",
              "    30% {\n",
              "      border-color: transparent;\n",
              "      border-left-color: var(--fill-color);\n",
              "      border-top-color: var(--fill-color);\n",
              "      border-right-color: var(--fill-color);\n",
              "    }\n",
              "    40% {\n",
              "      border-color: transparent;\n",
              "      border-right-color: var(--fill-color);\n",
              "      border-top-color: var(--fill-color);\n",
              "    }\n",
              "    60% {\n",
              "      border-color: transparent;\n",
              "      border-right-color: var(--fill-color);\n",
              "    }\n",
              "    80% {\n",
              "      border-color: transparent;\n",
              "      border-right-color: var(--fill-color);\n",
              "      border-bottom-color: var(--fill-color);\n",
              "    }\n",
              "    90% {\n",
              "      border-color: transparent;\n",
              "      border-bottom-color: var(--fill-color);\n",
              "    }\n",
              "  }\n",
              "</style>\n",
              "\n",
              "      <script>\n",
              "        async function quickchart(key) {\n",
              "          const quickchartButtonEl =\n",
              "            document.querySelector('#' + key + ' button');\n",
              "          quickchartButtonEl.disabled = true;  // To prevent multiple clicks.\n",
              "          quickchartButtonEl.classList.add('colab-df-spinner');\n",
              "          try {\n",
              "            const charts = await google.colab.kernel.invokeFunction(\n",
              "                'suggestCharts', [key], {});\n",
              "          } catch (error) {\n",
              "            console.error('Error during call to suggestCharts:', error);\n",
              "          }\n",
              "          quickchartButtonEl.classList.remove('colab-df-spinner');\n",
              "          quickchartButtonEl.classList.add('colab-df-quickchart-complete');\n",
              "        }\n",
              "        (() => {\n",
              "          let quickchartButtonEl =\n",
              "            document.querySelector('#df-1aaf31f3-7d84-4f0f-89ed-7cb580998754 button');\n",
              "          quickchartButtonEl.style.display =\n",
              "            google.colab.kernel.accessAllowed ? 'block' : 'none';\n",
              "        })();\n",
              "      </script>\n",
              "    </div>\n",
              "\n",
              "    </div>\n",
              "  </div>\n"
            ],
            "application/vnd.google.colaboratory.intrinsic+json": {
              "type": "dataframe",
              "summary": "{\n  \"name\": \"train[['ast_tov', 'rim_ratio', 'mid_ratio']]\",\n  \"rows\": 8,\n  \"fields\": [\n    {\n      \"column\": \"ast_tov\",\n      \"properties\": {\n        \"dtype\": \"number\",\n        \"std\": 5222.7097773734995,\n        \"min\": 0.0,\n        \"max\": 14774.0,\n        \"num_unique_values\": 8,\n        \"samples\": [\n          0.8161079169175578,\n          0.71432241,\n          14774.0\n        ],\n        \"semantic_type\": \"\",\n        \"description\": \"\"\n      }\n    },\n    {\n      \"column\": \"rim_ratio\",\n      \"properties\": {\n        \"dtype\": \"number\",\n        \"std\": 5223.224945272345,\n        \"min\": 0.0,\n        \"max\": 14774.0,\n        \"num_unique_values\": 8,\n        \"samples\": [\n          0.5458810748612428,\n          0.5586,\n          14774.0\n        ],\n        \"semantic_type\": \"\",\n        \"description\": \"\"\n      }\n    },\n    {\n      \"column\": \"mid_ratio\",\n      \"properties\": {\n        \"dtype\": \"number\",\n        \"std\": 5223.276144508436,\n        \"min\": 0.0,\n        \"max\": 14774.0,\n        \"num_unique_values\": 8,\n        \"samples\": [\n          0.30582190334371195,\n          0.3158,\n          14774.0\n        ],\n        \"semantic_type\": \"\",\n        \"description\": \"\"\n      }\n    }\n  ]\n}"
            }
          },
          "metadata": {},
          "execution_count": 22
        }
      ]
    },
    {
      "cell_type": "code",
      "source": [
        "# Fill the remaining missing values in train (using median)\n",
        "additional_missing_cols = [\n",
        "    'adrtg', 'dporpag', 'stops', 'bpm', 'obpm', 'dbpm', 'gbpm', 'mp',\n",
        "    'ogbpm', 'dgbpm', 'oreb', 'dreb', 'treb', 'ast', 'stl', 'blk', 'pts'\n",
        "]\n",
        "\n",
        "for col in additional_missing_cols:\n",
        "    if col in train.columns:\n",
        "        train[col] = train[col].fillna(train[col].median())\n",
        "\n",
        "    if 'drtg' in train.columns:\n",
        "        train['drtg'] = train['drtg'].fillna(train['drtg'].median())\n",
        "\n",
        "print(\"Final missing values check\")\n",
        "display(train.isnull().sum()[train.isnull().sum() > 0])\n"
      ],
      "metadata": {
        "colab": {
          "base_uri": "https://localhost:8080/",
          "height": 102
        },
        "id": "60WyvO3R9Vyd",
        "outputId": "5d56fac1-f7ff-487a-b103-2e46078a2d5a"
      },
      "execution_count": 23,
      "outputs": [
        {
          "output_type": "stream",
          "name": "stdout",
          "text": [
            "Final missing values check\n"
          ]
        },
        {
          "output_type": "display_data",
          "data": {
            "text/plain": [
              "Series([], dtype: int64)"
            ],
            "text/html": [
              "<div>\n",
              "<style scoped>\n",
              "    .dataframe tbody tr th:only-of-type {\n",
              "        vertical-align: middle;\n",
              "    }\n",
              "\n",
              "    .dataframe tbody tr th {\n",
              "        vertical-align: top;\n",
              "    }\n",
              "\n",
              "    .dataframe thead th {\n",
              "        text-align: right;\n",
              "    }\n",
              "</style>\n",
              "<table border=\"1\" class=\"dataframe\">\n",
              "  <thead>\n",
              "    <tr style=\"text-align: right;\">\n",
              "      <th></th>\n",
              "      <th>0</th>\n",
              "    </tr>\n",
              "  </thead>\n",
              "  <tbody>\n",
              "  </tbody>\n",
              "</table>\n",
              "</div><br><label><b>dtype:</b> int64</label>"
            ]
          },
          "metadata": {}
        }
      ]
    },
    {
      "cell_type": "markdown",
      "source": [
        "### C.2 Define Target variable"
      ],
      "metadata": {
        "id": "tpG_mos_EXrY"
      }
    },
    {
      "cell_type": "code",
      "source": [
        "# <Student to fill this section>\n",
        "import matplotlib.pyplot as plt\n",
        "import seaborn as sns\n",
        "\n",
        "# What does the distribution of Drafted look like\n",
        "plt.figure(figsize=(6,4))\n",
        "sns.countplot(x='drafted', data=train, palette='Set2')\n",
        "plt.title('Distribution of Drafted Players')\n",
        "plt.xlabel('Drafted (1 = Yes, 0 = No)')\n",
        "plt.ylabel('Count')\n",
        "plt.xticks([0,1], ['Not Drafted', 'Drafted'])\n",
        "plt.show()\n",
        "\n",
        "# Show proportions\n",
        "draft_counts = train['drafted'].value_counts(normalize=True)\n",
        "print(\"Proportion of drafted vs not drafted:\")\n",
        "print(draft_counts)"
      ],
      "metadata": {
        "id": "gsQkuxYLVHb1",
        "colab": {
          "base_uri": "https://localhost:8080/",
          "height": 499
        },
        "outputId": "19efbd76-23e2-4cdd-eb85-bd13fb2384f4"
      },
      "execution_count": 25,
      "outputs": [
        {
          "output_type": "display_data",
          "data": {
            "text/plain": [
              "<Figure size 600x400 with 1 Axes>"
            ],
            "image/png": "[encoded data removed]"
          },
          "metadata": {}
        },
        {
          "output_type": "stream",
          "name": "stdout",
          "text": [
            "Proportion of drafted vs not drafted:\n",
            "drafted\n",
            "0.0    0.992013\n",
            "1.0    0.007987\n",
            "Name: proportion, dtype: float64\n"
          ]
        }
      ]
    },
    {
      "cell_type": "code",
      "source": [
        "# <Student to fill this section>\n",
        "\n",
        "target_definition_explanations = \"\"\"\n",
        "The target variable is `drafted`, which is a binary variable:\n",
        "- `1` indicates the player was drafted into the NBA.\n",
        "- `0` means the player was not drafted.\n",
        "\n",
        "This aligns directly with the business goal of predicting whether a college basketball player will be drafted. Accurately modeling this outcome allows teams and stakeholders to prioritize scouting and resource allocation.\n",
        "\n",
        "Since this is a classification task, the target variable is defined clearly and is suitable for applying supervised machine learning techniques.\n",
        "\n",
        "The distribution of the target variable is highly imbalanced:\n",
        "- 99.2% of players were not drafted (`0`)\n",
        "- 0.8% of players were drafted (`1`)\n",
        "\"\"\""
      ],
      "metadata": {
        "id": "4Z0I4L_cVITG"
      },
      "execution_count": 27,
      "outputs": []
    },
    {
      "cell_type": "code",
      "source": [
        "# Do not modify this code\n",
        "print_tile(size=\"h3\", key='target_definition_explanations', value=target_definition_explanations)"
      ],
      "metadata": {
        "id": "qdeiAKiIElvG",
        "colab": {
          "base_uri": "https://localhost:8080/",
          "height": 162
        },
        "outputId": "9f7064c6-48ff-4f21-c7b3-ddc790b18160"
      },
      "execution_count": 28,
      "outputs": [
        {
          "output_type": "display_data",
          "data": {
            "text/plain": [
              "<IPython.core.display.HTML object>"
            ],
            "text/html": [
              "<p style=\"color:grey\">target_definition_explanations</p><h3 font-size: 3em>\n",
              "The target variable is `drafted`, which is a binary variable:\n",
              "- `1` indicates the player was drafted into the NBA.\n",
              "- `0` means the player was not drafted.\n",
              "\n",
              "This aligns directly with the business goal of predicting whether a college basketball player will be drafted. Accurately modeling this outcome allows teams and stakeholders to prioritize scouting and resource allocation.\n",
              "\n",
              "Since this is a classification task, the target variable is defined clearly and is suitable for applying supervised machine learning techniques.\n",
              "\n",
              "The distribution of the target variable is highly imbalanced:\n",
              "- 99.2% of players were not drafted (`0`)\n",
              "- 0.8% of players were drafted (`1`)\n",
              "</h3>"
            ]
          },
          "metadata": {}
        }
      ]
    },
    {
      "cell_type": "markdown",
      "source": [
        "### C.3 Create Target variable"
      ],
      "metadata": {
        "id": "CtIfwnLmEn51"
      }
    },
    {
      "cell_type": "code",
      "source": [
        "# <Student to fill this section>\n",
        "\n",
        "target_name = 'drafted'"
      ],
      "metadata": {
        "id": "XV8dRa59EpLG"
      },
      "execution_count": 29,
      "outputs": []
    },
    {
      "cell_type": "markdown",
      "source": [
        "### C.4 Explore Target variable"
      ],
      "metadata": {
        "id": "dmSKLrSBFAN5"
      }
    },
    {
      "cell_type": "code",
      "source": [
        "# <Student to fill this section>\n"
      ],
      "metadata": {
        "id": "zeldOL0KFC4E"
      },
      "execution_count": null,
      "outputs": []
    },
    {
      "cell_type": "code",
      "source": [],
      "metadata": {
        "id": "DBocSNWvVFCU"
      },
      "execution_count": null,
      "outputs": []
    },
    {
      "cell_type": "code",
      "source": [
        "# <Student to fill this section>\n",
        "target_distribution_explanations = \"\"\"\n",
        "The target variable `drafted` is highly imbalanced, with fewer than 1% of players being drafted.\n",
        "To address this imbalance, we adopt AUROC as the primary evaluation metric rather than accuracy,\n",
        "and use stratified sampling to preserve class distribution during training and validation.\n",
        "\n",
        "For the Polynomial Logistic Regression model, we implement the following measures:\n",
        "1) Standardize features before generating polynomial terms, as logistic regression is sensitive to feature scale;\n",
        "2) Expand features using polynomial transformations to capture non-linear relationships between player attributes and draft outcome;\n",
        "3) Apply `class_weight='balanced'` to mitigate class imbalance;\n",
        "4) Incorporate regularization (via `C` and penalty type in logistic regression) to control model complexity and reduce overfitting.\n",
        "\"\"\"\n"
      ],
      "metadata": {
        "id": "5I9ccv-UEr5o"
      },
      "execution_count": 30,
      "outputs": []
    },
    {
      "cell_type": "code",
      "source": [
        "# Do not modify this code\n",
        "print_tile(size=\"h3\", key='target_distribution_explanations', value=target_distribution_explanations)"
      ],
      "metadata": {
        "id": "i45S7xA9EtEV",
        "colab": {
          "base_uri": "https://localhost:8080/",
          "height": 203
        },
        "outputId": "a0a25d7c-bf90-4c5e-892d-634c516feab9"
      },
      "execution_count": 31,
      "outputs": [
        {
          "output_type": "display_data",
          "data": {
            "text/plain": [
              "<IPython.core.display.HTML object>"
            ],
            "text/html": [
              "<p style=\"color:grey\">target_distribution_explanations</p><h3 font-size: 3em>\n",
              "The target variable `drafted` is highly imbalanced, with fewer than 1% of players being drafted.\n",
              "To address this imbalance, we adopt AUROC as the primary evaluation metric rather than accuracy,\n",
              "and use stratified sampling to preserve class distribution during training and validation.\n",
              "\n",
              "For the Polynomial Logistic Regression model, we implement the following measures:\n",
              "1) Standardize features before generating polynomial terms, as logistic regression is sensitive to feature scale;\n",
              "2) Expand features using polynomial transformations to capture non-linear relationships between player attributes and draft outcome;\n",
              "3) Apply `class_weight='balanced'` to mitigate class imbalance;\n",
              "4) Incorporate regularization (via `C` and penalty type in logistic regression) to control model complexity and reduce overfitting.\n",
              "</h3>"
            ]
          },
          "metadata": {}
        }
      ]
    },
    {
      "cell_type": "code",
      "source": [
        "# Target distribution map (drafted)\n",
        "\n",
        "import seaborn as sns\n",
        "import matplotlib.pyplot as plt\n",
        "\n",
        "plt.figure(figsize=(6, 4))\n",
        "sns.countplot(data=train, x='drafted')\n",
        "plt.title(\"Distribution of Drafted vs Not Drafted Players\")\n",
        "plt.xlabel(\"Drafted\")\n",
        "plt.ylabel(\"Count\")\n",
        "plt.show()"
      ],
      "metadata": {
        "colab": {
          "base_uri": "https://localhost:8080/",
          "height": 410
        },
        "id": "MPRxRXdU-mnE",
        "outputId": "319b8e8b-05de-4010-9de3-6fddc2da7694"
      },
      "execution_count": 32,
      "outputs": [
        {
          "output_type": "display_data",
          "data": {
            "text/plain": [
              "<Figure size 600x400 with 1 Axes>"
            ],
            "image/png": "[encoded data removed]"
          },
          "metadata": {}
        }
      ]
    },
    {
      "cell_type": "markdown",
      "source": [
        "### C.5 Explore Feature of Interest `\\<put feature name here\\>`"
      ],
      "metadata": {
        "id": "37ubEa7SFWXo"
      }
    },
    {
      "cell_type": "code",
      "source": [
        "# <Student to fill this section>"
      ],
      "metadata": {
        "id": "wV9Ldx0gFWks"
      },
      "execution_count": null,
      "outputs": []
    },
    {
      "cell_type": "code",
      "source": [],
      "metadata": {
        "id": "JJxanj3EVERJ"
      },
      "execution_count": null,
      "outputs": []
    },
    {
      "cell_type": "code",
      "source": [
        "# <Student to fill this section>\n",
        "feature_1_insights = \"\"\"\n",
        "The feature `Min_per` represents the percentage of minutes a player was on the court, reflecting their level of involvement during the season.\n",
        "\n",
        "Most players recorded relatively low court time, while a small subset exceeded 60%, which aligns with the rarity of drafted players.\n",
        "\n",
        "This feature is important because players with higher playing time are generally more visible to scouts and therefore more likely to be drafted. Although some players may have lower minutes due to injuries or team rotation strategies, `Min_per` still provides a strong signal for draft likelihood.\n",
        "\n",
        "In the Polynomial Logistic Regression model, this feature is standardized and expanded into polynomial terms, enabling the model to capture potential non-linear relationships between court time and draft probability.\n",
        "\"\"\"\n"
      ],
      "metadata": {
        "id": "y4YLcn_eEyAe"
      },
      "execution_count": 33,
      "outputs": []
    },
    {
      "cell_type": "code",
      "source": [
        "# Do not modify this code\n",
        "print_tile(size=\"h3\", key='feature_1_insights', value=feature_1_insights)"
      ],
      "metadata": {
        "id": "2r1knRxDEyC0",
        "colab": {
          "base_uri": "https://localhost:8080/",
          "height": 183
        },
        "outputId": "ebafb08e-cb72-40ab-d2ce-9cc4e9d1688c"
      },
      "execution_count": 34,
      "outputs": [
        {
          "output_type": "display_data",
          "data": {
            "text/plain": [
              "<IPython.core.display.HTML object>"
            ],
            "text/html": [
              "<p style=\"color:grey\">feature_1_insights</p><h3 font-size: 3em>\n",
              "The feature `Min_per` represents the percentage of minutes a player was on the court, reflecting their level of involvement during the season.\n",
              "\n",
              "Most players recorded relatively low court time, while a small subset exceeded 60%, which aligns with the rarity of drafted players.\n",
              "\n",
              "This feature is important because players with higher playing time are generally more visible to scouts and therefore more likely to be drafted. Although some players may have lower minutes due to injuries or team rotation strategies, `Min_per` still provides a strong signal for draft likelihood.\n",
              "\n",
              "In the Polynomial Logistic Regression model, this feature is standardized and expanded into polynomial terms, enabling the model to capture potential non-linear relationships between court time and draft probability.\n",
              "</h3>"
            ]
          },
          "metadata": {}
        }
      ]
    },
    {
      "cell_type": "code",
      "source": [
        "import matplotlib.pyplot as plt\n",
        "import seaborn as sns\n",
        "\n",
        "plt.figure(figsize=(6, 4))\n",
        "sns.boxplot(data=train, x='drafted', y='porpag', palette='Set2')\n",
        "plt.title(\"PORPAG Distribution by Draft Status\")\n",
        "plt.xlabel(\"Drafted (0 = Not Drafted, 1 = Drafted)\")\n",
        "plt.ylabel(\"PORPAG (Points Over Replacement per Adjusted Game)\")\n",
        "plt.tight_layout()\n",
        "plt.show()"
      ],
      "metadata": {
        "colab": {
          "base_uri": "https://localhost:8080/",
          "height": 407
        },
        "id": "HQcBYY5C-9e7",
        "outputId": "555f18bd-bb45-426c-e423-98fc8bfd65d1"
      },
      "execution_count": 35,
      "outputs": [
        {
          "output_type": "display_data",
          "data": {
            "text/plain": [
              "<Figure size 600x400 with 1 Axes>"
            ],
            "image/png": "[encoded data removed]"
          },
          "metadata": {}
        }
      ]
    },
    {
      "cell_type": "markdown",
      "source": [
        "### C.6 Explore Feature of Interest `\\<put feature name here\\>`"
      ],
      "metadata": {
        "id": "WOqd56IjE0LB"
      }
    },
    {
      "cell_type": "code",
      "source": [
        "# <Student to fill this section>"
      ],
      "metadata": {
        "id": "akQFJsI3E2eM"
      },
      "execution_count": null,
      "outputs": []
    },
    {
      "cell_type": "code",
      "source": [
        "# <Student to fill this section>\n",
        "feature_2_insights = \"\"\"\n",
        "The feature `pts` (points per game) is a fundamental offensive metric that reflects a player's scoring ability.\n",
        "\n",
        "Players with higher PPG are generally more visible and valuable, which increases their draft potential. The majority of players average between 2–12 points, while only a small subset exceed 20, often corresponding to higher draft likelihood.\n",
        "\n",
        "Limitations:\n",
        "- High PPG does not always imply scoring efficiency (e.g., inefficient shooting volume).\n",
        "- Conference strength and style of play may influence the raw statistics.\n",
        "\n",
        "In the Polynomial Logistic Regression model, this feature is standardized and expanded into polynomial terms, allowing the model to capture potential non-linear effects between scoring ability and draft probability.\n",
        "\n",
        "Overall, `pts` is considered a strong predictor of draft outcomes, but should be interpreted alongside efficiency and contextual metrics.\n",
        "\"\"\"\n"
      ],
      "metadata": {
        "id": "u-CfAsO1E2hB"
      },
      "execution_count": 36,
      "outputs": []
    },
    {
      "cell_type": "code",
      "source": [
        "# Do not modify this code\n",
        "print_tile(size=\"h3\", key='feature_2_insights', value=feature_2_insights)"
      ],
      "metadata": {
        "id": "bB87lgCAE2jf",
        "colab": {
          "base_uri": "https://localhost:8080/",
          "height": 203
        },
        "outputId": "67934735-d614-4416-f22a-5472b8fcbd43"
      },
      "execution_count": 37,
      "outputs": [
        {
          "output_type": "display_data",
          "data": {
            "text/plain": [
              "<IPython.core.display.HTML object>"
            ],
            "text/html": [
              "<p style=\"color:grey\">feature_2_insights</p><h3 font-size: 3em>\n",
              "The feature `pts` (points per game) is a fundamental offensive metric that reflects a player's scoring ability.\n",
              "\n",
              "Players with higher PPG are generally more visible and valuable, which increases their draft potential. The majority of players average between 2–12 points, while only a small subset exceed 20, often corresponding to higher draft likelihood.\n",
              "\n",
              "Limitations:\n",
              "- High PPG does not always imply scoring efficiency (e.g., inefficient shooting volume).\n",
              "- Conference strength and style of play may influence the raw statistics.\n",
              "\n",
              "In the Polynomial Logistic Regression model, this feature is standardized and expanded into polynomial terms, allowing the model to capture potential non-linear effects between scoring ability and draft probability.\n",
              "\n",
              "Overall, `pts` is considered a strong predictor of draft outcomes, but should be interpreted alongside efficiency and contextual metrics.\n",
              "</h3>"
            ]
          },
          "metadata": {}
        }
      ]
    },
    {
      "cell_type": "markdown",
      "source": [
        "### C.6 Explore Feature of Interest `\\<put feature name here\\>`\n"
      ],
      "metadata": {
        "id": "-8J_tiLgE26i"
      }
    },
    {
      "cell_type": "code",
      "source": [
        "# <Student to fill this section>"
      ],
      "metadata": {
        "id": "qeyyEgIrE6GB"
      },
      "execution_count": null,
      "outputs": []
    },
    {
      "cell_type": "code",
      "source": [],
      "metadata": {
        "id": "ie8xl4AfVPU7"
      },
      "execution_count": null,
      "outputs": []
    },
    {
      "cell_type": "code",
      "source": [
        "# <Student to fill this section>\n",
        "feature_3_insights = \"\"\"\n",
        "The feature `obpm` (Offensive Box Plus/Minus) estimates a player's offensive impact per 100 possessions.\n",
        "\n",
        "Drafted players generally exhibit higher `obpm` scores, indicating stronger offensive value. Unlike raw scoring metrics, `obpm` captures advanced impact that includes efficiency and team context.\n",
        "\n",
        "Limitations:\n",
        "- May be influenced by team systems, roles, or lineup combinations.\n",
        "- Outliers with extremely high or low values can distort interpretation.\n",
        "\n",
        "In the Polynomial Logistic Regression model, this feature is standardized and expanded into polynomial terms, enabling the model to capture non-linear interactions between offensive efficiency and draft likelihood.\n",
        "\n",
        "Overall, `obpm` is a strong signal of offensive performance and contributes meaningfully to predicting draft potential.\n",
        "\"\"\"\n"
      ],
      "metadata": {
        "id": "_Vlh8usmE6In"
      },
      "execution_count": 38,
      "outputs": []
    },
    {
      "cell_type": "code",
      "source": [
        "# Do not modify this code\n",
        "print_tile(size=\"h3\", key='feature_n_insights', value=feature_3_insights)"
      ],
      "metadata": {
        "id": "BNZGN3nrE6LJ"
      },
      "execution_count": null,
      "outputs": []
    },
    {
      "cell_type": "markdown",
      "source": [
        "### C.n Explore Feature of Interest `\\<put feature name here\\>`\n",
        "\n",
        "> You can add more cells related to other feeatures in this section"
      ],
      "metadata": {
        "id": "ZcjaUGQ_VbVQ"
      }
    },
    {
      "cell_type": "code",
      "source": [],
      "metadata": {
        "id": "Z_DwQMvDVbfA"
      },
      "execution_count": null,
      "outputs": []
    },
    {
      "cell_type": "code",
      "source": [],
      "metadata": {
        "id": "4P8cUfkCVbic"
      },
      "execution_count": null,
      "outputs": []
    },
    {
      "cell_type": "markdown",
      "metadata": {
        "id": "_NCwQQFkU3v5"
      },
      "source": [
        "---\n",
        "## D. Feature Selection\n"
      ]
    },
    {
      "cell_type": "markdown",
      "source": [
        "### D.1 Approach \"\\<describe_approach_here\\>\"\n"
      ],
      "metadata": {
        "id": "0b8C9WON3Toe"
      }
    },
    {
      "cell_type": "code",
      "source": [
        "# <Student to fill this section>"
      ],
      "metadata": {
        "id": "zfC-DLKv4AuM"
      },
      "execution_count": null,
      "outputs": []
    },
    {
      "cell_type": "code",
      "source": [],
      "metadata": {
        "id": "J2_6it8iViBX"
      },
      "execution_count": null,
      "outputs": []
    },
    {
      "cell_type": "code",
      "source": [
        "# <Student to fill this section>\n",
        "feature_selection_1_insights = \"\"\"\n",
        "We applied XGBoost's built-in feature importance to rank predictors, leveraging its ability to capture non-linear relationships and handle imbalanced data.\n",
        "\n",
        "Although our final predictive model is Polynomial Logistic Regression, using XGBoost for feature selection allows us to identify the most influential predictors based on complex interactions.\n",
        "\n",
        "The top features included: 'pts', 'Min_per', 'obpm', 'TS_per', and 'bpm', which are all closely tied to scoring ability, efficiency, and playing time.\n",
        "\n",
        "By focusing on these high-impact features, we improved both the interpretability and the efficiency of our Polynomial Logistic Regression model, while reducing the risk of overfitting when expanding features through polynomial transformations.\n",
        "\"\"\"\n"
      ],
      "metadata": {
        "id": "Z9myLlFZFQXj"
      },
      "execution_count": 39,
      "outputs": []
    },
    {
      "cell_type": "code",
      "source": [
        "# Do not modify this code\n",
        "print_tile(size=\"h3\", key='feature_selection_1_insights', value=feature_selection_1_insights)"
      ],
      "metadata": {
        "id": "937YFeqDFQgB",
        "colab": {
          "base_uri": "https://localhost:8080/",
          "height": 183
        },
        "outputId": "fcfdd7cc-f360-449b-96d6-1f92a20335a0"
      },
      "execution_count": 40,
      "outputs": [
        {
          "output_type": "display_data",
          "data": {
            "text/plain": [
              "<IPython.core.display.HTML object>"
            ],
            "text/html": [
              "<p style=\"color:grey\">feature_selection_1_insights</p><h3 font-size: 3em>\n",
              "We applied XGBoost's built-in feature importance to rank predictors, leveraging its ability to capture non-linear relationships and handle imbalanced data.\n",
              "\n",
              "Although our final predictive model is Polynomial Logistic Regression, using XGBoost for feature selection allows us to identify the most influential predictors based on complex interactions.\n",
              "\n",
              "The top features included: 'pts', 'Min_per', 'obpm', 'TS_per', and 'bpm', which are all closely tied to scoring ability, efficiency, and playing time.\n",
              "\n",
              "By focusing on these high-impact features, we improved both the interpretability and the efficiency of our Polynomial Logistic Regression model, while reducing the risk of overfitting when expanding features through polynomial transformations.\n",
              "</h3>"
            ]
          },
          "metadata": {}
        }
      ]
    },
    {
      "cell_type": "markdown",
      "source": [
        "### D.2 Approach \"\\<describe_approach_here\\>\"\n"
      ],
      "metadata": {
        "id": "jqRcgUqu3ZuV"
      }
    },
    {
      "cell_type": "code",
      "source": [
        "# <Student to fill this section>"
      ],
      "metadata": {
        "id": "dAPSiwcg3aJC"
      },
      "execution_count": null,
      "outputs": []
    },
    {
      "cell_type": "code",
      "source": [],
      "metadata": {
        "id": "Ps25nfue3bL8"
      },
      "execution_count": null,
      "outputs": []
    },
    {
      "cell_type": "code",
      "source": [
        "# <Student to fill this section>\n",
        "feature_selection_2_insights = \"\"\"\n",
        "We used Pearson correlation to identify numerical features most related to the binary target `drafted`.\n",
        "\n",
        "Although `drafted` is a binary variable, correlation still provides a quick way to uncover linear relationships.\n",
        "The top correlated features included: 'pts', 'obpm', 'TS_per', 'bpm', and 'Min_per', which were also consistent with model based feature importance from XGBoost.\n",
        "\n",
        "This method is simple, fast, and effective particularly useful for models like Polynomial Logistic Regression,\n",
        "where informative and standardized features can be further expanded through polynomial transformations to capture non linear effects.\n",
        "\"\"\"\n"
      ],
      "metadata": {
        "id": "CpQQodTW3a9v"
      },
      "execution_count": 45,
      "outputs": []
    },
    {
      "cell_type": "code",
      "source": [
        "# Do not modify this code\n",
        "print_tile(size=\"h3\", key='feature_selection_2_insights', value=feature_selection_2_insights)"
      ],
      "metadata": {
        "id": "HjN2qhDb3a0G",
        "colab": {
          "base_uri": "https://localhost:8080/",
          "height": 162
        },
        "outputId": "872cc5ae-de58-44b5-9d0d-466b4278c1d8"
      },
      "execution_count": 46,
      "outputs": [
        {
          "output_type": "display_data",
          "data": {
            "text/plain": [
              "<IPython.core.display.HTML object>"
            ],
            "text/html": [
              "<p style=\"color:grey\">feature_selection_2_insights</p><h3 font-size: 3em>\n",
              "We used Pearson correlation to identify numerical features most related to the binary target `drafted`.\n",
              "\n",
              "Although `drafted` is a binary variable, correlation still provides a quick way to uncover linear relationships. \n",
              "The top correlated features included: 'pts', 'obpm', 'TS_per', 'bpm', and 'Min_per', which were also consistent with model based feature importance from XGBoost.\n",
              "\n",
              "This method is simple, fast, and effective particularly useful for models like Polynomial Logistic Regression, \n",
              "where informative and standardized features can be further expanded through polynomial transformations to capture non linear effects.\n",
              "</h3>"
            ]
          },
          "metadata": {}
        }
      ]
    },
    {
      "cell_type": "markdown",
      "source": [
        "### D.n Approach \"\\<describe_approach_here\\>\"\n",
        "\n",
        "> You can add more cells related to other approaches in this section"
      ],
      "metadata": {
        "id": "6sK5poaV3hny"
      }
    },
    {
      "cell_type": "code",
      "source": [],
      "metadata": {
        "id": "AatlZepC3h_D"
      },
      "execution_count": null,
      "outputs": []
    },
    {
      "cell_type": "markdown",
      "source": [
        "## D.z Final Selection of Features"
      ],
      "metadata": {
        "id": "gS5-tS8_3ryn"
      }
    },
    {
      "cell_type": "code",
      "source": [
        "# <Student to fill this section>\n",
        "\n",
        "features_list = [ 'pts', 'Min_per', 'obpm', 'TS_per', 'bpm', 'mp',\n",
        "                  'eFG', 'usg', 'drtg', 'adrtg' ]"
      ],
      "metadata": {
        "id": "zYY4u2063ioF"
      },
      "execution_count": 48,
      "outputs": []
    },
    {
      "cell_type": "code",
      "source": [],
      "metadata": {
        "id": "-Blv0kUV3ib2"
      },
      "execution_count": null,
      "outputs": []
    },
    {
      "cell_type": "code",
      "source": [
        "# <Student to fill this section>\n",
        "feature_selection_explanations = \"\"\"\n",
        "The selected features were chosen based on a combination of model based importance scores (from XGBoost) and Pearson correlation analysis.\n",
        "\n",
        "We selected 10 features that consistently ranked highly across both methods. These features represent key dimensions of player performance:\n",
        "- Offensive ability: 'pts', 'obpm', 'TS_per', 'usg'\n",
        "- Efficiency: 'eFG', 'bpm'\n",
        "- Involvement: 'Min_per', 'mp'\n",
        "- Defensive contribution: 'drtg', 'adrtg'\n",
        "\n",
        "This balanced feature set provides a strong foundation for the Polynomial Logistic Regression model.\n",
        "By limiting the expansion to the most informative features, we reduce the risk of overfitting and control the complexity that arises from polynomial transformations,\n",
        "while still capturing non linear relationships that drive draft likelihood.\n",
        "\"\"\""
      ],
      "metadata": {
        "id": "-pxVH1r63vqu"
      },
      "execution_count": 52,
      "outputs": []
    },
    {
      "cell_type": "code",
      "source": [
        "# Do not modify this code\n",
        "print_tile(size=\"h3\", key='feature_selection_explanations', value=feature_selection_explanations)"
      ],
      "metadata": {
        "id": "rHluIUmR3iO3",
        "colab": {
          "base_uri": "https://localhost:8080/",
          "height": 183
        },
        "outputId": "a961e983-2843-4e49-d05f-660a1d57f10e"
      },
      "execution_count": 53,
      "outputs": [
        {
          "output_type": "display_data",
          "data": {
            "text/plain": [
              "<IPython.core.display.HTML object>"
            ],
            "text/html": [
              "<p style=\"color:grey\">feature_selection_explanations</p><h3 font-size: 3em>\n",
              "The selected features were chosen based on a combination of model based importance scores (from XGBoost) and Pearson correlation analysis.\n",
              "\n",
              "We selected 10 features that consistently ranked highly across both methods. These features represent key dimensions of player performance:\n",
              "- Offensive ability: 'pts', 'obpm', 'TS_per', 'usg'\n",
              "- Efficiency: 'eFG', 'bpm'\n",
              "- Involvement: 'Min_per', 'mp'\n",
              "- Defensive contribution: 'drtg', 'adrtg'\n",
              "\n",
              "This balanced feature set provides a strong foundation for the Polynomial Logistic Regression model. \n",
              "By limiting the expansion to the most informative features, we reduce the risk of overfitting and control the complexity that arises from polynomial transformations, \n",
              "while still capturing non linear relationships that drive draft likelihood.\n",
              "</h3>"
            ]
          },
          "metadata": {}
        }
      ]
    },
    {
      "cell_type": "markdown",
      "source": [
        "---\n",
        "## E. Data Preparation"
      ],
      "metadata": {
        "id": "j-nNSpJK0Rgu"
      }
    },
    {
      "cell_type": "markdown",
      "source": [
        "### E.1 Data Transformation <put_name_here>"
      ],
      "metadata": {
        "id": "EDtRq1990rcW"
      }
    },
    {
      "cell_type": "code",
      "source": [
        "# <Student to fill this section>"
      ],
      "metadata": {
        "id": "AZN0u9DD0v5X"
      },
      "execution_count": null,
      "outputs": []
    },
    {
      "cell_type": "code",
      "source": [],
      "metadata": {
        "id": "MjdmojP6Vp6G"
      },
      "execution_count": null,
      "outputs": []
    },
    {
      "cell_type": "code",
      "source": [
        "# <Student to fill this section>\n",
        "data_cleaning_1_explanations = \"\"\"\n",
        "We cleaned the data by dropping features with excessive missing values (e.g., `ht`, `Rec_Rank`, `dunks_ratio`),\n",
        "as they could introduce noise and reduce model clarity.\n",
        "\n",
        "For features with minimal missing values, we applied median imputation to preserve useful information.\n",
        "The median is a robust choice that handles outliers effectively.\n",
        "\n",
        "This cleaning process ensures a reliable and consistent dataset, which is especially important for training Polynomial Logistic Regression,\n",
        "since polynomial feature expansion can amplify the impact of missing values and noise if not properly addressed.\n",
        "\"\"\""
      ],
      "metadata": {
        "id": "eQGXvLtkFU9L"
      },
      "execution_count": 54,
      "outputs": []
    },
    {
      "cell_type": "code",
      "source": [
        "# Do not modify this code\n",
        "print_tile(size=\"h3\", key='data_cleaning_1_explanations', value=data_cleaning_1_explanations)"
      ],
      "metadata": {
        "id": "MPuYme1uFU_4",
        "colab": {
          "base_uri": "https://localhost:8080/",
          "height": 162
        },
        "outputId": "23d1ed76-c5d5-413b-a34b-89e433ad81e7"
      },
      "execution_count": 55,
      "outputs": [
        {
          "output_type": "display_data",
          "data": {
            "text/plain": [
              "<IPython.core.display.HTML object>"
            ],
            "text/html": [
              "<p style=\"color:grey\">data_cleaning_1_explanations</p><h3 font-size: 3em>\n",
              "We cleaned the data by dropping features with excessive missing values (e.g., `ht`, `Rec_Rank`, `dunks_ratio`), \n",
              "as they could introduce noise and reduce model clarity.\n",
              "\n",
              "For features with minimal missing values, we applied median imputation to preserve useful information. \n",
              "The median is a robust choice that handles outliers effectively.\n",
              "\n",
              "This cleaning process ensures a reliable and consistent dataset, which is especially important for training Polynomial Logistic Regression, \n",
              "since polynomial feature expansion can amplify the impact of missing values and noise if not properly addressed.\n",
              "</h3>"
            ]
          },
          "metadata": {}
        }
      ]
    },
    {
      "cell_type": "markdown",
      "source": [
        "### E.2 Data Transformation <put_name_here>"
      ],
      "metadata": {
        "id": "SxhDoAkw08Eb"
      }
    },
    {
      "cell_type": "code",
      "source": [
        "# <Student to fill this section>"
      ],
      "metadata": {
        "id": "OO5ITMDZ035_"
      },
      "execution_count": null,
      "outputs": []
    },
    {
      "cell_type": "code",
      "source": [],
      "metadata": {
        "id": "4OlbuimwVqjd"
      },
      "execution_count": null,
      "outputs": []
    },
    {
      "cell_type": "code",
      "source": [
        "# <Student to fill this section>\n",
        "data_cleaning_2_explanations = \"\"\"\n",
        "Since Polynomial Logistic Regression is a linear model extended with polynomial feature expansion, it is highly sensitive to feature scale.\n",
        "\n",
        "We applied standardization to all numerical features to ensure stable and efficient model training. Without scaling, features with larger magnitudes could dominate the learning process, and polynomial terms could amplify these imbalances.\n",
        "\n",
        "Using a standardized pipeline also allows consistent comparisons with other linear models, and ensures flexibility when switching between algorithms.\n",
        "\"\"\""
      ],
      "metadata": {
        "id": "NoQ6IWoFFb1y"
      },
      "execution_count": 56,
      "outputs": []
    },
    {
      "cell_type": "code",
      "source": [
        "# Do not modify this code\n",
        "print_tile(size=\"h3\", key='data_cleaning_2_explanations', value=data_cleaning_2_explanations)"
      ],
      "metadata": {
        "id": "n1NG6O-jFdOE",
        "colab": {
          "base_uri": "https://localhost:8080/",
          "height": 142
        },
        "outputId": "617a8301-00b2-4a96-bfca-1e90eee65e45"
      },
      "execution_count": 57,
      "outputs": [
        {
          "output_type": "display_data",
          "data": {
            "text/plain": [
              "<IPython.core.display.HTML object>"
            ],
            "text/html": [
              "<p style=\"color:grey\">data_cleaning_2_explanations</p><h3 font-size: 3em>\n",
              "Since Polynomial Logistic Regression is a linear model extended with polynomial feature expansion, it is highly sensitive to feature scale.\n",
              "\n",
              "We applied standardization to all numerical features to ensure stable and efficient model training. Without scaling, features with larger magnitudes could dominate the learning process, and polynomial terms could amplify these imbalances.\n",
              "\n",
              "Using a standardized pipeline also allows consistent comparisons with other linear models, and ensures flexibility when switching between algorithms.\n",
              "</h3>"
            ]
          },
          "metadata": {}
        }
      ]
    },
    {
      "cell_type": "markdown",
      "source": [
        "### E.3 Data Transformation <put_name_here>"
      ],
      "metadata": {
        "id": "ylQxO-4g03qH"
      }
    },
    {
      "cell_type": "code",
      "source": [
        "# <Student to fill this section>"
      ],
      "metadata": {
        "id": "5VymIZpS1Ch7"
      },
      "execution_count": null,
      "outputs": []
    },
    {
      "cell_type": "code",
      "source": [],
      "metadata": {
        "id": "eGB_A6UsVu81"
      },
      "execution_count": null,
      "outputs": []
    },
    {
      "cell_type": "code",
      "source": [
        "# <Student to fill this section>\n",
        "data_cleaning_3_explanations = \"\"\"\n",
        "We applied One-Hot Encoding to categorical features such as 'team', 'conf', 'year', and 'type'.\n",
        "\n",
        "Polynomial Logistic Regression, like most linear models, requires all input features to be numeric and cannot handle categorical variables directly.\n",
        "\n",
        "Encoding these categories allows the model to incorporate non-numeric information (e.g., team or conference differences) into its decision boundary.\n",
        "When combined with polynomial feature expansion, these encoded variables can also interact with numerical features, potentially capturing complex relationships (e.g., performance differences across conferences).\n",
        "\"\"\""
      ],
      "metadata": {
        "id": "BHo46tqSFibl"
      },
      "execution_count": 58,
      "outputs": []
    },
    {
      "cell_type": "code",
      "source": [
        "# Do not modify this code\n",
        "print_tile(size=\"h3\", key='data_cleaning_3_explanations', value=data_cleaning_3_explanations)"
      ],
      "metadata": {
        "id": "D1BIohZLFiiM",
        "colab": {
          "base_uri": "https://localhost:8080/",
          "height": 162
        },
        "outputId": "761abfea-8b4a-4f6e-81b4-ae8e6c5261dd"
      },
      "execution_count": 59,
      "outputs": [
        {
          "output_type": "display_data",
          "data": {
            "text/plain": [
              "<IPython.core.display.HTML object>"
            ],
            "text/html": [
              "<p style=\"color:grey\">data_cleaning_3_explanations</p><h3 font-size: 3em>\n",
              "We applied One-Hot Encoding to categorical features such as 'team', 'conf', 'year', and 'type'.\n",
              "\n",
              "Polynomial Logistic Regression, like most linear models, requires all input features to be numeric and cannot handle categorical variables directly.\n",
              "\n",
              "Encoding these categories allows the model to incorporate non-numeric information (e.g., team or conference differences) into its decision boundary. \n",
              "When combined with polynomial feature expansion, these encoded variables can also interact with numerical features, potentially capturing complex relationships (e.g., performance differences across conferences).\n",
              "</h3>"
            ]
          },
          "metadata": {}
        }
      ]
    },
    {
      "cell_type": "markdown",
      "source": [
        "### E.n Fixing \"\\<describe_issue_here\\>\"\n",
        "\n",
        "> You can add more cells related to other issues in this section"
      ],
      "metadata": {
        "id": "w8pDuIcQVxgf"
      }
    },
    {
      "cell_type": "code",
      "source": [],
      "metadata": {
        "id": "L7MGT74hVxm2"
      },
      "execution_count": null,
      "outputs": []
    },
    {
      "cell_type": "code",
      "source": [],
      "metadata": {
        "id": "_x2xJAZ7Vxpb"
      },
      "execution_count": null,
      "outputs": []
    },
    {
      "cell_type": "markdown",
      "source": [
        "---\n",
        "## F. Feature Engineering"
      ],
      "metadata": {
        "id": "S80O7okb0RIx"
      }
    },
    {
      "cell_type": "markdown",
      "source": [
        "### F.1 New Feature \"\\<put_name_here\\>\"\n"
      ],
      "metadata": {
        "id": "Kst7h7wp1MFK"
      }
    },
    {
      "cell_type": "code",
      "source": [
        "# <Student to fill this section>"
      ],
      "metadata": {
        "id": "f_wsc2n-1Mdm"
      },
      "execution_count": null,
      "outputs": []
    },
    {
      "cell_type": "code",
      "source": [],
      "metadata": {
        "id": "d7k_4Q_UV2vi"
      },
      "execution_count": null,
      "outputs": []
    },
    {
      "cell_type": "code",
      "source": [
        "# <Student to fill this section>\n",
        "feature_engineering_1_explanations = \"\"\"\n",
        "We created a new feature 'FT_rate' by dividing FTM (Free Throws Made) by FTA (Free Throws Attempted), representing a player's Free Throw Percentage.\n",
        "\n",
        "This feature captures shooting efficiency from the free throw line, which reflects technical skill and consistency—important traits scouts may value.\n",
        "\n",
        "Unlike raw FTM or FTA, this ratio provides a normalized measure that is less affected by playing time, making it a fairer indicator of shooting ability.\n",
        "\n",
        "In the Polynomial Logistic Regression model, this efficiency-based feature can also interact with other performance metrics through polynomial expansion,\n",
        "helping the model capture more nuanced patterns (e.g., whether free throw skill combined with high usage increases draft likelihood).\n",
        "\"\"\""
      ],
      "metadata": {
        "id": "hezUX-UgFpQf"
      },
      "execution_count": 61,
      "outputs": []
    },
    {
      "cell_type": "code",
      "source": [
        "# Do not modify this code\n",
        "print_tile(size=\"h3\", key='feature_engineering_1_explanations', value=feature_engineering_1_explanations)"
      ],
      "metadata": {
        "id": "AKIFmqwVFpTA",
        "colab": {
          "base_uri": "https://localhost:8080/",
          "height": 183
        },
        "outputId": "1b0deb1d-9343-4e64-91eb-a881ceee0cd1"
      },
      "execution_count": 62,
      "outputs": [
        {
          "output_type": "display_data",
          "data": {
            "text/plain": [
              "<IPython.core.display.HTML object>"
            ],
            "text/html": [
              "<p style=\"color:grey\">feature_engineering_1_explanations</p><h3 font-size: 3em>\n",
              "We created a new feature 'FT_rate' by dividing FTM (Free Throws Made) by FTA (Free Throws Attempted), representing a player's Free Throw Percentage.\n",
              "\n",
              "This feature captures shooting efficiency from the free throw line, which reflects technical skill and consistency—important traits scouts may value.\n",
              "\n",
              "Unlike raw FTM or FTA, this ratio provides a normalized measure that is less affected by playing time, making it a fairer indicator of shooting ability.\n",
              "\n",
              "In the Polynomial Logistic Regression model, this efficiency-based feature can also interact with other performance metrics through polynomial expansion, \n",
              "helping the model capture more nuanced patterns (e.g., whether free throw skill combined with high usage increases draft likelihood).\n",
              "</h3>"
            ]
          },
          "metadata": {}
        }
      ]
    },
    {
      "cell_type": "markdown",
      "source": [
        "### F.2 New Feature \"\\<put_name_here\\>\"\n",
        "\n",
        "\n"
      ],
      "metadata": {
        "id": "xY_hWhC71XAl"
      }
    },
    {
      "cell_type": "code",
      "source": [
        "# <Student to fill this section>"
      ],
      "metadata": {
        "id": "F3DhQoJZ1Xvw"
      },
      "execution_count": null,
      "outputs": []
    },
    {
      "cell_type": "code",
      "source": [
        "# <Student to fill this section>\n",
        "feature_engineering_2_explanations = \"\"\"\n",
        "We created a new feature 'total_minutes' by multiplying GP (Games Played) by Min_per (percentage of minutes played),\n",
        "providing an estimate of a player's total court time over the season.\n",
        "\n",
        "This feature reflects both availability and involvement—two key factors that influence a player’s visibility, development, and contribution to the team.\n",
        "\n",
        "Higher total minutes often indicate trust from coaches and sustained performance, making it a strong signal for draft potential.\n",
        "\n",
        "In the Polynomial Logistic Regression model, 'total_minutes' can also form polynomial interactions with other features\n",
        "(e.g., scoring or efficiency metrics), allowing the model to capture how sustained playing time combined with performance levels affects draft likelihood.\n",
        "\"\"\""
      ],
      "metadata": {
        "id": "ac-MNGsmFtaH"
      },
      "execution_count": 63,
      "outputs": []
    },
    {
      "cell_type": "code",
      "source": [
        "# Do not modify this code\n",
        "print_tile(size=\"h3\", key='feature_engineering_2_explanations', value=feature_engineering_2_explanations)"
      ],
      "metadata": {
        "id": "xapPh0YfFtca",
        "colab": {
          "base_uri": "https://localhost:8080/",
          "height": 183
        },
        "outputId": "0db40588-f68a-43f2-9f83-189bb9076ec8"
      },
      "execution_count": 64,
      "outputs": [
        {
          "output_type": "display_data",
          "data": {
            "text/plain": [
              "<IPython.core.display.HTML object>"
            ],
            "text/html": [
              "<p style=\"color:grey\">feature_engineering_2_explanations</p><h3 font-size: 3em>\n",
              "We created a new feature 'total_minutes' by multiplying GP (Games Played) by Min_per (percentage of minutes played), \n",
              "providing an estimate of a player's total court time over the season.\n",
              "\n",
              "This feature reflects both availability and involvement—two key factors that influence a player’s visibility, development, and contribution to the team.\n",
              "\n",
              "Higher total minutes often indicate trust from coaches and sustained performance, making it a strong signal for draft potential.\n",
              "\n",
              "In the Polynomial Logistic Regression model, 'total_minutes' can also form polynomial interactions with other features \n",
              "(e.g., scoring or efficiency metrics), allowing the model to capture how sustained playing time combined with performance levels affects draft likelihood.\n",
              "</h3>"
            ]
          },
          "metadata": {}
        }
      ]
    },
    {
      "cell_type": "markdown",
      "source": [
        "### F.3 New Feature \"\\<put_name_here\\>\"\n",
        "\n",
        "> Provide some explanations on why you believe it is important to create this feature and its impacts\n",
        "\n"
      ],
      "metadata": {
        "id": "w0Fhn4271gVu"
      }
    },
    {
      "cell_type": "code",
      "source": [
        "# <Student to fill this section>"
      ],
      "metadata": {
        "id": "N6wBdmYD1g6c"
      },
      "execution_count": null,
      "outputs": []
    },
    {
      "cell_type": "code",
      "source": [],
      "metadata": {
        "id": "ffmW_bKwV6nX"
      },
      "execution_count": null,
      "outputs": []
    },
    {
      "cell_type": "code",
      "source": [
        "# <Student to fill this section>\n",
        "feature_engineering_3_explanations = \"\"\"\n",
        "We created a new feature 'three_point_ratio' by dividing TPA (Three-Point Attempts) by the sum of TPA and twoPA (Two-Point Attempts).\n",
        "\n",
        "This ratio reflects a player's shooting tendency—specifically, their reliance on 3-point shots compared to 2-point shots.\n",
        "\n",
        "It helps the model infer player roles (e.g., perimeter shooter vs. inside scorer) and how they might fit into modern team strategies, which can influence draft appeal.\n",
        "\n",
        "In the Polynomial Logistic Regression model, this feature can also interact with other performance indicators through polynomial expansion\n",
        "(e.g., three-point tendency combined with scoring efficiency), allowing the model to capture nuanced patterns of how modern playing styles affect draft likelihood.\n",
        "\"\"\""
      ],
      "metadata": {
        "id": "Z3gtyjmKFzCK"
      },
      "execution_count": 67,
      "outputs": []
    },
    {
      "cell_type": "code",
      "source": [
        "# Do not modify this code\n",
        "print_tile(size=\"h3\", key='feature_engineering_n_explanations', value=feature_engineering_3_explanations)"
      ],
      "metadata": {
        "id": "7nMfjzkbFzFj",
        "colab": {
          "base_uri": "https://localhost:8080/",
          "height": 183
        },
        "outputId": "5f12e2ab-7e38-4c7d-9e2e-bf5c722408b6"
      },
      "execution_count": 68,
      "outputs": [
        {
          "output_type": "display_data",
          "data": {
            "text/plain": [
              "<IPython.core.display.HTML object>"
            ],
            "text/html": [
              "<p style=\"color:grey\">feature_engineering_n_explanations</p><h3 font-size: 3em>\n",
              "We created a new feature 'three_point_ratio' by dividing TPA (Three-Point Attempts) by the sum of TPA and twoPA (Two-Point Attempts).\n",
              "\n",
              "This ratio reflects a player's shooting tendency—specifically, their reliance on 3-point shots compared to 2-point shots.\n",
              "\n",
              "It helps the model infer player roles (e.g., perimeter shooter vs. inside scorer) and how they might fit into modern team strategies, which can influence draft appeal.\n",
              "\n",
              "In the Polynomial Logistic Regression model, this feature can also interact with other performance indicators through polynomial expansion \n",
              "(e.g., three-point tendency combined with scoring efficiency), allowing the model to capture nuanced patterns of how modern playing styles affect draft likelihood.\n",
              "</h3>"
            ]
          },
          "metadata": {}
        }
      ]
    },
    {
      "cell_type": "markdown",
      "source": [
        "### F.n Fixing \"\\<describe_issue_here\\>\"\n",
        "\n",
        "> You can add more cells related to new features in this section"
      ],
      "metadata": {
        "id": "_NHBVVRxV-CC"
      }
    },
    {
      "cell_type": "code",
      "source": [
        "# <Student to fill this section>\n",
        "\n",
        "feature_Fixing_explanations = \"\"\"\n",
        "The 'ht' feature, originally recorded as a string format (e.g., '6-7'), was converted into total inches to make it usable as a numerical variable.\n",
        "\n",
        "However, since all values for this feature were missing in the training data, it was ultimately dropped after conversion due to the absence of usable information.\n",
        "\n",
        "This decision avoids introducing noise or unnecessary complexity into the model, ensuring that the Polynomial Logistic Regression framework is trained only on reliable and informative features.\n",
        "\"\"\"\n"
      ],
      "metadata": {
        "id": "8x4jHVxnV-Gm"
      },
      "execution_count": 69,
      "outputs": []
    },
    {
      "cell_type": "code",
      "source": [
        "# Do not modify this code\n",
        "print_tile(size=\"h3\", key='feature_engineering_n_explanations', value=feature_Fixing_explanations)"
      ],
      "metadata": {
        "id": "eAl_-gx3V-JT",
        "colab": {
          "base_uri": "https://localhost:8080/",
          "height": 142
        },
        "outputId": "06a48e01-2ef3-41fe-d8c8-c5f32dae9d61"
      },
      "execution_count": 70,
      "outputs": [
        {
          "output_type": "display_data",
          "data": {
            "text/plain": [
              "<IPython.core.display.HTML object>"
            ],
            "text/html": [
              "<p style=\"color:grey\">feature_engineering_n_explanations</p><h3 font-size: 3em>\n",
              "The 'ht' feature, originally recorded as a string format (e.g., '6-7'), was converted into total inches to make it usable as a numerical variable.\n",
              "\n",
              "However, since all values for this feature were missing in the training data, it was ultimately dropped after conversion due to the absence of usable information.\n",
              "\n",
              "This decision avoids introducing noise or unnecessary complexity into the model, ensuring that the Polynomial Logistic Regression framework is trained only on reliable and informative features.\n",
              "</h3>"
            ]
          },
          "metadata": {}
        }
      ]
    },
    {
      "cell_type": "markdown",
      "metadata": {
        "id": "N8MNBrC4Zgz6"
      },
      "source": [
        "---\n",
        "## G. Data Preparation for Modeling"
      ]
    },
    {
      "cell_type": "markdown",
      "source": [
        "### G.1 Split Datasets"
      ],
      "metadata": {
        "id": "HbpTjW2GGkd8"
      }
    },
    {
      "cell_type": "code",
      "source": [
        "# <Student to fill this section>"
      ],
      "metadata": {
        "id": "kcJ8_kh6Gnjl"
      },
      "execution_count": null,
      "outputs": []
    },
    {
      "cell_type": "code",
      "source": [
        "from sklearn.model_selection import train_test_split\n",
        "\n",
        "X = train.drop(columns=[\"drafted\", \"player_id\"])\n",
        "y = train[\"drafted\"]\n",
        "\n",
        "# Split with stratification\n",
        "X_train, X_val, y_train, y_val = train_test_split(\n",
        "    X, y, test_size=0.2, stratify=y, random_state=42\n",
        ")\n",
        "\n",
        "print(\"Training size:\", X_train.shape)\n",
        "print(\"Validation size:\", X_val.shape)"
      ],
      "metadata": {
        "id": "tyVDHxW4WBGP",
        "colab": {
          "base_uri": "https://localhost:8080/"
        },
        "outputId": "91ec1bb1-bc45-4c3b-a128-b90331cf1987"
      },
      "execution_count": 71,
      "outputs": [
        {
          "output_type": "stream",
          "name": "stdout",
          "text": [
            "Training size: (11819, 57)\n",
            "Validation size: (2955, 57)\n"
          ]
        }
      ]
    },
    {
      "cell_type": "code",
      "source": [
        "# <Student to fill this section>\n",
        "data_splitting_explanations = \"\"\"\n",
        "We split the dataset into training (11,819 samples, 57 features) and validation (2,955 samples, 57 features) sets using an 80/20 ratio.\n",
        "\n",
        "This approach allows the model to learn from the majority of the data while holding out a subset to evaluate generalization performance.\n",
        "\n",
        "Stratified sampling was applied to preserve the original class distribution of drafted vs. non-drafted players, which is especially important given the extreme class imbalance.\n",
        "\n",
        "This ensures that the Polynomial Logistic Regression model is trained and evaluated under realistic class proportions, making the performance metrics more reliable.\n",
        "\"\"\"\n"
      ],
      "metadata": {
        "id": "dkvHE5g4F3IZ"
      },
      "execution_count": 72,
      "outputs": []
    },
    {
      "cell_type": "code",
      "source": [
        "# Do not modify this code\n",
        "print_tile(size=\"h3\", key='data_splitting_explanations', value=data_splitting_explanations)"
      ],
      "metadata": {
        "id": "vx4_g0pLF3Lg",
        "colab": {
          "base_uri": "https://localhost:8080/",
          "height": 162
        },
        "outputId": "6c773c26-c95d-429d-c368-ae8599d37f58"
      },
      "execution_count": 73,
      "outputs": [
        {
          "output_type": "display_data",
          "data": {
            "text/plain": [
              "<IPython.core.display.HTML object>"
            ],
            "text/html": [
              "<p style=\"color:grey\">data_splitting_explanations</p><h3 font-size: 3em>\n",
              "We split the dataset into training (11,819 samples, 57 features) and validation (2,955 samples, 57 features) sets using an 80/20 ratio.\n",
              "\n",
              "This approach allows the model to learn from the majority of the data while holding out a subset to evaluate generalization performance. \n",
              "\n",
              "Stratified sampling was applied to preserve the original class distribution of drafted vs. non-drafted players, which is especially important given the extreme class imbalance. \n",
              "\n",
              "This ensures that the Polynomial Logistic Regression model is trained and evaluated under realistic class proportions, making the performance metrics more reliable.\n",
              "</h3>"
            ]
          },
          "metadata": {}
        }
      ]
    },
    {
      "cell_type": "markdown",
      "source": [
        "### G.2 Data Transformation \"\\<put_name_here\\>\""
      ],
      "metadata": {
        "id": "JHJ25iRRG1Gb"
      }
    },
    {
      "cell_type": "code",
      "source": [
        "# <Student to fill this section>"
      ],
      "metadata": {
        "id": "_PIDyg9OG17x"
      },
      "execution_count": null,
      "outputs": []
    },
    {
      "cell_type": "code",
      "source": [],
      "metadata": {
        "id": "Zy6_m4G2WFN5"
      },
      "execution_count": null,
      "outputs": []
    },
    {
      "cell_type": "code",
      "source": [
        "# <Student to fill this section>\n",
        "data_transformation_1_explanations = \"\"\"\n",
        "Since Polynomial Logistic Regression is sensitive to feature scale, we standardized all numerical features to have zero mean and unit variance.\n",
        "\n",
        "This transformation ensures that no single feature dominates due to its magnitude and allows the model to converge more efficiently.\n",
        "\n",
        "It is especially important in Polynomial Logistic Regression, as polynomial expansion can amplify differences in feature scales, making standardization a critical step.\n",
        "\"\"\""
      ],
      "metadata": {
        "id": "XbWWDBacGn9n"
      },
      "execution_count": 74,
      "outputs": []
    },
    {
      "cell_type": "code",
      "source": [
        "# Do not modify this code\n",
        "print_tile(size=\"h3\", key='data_transformation_1_explanations', value=data_transformation_1_explanations)"
      ],
      "metadata": {
        "id": "vepkbzldGn_8",
        "colab": {
          "base_uri": "https://localhost:8080/",
          "height": 142
        },
        "outputId": "5bdf88e8-d3c8-4764-bc29-bf78127cdf4e"
      },
      "execution_count": 75,
      "outputs": [
        {
          "output_type": "display_data",
          "data": {
            "text/plain": [
              "<IPython.core.display.HTML object>"
            ],
            "text/html": [
              "<p style=\"color:grey\">data_transformation_1_explanations</p><h3 font-size: 3em>\n",
              "Since Polynomial Logistic Regression is sensitive to feature scale, we standardized all numerical features to have zero mean and unit variance.\n",
              "\n",
              "This transformation ensures that no single feature dominates due to its magnitude and allows the model to converge more efficiently. \n",
              "\n",
              "It is especially important in Polynomial Logistic Regression, as polynomial expansion can amplify differences in feature scales, making standardization a critical step.\n",
              "</h3>"
            ]
          },
          "metadata": {}
        }
      ]
    },
    {
      "cell_type": "markdown",
      "source": [
        "### G.3 Data Transformation \"\\<put_name_here\\>\""
      ],
      "metadata": {
        "id": "3YG8_V1DG8YP"
      }
    },
    {
      "cell_type": "code",
      "source": [
        "# <Student to fill this section>"
      ],
      "metadata": {
        "id": "jHtYOtv7HJbw"
      },
      "execution_count": null,
      "outputs": []
    },
    {
      "cell_type": "code",
      "source": [],
      "metadata": {
        "id": "i-pdTrPyWGgs"
      },
      "execution_count": null,
      "outputs": []
    },
    {
      "cell_type": "code",
      "source": [
        "# <Student to fill this section>\n",
        "data_transformation_2_explanations = \"\"\"\n",
        "We applied One-Hot Encoding to categorical features such as team, conference, season, and player type to convert them into a numerical format suitable for modeling.\n",
        "\n",
        "This transformation is essential for models like SGDClassifier, which cannot handle categorical variables directly.\n",
        "\n",
        "It also enables the model to learn from structural and contextual differences across teams, conferences, and seasons that may influence draft outcomes.\n",
        "\"\"\"\n"
      ],
      "metadata": {
        "id": "TQR-kDICGoqa"
      },
      "execution_count": 76,
      "outputs": []
    },
    {
      "cell_type": "code",
      "source": [
        "# Do not modify this code\n",
        "print_tile(size=\"h3\", key='data_transformation_2_explanations', value=data_transformation_2_explanations)"
      ],
      "metadata": {
        "id": "bNWRpNiQGotZ",
        "colab": {
          "base_uri": "https://localhost:8080/",
          "height": 142
        },
        "outputId": "ab915e9c-f814-456f-9160-2a0385c999aa"
      },
      "execution_count": 77,
      "outputs": [
        {
          "output_type": "display_data",
          "data": {
            "text/plain": [
              "<IPython.core.display.HTML object>"
            ],
            "text/html": [
              "<p style=\"color:grey\">data_transformation_2_explanations</p><h3 font-size: 3em>\n",
              "We applied One-Hot Encoding to categorical features such as team, conference, season, and player type to convert them into a numerical format suitable for modeling.\n",
              "\n",
              "This transformation is essential for models like SGDClassifier, which cannot handle categorical variables directly.\n",
              "\n",
              "It also enables the model to learn from structural and contextual differences across teams, conferences, and seasons that may influence draft outcomes.\n",
              "</h3>"
            ]
          },
          "metadata": {}
        }
      ]
    },
    {
      "cell_type": "markdown",
      "source": [
        "### G.4 Data Transformation \"\\<put_name_here\\>\""
      ],
      "metadata": {
        "id": "DfSLKEJTG7QB"
      }
    },
    {
      "cell_type": "code",
      "source": [
        "# <Student to fill this section>"
      ],
      "metadata": {
        "id": "712T36KKG7Yp"
      },
      "execution_count": null,
      "outputs": []
    },
    {
      "cell_type": "code",
      "source": [],
      "metadata": {
        "id": "bLjLDvaWWHx2"
      },
      "execution_count": null,
      "outputs": []
    },
    {
      "cell_type": "code",
      "source": [
        "# <Student to fill this section>\n",
        "data_transformation_3_explanations = \"\"\"\n",
        "We applied Standard Scaling to all numerical features to ensure they have zero mean and unit variance.\n",
        "\n",
        "This transformation is critical for Polynomial Logistic Regression, as logistic regression models are sensitive to feature scale.\n",
        "\n",
        "Proper scaling helps the model converge more efficiently and prevents features with larger magnitudes from dominating the learning process.\n",
        "It is especially important here because polynomial feature expansion can greatly increase the range of feature values, making standardization essential for stable training.\n",
        "\"\"\""
      ],
      "metadata": {
        "id": "fQkBCxekGpUv"
      },
      "execution_count": 78,
      "outputs": []
    },
    {
      "cell_type": "code",
      "source": [
        "# Do not modify this code\n",
        "print_tile(size=\"h3\", key='data_transformation_3_explanations', value=data_transformation_3_explanations)"
      ],
      "metadata": {
        "id": "Xlo8HKd9GpXM",
        "colab": {
          "base_uri": "https://localhost:8080/",
          "height": 162
        },
        "outputId": "860a41df-6d33-4f1a-a92b-ed578b0e7218"
      },
      "execution_count": 79,
      "outputs": [
        {
          "output_type": "display_data",
          "data": {
            "text/plain": [
              "<IPython.core.display.HTML object>"
            ],
            "text/html": [
              "<p style=\"color:grey\">data_transformation_3_explanations</p><h3 font-size: 3em>\n",
              "We applied Standard Scaling to all numerical features to ensure they have zero mean and unit variance.\n",
              "\n",
              "This transformation is critical for Polynomial Logistic Regression, as logistic regression models are sensitive to feature scale. \n",
              "\n",
              "Proper scaling helps the model converge more efficiently and prevents features with larger magnitudes from dominating the learning process. \n",
              "It is especially important here because polynomial feature expansion can greatly increase the range of feature values, making standardization essential for stable training.\n",
              "</h3>"
            ]
          },
          "metadata": {}
        }
      ]
    },
    {
      "cell_type": "markdown",
      "source": [],
      "metadata": {
        "id": "K0688URxWIQo"
      }
    },
    {
      "cell_type": "code",
      "source": [],
      "metadata": {
        "id": "pqjpS9cXWN-n"
      },
      "execution_count": null,
      "outputs": []
    },
    {
      "cell_type": "code",
      "source": [],
      "metadata": {
        "id": "cnKmJ6rsWIXs"
      },
      "execution_count": null,
      "outputs": []
    },
    {
      "cell_type": "markdown",
      "source": [
        "---\n",
        "## H. Save Datasets\n",
        "\n",
        "> Do not change this code"
      ],
      "metadata": {
        "id": "qIj277YWHdFk"
      }
    },
    {
      "cell_type": "code",
      "source": [
        "# Create X_test from test set\n",
        "X_test = test.drop(columns=[\"player_id\"])\n",
        "\n",
        "# Since test set doesn't include labels, create empty y_test as placeholder\n",
        "import numpy as np\n",
        "import pandas as pd\n",
        "y_test = pd.Series([np.nan] * len(X_test))"
      ],
      "metadata": {
        "id": "o8JJfSxeBzRG"
      },
      "execution_count": 80,
      "outputs": []
    },
    {
      "cell_type": "code",
      "source": [
        "# Do not modify this code\n",
        "# Save training set\n",
        "try:\n",
        "  X_train.to_csv(at.folder_path / 'X_train.csv', index=False)\n",
        "  y_train.to_csv(at.folder_path / 'y_train.csv', index=False)\n",
        "\n",
        "  X_val.to_csv(at.folder_path / 'X_val.csv', index=False)\n",
        "  y_val.to_csv(at.folder_path / 'y_val.csv', index=False)\n",
        "\n",
        "  X_test.to_csv(at.folder_path / 'X_test.csv', index=False)\n",
        "  y_test.to_csv(at.folder_path / 'y_test.csv', index=False)\n",
        "except Exception as e:\n",
        "  print(e)"
      ],
      "metadata": {
        "id": "uMNql0SzHhP2",
        "colab": {
          "base_uri": "https://localhost:8080/"
        },
        "outputId": "d2ddb302-9743-4ba2-91a2-03fd3b8b4eaa"
      },
      "execution_count": 81,
      "outputs": [
        {
          "output_type": "stream",
          "name": "stdout",
          "text": [
            "name 'at' is not defined\n"
          ]
        }
      ]
    },
    {
      "cell_type": "markdown",
      "source": [
        "---\n",
        "## I. Selection of Performance Metrics\n",
        "\n",
        "> Provide some explanations on why you believe the performance metrics you chose is appropriate\n"
      ],
      "metadata": {
        "id": "RtLjr7niHpNZ"
      }
    },
    {
      "cell_type": "code",
      "source": [
        "# <Student to fill this section>"
      ],
      "metadata": {
        "id": "KV_pxLAiHxKW"
      },
      "execution_count": null,
      "outputs": []
    },
    {
      "cell_type": "code",
      "source": [
        "# <Student to fill this section>\n",
        "performance_metrics_explanations = \"\"\"\n",
        "We selected AUROC as the primary evaluation metric because it effectively handles imbalanced datasets and measures the model’s ability to distinguish between drafted and non-drafted players.\n",
        "\n",
        "Accuracy is not reliable in this context, as predicting all players as non-drafted would still yield over 99% accuracy due to the extreme class imbalance.\n",
        "\n",
        "In addition, we consider precision, recall, and F1-score to better understand the trade-offs between false positives and false negatives, especially when evaluating model performance on the minority (drafted) class.\n",
        "\n",
        "Polynomial Logistic Regression outputs calibrated probabilities, making it particularly well-suited for AUROC evaluation and for balancing sensitivity to both classes.\n",
        "\"\"\""
      ],
      "metadata": {
        "id": "kC949nluHR5s"
      },
      "execution_count": 83,
      "outputs": []
    },
    {
      "cell_type": "code",
      "source": [
        "# Do not modify this code\n",
        "print_tile(size=\"h3\", key='performance_metrics_explanations', value=performance_metrics_explanations)"
      ],
      "metadata": {
        "id": "wABRzU2sHR8j",
        "colab": {
          "base_uri": "https://localhost:8080/",
          "height": 183
        },
        "outputId": "b8b45615-8b2b-44e1-ce7a-4f29e3395f78"
      },
      "execution_count": 84,
      "outputs": [
        {
          "output_type": "display_data",
          "data": {
            "text/plain": [
              "<IPython.core.display.HTML object>"
            ],
            "text/html": [
              "<p style=\"color:grey\">performance_metrics_explanations</p><h3 font-size: 3em>\n",
              "We selected AUROC as the primary evaluation metric because it effectively handles imbalanced datasets and measures the model’s ability to distinguish between drafted and non-drafted players.\n",
              "\n",
              "Accuracy is not reliable in this context, as predicting all players as non-drafted would still yield over 99% accuracy due to the extreme class imbalance.\n",
              "\n",
              "In addition, we consider precision, recall, and F1-score to better understand the trade-offs between false positives and false negatives, especially when evaluating model performance on the minority (drafted) class.\n",
              "\n",
              "Polynomial Logistic Regression outputs calibrated probabilities, making it particularly well-suited for AUROC evaluation and for balancing sensitivity to both classes.\n",
              "</h3>"
            ]
          },
          "metadata": {}
        }
      ]
    },
    {
      "cell_type": "markdown",
      "source": [
        "## J. Train Machine Learning Model"
      ],
      "metadata": {
        "id": "ZpxjwSDYIJy6"
      }
    },
    {
      "cell_type": "markdown",
      "source": [
        "### J.1 Import Algorithm\n",
        "\n",
        "> Provide some explanations on why you believe this algorithm is a good fit\n"
      ],
      "metadata": {
        "id": "_XBy7-9PIVcU"
      }
    },
    {
      "cell_type": "code",
      "source": [
        "# <Student to fill this section>"
      ],
      "metadata": {
        "id": "diUB08xMIOuS"
      },
      "execution_count": null,
      "outputs": []
    },
    {
      "cell_type": "code",
      "source": [
        "from sklearn.preprocessing import PolynomialFeatures, StandardScaler\n",
        "from sklearn.linear_model import LogisticRegression\n",
        "from sklearn.pipeline import Pipeline\n",
        "from sklearn.metrics import (\n",
        "    roc_auc_score, RocCurveDisplay,\n",
        "    PrecisionRecallDisplay, classification_report,\n",
        "    precision_score, recall_score, f1_score\n",
        ")\n",
        "from sklearn.model_selection import StratifiedKFold, cross_val_score\n",
        "import matplotlib.pyplot as plt\n",
        "\n",
        "# Features & Data\n",
        "features_list = ['pts', 'Min_per', 'obpm', 'TS_per', 'bpm', 'usg', 'eFG', 'mp', 'drtg', 'adrtg']\n",
        "X_tr = X_train[features_list]\n",
        "X_va = X_val[features_list]\n",
        "\n",
        "# Model Pipeline: Polynomial > Standardize > Logistic Regression\n",
        "poly_logit_pipeline = Pipeline([\n",
        "    (\"poly\", PolynomialFeatures(degree=2, include_bias=False, interaction_only=False)),\n",
        "    (\"scaler\", StandardScaler()),\n",
        "    (\"clf\", LogisticRegression(\n",
        "        solver=\"saga\",\n",
        "        penalty=\"elasticnet\",\n",
        "        l1_ratio=0.1,\n",
        "        C=1.0,\n",
        "        class_weight=\"balanced\",\n",
        "        max_iter=5000,\n",
        "        n_jobs=-1,\n",
        "        random_state=42\n",
        "    ))\n",
        "])\n",
        "\n",
        "# Train\n",
        "poly_logit_pipeline.fit(X_tr, y_train)\n",
        "\n",
        "# Validation - Probabilities & AUROC\n",
        "y_val_proba = poly_logit_pipeline.predict_proba(X_va)[:, 1]\n",
        "auc = roc_auc_score(y_val, y_val_proba)\n",
        "print(f\"Polynomial Logistic Regression AUROC (val): {auc:.4f}\")\n",
        "\n",
        "# Validation - Class Labels & Classification Metrics\n",
        "y_val_pred = poly_logit_pipeline.predict(X_va)\n",
        "\n",
        "precision = precision_score(y_val, y_val_pred, zero_division=0)\n",
        "recall    = recall_score(y_val, y_val_pred, zero_division=0)\n",
        "f1        = f1_score(y_val, y_val_pred, zero_division=0)\n",
        "\n",
        "print(f\"Precision: {precision:.4f}\")\n",
        "print(f\"Recall:    {recall:.4f}\")\n",
        "print(f\"F1-score:  {f1:.4f}\\n\")\n",
        "\n",
        "print(\"Classification Report:\")\n",
        "print(classification_report(y_val, y_val_pred, digits=4))"
      ],
      "metadata": {
        "colab": {
          "base_uri": "https://localhost:8080/"
        },
        "id": "Kq3smApACSZY",
        "outputId": "44776e7a-9f72-4b8f-ee52-e15bfcd0a763"
      },
      "execution_count": 87,
      "outputs": [
        {
          "output_type": "stream",
          "name": "stdout",
          "text": [
            "Polynomial Logistic Regression AUROC (val): 0.9922\n",
            "Precision: 0.1472\n",
            "Recall:    1.0000\n",
            "F1-score:  0.2567\n",
            "\n",
            "Classification Report:\n",
            "              precision    recall  f1-score   support\n",
            "\n",
            "         0.0     1.0000    0.9526    0.9757      2931\n",
            "         1.0     0.1472    1.0000    0.2567        24\n",
            "\n",
            "    accuracy                         0.9530      2955\n",
            "   macro avg     0.5736    0.9763    0.6162      2955\n",
            "weighted avg     0.9931    0.9530    0.9699      2955\n",
            "\n"
          ]
        }
      ]
    },
    {
      "cell_type": "code",
      "source": [
        "# ROC & PR Curves\n",
        "\n",
        "RocCurveDisplay.from_predictions(y_val, y_val_proba)\n",
        "plt.title(\"ROC Curve - Polynomial Logistic Regression\")\n",
        "plt.show()\n",
        "\n",
        "PrecisionRecallDisplay.from_predictions(y_val, y_val_proba)\n",
        "plt.title(\"Precision-Recall Curve - Polynomial Logistic Regression\")\n",
        "plt.show()\n"
      ],
      "metadata": {
        "colab": {
          "base_uri": "https://localhost:8080/",
          "height": 472
        },
        "id": "URsxd0jyCreF",
        "outputId": "f30706c0-ef66-498c-907a-948fd56cdd10"
      },
      "execution_count": 86,
      "outputs": [
        {
          "output_type": "display_data",
          "data": {
            "text/plain": [
              "<Figure size 640x480 with 1 Axes>"
            ],
            "image/png": "[encoded data removed]"
          },
          "metadata": {}
        }
      ]
    },
    {
      "cell_type": "code",
      "source": [
        "# <Student to fill this section>\n",
        "algorithm_selection_explanations = \"\"\"\n",
        "We chose Polynomial Logistic Regression because it is accurate, interpretable, and works well with our imbalanced data.\n",
        "\n",
        "- It builds on regular logistic regression but adds feature interactions, which helps capture more complex patterns (like how scoring and playing time combine).\n",
        "- It gives probability outputs, which are helpful for evaluating rare events like being drafted (~0.8% of players).\n",
        "- Regularization helps prevent overfitting even after expanding features.\n",
        "- It works smoothly with our preprocessing steps (standardization, one-hot encoding) and supports class balancing.\n",
        "\n",
        "Model performance on the validation set:\n",
        "- AUROC: 0.9922\n",
        "- Recall: 1.0000 (no drafted players missed)\n",
        "- Precision: 0.1472\n",
        "\n",
        "Overall, this algorithm offers a good balance of accuracy, explainability, and ability to handle our data.\n",
        "\"\"\"\n"
      ],
      "metadata": {
        "id": "GIWOpv6CGUTE"
      },
      "execution_count": 88,
      "outputs": []
    },
    {
      "cell_type": "code",
      "source": [
        "# Do not modify this code\n",
        "print_tile(size=\"h3\", key='algorithm_selection_explanations', value=algorithm_selection_explanations)"
      ],
      "metadata": {
        "id": "N4yogQ9aGUVe",
        "colab": {
          "base_uri": "https://localhost:8080/",
          "height": 183
        },
        "outputId": "54aa2d3a-d683-403d-93cb-369a5eb24c25"
      },
      "execution_count": 89,
      "outputs": [
        {
          "output_type": "display_data",
          "data": {
            "text/plain": [
              "<IPython.core.display.HTML object>"
            ],
            "text/html": [
              "<p style=\"color:grey\">algorithm_selection_explanations</p><h3 font-size: 3em>\n",
              "We chose Polynomial Logistic Regression because it is accurate, interpretable, and works well with our imbalanced data.\n",
              "\n",
              "- It builds on regular logistic regression but adds feature interactions, which helps capture more complex patterns (like how scoring and playing time combine).\n",
              "- It gives probability outputs, which are helpful for evaluating rare events like being drafted (~0.8% of players).\n",
              "- Regularization helps prevent overfitting even after expanding features.\n",
              "- It works smoothly with our preprocessing steps (standardization, one-hot encoding) and supports class balancing.\n",
              "\n",
              "Model performance on the validation set:\n",
              "- AUROC: 0.9922\n",
              "- Recall: 1.0000 (no drafted players missed)\n",
              "- Precision: 0.1472\n",
              "\n",
              "Overall, this algorithm offers a good balance of accuracy, explainability, and ability to handle our data.\n",
              "</h3>"
            ]
          },
          "metadata": {}
        }
      ]
    },
    {
      "cell_type": "markdown",
      "source": [
        "### J.2 Set Hyperparameters\n",
        "\n",
        "> Provide some explanations on why you believe this algorithm is a good fit\n"
      ],
      "metadata": {
        "id": "0ks_MmM2mCfm"
      }
    },
    {
      "cell_type": "code",
      "source": [
        "# <Student to fill this section>"
      ],
      "metadata": {
        "id": "NUswpGVLmDXl"
      },
      "execution_count": null,
      "outputs": []
    },
    {
      "cell_type": "code",
      "source": [
        "# <Student to fill this section>\n",
        "hyperparameters_selection_explanations = \"\"\"\n",
        "We tuned the hyperparameters of the Polynomial Logistic Regression model to balance model flexibility and generalization.\n",
        "\n",
        "Key hyperparameters include:\n",
        "- `degree`: Controls how many interaction terms are added. Higher degrees can capture more complex patterns, but may lead to overfitting.\n",
        "- `C`: The inverse of regularization strength. Lower values increase regularization and help prevent overfitting in high-dimensional feature spaces.\n",
        "- `l1_ratio`: Determines the mix between L1 (sparse features) and L2 (smooth weights) regularization. Tuning this helps balance complexity and stability.\n",
        "\n",
        "Since polynomial expansion can quickly increase feature count, these hyperparameters are essential to control model size, improve validation performance, and reduce overfitting.\n",
        "\"\"\"\n"
      ],
      "metadata": {
        "id": "crG_Bm72HfL-"
      },
      "execution_count": 90,
      "outputs": []
    },
    {
      "cell_type": "code",
      "source": [
        "# Do not modify this code\n",
        "print_tile(size=\"h3\", key='hyperparameters_selection_explanations', value=hyperparameters_selection_explanations)"
      ],
      "metadata": {
        "id": "k0uqlRCVHfQI",
        "colab": {
          "base_uri": "https://localhost:8080/",
          "height": 183
        },
        "outputId": "848c71fe-839c-4491-b734-f529e4b54559"
      },
      "execution_count": 91,
      "outputs": [
        {
          "output_type": "display_data",
          "data": {
            "text/plain": [
              "<IPython.core.display.HTML object>"
            ],
            "text/html": [
              "<p style=\"color:grey\">hyperparameters_selection_explanations</p><h3 font-size: 3em>\n",
              "We tuned the hyperparameters of the Polynomial Logistic Regression model to balance model flexibility and generalization.\n",
              "\n",
              "Key hyperparameters include:\n",
              "- `degree`: Controls how many interaction terms are added. Higher degrees can capture more complex patterns, but may lead to overfitting.\n",
              "- `C`: The inverse of regularization strength. Lower values increase regularization and help prevent overfitting in high-dimensional feature spaces.\n",
              "- `l1_ratio`: Determines the mix between L1 (sparse features) and L2 (smooth weights) regularization. Tuning this helps balance complexity and stability.\n",
              "\n",
              "Since polynomial expansion can quickly increase feature count, these hyperparameters are essential to control model size, improve validation performance, and reduce overfitting.\n",
              "</h3>"
            ]
          },
          "metadata": {}
        }
      ]
    },
    {
      "cell_type": "markdown",
      "source": [
        "### J.3 Fit Model"
      ],
      "metadata": {
        "id": "VDjdjQjFmkLe"
      }
    },
    {
      "cell_type": "code",
      "source": [
        "# <Student to fill this section>"
      ],
      "metadata": {
        "id": "0Ub3Nrdgmm2N"
      },
      "execution_count": null,
      "outputs": []
    },
    {
      "cell_type": "code",
      "source": [
        "# <Student to fill this section>\n",
        "\n",
        "fit_model_explanations = \"\"\"\n",
        "We trained a Polynomial Logistic Regression model using the cleaned, standardized, and one-hot encoded dataset with the top 10 selected features.\n",
        "\n",
        "The model pipeline included:\n",
        "- Polynomial feature expansion (`degree=2`) to capture non-linear interactions.\n",
        "- Standard scaling to normalize all numerical features.\n",
        "- Logistic regression with elastic-net regularization (`C=1.0`, `l1_ratio=0.1`) and `class_weight='balanced'` to address the extreme class imbalance.\n",
        "\n",
        "On the validation set, the model achieved an AUROC score of 0.9922, with a recall of 1.0000 and precision of 0.1472.\n",
        "\n",
        "This shows that with thoughtful feature selection, preprocessing, and regularization, Polynomial Logistic Regression can deliver high performance while remaining interpretable.\n",
        "\"\"\"\n"
      ],
      "metadata": {
        "id": "2-nsRFJNGmL4"
      },
      "execution_count": 96,
      "outputs": []
    },
    {
      "cell_type": "code",
      "source": [
        "# Do not modify this code\n",
        "print_tile(size=\"h3\", key='fit_model_explanations', value=fit_model_explanations)"
      ],
      "metadata": {
        "colab": {
          "base_uri": "https://localhost:8080/",
          "height": 183
        },
        "id": "EtcUITtQGvB_",
        "outputId": "07deb8da-0235-4f72-b05d-263d7718ca5d"
      },
      "execution_count": 97,
      "outputs": [
        {
          "output_type": "display_data",
          "data": {
            "text/plain": [
              "<IPython.core.display.HTML object>"
            ],
            "text/html": [
              "<p style=\"color:grey\">fit_model_explanations</p><h3 font-size: 3em>\n",
              "We trained a Polynomial Logistic Regression model using the cleaned, standardized, and one-hot encoded dataset with the top 10 selected features.\n",
              "\n",
              "The model pipeline included:\n",
              "- Polynomial feature expansion (`degree=2`) to capture non-linear interactions.\n",
              "- Standard scaling to normalize all numerical features.\n",
              "- Logistic regression with elastic-net regularization (`C=1.0`, `l1_ratio=0.1`) and `class_weight='balanced'` to address the extreme class imbalance.\n",
              "\n",
              "On the validation set, the model achieved an AUROC score of 0.9922, with a recall of 1.0000 and precision of 0.1472. \n",
              "\n",
              "This shows that with thoughtful feature selection, preprocessing, and regularization, Polynomial Logistic Regression can deliver high performance while remaining interpretable.\n",
              "</h3>"
            ]
          },
          "metadata": {}
        }
      ]
    },
    {
      "cell_type": "markdown",
      "source": [
        "### J.4 Model Technical Performance\n",
        "\n",
        "> Provide some explanations on model performance\n"
      ],
      "metadata": {
        "id": "q43YtqpdeniY"
      }
    },
    {
      "cell_type": "code",
      "execution_count": null,
      "metadata": {
        "id": "x1Q3oxoNhez5"
      },
      "outputs": [],
      "source": [
        "# <Student to fill this section>"
      ]
    },
    {
      "cell_type": "code",
      "source": [
        "# <Student to fill this section>\n",
        "model_performance_explanations = \"\"\"\n",
        "The Polynomial Logistic Regression model performed very well on the validation set.\n",
        "\n",
        "It achieved an AUROC score of 0.9922, showing excellent ability to distinguish between drafted and non-drafted players.\n",
        "The recall was 1.0000, meaning the model successfully identified all drafted players in the validation set.\n",
        "Although the precision was relatively low (0.1472), this is expected in highly imbalanced datasets like ours, where only 0.8% of players were drafted.\n",
        "\n",
        "This trade-off is acceptable in the context of NBA draft scouting, where missing a potential draftee is more costly than reviewing a few extra candidates.\n",
        "Overall, the model shows strong ranking performance and effective handling of class imbalance.\n",
        "\"\"\"\n"
      ],
      "metadata": {
        "id": "_YbQldshHk_3"
      },
      "execution_count": 98,
      "outputs": []
    },
    {
      "cell_type": "code",
      "source": [
        "# Do not modify this code\n",
        "print_tile(size=\"h3\", key='model_performance_explanations', value=model_performance_explanations)"
      ],
      "metadata": {
        "id": "-MkLnLzVHlDO",
        "colab": {
          "base_uri": "https://localhost:8080/",
          "height": 183
        },
        "outputId": "5a5955f1-2c49-4e87-9b7a-cade1d6c38e8"
      },
      "execution_count": 99,
      "outputs": [
        {
          "output_type": "display_data",
          "data": {
            "text/plain": [
              "<IPython.core.display.HTML object>"
            ],
            "text/html": [
              "<p style=\"color:grey\">model_performance_explanations</p><h3 font-size: 3em>\n",
              "The Polynomial Logistic Regression model performed very well on the validation set.\n",
              "\n",
              "It achieved an AUROC score of 0.9922, showing excellent ability to distinguish between drafted and non-drafted players. \n",
              "The recall was 1.0000, meaning the model successfully identified all drafted players in the validation set. \n",
              "Although the precision was relatively low (0.1472), this is expected in highly imbalanced datasets like ours, where only 0.8% of players were drafted.\n",
              "\n",
              "This trade-off is acceptable in the context of NBA draft scouting, where missing a potential draftee is more costly than reviewing a few extra candidates. \n",
              "Overall, the model shows strong ranking performance and effective handling of class imbalance.\n",
              "</h3>"
            ]
          },
          "metadata": {}
        }
      ]
    },
    {
      "cell_type": "markdown",
      "source": [
        "### J.5 Business Impact from Current Model Performance\n",
        "\n",
        "> Provide some analysis on the model impacts from the business point of view\n"
      ],
      "metadata": {
        "id": "W1HgZMPcmtu7"
      }
    },
    {
      "cell_type": "code",
      "source": [
        "# <Student to fill this section>"
      ],
      "metadata": {
        "id": "XGq2RWyqmuKM"
      },
      "execution_count": null,
      "outputs": []
    },
    {
      "cell_type": "code",
      "source": [
        "# <Student to fill this section>\n",
        "business_impacts_explanations = \"\"\"\n",
        "The goal of this project is to help teams and scouts identify players who are likely to be drafted into the NBA.\n",
        "\n",
        "Our model achieved perfect recall (1.0000), meaning it successfully identified all drafted players in the validation set. This has strong business value, as it ensures no potential draftees are overlooked.\n",
        "\n",
        "However, the model's precision is relatively low (0.1472), which means many players predicted as \"likely to be drafted\" were not actually drafted. While this increases the number of false positives, it is acceptable in this context. Reviewing extra players is far less costly than missing a high-potential draftee.\n",
        "\n",
        "In real scouting workflows, the model can act as an early filter to highlight players worth deeper analysis. This can help prioritize scouting resources, reduce time spent on low-potential players, and ensure talent is not missed—leading to better draft outcomes and long-term team performance.\n",
        "\"\"\"\n"
      ],
      "metadata": {
        "id": "7bcCHiP-Hozj"
      },
      "execution_count": 100,
      "outputs": []
    },
    {
      "cell_type": "code",
      "source": [
        "# Do not modify this code\n",
        "print_tile(size=\"h3\", key='business_impacts_explanations', value=business_impacts_explanations)"
      ],
      "metadata": {
        "id": "RQ3lJGAnHo3O",
        "colab": {
          "base_uri": "https://localhost:8080/",
          "height": 203
        },
        "outputId": "4d110fba-64a2-4d98-c04e-4c252b5ab1b5"
      },
      "execution_count": 101,
      "outputs": [
        {
          "output_type": "display_data",
          "data": {
            "text/plain": [
              "<IPython.core.display.HTML object>"
            ],
            "text/html": [
              "<p style=\"color:grey\">business_impacts_explanations</p><h3 font-size: 3em>\n",
              "The goal of this project is to help teams and scouts identify players who are likely to be drafted into the NBA.\n",
              "\n",
              "Our model achieved perfect recall (1.0000), meaning it successfully identified all drafted players in the validation set. This has strong business value, as it ensures no potential draftees are overlooked.\n",
              "\n",
              "However, the model's precision is relatively low (0.1472), which means many players predicted as \"likely to be drafted\" were not actually drafted. While this increases the number of false positives, it is acceptable in this context. Reviewing extra players is far less costly than missing a high-potential draftee.\n",
              "\n",
              "In real scouting workflows, the model can act as an early filter to highlight players worth deeper analysis. This can help prioritize scouting resources, reduce time spent on low-potential players, and ensure talent is not missed—leading to better draft outcomes and long-term team performance.\n",
              "</h3>"
            ]
          },
          "metadata": {}
        }
      ]
    },
    {
      "cell_type": "markdown",
      "source": [
        "## H. Project Outcomes"
      ],
      "metadata": {
        "id": "mp1Ie9o8nDl1"
      }
    },
    {
      "cell_type": "code",
      "source": [
        "# <Student to fill this section>\n",
        "experiment_outcome = \"Hypothesis Confirmed\""
      ],
      "metadata": {
        "id": "AvFNheh1HtPb"
      },
      "execution_count": 102,
      "outputs": []
    },
    {
      "cell_type": "code",
      "source": [
        "# Do not modify this code\n",
        "print_tile(size=\"h2\", key='experiment_outcomes_explanations', value=experiment_outcome)"
      ],
      "metadata": {
        "id": "23bFWNIVHtTU",
        "colab": {
          "base_uri": "https://localhost:8080/",
          "height": 88
        },
        "outputId": "0b91acf3-8393-4b3a-a07f-02e5b4d231fb"
      },
      "execution_count": 103,
      "outputs": [
        {
          "output_type": "display_data",
          "data": {
            "text/plain": [
              "<IPython.core.display.HTML object>"
            ],
            "text/html": [
              "<p style=\"color:grey\">experiment_outcomes_explanations</p><h2 font-size: 3em>Hypothesis Confirmed</h2>"
            ]
          },
          "metadata": {}
        }
      ]
    },
    {
      "cell_type": "code",
      "source": [
        "# <Student to fill this section>\n",
        "experiment_results_explanations = \"\"\"\n",
        "Throughout this project, we experimented with several classification models to predict NBA draft outcomes, including Baseline Logistic Regression, Random Forest, XGBoost, SGDClassifier, and finally Polynomial Logistic Regression.\n",
        "\n",
        "Among all tested models, Polynomial Logistic Regression delivered the best overall performance. It achieved an AUROC of 0.9922 and perfect recall (1.0000), meaning no drafted players were missed in the validation set. This fulfills the business goal of helping scouts avoid overlooking potential talent, even if some false positives are included.\n",
        "\n",
        "Key insights gained:\n",
        "- Linear models like Logistic Regression can be greatly improved using polynomial expansion and regularization.\n",
        "- Tree-based models (Random Forest, XGBoost) were strong, but less interpretable and prone to overfitting on small positive samples.\n",
        "- SGDClassifier was fast but slightly less stable than the final polynomial model.\n",
        "- Proper preprocessing (feature selection, standardization, class balancing) had a major impact across all models.\n",
        "\n",
        "Recommended next steps:\n",
        "1. **Threshold tuning or ranking approach** – Fine-tune decision threshold or use top-k ranking to improve precision (High impact).\n",
        "2. **Deployment into scouting tools** – Convert the model into a practical tool (e.g., dashboard or shortlist generator) for real-world scouting (High impact).\n",
        "3. **Optional refinement** – Add player efficiency, position, or injury history if more data is available (Medium impact).\n",
        "\n",
        "As the final model meets the business objective and delivers strong performance, we recommend moving forward with deployment and supporting it with simple UI features for scout usage.\n",
        "\"\"\"\n"
      ],
      "metadata": {
        "id": "iFF8wsz6HteA"
      },
      "execution_count": 104,
      "outputs": []
    },
    {
      "cell_type": "code",
      "source": [
        "# Do not modify this code\n",
        "print_tile(size=\"h2\", key='experiment_results_explanations', value=experiment_results_explanations)"
      ],
      "metadata": {
        "id": "QpWzEhX2HthW",
        "colab": {
          "base_uri": "https://localhost:8080/",
          "height": 478
        },
        "outputId": "a5aa8756-c873-4fff-e8dc-0a13bf0d3ab5"
      },
      "execution_count": 105,
      "outputs": [
        {
          "output_type": "display_data",
          "data": {
            "text/plain": [
              "<IPython.core.display.HTML object>"
            ],
            "text/html": [
              "<p style=\"color:grey\">experiment_results_explanations</p><h2 font-size: 3em>\n",
              "Throughout this project, we experimented with several classification models to predict NBA draft outcomes, including Baseline Logistic Regression, Random Forest, XGBoost, SGDClassifier, and finally Polynomial Logistic Regression.\n",
              "\n",
              "Among all tested models, Polynomial Logistic Regression delivered the best overall performance. It achieved an AUROC of 0.9922 and perfect recall (1.0000), meaning no drafted players were missed in the validation set. This fulfills the business goal of helping scouts avoid overlooking potential talent, even if some false positives are included.\n",
              "\n",
              "Key insights gained:\n",
              "- Linear models like Logistic Regression can be greatly improved using polynomial expansion and regularization.\n",
              "- Tree-based models (Random Forest, XGBoost) were strong, but less interpretable and prone to overfitting on small positive samples.\n",
              "- SGDClassifier was fast but slightly less stable than the final polynomial model.\n",
              "- Proper preprocessing (feature selection, standardization, class balancing) had a major impact across all models.\n",
              "\n",
              "Recommended next steps:\n",
              "1. **Threshold tuning or ranking approach** – Fine-tune decision threshold or use top-k ranking to improve precision (High impact).\n",
              "2. **Deployment into scouting tools** – Convert the model into a practical tool (e.g., dashboard or shortlist generator) for real-world scouting (High impact).\n",
              "3. **Optional refinement** – Add player efficiency, position, or injury history if more data is available (Medium impact).\n",
              "\n",
              "As the final model meets the business objective and delivers strong performance, we recommend moving forward with deployment and supporting it with simple UI features for scout usage.\n",
              "</h2>"
            ]
          },
          "metadata": {}
        }
      ]
    },
    {
      "cell_type": "code",
      "source": [
        "# Predict scores on the test set（Polynomial Logistic Regression pipeline）\n",
        "test_X = test[features_list]\n",
        "test_probs = poly_logit_pipeline.predict_proba(test_X)[:, 1]\n",
        "\n",
        "# Create Kaggle submission\n",
        "submission = pd.DataFrame({\n",
        "    \"player_id\": test[\"player_id\"],\n",
        "    \"drafted\": test_probs\n",
        "})\n",
        "\n",
        "# Save to CSV\n",
        "submission.to_csv(\"submission.csv\", index=False)\n",
        "print(\"submission.csv saved\")\n",
        "\n",
        "# Download (Google Colab only)\n",
        "from google.colab import files\n",
        "files.download(\"submission.csv\")"
      ],
      "metadata": {
        "id": "4-Fz8eeLH1GR",
        "colab": {
          "base_uri": "https://localhost:8080/",
          "height": 35
        },
        "outputId": "b31d1062-e171-45b3-839d-6a9b74ecce41"
      },
      "execution_count": 106,
      "outputs": [
        {
          "output_type": "stream",
          "name": "stdout",
          "text": [
            "submission.csv saved\n"
          ]
        },
        {
          "output_type": "display_data",
          "data": {
            "text/plain": [
              "<IPython.core.display.Javascript object>"
            ],
            "application/javascript": [
              "\n",
              "    async function download(id, filename, size) {\n",
              "      if (!google.colab.kernel.accessAllowed) {\n",
              "        return;\n",
              "      }\n",
              "      const div = document.createElement('div');\n",
              "      const label = document.createElement('label');\n",
              "      label.textContent = `Downloading \"${filename}\": `;\n",
              "      div.appendChild(label);\n",
              "      const progress = document.createElement('progress');\n",
              "      progress.max = size;\n",
              "      div.appendChild(progress);\n",
              "      document.body.appendChild(div);\n",
              "\n",
              "      const buffers = [];\n",
              "      let downloaded = 0;\n",
              "\n",
              "      const channel = await google.colab.kernel.comms.open(id);\n",
              "      // Send a message to notify the kernel that we're ready.\n",
              "      channel.send({})\n",
              "\n",
              "      for await (const message of channel.messages) {\n",
              "        // Send a message to notify the kernel that we're ready.\n",
              "        channel.send({})\n",
              "        if (message.buffers) {\n",
              "          for (const buffer of message.buffers) {\n",
              "            buffers.push(buffer);\n",
              "            downloaded += buffer.byteLength;\n",
              "            progress.value = downloaded;\n",
              "          }\n",
              "        }\n",
              "      }\n",
              "      const blob = new Blob(buffers, {type: 'application/binary'});\n",
              "      const a = document.createElement('a');\n",
              "      a.href = window.URL.createObjectURL(blob);\n",
              "      a.download = filename;\n",
              "      div.appendChild(a);\n",
              "      a.click();\n",
              "      div.remove();\n",
              "    }\n",
              "  "
            ]
          },
          "metadata": {}
        },
        {
          "output_type": "display_data",
          "data": {
            "text/plain": [
              "<IPython.core.display.Javascript object>"
            ],
            "application/javascript": [
              "download(\"download_d95fc16a-1678-47f0-ac6e-b23a8a716bce\", \"submission.csv\", 75054)"
            ]
          },
          "metadata": {}
        }
      ]
    },
    {
      "cell_type": "code",
      "source": [],
      "metadata": {
        "id": "ctaHoeX-H1Ix"
      },
      "execution_count": null,
      "outputs": []
    }
  ],
  "metadata": {
    "colab": {
      "provenance": []
    },
    "kernelspec": {
      "display_name": "Python 3 (ipykernel)",
      "language": "python",
      "name": "python3"
    },
    "language_info": {
      "codemirror_mode": {
        "name": "ipython",
        "version": 3
      },
      "file_extension": ".py",
      "mimetype": "text/x-python",
      "name": "python",
      "nbconvert_exporter": "python",
      "pygments_lexer": "ipython3",
      "version": "3.10.10"
    }
  },
  "nbformat": 4,
  "nbformat_minor": 0
}