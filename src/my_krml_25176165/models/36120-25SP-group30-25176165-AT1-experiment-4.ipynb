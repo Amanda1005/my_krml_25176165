{
  "cells": [
    {
      "cell_type": "markdown",
      "metadata": {
        "id": "uQ6wc2HE0pke"
      },
      "source": [
        "# **Experiment Notebook**\n",
        "\n"
      ]
    },
    {
      "cell_type": "code",
      "source": [
        "# Do not modify this code\n",
        "!pip install -q utstd\n",
        "\n",
        "from utstd.ipyrenders import *"
      ],
      "metadata": {
        "id": "qNOA146K2c6f"
      },
      "execution_count": 99,
      "outputs": []
    },
    {
      "cell_type": "code",
      "source": [
        "# Do not modify this code\n",
        "import warnings\n",
        "warnings.simplefilter(action='ignore')"
      ],
      "metadata": {
        "id": "6FneOmBfka9G"
      },
      "execution_count": 100,
      "outputs": []
    },
    {
      "cell_type": "markdown",
      "source": [
        "## 0. Import Packages"
      ],
      "metadata": {
        "id": "mXFKfa2tp1ch"
      }
    },
    {
      "cell_type": "code",
      "source": [
        "# <Student to fill this section>\n"
      ],
      "metadata": {
        "id": "GBEAwdncnlAx"
      },
      "execution_count": 101,
      "outputs": []
    },
    {
      "cell_type": "markdown",
      "metadata": {
        "id": "tQgxLRrvjiJb"
      },
      "source": [
        "---\n",
        "## A. Project Description\n"
      ]
    },
    {
      "cell_type": "code",
      "source": [
        "# <Student to fill this section>\n",
        "student_name = \"Nian-Ya, Weng\"\n",
        "student_id = \"25176165\"\n",
        "group_id = \"30\""
      ],
      "metadata": {
        "id": "Je1EzzfFD5hj"
      },
      "execution_count": 102,
      "outputs": []
    },
    {
      "cell_type": "code",
      "source": [
        "# Do not modify this code\n",
        "print_tile(size=\"h1\", key='student_name', value=student_name)"
      ],
      "metadata": {
        "id": "pdKiYvFWD5my",
        "colab": {
          "base_uri": "https://localhost:8080/",
          "height": 98
        },
        "outputId": "9c283704-3676-4c1e-9dc3-4a51e2b1a3b2"
      },
      "execution_count": 103,
      "outputs": [
        {
          "output_type": "display_data",
          "data": {
            "text/plain": [
              "<IPython.core.display.HTML object>"
            ],
            "text/html": [
              "<p style=\"color:grey\">student_name</p><h1 font-size: 3em>Nian-Ya, Weng</h1>"
            ]
          },
          "metadata": {}
        }
      ]
    },
    {
      "cell_type": "code",
      "source": [
        "# Do not modify this code\n",
        "print_tile(size=\"h1\", key='student_id', value=student_id)"
      ],
      "metadata": {
        "id": "9KTEbRjqD5o_",
        "colab": {
          "base_uri": "https://localhost:8080/",
          "height": 98
        },
        "outputId": "a66774e9-2ec2-49a9-b20b-52153e12f812"
      },
      "execution_count": 104,
      "outputs": [
        {
          "output_type": "display_data",
          "data": {
            "text/plain": [
              "<IPython.core.display.HTML object>"
            ],
            "text/html": [
              "<p style=\"color:grey\">student_id</p><h1 font-size: 3em>25176165</h1>"
            ]
          },
          "metadata": {}
        }
      ]
    },
    {
      "cell_type": "code",
      "source": [
        "# Do not modify this code\n",
        "print_tile(size=\"h1\", key='group_id', value=group_id)"
      ],
      "metadata": {
        "id": "UKRt4jK6rInY",
        "colab": {
          "base_uri": "https://localhost:8080/",
          "height": 98
        },
        "outputId": "49578130-aa30-4e72-e076-d8601fbad094"
      },
      "execution_count": 105,
      "outputs": [
        {
          "output_type": "display_data",
          "data": {
            "text/plain": [
              "<IPython.core.display.HTML object>"
            ],
            "text/html": [
              "<p style=\"color:grey\">group_id</p><h1 font-size: 3em>30</h1>"
            ]
          },
          "metadata": {}
        }
      ]
    },
    {
      "cell_type": "markdown",
      "source": [
        "---\n",
        "## B. Business Understanding"
      ],
      "metadata": {
        "id": "4q1Bzcejvfpm"
      }
    },
    {
      "cell_type": "code",
      "source": [
        "# <Student to fill this section>\n",
        "business_use_case_description = \"\"\"\n",
        "The goal of this project is to assist NBA teams in identifying college basketball players who are most likely to be drafted. By building a predictive model using historical player statistics, teams can make more informed scouting decisions and better allocate their resources. This tool can also support media and fan engagement platforms that predict player drafts, enhancing audience interaction and content value.\n",
        "\"\"\""
      ],
      "metadata": {
        "id": "Mmo6apC9EEv8"
      },
      "execution_count": 106,
      "outputs": []
    },
    {
      "cell_type": "code",
      "source": [
        "# Do not modify this code\n",
        "print_tile(size=\"h3\", key='business_use_case_description', value=business_use_case_description)"
      ],
      "metadata": {
        "id": "bgb0DkG2EE2e",
        "colab": {
          "base_uri": "https://localhost:8080/",
          "height": 142
        },
        "outputId": "758dbb12-927c-40f4-cc0e-c20f31b438c3"
      },
      "execution_count": 107,
      "outputs": [
        {
          "output_type": "display_data",
          "data": {
            "text/plain": [
              "<IPython.core.display.HTML object>"
            ],
            "text/html": [
              "<p style=\"color:grey\">business_use_case_description</p><h3 font-size: 3em>\n",
              "The goal of this project is to assist NBA teams in identifying college basketball players who are most likely to be drafted. By building a predictive model using historical player statistics, teams can make more informed scouting decisions and better allocate their resources. This tool can also support media and fan engagement platforms that predict player drafts, enhancing audience interaction and content value.\n",
              "</h3>"
            ]
          },
          "metadata": {}
        }
      ]
    },
    {
      "cell_type": "code",
      "source": [
        "# <Student to fill this section>\n",
        "business_objectives = \"\"\"\n",
        "Accurate predictions can significantly improve the efficiency and success of NBA teams' draft strategies by identifying high-potential players early, reducing scouting costs, and increasing the return on investment in drafted players. It can also enhance fan engagement and media analytics products by providing more reliable draft forecasts.\n",
        "\n",
        "On the other hand, incorrect predictions may lead to poor draft choices, missed opportunities to recruit strong players, wasted resources on ineffective scouting, and reduced confidence in analytics-driven decision-making within the organization.\n",
        "\"\"\""
      ],
      "metadata": {
        "id": "29Yqk3d2EE8q"
      },
      "execution_count": 108,
      "outputs": []
    },
    {
      "cell_type": "code",
      "source": [
        "# Do not modify this code\n",
        "print_tile(size=\"h3\", key='business_objectives', value=business_objectives)"
      ],
      "metadata": {
        "id": "sSu_8J96EFDs",
        "colab": {
          "base_uri": "https://localhost:8080/",
          "height": 162
        },
        "outputId": "7fdc686e-c3db-432d-8476-2abc831b4bb1"
      },
      "execution_count": 109,
      "outputs": [
        {
          "output_type": "display_data",
          "data": {
            "text/plain": [
              "<IPython.core.display.HTML object>"
            ],
            "text/html": [
              "<p style=\"color:grey\">business_objectives</p><h3 font-size: 3em>\n",
              "Accurate predictions can significantly improve the efficiency and success of NBA teams' draft strategies by identifying high-potential players early, reducing scouting costs, and increasing the return on investment in drafted players. It can also enhance fan engagement and media analytics products by providing more reliable draft forecasts.\n",
              "\n",
              "On the other hand, incorrect predictions may lead to poor draft choices, missed opportunities to recruit strong players, wasted resources on ineffective scouting, and reduced confidence in analytics-driven decision-making within the organization.\n",
              "</h3>"
            ]
          },
          "metadata": {}
        }
      ]
    },
    {
      "cell_type": "code",
      "source": [
        "# <Student to fill this section>\n",
        "stakeholders_expectations_explanations = \"\"\"\n",
        "The results of the predictions will be used to support NBA team management, scouts, and analysts in making informed draft decisions. The primary users of the predictions will be the team's data analytics departments and decision-makers involved in the player selection process.\n",
        "\n",
        "Other stakeholders impacted by the predictions include players—whose draft chances and career opportunities may be affected—, media platforms that use such data for public draft forecasts, and fans who follow and engage with draft-related content. Accurate predictions are expected to improve trust in analytics and enhance engagement across these stakeholders.\n",
        "\"\"\""
      ],
      "metadata": {
        "id": "Hf4ThY5cEF5W"
      },
      "execution_count": 110,
      "outputs": []
    },
    {
      "cell_type": "code",
      "source": [
        "# Do not modify this code\n",
        "print_tile(size=\"h3\", key='stakeholders_expectations_explanations', value=stakeholders_expectations_explanations)"
      ],
      "metadata": {
        "id": "jH9a2X70EF8M",
        "colab": {
          "base_uri": "https://localhost:8080/",
          "height": 162
        },
        "outputId": "f877b211-dff5-4c29-a14e-c7ffb25824fa"
      },
      "execution_count": 111,
      "outputs": [
        {
          "output_type": "display_data",
          "data": {
            "text/plain": [
              "<IPython.core.display.HTML object>"
            ],
            "text/html": [
              "<p style=\"color:grey\">stakeholders_expectations_explanations</p><h3 font-size: 3em>\n",
              "The results of the predictions will be used to support NBA team management, scouts, and analysts in making informed draft decisions. The primary users of the predictions will be the team's data analytics departments and decision-makers involved in the player selection process.\n",
              "\n",
              "Other stakeholders impacted by the predictions include players—whose draft chances and career opportunities may be affected—, media platforms that use such data for public draft forecasts, and fans who follow and engage with draft-related content. Accurate predictions are expected to improve trust in analytics and enhance engagement across these stakeholders.\n",
              "</h3>"
            ]
          },
          "metadata": {}
        }
      ]
    },
    {
      "cell_type": "markdown",
      "source": [
        "---\n",
        "## C. Data Understanding"
      ],
      "metadata": {
        "id": "P0zsEPshwy1K"
      }
    },
    {
      "cell_type": "markdown",
      "source": [
        "### C.1   Load Datasets\n"
      ],
      "metadata": {
        "id": "sGMWhKSbUl63"
      }
    },
    {
      "cell_type": "code",
      "source": [
        "# <Student to fill this section>\n",
        "\n",
        "import os\n",
        "import pandas as pd\n",
        "from pathlib import Path\n",
        "\n",
        "# check if you are in the Colab environment\n",
        "IN_COLAB = \"google.colab\" in str(get_ipython())\n",
        "\n",
        "# automatically set the path\n",
        "if IN_COLAB:\n",
        "    from google.colab import files\n",
        "    print(\"Colab detected. Please upload your 'train.csv' and 'test.csv' files.\")\n",
        "    uploaded = files.upload()\n",
        "    PATH_TRAIN = \"train.csv\"\n",
        "    PATH_TEST = \"test.csv\"\n",
        "else:\n",
        "    PATH_TRAIN = Path(\"data/raw/train.csv\")\n",
        "    PATH_TEST = Path(\"data/raw/test.csv\")\n",
        "\n",
        "# load data\n",
        "train = pd.read_csv(PATH_TRAIN)\n",
        "test = pd.read_csv(PATH_TEST)\n",
        "\n",
        "# show basic information\n",
        "print(\"Train shape:\", train.shape)\n",
        "print(\"Test shape:\", test.shape)\n",
        "print(\"Columns in Train:\", train.columns.tolist())\n",
        "\n",
        "# display data\n",
        "display(train.head())"
      ],
      "metadata": {
        "id": "NKgOzSn-w0eq",
        "colab": {
          "base_uri": "https://localhost:8080/",
          "height": 682
        },
        "outputId": "630b3858-7c80-48b3-fa34-a5b74cc4db26"
      },
      "execution_count": 112,
      "outputs": [
        {
          "output_type": "stream",
          "name": "stdout",
          "text": [
            "Colab detected. Please upload your 'train.csv' and 'test.csv' files.\n"
          ]
        },
        {
          "output_type": "display_data",
          "data": {
            "text/plain": [
              "<IPython.core.display.HTML object>"
            ],
            "text/html": [
              "\n",
              "     <input type=\"file\" id=\"files-ec95966e-d202-417c-b707-11e8c001aa5d\" name=\"files[]\" multiple disabled\n",
              "        style=\"border:none\" />\n",
              "     <output id=\"result-ec95966e-d202-417c-b707-11e8c001aa5d\">\n",
              "      Upload widget is only available when the cell has been executed in the\n",
              "      current browser session. Please rerun this cell to enable.\n",
              "      </output>\n",
              "      <script>// Copyright 2017 Google LLC\n",
              "//\n",
              "// Licensed under the Apache License, Version 2.0 (the \"License\");\n",
              "// you may not use this file except in compliance with the License.\n",
              "// You may obtain a copy of the License at\n",
              "//\n",
              "//      http://www.apache.org/licenses/LICENSE-2.0\n",
              "//\n",
              "// Unless required by applicable law or agreed to in writing, software\n",
              "// distributed under the License is distributed on an \"AS IS\" BASIS,\n",
              "// WITHOUT WARRANTIES OR CONDITIONS OF ANY KIND, either express or implied.\n",
              "// See the License for the specific language governing permissions and\n",
              "// limitations under the License.\n",
              "\n",
              "/**\n",
              " * @fileoverview Helpers for google.colab Python module.\n",
              " */\n",
              "(function(scope) {\n",
              "function span(text, styleAttributes = {}) {\n",
              "  const element = document.createElement('span');\n",
              "  element.textContent = text;\n",
              "  for (const key of Object.keys(styleAttributes)) {\n",
              "    element.style[key] = styleAttributes[key];\n",
              "  }\n",
              "  return element;\n",
              "}\n",
              "\n",
              "// Max number of bytes which will be uploaded at a time.\n",
              "const MAX_PAYLOAD_SIZE = 100 * 1024;\n",
              "\n",
              "function _uploadFiles(inputId, outputId) {\n",
              "  const steps = uploadFilesStep(inputId, outputId);\n",
              "  const outputElement = document.getElementById(outputId);\n",
              "  // Cache steps on the outputElement to make it available for the next call\n",
              "  // to uploadFilesContinue from Python.\n",
              "  outputElement.steps = steps;\n",
              "\n",
              "  return _uploadFilesContinue(outputId);\n",
              "}\n",
              "\n",
              "// This is roughly an async generator (not supported in the browser yet),\n",
              "// where there are multiple asynchronous steps and the Python side is going\n",
              "// to poll for completion of each step.\n",
              "// This uses a Promise to block the python side on completion of each step,\n",
              "// then passes the result of the previous step as the input to the next step.\n",
              "function _uploadFilesContinue(outputId) {\n",
              "  const outputElement = document.getElementById(outputId);\n",
              "  const steps = outputElement.steps;\n",
              "\n",
              "  const next = steps.next(outputElement.lastPromiseValue);\n",
              "  return Promise.resolve(next.value.promise).then((value) => {\n",
              "    // Cache the last promise value to make it available to the next\n",
              "    // step of the generator.\n",
              "    outputElement.lastPromiseValue = value;\n",
              "    return next.value.response;\n",
              "  });\n",
              "}\n",
              "\n",
              "/**\n",
              " * Generator function which is called between each async step of the upload\n",
              " * process.\n",
              " * @param {string} inputId Element ID of the input file picker element.\n",
              " * @param {string} outputId Element ID of the output display.\n",
              " * @return {!Iterable<!Object>} Iterable of next steps.\n",
              " */\n",
              "function* uploadFilesStep(inputId, outputId) {\n",
              "  const inputElement = document.getElementById(inputId);\n",
              "  inputElement.disabled = false;\n",
              "\n",
              "  const outputElement = document.getElementById(outputId);\n",
              "  outputElement.innerHTML = '';\n",
              "\n",
              "  const pickedPromise = new Promise((resolve) => {\n",
              "    inputElement.addEventListener('change', (e) => {\n",
              "      resolve(e.target.files);\n",
              "    });\n",
              "  });\n",
              "\n",
              "  const cancel = document.createElement('button');\n",
              "  inputElement.parentElement.appendChild(cancel);\n",
              "  cancel.textContent = 'Cancel upload';\n",
              "  const cancelPromise = new Promise((resolve) => {\n",
              "    cancel.onclick = () => {\n",
              "      resolve(null);\n",
              "    };\n",
              "  });\n",
              "\n",
              "  // Wait for the user to pick the files.\n",
              "  const files = yield {\n",
              "    promise: Promise.race([pickedPromise, cancelPromise]),\n",
              "    response: {\n",
              "      action: 'starting',\n",
              "    }\n",
              "  };\n",
              "\n",
              "  cancel.remove();\n",
              "\n",
              "  // Disable the input element since further picks are not allowed.\n",
              "  inputElement.disabled = true;\n",
              "\n",
              "  if (!files) {\n",
              "    return {\n",
              "      response: {\n",
              "        action: 'complete',\n",
              "      }\n",
              "    };\n",
              "  }\n",
              "\n",
              "  for (const file of files) {\n",
              "    const li = document.createElement('li');\n",
              "    li.append(span(file.name, {fontWeight: 'bold'}));\n",
              "    li.append(span(\n",
              "        `(${file.type || 'n/a'}) - ${file.size} bytes, ` +\n",
              "        `last modified: ${\n",
              "            file.lastModifiedDate ? file.lastModifiedDate.toLocaleDateString() :\n",
              "                                    'n/a'} - `));\n",
              "    const percent = span('0% done');\n",
              "    li.appendChild(percent);\n",
              "\n",
              "    outputElement.appendChild(li);\n",
              "\n",
              "    const fileDataPromise = new Promise((resolve) => {\n",
              "      const reader = new FileReader();\n",
              "      reader.onload = (e) => {\n",
              "        resolve(e.target.result);\n",
              "      };\n",
              "      reader.readAsArrayBuffer(file);\n",
              "    });\n",
              "    // Wait for the data to be ready.\n",
              "    let fileData = yield {\n",
              "      promise: fileDataPromise,\n",
              "      response: {\n",
              "        action: 'continue',\n",
              "      }\n",
              "    };\n",
              "\n",
              "    // Use a chunked sending to avoid message size limits. See b/62115660.\n",
              "    let position = 0;\n",
              "    do {\n",
              "      const length = Math.min(fileData.byteLength - position, MAX_PAYLOAD_SIZE);\n",
              "      const chunk = new Uint8Array(fileData, position, length);\n",
              "      position += length;\n",
              "\n",
              "      const base64 = btoa(String.fromCharCode.apply(null, chunk));\n",
              "      yield {\n",
              "        response: {\n",
              "          action: 'append',\n",
              "          file: file.name,\n",
              "          data: base64,\n",
              "        },\n",
              "      };\n",
              "\n",
              "      let percentDone = fileData.byteLength === 0 ?\n",
              "          100 :\n",
              "          Math.round((position / fileData.byteLength) * 100);\n",
              "      percent.textContent = `${percentDone}% done`;\n",
              "\n",
              "    } while (position < fileData.byteLength);\n",
              "  }\n",
              "\n",
              "  // All done.\n",
              "  yield {\n",
              "    response: {\n",
              "      action: 'complete',\n",
              "    }\n",
              "  };\n",
              "}\n",
              "\n",
              "scope.google = scope.google || {};\n",
              "scope.google.colab = scope.google.colab || {};\n",
              "scope.google.colab._files = {\n",
              "  _uploadFiles,\n",
              "  _uploadFilesContinue,\n",
              "};\n",
              "})(self);\n",
              "</script> "
            ]
          },
          "metadata": {}
        },
        {
          "output_type": "stream",
          "name": "stdout",
          "text": [
            "Saving test.csv to test (1).csv\n",
            "Saving train.csv to train (1).csv\n",
            "Train shape: (14774, 62)\n",
            "Test shape: (1297, 61)\n",
            "Columns in Train: ['team', 'conf', 'GP', 'Min_per', 'Ortg', 'usg', 'eFG', 'TS_per', 'ORB_per', 'DRB_per', 'AST_per', 'TO_per', 'FTM', 'FTA', 'FT_per', 'twoPM', 'twoPA', 'twoP_per', 'TPM', 'TPA', 'TP_per', 'blk_per', 'stl_per', 'ftr', 'yr', 'ht', 'porpag', 'adjoe', 'pfr', 'year', 'type', 'Rec_Rank', 'ast_tov', 'rimmade', 'rimmade_rimmiss', 'midmade', 'midmade_midmiss', 'rim_ratio', 'mid_ratio', 'dunksmade', 'dunksmiss_dunksmade', 'dunks_ratio', 'drtg', 'adrtg', 'dporpag', 'stops', 'bpm', 'obpm', 'dbpm', 'gbpm', 'mp', 'ogbpm', 'dgbpm', 'oreb', 'dreb', 'treb', 'ast', 'stl', 'blk', 'pts', 'player_id', 'drafted']\n"
          ]
        },
        {
          "output_type": "display_data",
          "data": {
            "text/plain": [
              "                team  conf  GP  Min_per   Ortg   usg   eFG  TS_per  ORB_per  \\\n",
              "0            Pacific    BW  26     52.6  111.8  19.3  61.8   64.93      1.1   \n",
              "1        Mississippi   SEC   2      0.8   63.6  29.6  33.3   33.33      0.0   \n",
              "2  Stephen F. Austin  Slnd   4      0.6   61.4  21.7  50.0   50.00      0.0   \n",
              "3           Virginia   ACC  28     59.2   88.2  21.7  46.2   47.25      1.5   \n",
              "4               Elon    SC  21     13.7   47.5  15.0  26.2   26.20      5.8   \n",
              "\n",
              "   DRB_per  ...    dgbpm    oreb    dreb    treb     ast     stl     blk  \\\n",
              "0      7.5  ... -1.34201  0.2308  1.5769  1.8077  2.2308  0.6538  0.0769   \n",
              "1     21.5  ... -5.42104  0.0000  1.0000  1.0000  0.0000  0.0000  0.0000   \n",
              "2      0.0  ...  6.46650  0.0000  0.0000  0.0000  0.0000  0.2500  0.0000   \n",
              "3      9.7  ...  1.45913  0.3214  2.0357  2.3571  3.0000  1.2857  0.0714   \n",
              "4      2.3  ... -3.75694  0.3810  0.1429  0.5238  0.4286  0.1905  0.0000   \n",
              "\n",
              "      pts                             player_id  drafted  \n",
              "0  9.6538  681edf6e-41cb-4fd1-ba91-da573e063fbc      0.0  \n",
              "1  2.0000  3542dcb7-19ad-47f2-8b3a-eb79eb3ec4c4      0.0  \n",
              "2  0.5000  ca0d8700-807d-4fce-a7a9-63922d1981e6      0.0  \n",
              "3  7.7500  01285c6b-bc71-4fa8-941a-28cf3976a117      0.0  \n",
              "4  0.5714  a962c41c-55ff-461e-8585-db32e4fa0580      0.0  \n",
              "\n",
              "[5 rows x 62 columns]"
            ],
            "text/html": [
              "\n",
              "  <div id=\"df-991ab3fa-95ff-4bd5-9c3f-f757cd4e53e1\" class=\"colab-df-container\">\n",
              "    <div>\n",
              "<style scoped>\n",
              "    .dataframe tbody tr th:only-of-type {\n",
              "        vertical-align: middle;\n",
              "    }\n",
              "\n",
              "    .dataframe tbody tr th {\n",
              "        vertical-align: top;\n",
              "    }\n",
              "\n",
              "    .dataframe thead th {\n",
              "        text-align: right;\n",
              "    }\n",
              "</style>\n",
              "<table border=\"1\" class=\"dataframe\">\n",
              "  <thead>\n",
              "    <tr style=\"text-align: right;\">\n",
              "      <th></th>\n",
              "      <th>team</th>\n",
              "      <th>conf</th>\n",
              "      <th>GP</th>\n",
              "      <th>Min_per</th>\n",
              "      <th>Ortg</th>\n",
              "      <th>usg</th>\n",
              "      <th>eFG</th>\n",
              "      <th>TS_per</th>\n",
              "      <th>ORB_per</th>\n",
              "      <th>DRB_per</th>\n",
              "      <th>...</th>\n",
              "      <th>dgbpm</th>\n",
              "      <th>oreb</th>\n",
              "      <th>dreb</th>\n",
              "      <th>treb</th>\n",
              "      <th>ast</th>\n",
              "      <th>stl</th>\n",
              "      <th>blk</th>\n",
              "      <th>pts</th>\n",
              "      <th>player_id</th>\n",
              "      <th>drafted</th>\n",
              "    </tr>\n",
              "  </thead>\n",
              "  <tbody>\n",
              "    <tr>\n",
              "      <th>0</th>\n",
              "      <td>Pacific</td>\n",
              "      <td>BW</td>\n",
              "      <td>26</td>\n",
              "      <td>52.6</td>\n",
              "      <td>111.8</td>\n",
              "      <td>19.3</td>\n",
              "      <td>61.8</td>\n",
              "      <td>64.93</td>\n",
              "      <td>1.1</td>\n",
              "      <td>7.5</td>\n",
              "      <td>...</td>\n",
              "      <td>-1.34201</td>\n",
              "      <td>0.2308</td>\n",
              "      <td>1.5769</td>\n",
              "      <td>1.8077</td>\n",
              "      <td>2.2308</td>\n",
              "      <td>0.6538</td>\n",
              "      <td>0.0769</td>\n",
              "      <td>9.6538</td>\n",
              "      <td>681edf6e-41cb-4fd1-ba91-da573e063fbc</td>\n",
              "      <td>0.0</td>\n",
              "    </tr>\n",
              "    <tr>\n",
              "      <th>1</th>\n",
              "      <td>Mississippi</td>\n",
              "      <td>SEC</td>\n",
              "      <td>2</td>\n",
              "      <td>0.8</td>\n",
              "      <td>63.6</td>\n",
              "      <td>29.6</td>\n",
              "      <td>33.3</td>\n",
              "      <td>33.33</td>\n",
              "      <td>0.0</td>\n",
              "      <td>21.5</td>\n",
              "      <td>...</td>\n",
              "      <td>-5.42104</td>\n",
              "      <td>0.0000</td>\n",
              "      <td>1.0000</td>\n",
              "      <td>1.0000</td>\n",
              "      <td>0.0000</td>\n",
              "      <td>0.0000</td>\n",
              "      <td>0.0000</td>\n",
              "      <td>2.0000</td>\n",
              "      <td>3542dcb7-19ad-47f2-8b3a-eb79eb3ec4c4</td>\n",
              "      <td>0.0</td>\n",
              "    </tr>\n",
              "    <tr>\n",
              "      <th>2</th>\n",
              "      <td>Stephen F. Austin</td>\n",
              "      <td>Slnd</td>\n",
              "      <td>4</td>\n",
              "      <td>0.6</td>\n",
              "      <td>61.4</td>\n",
              "      <td>21.7</td>\n",
              "      <td>50.0</td>\n",
              "      <td>50.00</td>\n",
              "      <td>0.0</td>\n",
              "      <td>0.0</td>\n",
              "      <td>...</td>\n",
              "      <td>6.46650</td>\n",
              "      <td>0.0000</td>\n",
              "      <td>0.0000</td>\n",
              "      <td>0.0000</td>\n",
              "      <td>0.0000</td>\n",
              "      <td>0.2500</td>\n",
              "      <td>0.0000</td>\n",
              "      <td>0.5000</td>\n",
              "      <td>ca0d8700-807d-4fce-a7a9-63922d1981e6</td>\n",
              "      <td>0.0</td>\n",
              "    </tr>\n",
              "    <tr>\n",
              "      <th>3</th>\n",
              "      <td>Virginia</td>\n",
              "      <td>ACC</td>\n",
              "      <td>28</td>\n",
              "      <td>59.2</td>\n",
              "      <td>88.2</td>\n",
              "      <td>21.7</td>\n",
              "      <td>46.2</td>\n",
              "      <td>47.25</td>\n",
              "      <td>1.5</td>\n",
              "      <td>9.7</td>\n",
              "      <td>...</td>\n",
              "      <td>1.45913</td>\n",
              "      <td>0.3214</td>\n",
              "      <td>2.0357</td>\n",
              "      <td>2.3571</td>\n",
              "      <td>3.0000</td>\n",
              "      <td>1.2857</td>\n",
              "      <td>0.0714</td>\n",
              "      <td>7.7500</td>\n",
              "      <td>01285c6b-bc71-4fa8-941a-28cf3976a117</td>\n",
              "      <td>0.0</td>\n",
              "    </tr>\n",
              "    <tr>\n",
              "      <th>4</th>\n",
              "      <td>Elon</td>\n",
              "      <td>SC</td>\n",
              "      <td>21</td>\n",
              "      <td>13.7</td>\n",
              "      <td>47.5</td>\n",
              "      <td>15.0</td>\n",
              "      <td>26.2</td>\n",
              "      <td>26.20</td>\n",
              "      <td>5.8</td>\n",
              "      <td>2.3</td>\n",
              "      <td>...</td>\n",
              "      <td>-3.75694</td>\n",
              "      <td>0.3810</td>\n",
              "      <td>0.1429</td>\n",
              "      <td>0.5238</td>\n",
              "      <td>0.4286</td>\n",
              "      <td>0.1905</td>\n",
              "      <td>0.0000</td>\n",
              "      <td>0.5714</td>\n",
              "      <td>a962c41c-55ff-461e-8585-db32e4fa0580</td>\n",
              "      <td>0.0</td>\n",
              "    </tr>\n",
              "  </tbody>\n",
              "</table>\n",
              "<p>5 rows × 62 columns</p>\n",
              "</div>\n",
              "    <div class=\"colab-df-buttons\">\n",
              "\n",
              "  <div class=\"colab-df-container\">\n",
              "    <button class=\"colab-df-convert\" onclick=\"convertToInteractive('df-991ab3fa-95ff-4bd5-9c3f-f757cd4e53e1')\"\n",
              "            title=\"Convert this dataframe to an interactive table.\"\n",
              "            style=\"display:none;\">\n",
              "\n",
              "  <svg xmlns=\"http://www.w3.org/2000/svg\" height=\"24px\" viewBox=\"0 -960 960 960\">\n",
              "    <path d=\"M120-120v-720h720v720H120Zm60-500h600v-160H180v160Zm220 220h160v-160H400v160Zm0 220h160v-160H400v160ZM180-400h160v-160H180v160Zm440 0h160v-160H620v160ZM180-180h160v-160H180v160Zm440 0h160v-160H620v160Z\"/>\n",
              "  </svg>\n",
              "    </button>\n",
              "\n",
              "  <style>\n",
              "    .colab-df-container {\n",
              "      display:flex;\n",
              "      gap: 12px;\n",
              "    }\n",
              "\n",
              "    .colab-df-convert {\n",
              "      background-color: #E8F0FE;\n",
              "      border: none;\n",
              "      border-radius: 50%;\n",
              "      cursor: pointer;\n",
              "      display: none;\n",
              "      fill: #1967D2;\n",
              "      height: 32px;\n",
              "      padding: 0 0 0 0;\n",
              "      width: 32px;\n",
              "    }\n",
              "\n",
              "    .colab-df-convert:hover {\n",
              "      background-color: #E2EBFA;\n",
              "      box-shadow: 0px 1px 2px rgba(60, 64, 67, 0.3), 0px 1px 3px 1px rgba(60, 64, 67, 0.15);\n",
              "      fill: #174EA6;\n",
              "    }\n",
              "\n",
              "    .colab-df-buttons div {\n",
              "      margin-bottom: 4px;\n",
              "    }\n",
              "\n",
              "    [theme=dark] .colab-df-convert {\n",
              "      background-color: #3B4455;\n",
              "      fill: #D2E3FC;\n",
              "    }\n",
              "\n",
              "    [theme=dark] .colab-df-convert:hover {\n",
              "      background-color: #434B5C;\n",
              "      box-shadow: 0px 1px 3px 1px rgba(0, 0, 0, 0.15);\n",
              "      filter: drop-shadow(0px 1px 2px rgba(0, 0, 0, 0.3));\n",
              "      fill: #FFFFFF;\n",
              "    }\n",
              "  </style>\n",
              "\n",
              "    <script>\n",
              "      const buttonEl =\n",
              "        document.querySelector('#df-991ab3fa-95ff-4bd5-9c3f-f757cd4e53e1 button.colab-df-convert');\n",
              "      buttonEl.style.display =\n",
              "        google.colab.kernel.accessAllowed ? 'block' : 'none';\n",
              "\n",
              "      async function convertToInteractive(key) {\n",
              "        const element = document.querySelector('#df-991ab3fa-95ff-4bd5-9c3f-f757cd4e53e1');\n",
              "        const dataTable =\n",
              "          await google.colab.kernel.invokeFunction('convertToInteractive',\n",
              "                                                    [key], {});\n",
              "        if (!dataTable) return;\n",
              "\n",
              "        const docLinkHtml = 'Like what you see? Visit the ' +\n",
              "          '<a target=\"_blank\" href=https://colab.research.google.com/notebooks/data_table.ipynb>data table notebook</a>'\n",
              "          + ' to learn more about interactive tables.';\n",
              "        element.innerHTML = '';\n",
              "        dataTable['output_type'] = 'display_data';\n",
              "        await google.colab.output.renderOutput(dataTable, element);\n",
              "        const docLink = document.createElement('div');\n",
              "        docLink.innerHTML = docLinkHtml;\n",
              "        element.appendChild(docLink);\n",
              "      }\n",
              "    </script>\n",
              "  </div>\n",
              "\n",
              "\n",
              "    <div id=\"df-5cb23d82-a25a-4089-b49a-083ba94be276\">\n",
              "      <button class=\"colab-df-quickchart\" onclick=\"quickchart('df-5cb23d82-a25a-4089-b49a-083ba94be276')\"\n",
              "                title=\"Suggest charts\"\n",
              "                style=\"display:none;\">\n",
              "\n",
              "<svg xmlns=\"http://www.w3.org/2000/svg\" height=\"24px\"viewBox=\"0 0 24 24\"\n",
              "     width=\"24px\">\n",
              "    <g>\n",
              "        <path d=\"M19 3H5c-1.1 0-2 .9-2 2v14c0 1.1.9 2 2 2h14c1.1 0 2-.9 2-2V5c0-1.1-.9-2-2-2zM9 17H7v-7h2v7zm4 0h-2V7h2v10zm4 0h-2v-4h2v4z\"/>\n",
              "    </g>\n",
              "</svg>\n",
              "      </button>\n",
              "\n",
              "<style>\n",
              "  .colab-df-quickchart {\n",
              "      --bg-color: #E8F0FE;\n",
              "      --fill-color: #1967D2;\n",
              "      --hover-bg-color: #E2EBFA;\n",
              "      --hover-fill-color: #174EA6;\n",
              "      --disabled-fill-color: #AAA;\n",
              "      --disabled-bg-color: #DDD;\n",
              "  }\n",
              "\n",
              "  [theme=dark] .colab-df-quickchart {\n",
              "      --bg-color: #3B4455;\n",
              "      --fill-color: #D2E3FC;\n",
              "      --hover-bg-color: #434B5C;\n",
              "      --hover-fill-color: #FFFFFF;\n",
              "      --disabled-bg-color: #3B4455;\n",
              "      --disabled-fill-color: #666;\n",
              "  }\n",
              "\n",
              "  .colab-df-quickchart {\n",
              "    background-color: var(--bg-color);\n",
              "    border: none;\n",
              "    border-radius: 50%;\n",
              "    cursor: pointer;\n",
              "    display: none;\n",
              "    fill: var(--fill-color);\n",
              "    height: 32px;\n",
              "    padding: 0;\n",
              "    width: 32px;\n",
              "  }\n",
              "\n",
              "  .colab-df-quickchart:hover {\n",
              "    background-color: var(--hover-bg-color);\n",
              "    box-shadow: 0 1px 2px rgba(60, 64, 67, 0.3), 0 1px 3px 1px rgba(60, 64, 67, 0.15);\n",
              "    fill: var(--button-hover-fill-color);\n",
              "  }\n",
              "\n",
              "  .colab-df-quickchart-complete:disabled,\n",
              "  .colab-df-quickchart-complete:disabled:hover {\n",
              "    background-color: var(--disabled-bg-color);\n",
              "    fill: var(--disabled-fill-color);\n",
              "    box-shadow: none;\n",
              "  }\n",
              "\n",
              "  .colab-df-spinner {\n",
              "    border: 2px solid var(--fill-color);\n",
              "    border-color: transparent;\n",
              "    border-bottom-color: var(--fill-color);\n",
              "    animation:\n",
              "      spin 1s steps(1) infinite;\n",
              "  }\n",
              "\n",
              "  @keyframes spin {\n",
              "    0% {\n",
              "      border-color: transparent;\n",
              "      border-bottom-color: var(--fill-color);\n",
              "      border-left-color: var(--fill-color);\n",
              "    }\n",
              "    20% {\n",
              "      border-color: transparent;\n",
              "      border-left-color: var(--fill-color);\n",
              "      border-top-color: var(--fill-color);\n",
              "    }\n",
              "    30% {\n",
              "      border-color: transparent;\n",
              "      border-left-color: var(--fill-color);\n",
              "      border-top-color: var(--fill-color);\n",
              "      border-right-color: var(--fill-color);\n",
              "    }\n",
              "    40% {\n",
              "      border-color: transparent;\n",
              "      border-right-color: var(--fill-color);\n",
              "      border-top-color: var(--fill-color);\n",
              "    }\n",
              "    60% {\n",
              "      border-color: transparent;\n",
              "      border-right-color: var(--fill-color);\n",
              "    }\n",
              "    80% {\n",
              "      border-color: transparent;\n",
              "      border-right-color: var(--fill-color);\n",
              "      border-bottom-color: var(--fill-color);\n",
              "    }\n",
              "    90% {\n",
              "      border-color: transparent;\n",
              "      border-bottom-color: var(--fill-color);\n",
              "    }\n",
              "  }\n",
              "</style>\n",
              "\n",
              "      <script>\n",
              "        async function quickchart(key) {\n",
              "          const quickchartButtonEl =\n",
              "            document.querySelector('#' + key + ' button');\n",
              "          quickchartButtonEl.disabled = true;  // To prevent multiple clicks.\n",
              "          quickchartButtonEl.classList.add('colab-df-spinner');\n",
              "          try {\n",
              "            const charts = await google.colab.kernel.invokeFunction(\n",
              "                'suggestCharts', [key], {});\n",
              "          } catch (error) {\n",
              "            console.error('Error during call to suggestCharts:', error);\n",
              "          }\n",
              "          quickchartButtonEl.classList.remove('colab-df-spinner');\n",
              "          quickchartButtonEl.classList.add('colab-df-quickchart-complete');\n",
              "        }\n",
              "        (() => {\n",
              "          let quickchartButtonEl =\n",
              "            document.querySelector('#df-5cb23d82-a25a-4089-b49a-083ba94be276 button');\n",
              "          quickchartButtonEl.style.display =\n",
              "            google.colab.kernel.accessAllowed ? 'block' : 'none';\n",
              "        })();\n",
              "      </script>\n",
              "    </div>\n",
              "\n",
              "    </div>\n",
              "  </div>\n"
            ],
            "application/vnd.google.colaboratory.intrinsic+json": {
              "type": "dataframe"
            }
          },
          "metadata": {}
        }
      ]
    },
    {
      "cell_type": "code",
      "source": [
        "# Check the number of missing values\n",
        "\n",
        "missing_train = train.isnull().sum()\n",
        "missing_test = test.isnull().sum()\n",
        "\n",
        "# Show columns with missing values\n",
        "print(\"Train missing fields\")\n",
        "display(missing_train[missing_train > 0])\n",
        "\n",
        "print(\"Test missing fields\")\n",
        "display(missing_test[missing_test > 0])"
      ],
      "metadata": {
        "colab": {
          "base_uri": "https://localhost:8080/",
          "height": 1000
        },
        "id": "1Zu0WNJZnwZ0",
        "outputId": "b3a5efb5-cad7-462f-e38c-5cae76ab4f46"
      },
      "execution_count": 113,
      "outputs": [
        {
          "output_type": "stream",
          "name": "stdout",
          "text": [
            "Train missing fields\n"
          ]
        },
        {
          "output_type": "display_data",
          "data": {
            "text/plain": [
              "ht                        8\n",
              "Rec_Rank               9885\n",
              "ast_tov                1535\n",
              "rimmade                2075\n",
              "rimmade_rimmiss        2075\n",
              "midmade                2075\n",
              "midmade_midmiss        2075\n",
              "rim_ratio              3203\n",
              "mid_ratio              3191\n",
              "dunksmade              2075\n",
              "dunksmiss_dunksmade    2075\n",
              "dunks_ratio            9388\n",
              "drtg                      5\n",
              "adrtg                     5\n",
              "dporpag                   5\n",
              "stops                     5\n",
              "bpm                       5\n",
              "obpm                      5\n",
              "dbpm                      5\n",
              "gbpm                      5\n",
              "mp                        1\n",
              "ogbpm                     5\n",
              "dgbpm                     5\n",
              "oreb                      1\n",
              "dreb                      1\n",
              "treb                      1\n",
              "ast                       1\n",
              "stl                       1\n",
              "blk                       1\n",
              "pts                       1\n",
              "dtype: int64"
            ],
            "text/html": [
              "<div>\n",
              "<style scoped>\n",
              "    .dataframe tbody tr th:only-of-type {\n",
              "        vertical-align: middle;\n",
              "    }\n",
              "\n",
              "    .dataframe tbody tr th {\n",
              "        vertical-align: top;\n",
              "    }\n",
              "\n",
              "    .dataframe thead th {\n",
              "        text-align: right;\n",
              "    }\n",
              "</style>\n",
              "<table border=\"1\" class=\"dataframe\">\n",
              "  <thead>\n",
              "    <tr style=\"text-align: right;\">\n",
              "      <th></th>\n",
              "      <th>0</th>\n",
              "    </tr>\n",
              "  </thead>\n",
              "  <tbody>\n",
              "    <tr>\n",
              "      <th>ht</th>\n",
              "      <td>8</td>\n",
              "    </tr>\n",
              "    <tr>\n",
              "      <th>Rec_Rank</th>\n",
              "      <td>9885</td>\n",
              "    </tr>\n",
              "    <tr>\n",
              "      <th>ast_tov</th>\n",
              "      <td>1535</td>\n",
              "    </tr>\n",
              "    <tr>\n",
              "      <th>rimmade</th>\n",
              "      <td>2075</td>\n",
              "    </tr>\n",
              "    <tr>\n",
              "      <th>rimmade_rimmiss</th>\n",
              "      <td>2075</td>\n",
              "    </tr>\n",
              "    <tr>\n",
              "      <th>midmade</th>\n",
              "      <td>2075</td>\n",
              "    </tr>\n",
              "    <tr>\n",
              "      <th>midmade_midmiss</th>\n",
              "      <td>2075</td>\n",
              "    </tr>\n",
              "    <tr>\n",
              "      <th>rim_ratio</th>\n",
              "      <td>3203</td>\n",
              "    </tr>\n",
              "    <tr>\n",
              "      <th>mid_ratio</th>\n",
              "      <td>3191</td>\n",
              "    </tr>\n",
              "    <tr>\n",
              "      <th>dunksmade</th>\n",
              "      <td>2075</td>\n",
              "    </tr>\n",
              "    <tr>\n",
              "      <th>dunksmiss_dunksmade</th>\n",
              "      <td>2075</td>\n",
              "    </tr>\n",
              "    <tr>\n",
              "      <th>dunks_ratio</th>\n",
              "      <td>9388</td>\n",
              "    </tr>\n",
              "    <tr>\n",
              "      <th>drtg</th>\n",
              "      <td>5</td>\n",
              "    </tr>\n",
              "    <tr>\n",
              "      <th>adrtg</th>\n",
              "      <td>5</td>\n",
              "    </tr>\n",
              "    <tr>\n",
              "      <th>dporpag</th>\n",
              "      <td>5</td>\n",
              "    </tr>\n",
              "    <tr>\n",
              "      <th>stops</th>\n",
              "      <td>5</td>\n",
              "    </tr>\n",
              "    <tr>\n",
              "      <th>bpm</th>\n",
              "      <td>5</td>\n",
              "    </tr>\n",
              "    <tr>\n",
              "      <th>obpm</th>\n",
              "      <td>5</td>\n",
              "    </tr>\n",
              "    <tr>\n",
              "      <th>dbpm</th>\n",
              "      <td>5</td>\n",
              "    </tr>\n",
              "    <tr>\n",
              "      <th>gbpm</th>\n",
              "      <td>5</td>\n",
              "    </tr>\n",
              "    <tr>\n",
              "      <th>mp</th>\n",
              "      <td>1</td>\n",
              "    </tr>\n",
              "    <tr>\n",
              "      <th>ogbpm</th>\n",
              "      <td>5</td>\n",
              "    </tr>\n",
              "    <tr>\n",
              "      <th>dgbpm</th>\n",
              "      <td>5</td>\n",
              "    </tr>\n",
              "    <tr>\n",
              "      <th>oreb</th>\n",
              "      <td>1</td>\n",
              "    </tr>\n",
              "    <tr>\n",
              "      <th>dreb</th>\n",
              "      <td>1</td>\n",
              "    </tr>\n",
              "    <tr>\n",
              "      <th>treb</th>\n",
              "      <td>1</td>\n",
              "    </tr>\n",
              "    <tr>\n",
              "      <th>ast</th>\n",
              "      <td>1</td>\n",
              "    </tr>\n",
              "    <tr>\n",
              "      <th>stl</th>\n",
              "      <td>1</td>\n",
              "    </tr>\n",
              "    <tr>\n",
              "      <th>blk</th>\n",
              "      <td>1</td>\n",
              "    </tr>\n",
              "    <tr>\n",
              "      <th>pts</th>\n",
              "      <td>1</td>\n",
              "    </tr>\n",
              "  </tbody>\n",
              "</table>\n",
              "</div><br><label><b>dtype:</b> int64</label>"
            ]
          },
          "metadata": {}
        },
        {
          "output_type": "stream",
          "name": "stdout",
          "text": [
            "Test missing fields\n"
          ]
        },
        {
          "output_type": "display_data",
          "data": {
            "text/plain": [
              "ht                       6\n",
              "Rec_Rank               894\n",
              "ast_tov                125\n",
              "rimmade                 61\n",
              "rimmade_rimmiss         61\n",
              "midmade                 61\n",
              "midmade_midmiss         61\n",
              "rim_ratio              178\n",
              "mid_ratio              196\n",
              "dunksmade               61\n",
              "dunksmiss_dunksmade     61\n",
              "dunks_ratio            738\n",
              "dtype: int64"
            ],
            "text/html": [
              "<div>\n",
              "<style scoped>\n",
              "    .dataframe tbody tr th:only-of-type {\n",
              "        vertical-align: middle;\n",
              "    }\n",
              "\n",
              "    .dataframe tbody tr th {\n",
              "        vertical-align: top;\n",
              "    }\n",
              "\n",
              "    .dataframe thead th {\n",
              "        text-align: right;\n",
              "    }\n",
              "</style>\n",
              "<table border=\"1\" class=\"dataframe\">\n",
              "  <thead>\n",
              "    <tr style=\"text-align: right;\">\n",
              "      <th></th>\n",
              "      <th>0</th>\n",
              "    </tr>\n",
              "  </thead>\n",
              "  <tbody>\n",
              "    <tr>\n",
              "      <th>ht</th>\n",
              "      <td>6</td>\n",
              "    </tr>\n",
              "    <tr>\n",
              "      <th>Rec_Rank</th>\n",
              "      <td>894</td>\n",
              "    </tr>\n",
              "    <tr>\n",
              "      <th>ast_tov</th>\n",
              "      <td>125</td>\n",
              "    </tr>\n",
              "    <tr>\n",
              "      <th>rimmade</th>\n",
              "      <td>61</td>\n",
              "    </tr>\n",
              "    <tr>\n",
              "      <th>rimmade_rimmiss</th>\n",
              "      <td>61</td>\n",
              "    </tr>\n",
              "    <tr>\n",
              "      <th>midmade</th>\n",
              "      <td>61</td>\n",
              "    </tr>\n",
              "    <tr>\n",
              "      <th>midmade_midmiss</th>\n",
              "      <td>61</td>\n",
              "    </tr>\n",
              "    <tr>\n",
              "      <th>rim_ratio</th>\n",
              "      <td>178</td>\n",
              "    </tr>\n",
              "    <tr>\n",
              "      <th>mid_ratio</th>\n",
              "      <td>196</td>\n",
              "    </tr>\n",
              "    <tr>\n",
              "      <th>dunksmade</th>\n",
              "      <td>61</td>\n",
              "    </tr>\n",
              "    <tr>\n",
              "      <th>dunksmiss_dunksmade</th>\n",
              "      <td>61</td>\n",
              "    </tr>\n",
              "    <tr>\n",
              "      <th>dunks_ratio</th>\n",
              "      <td>738</td>\n",
              "    </tr>\n",
              "  </tbody>\n",
              "</table>\n",
              "</div><br><label><b>dtype:</b> int64</label>"
            ]
          },
          "metadata": {}
        }
      ]
    },
    {
      "cell_type": "code",
      "source": [
        "import numpy as np\n",
        "\n",
        "# Delete fields with too high a missing value ratio (cannot be filled)\n",
        "cols_to_drop = ['Rec_Rank', 'dunks_ratio', 'ht']\n",
        "train = train.drop(columns=cols_to_drop, errors='ignore')\n",
        "test = test.drop(columns=cols_to_drop, errors='ignore')\n",
        "\n",
        "# These fields are filled with median values\n",
        "num_impute_cols = [\n",
        "    'ast_tov', 'rimmade', 'rimmade_rimmiss', 'midmade', 'midmade_midmiss',\n",
        "    'rim_ratio', 'mid_ratio', 'dunksmade', 'dunksmiss_dunksmade'\n",
        "]\n",
        "\n",
        "for col in num_impute_cols:\n",
        "    if col in train.columns:\n",
        "        train[col] = train[col].fillna(train[col].median())\n",
        "    if col in test.columns:\n",
        "        test[col] = test[col].fillna(test[col].median())"
      ],
      "metadata": {
        "id": "PHu04ZHkn1_w"
      },
      "execution_count": 114,
      "outputs": []
    },
    {
      "cell_type": "code",
      "source": [
        "print(\"Train Missing Value Statistics (only non-zero will be shown)\")\n",
        "display(train.isnull().sum()[train.isnull().sum() > 0])\n",
        "\n",
        "print(\"Test Missing Value Statistics (only non-zero will be shown)\")\n",
        "display(test.isnull().sum()[test.isnull().sum() > 0])\n",
        "\n",
        "print(\"'ht' in train:\", 'ht' in train.columns)\n",
        "print(\"'Rec_Rank' in train:\", 'Rec_Rank' in train.columns)\n",
        "print(\"'dunks_ratio' in train:\", 'dunks_ratio' in train.columns)\n",
        "\n",
        "train[['ast_tov', 'rim_ratio', 'mid_ratio']].describe()"
      ],
      "metadata": {
        "colab": {
          "base_uri": "https://localhost:8080/",
          "height": 1000
        },
        "id": "dBGKr9vgn2y8",
        "outputId": "71a1f91c-a419-4621-a3d1-cdc347b5cdc2"
      },
      "execution_count": 115,
      "outputs": [
        {
          "output_type": "stream",
          "name": "stdout",
          "text": [
            "Train Missing Value Statistics (only non-zero will be shown)\n"
          ]
        },
        {
          "output_type": "display_data",
          "data": {
            "text/plain": [
              "drtg       5\n",
              "adrtg      5\n",
              "dporpag    5\n",
              "stops      5\n",
              "bpm        5\n",
              "obpm       5\n",
              "dbpm       5\n",
              "gbpm       5\n",
              "mp         1\n",
              "ogbpm      5\n",
              "dgbpm      5\n",
              "oreb       1\n",
              "dreb       1\n",
              "treb       1\n",
              "ast        1\n",
              "stl        1\n",
              "blk        1\n",
              "pts        1\n",
              "dtype: int64"
            ],
            "text/html": [
              "<div>\n",
              "<style scoped>\n",
              "    .dataframe tbody tr th:only-of-type {\n",
              "        vertical-align: middle;\n",
              "    }\n",
              "\n",
              "    .dataframe tbody tr th {\n",
              "        vertical-align: top;\n",
              "    }\n",
              "\n",
              "    .dataframe thead th {\n",
              "        text-align: right;\n",
              "    }\n",
              "</style>\n",
              "<table border=\"1\" class=\"dataframe\">\n",
              "  <thead>\n",
              "    <tr style=\"text-align: right;\">\n",
              "      <th></th>\n",
              "      <th>0</th>\n",
              "    </tr>\n",
              "  </thead>\n",
              "  <tbody>\n",
              "    <tr>\n",
              "      <th>drtg</th>\n",
              "      <td>5</td>\n",
              "    </tr>\n",
              "    <tr>\n",
              "      <th>adrtg</th>\n",
              "      <td>5</td>\n",
              "    </tr>\n",
              "    <tr>\n",
              "      <th>dporpag</th>\n",
              "      <td>5</td>\n",
              "    </tr>\n",
              "    <tr>\n",
              "      <th>stops</th>\n",
              "      <td>5</td>\n",
              "    </tr>\n",
              "    <tr>\n",
              "      <th>bpm</th>\n",
              "      <td>5</td>\n",
              "    </tr>\n",
              "    <tr>\n",
              "      <th>obpm</th>\n",
              "      <td>5</td>\n",
              "    </tr>\n",
              "    <tr>\n",
              "      <th>dbpm</th>\n",
              "      <td>5</td>\n",
              "    </tr>\n",
              "    <tr>\n",
              "      <th>gbpm</th>\n",
              "      <td>5</td>\n",
              "    </tr>\n",
              "    <tr>\n",
              "      <th>mp</th>\n",
              "      <td>1</td>\n",
              "    </tr>\n",
              "    <tr>\n",
              "      <th>ogbpm</th>\n",
              "      <td>5</td>\n",
              "    </tr>\n",
              "    <tr>\n",
              "      <th>dgbpm</th>\n",
              "      <td>5</td>\n",
              "    </tr>\n",
              "    <tr>\n",
              "      <th>oreb</th>\n",
              "      <td>1</td>\n",
              "    </tr>\n",
              "    <tr>\n",
              "      <th>dreb</th>\n",
              "      <td>1</td>\n",
              "    </tr>\n",
              "    <tr>\n",
              "      <th>treb</th>\n",
              "      <td>1</td>\n",
              "    </tr>\n",
              "    <tr>\n",
              "      <th>ast</th>\n",
              "      <td>1</td>\n",
              "    </tr>\n",
              "    <tr>\n",
              "      <th>stl</th>\n",
              "      <td>1</td>\n",
              "    </tr>\n",
              "    <tr>\n",
              "      <th>blk</th>\n",
              "      <td>1</td>\n",
              "    </tr>\n",
              "    <tr>\n",
              "      <th>pts</th>\n",
              "      <td>1</td>\n",
              "    </tr>\n",
              "  </tbody>\n",
              "</table>\n",
              "</div><br><label><b>dtype:</b> int64</label>"
            ]
          },
          "metadata": {}
        },
        {
          "output_type": "stream",
          "name": "stdout",
          "text": [
            "Test Missing Value Statistics (only non-zero will be shown)\n"
          ]
        },
        {
          "output_type": "display_data",
          "data": {
            "text/plain": [
              "Series([], dtype: int64)"
            ],
            "text/html": [
              "<div>\n",
              "<style scoped>\n",
              "    .dataframe tbody tr th:only-of-type {\n",
              "        vertical-align: middle;\n",
              "    }\n",
              "\n",
              "    .dataframe tbody tr th {\n",
              "        vertical-align: top;\n",
              "    }\n",
              "\n",
              "    .dataframe thead th {\n",
              "        text-align: right;\n",
              "    }\n",
              "</style>\n",
              "<table border=\"1\" class=\"dataframe\">\n",
              "  <thead>\n",
              "    <tr style=\"text-align: right;\">\n",
              "      <th></th>\n",
              "      <th>0</th>\n",
              "    </tr>\n",
              "  </thead>\n",
              "  <tbody>\n",
              "  </tbody>\n",
              "</table>\n",
              "</div><br><label><b>dtype:</b> int64</label>"
            ]
          },
          "metadata": {}
        },
        {
          "output_type": "stream",
          "name": "stdout",
          "text": [
            "'ht' in train: False\n",
            "'Rec_Rank' in train: False\n",
            "'dunks_ratio' in train: False\n"
          ]
        },
        {
          "output_type": "execute_result",
          "data": {
            "text/plain": [
              "            ast_tov     rim_ratio     mid_ratio\n",
              "count  14774.000000  14774.000000  14774.000000\n",
              "mean       0.816108      0.545881      0.305822\n",
              "std        0.638141      0.190989      0.170348\n",
              "min        0.000000      0.000000      0.000000\n",
              "25%        0.407446      0.500000      0.250000\n",
              "50%        0.714322      0.558600      0.315800\n",
              "75%        1.066650      0.626900      0.366700\n",
              "max       10.000000      1.000000      1.000000"
            ],
            "text/html": [
              "\n",
              "  <div id=\"df-2cbebdc8-334a-48fa-b34d-6aab27e16985\" class=\"colab-df-container\">\n",
              "    <div>\n",
              "<style scoped>\n",
              "    .dataframe tbody tr th:only-of-type {\n",
              "        vertical-align: middle;\n",
              "    }\n",
              "\n",
              "    .dataframe tbody tr th {\n",
              "        vertical-align: top;\n",
              "    }\n",
              "\n",
              "    .dataframe thead th {\n",
              "        text-align: right;\n",
              "    }\n",
              "</style>\n",
              "<table border=\"1\" class=\"dataframe\">\n",
              "  <thead>\n",
              "    <tr style=\"text-align: right;\">\n",
              "      <th></th>\n",
              "      <th>ast_tov</th>\n",
              "      <th>rim_ratio</th>\n",
              "      <th>mid_ratio</th>\n",
              "    </tr>\n",
              "  </thead>\n",
              "  <tbody>\n",
              "    <tr>\n",
              "      <th>count</th>\n",
              "      <td>14774.000000</td>\n",
              "      <td>14774.000000</td>\n",
              "      <td>14774.000000</td>\n",
              "    </tr>\n",
              "    <tr>\n",
              "      <th>mean</th>\n",
              "      <td>0.816108</td>\n",
              "      <td>0.545881</td>\n",
              "      <td>0.305822</td>\n",
              "    </tr>\n",
              "    <tr>\n",
              "      <th>std</th>\n",
              "      <td>0.638141</td>\n",
              "      <td>0.190989</td>\n",
              "      <td>0.170348</td>\n",
              "    </tr>\n",
              "    <tr>\n",
              "      <th>min</th>\n",
              "      <td>0.000000</td>\n",
              "      <td>0.000000</td>\n",
              "      <td>0.000000</td>\n",
              "    </tr>\n",
              "    <tr>\n",
              "      <th>25%</th>\n",
              "      <td>0.407446</td>\n",
              "      <td>0.500000</td>\n",
              "      <td>0.250000</td>\n",
              "    </tr>\n",
              "    <tr>\n",
              "      <th>50%</th>\n",
              "      <td>0.714322</td>\n",
              "      <td>0.558600</td>\n",
              "      <td>0.315800</td>\n",
              "    </tr>\n",
              "    <tr>\n",
              "      <th>75%</th>\n",
              "      <td>1.066650</td>\n",
              "      <td>0.626900</td>\n",
              "      <td>0.366700</td>\n",
              "    </tr>\n",
              "    <tr>\n",
              "      <th>max</th>\n",
              "      <td>10.000000</td>\n",
              "      <td>1.000000</td>\n",
              "      <td>1.000000</td>\n",
              "    </tr>\n",
              "  </tbody>\n",
              "</table>\n",
              "</div>\n",
              "    <div class=\"colab-df-buttons\">\n",
              "\n",
              "  <div class=\"colab-df-container\">\n",
              "    <button class=\"colab-df-convert\" onclick=\"convertToInteractive('df-2cbebdc8-334a-48fa-b34d-6aab27e16985')\"\n",
              "            title=\"Convert this dataframe to an interactive table.\"\n",
              "            style=\"display:none;\">\n",
              "\n",
              "  <svg xmlns=\"http://www.w3.org/2000/svg\" height=\"24px\" viewBox=\"0 -960 960 960\">\n",
              "    <path d=\"M120-120v-720h720v720H120Zm60-500h600v-160H180v160Zm220 220h160v-160H400v160Zm0 220h160v-160H400v160ZM180-400h160v-160H180v160Zm440 0h160v-160H620v160ZM180-180h160v-160H180v160Zm440 0h160v-160H620v160Z\"/>\n",
              "  </svg>\n",
              "    </button>\n",
              "\n",
              "  <style>\n",
              "    .colab-df-container {\n",
              "      display:flex;\n",
              "      gap: 12px;\n",
              "    }\n",
              "\n",
              "    .colab-df-convert {\n",
              "      background-color: #E8F0FE;\n",
              "      border: none;\n",
              "      border-radius: 50%;\n",
              "      cursor: pointer;\n",
              "      display: none;\n",
              "      fill: #1967D2;\n",
              "      height: 32px;\n",
              "      padding: 0 0 0 0;\n",
              "      width: 32px;\n",
              "    }\n",
              "\n",
              "    .colab-df-convert:hover {\n",
              "      background-color: #E2EBFA;\n",
              "      box-shadow: 0px 1px 2px rgba(60, 64, 67, 0.3), 0px 1px 3px 1px rgba(60, 64, 67, 0.15);\n",
              "      fill: #174EA6;\n",
              "    }\n",
              "\n",
              "    .colab-df-buttons div {\n",
              "      margin-bottom: 4px;\n",
              "    }\n",
              "\n",
              "    [theme=dark] .colab-df-convert {\n",
              "      background-color: #3B4455;\n",
              "      fill: #D2E3FC;\n",
              "    }\n",
              "\n",
              "    [theme=dark] .colab-df-convert:hover {\n",
              "      background-color: #434B5C;\n",
              "      box-shadow: 0px 1px 3px 1px rgba(0, 0, 0, 0.15);\n",
              "      filter: drop-shadow(0px 1px 2px rgba(0, 0, 0, 0.3));\n",
              "      fill: #FFFFFF;\n",
              "    }\n",
              "  </style>\n",
              "\n",
              "    <script>\n",
              "      const buttonEl =\n",
              "        document.querySelector('#df-2cbebdc8-334a-48fa-b34d-6aab27e16985 button.colab-df-convert');\n",
              "      buttonEl.style.display =\n",
              "        google.colab.kernel.accessAllowed ? 'block' : 'none';\n",
              "\n",
              "      async function convertToInteractive(key) {\n",
              "        const element = document.querySelector('#df-2cbebdc8-334a-48fa-b34d-6aab27e16985');\n",
              "        const dataTable =\n",
              "          await google.colab.kernel.invokeFunction('convertToInteractive',\n",
              "                                                    [key], {});\n",
              "        if (!dataTable) return;\n",
              "\n",
              "        const docLinkHtml = 'Like what you see? Visit the ' +\n",
              "          '<a target=\"_blank\" href=https://colab.research.google.com/notebooks/data_table.ipynb>data table notebook</a>'\n",
              "          + ' to learn more about interactive tables.';\n",
              "        element.innerHTML = '';\n",
              "        dataTable['output_type'] = 'display_data';\n",
              "        await google.colab.output.renderOutput(dataTable, element);\n",
              "        const docLink = document.createElement('div');\n",
              "        docLink.innerHTML = docLinkHtml;\n",
              "        element.appendChild(docLink);\n",
              "      }\n",
              "    </script>\n",
              "  </div>\n",
              "\n",
              "\n",
              "    <div id=\"df-4529a17f-3ab1-4450-aa6a-363b6f99269e\">\n",
              "      <button class=\"colab-df-quickchart\" onclick=\"quickchart('df-4529a17f-3ab1-4450-aa6a-363b6f99269e')\"\n",
              "                title=\"Suggest charts\"\n",
              "                style=\"display:none;\">\n",
              "\n",
              "<svg xmlns=\"http://www.w3.org/2000/svg\" height=\"24px\"viewBox=\"0 0 24 24\"\n",
              "     width=\"24px\">\n",
              "    <g>\n",
              "        <path d=\"M19 3H5c-1.1 0-2 .9-2 2v14c0 1.1.9 2 2 2h14c1.1 0 2-.9 2-2V5c0-1.1-.9-2-2-2zM9 17H7v-7h2v7zm4 0h-2V7h2v10zm4 0h-2v-4h2v4z\"/>\n",
              "    </g>\n",
              "</svg>\n",
              "      </button>\n",
              "\n",
              "<style>\n",
              "  .colab-df-quickchart {\n",
              "      --bg-color: #E8F0FE;\n",
              "      --fill-color: #1967D2;\n",
              "      --hover-bg-color: #E2EBFA;\n",
              "      --hover-fill-color: #174EA6;\n",
              "      --disabled-fill-color: #AAA;\n",
              "      --disabled-bg-color: #DDD;\n",
              "  }\n",
              "\n",
              "  [theme=dark] .colab-df-quickchart {\n",
              "      --bg-color: #3B4455;\n",
              "      --fill-color: #D2E3FC;\n",
              "      --hover-bg-color: #434B5C;\n",
              "      --hover-fill-color: #FFFFFF;\n",
              "      --disabled-bg-color: #3B4455;\n",
              "      --disabled-fill-color: #666;\n",
              "  }\n",
              "\n",
              "  .colab-df-quickchart {\n",
              "    background-color: var(--bg-color);\n",
              "    border: none;\n",
              "    border-radius: 50%;\n",
              "    cursor: pointer;\n",
              "    display: none;\n",
              "    fill: var(--fill-color);\n",
              "    height: 32px;\n",
              "    padding: 0;\n",
              "    width: 32px;\n",
              "  }\n",
              "\n",
              "  .colab-df-quickchart:hover {\n",
              "    background-color: var(--hover-bg-color);\n",
              "    box-shadow: 0 1px 2px rgba(60, 64, 67, 0.3), 0 1px 3px 1px rgba(60, 64, 67, 0.15);\n",
              "    fill: var(--button-hover-fill-color);\n",
              "  }\n",
              "\n",
              "  .colab-df-quickchart-complete:disabled,\n",
              "  .colab-df-quickchart-complete:disabled:hover {\n",
              "    background-color: var(--disabled-bg-color);\n",
              "    fill: var(--disabled-fill-color);\n",
              "    box-shadow: none;\n",
              "  }\n",
              "\n",
              "  .colab-df-spinner {\n",
              "    border: 2px solid var(--fill-color);\n",
              "    border-color: transparent;\n",
              "    border-bottom-color: var(--fill-color);\n",
              "    animation:\n",
              "      spin 1s steps(1) infinite;\n",
              "  }\n",
              "\n",
              "  @keyframes spin {\n",
              "    0% {\n",
              "      border-color: transparent;\n",
              "      border-bottom-color: var(--fill-color);\n",
              "      border-left-color: var(--fill-color);\n",
              "    }\n",
              "    20% {\n",
              "      border-color: transparent;\n",
              "      border-left-color: var(--fill-color);\n",
              "      border-top-color: var(--fill-color);\n",
              "    }\n",
              "    30% {\n",
              "      border-color: transparent;\n",
              "      border-left-color: var(--fill-color);\n",
              "      border-top-color: var(--fill-color);\n",
              "      border-right-color: var(--fill-color);\n",
              "    }\n",
              "    40% {\n",
              "      border-color: transparent;\n",
              "      border-right-color: var(--fill-color);\n",
              "      border-top-color: var(--fill-color);\n",
              "    }\n",
              "    60% {\n",
              "      border-color: transparent;\n",
              "      border-right-color: var(--fill-color);\n",
              "    }\n",
              "    80% {\n",
              "      border-color: transparent;\n",
              "      border-right-color: var(--fill-color);\n",
              "      border-bottom-color: var(--fill-color);\n",
              "    }\n",
              "    90% {\n",
              "      border-color: transparent;\n",
              "      border-bottom-color: var(--fill-color);\n",
              "    }\n",
              "  }\n",
              "</style>\n",
              "\n",
              "      <script>\n",
              "        async function quickchart(key) {\n",
              "          const quickchartButtonEl =\n",
              "            document.querySelector('#' + key + ' button');\n",
              "          quickchartButtonEl.disabled = true;  // To prevent multiple clicks.\n",
              "          quickchartButtonEl.classList.add('colab-df-spinner');\n",
              "          try {\n",
              "            const charts = await google.colab.kernel.invokeFunction(\n",
              "                'suggestCharts', [key], {});\n",
              "          } catch (error) {\n",
              "            console.error('Error during call to suggestCharts:', error);\n",
              "          }\n",
              "          quickchartButtonEl.classList.remove('colab-df-spinner');\n",
              "          quickchartButtonEl.classList.add('colab-df-quickchart-complete');\n",
              "        }\n",
              "        (() => {\n",
              "          let quickchartButtonEl =\n",
              "            document.querySelector('#df-4529a17f-3ab1-4450-aa6a-363b6f99269e button');\n",
              "          quickchartButtonEl.style.display =\n",
              "            google.colab.kernel.accessAllowed ? 'block' : 'none';\n",
              "        })();\n",
              "      </script>\n",
              "    </div>\n",
              "\n",
              "    </div>\n",
              "  </div>\n"
            ],
            "application/vnd.google.colaboratory.intrinsic+json": {
              "type": "dataframe",
              "summary": "{\n  \"name\": \"train[['ast_tov', 'rim_ratio', 'mid_ratio']]\",\n  \"rows\": 8,\n  \"fields\": [\n    {\n      \"column\": \"ast_tov\",\n      \"properties\": {\n        \"dtype\": \"number\",\n        \"std\": 5222.7097773734995,\n        \"min\": 0.0,\n        \"max\": 14774.0,\n        \"num_unique_values\": 8,\n        \"samples\": [\n          0.8161079169175578,\n          0.71432241,\n          14774.0\n        ],\n        \"semantic_type\": \"\",\n        \"description\": \"\"\n      }\n    },\n    {\n      \"column\": \"rim_ratio\",\n      \"properties\": {\n        \"dtype\": \"number\",\n        \"std\": 5223.224945272345,\n        \"min\": 0.0,\n        \"max\": 14774.0,\n        \"num_unique_values\": 8,\n        \"samples\": [\n          0.5458810748612428,\n          0.5586,\n          14774.0\n        ],\n        \"semantic_type\": \"\",\n        \"description\": \"\"\n      }\n    },\n    {\n      \"column\": \"mid_ratio\",\n      \"properties\": {\n        \"dtype\": \"number\",\n        \"std\": 5223.276144508436,\n        \"min\": 0.0,\n        \"max\": 14774.0,\n        \"num_unique_values\": 8,\n        \"samples\": [\n          0.30582190334371195,\n          0.3158,\n          14774.0\n        ],\n        \"semantic_type\": \"\",\n        \"description\": \"\"\n      }\n    }\n  ]\n}"
            }
          },
          "metadata": {},
          "execution_count": 115
        }
      ]
    },
    {
      "cell_type": "code",
      "source": [
        "# Fill the remaining missing values in train (using median)\n",
        "additional_missing_cols = [\n",
        "    'adrtg', 'dporpag', 'stops', 'bpm', 'obpm', 'dbpm', 'gbpm', 'mp',\n",
        "    'ogbpm', 'dgbpm', 'oreb', 'dreb', 'treb', 'ast', 'stl', 'blk', 'pts'\n",
        "]\n",
        "\n",
        "for col in additional_missing_cols:\n",
        "    if col in train.columns:\n",
        "        train[col] = train[col].fillna(train[col].median())\n",
        "\n",
        "    if 'drtg' in train.columns:\n",
        "        train['drtg'] = train['drtg'].fillna(train['drtg'].median())\n",
        "\n",
        "print(\"Final missing values check\")\n",
        "display(train.isnull().sum()[train.isnull().sum() > 0])\n"
      ],
      "metadata": {
        "colab": {
          "base_uri": "https://localhost:8080/",
          "height": 102
        },
        "id": "qPorWWsBn6wv",
        "outputId": "565e3898-b016-4f45-f989-fd1205dfdda4"
      },
      "execution_count": 116,
      "outputs": [
        {
          "output_type": "stream",
          "name": "stdout",
          "text": [
            "Final missing values check\n"
          ]
        },
        {
          "output_type": "display_data",
          "data": {
            "text/plain": [
              "Series([], dtype: int64)"
            ],
            "text/html": [
              "<div>\n",
              "<style scoped>\n",
              "    .dataframe tbody tr th:only-of-type {\n",
              "        vertical-align: middle;\n",
              "    }\n",
              "\n",
              "    .dataframe tbody tr th {\n",
              "        vertical-align: top;\n",
              "    }\n",
              "\n",
              "    .dataframe thead th {\n",
              "        text-align: right;\n",
              "    }\n",
              "</style>\n",
              "<table border=\"1\" class=\"dataframe\">\n",
              "  <thead>\n",
              "    <tr style=\"text-align: right;\">\n",
              "      <th></th>\n",
              "      <th>0</th>\n",
              "    </tr>\n",
              "  </thead>\n",
              "  <tbody>\n",
              "  </tbody>\n",
              "</table>\n",
              "</div><br><label><b>dtype:</b> int64</label>"
            ]
          },
          "metadata": {}
        }
      ]
    },
    {
      "cell_type": "markdown",
      "source": [
        "### C.2 Define Target variable"
      ],
      "metadata": {
        "id": "tpG_mos_EXrY"
      }
    },
    {
      "cell_type": "code",
      "source": [
        "# <Student to fill this section>\n",
        "import matplotlib.pyplot as plt\n",
        "import seaborn as sns\n",
        "\n",
        "# What does the distribution of Drafted look like\n",
        "plt.figure(figsize=(6,4))\n",
        "sns.countplot(x='drafted', data=train, palette='Set2')\n",
        "plt.title('Distribution of Drafted Players')\n",
        "plt.xlabel('Drafted (1 = Yes, 0 = No)')\n",
        "plt.ylabel('Count')\n",
        "plt.xticks([0,1], ['Not Drafted', 'Drafted'])\n",
        "plt.show()\n",
        "\n",
        "# Show proportions\n",
        "draft_counts = train['drafted'].value_counts(normalize=True)\n",
        "print(\"Proportion of drafted vs not drafted:\")\n",
        "print(draft_counts)"
      ],
      "metadata": {
        "id": "gsQkuxYLVHb1",
        "colab": {
          "base_uri": "https://localhost:8080/",
          "height": 499
        },
        "outputId": "042da35d-c255-4756-dddd-37963770483e"
      },
      "execution_count": 117,
      "outputs": [
        {
          "output_type": "display_data",
          "data": {
            "text/plain": [
              "<Figure size 600x400 with 1 Axes>"
            ],
            "image/png": "[encoded data removed]"
          },
          "metadata": {}
        },
        {
          "output_type": "stream",
          "name": "stdout",
          "text": [
            "Proportion of drafted vs not drafted:\n",
            "drafted\n",
            "0.0    0.992013\n",
            "1.0    0.007987\n",
            "Name: proportion, dtype: float64\n"
          ]
        }
      ]
    },
    {
      "cell_type": "code",
      "source": [],
      "metadata": {
        "id": "4Z0I4L_cVITG"
      },
      "execution_count": 117,
      "outputs": []
    },
    {
      "cell_type": "code",
      "source": [
        "# <Student to fill this section>\n",
        "target_definition_explanations = \"\"\"\n",
        "The target variable is `drafted`, which is a binary variable:\n",
        "- `1` indicates the player was drafted into the NBA.\n",
        "- `0` means the player was not drafted.\n",
        "\n",
        "This aligns directly with the business goal of predicting whether a college basketball player will be drafted. Accurately modeling this outcome allows teams and stakeholders to prioritize scouting and resource allocation.\n",
        "\n",
        "Since this is a classification task, the target variable is defined clearly and is suitable for applying supervised machine learning techniques.\n",
        "\"\"\""
      ],
      "metadata": {
        "id": "RiqBkEQ-EjIZ"
      },
      "execution_count": 118,
      "outputs": []
    },
    {
      "cell_type": "code",
      "source": [
        "# Do not modify this code\n",
        "print_tile(size=\"h3\", key='target_definition_explanations', value=target_definition_explanations)"
      ],
      "metadata": {
        "id": "qdeiAKiIElvG",
        "colab": {
          "base_uri": "https://localhost:8080/",
          "height": 142
        },
        "outputId": "b23e28a7-2006-419e-9b2f-5eb461cb0083"
      },
      "execution_count": 119,
      "outputs": [
        {
          "output_type": "display_data",
          "data": {
            "text/plain": [
              "<IPython.core.display.HTML object>"
            ],
            "text/html": [
              "<p style=\"color:grey\">target_definition_explanations</p><h3 font-size: 3em>\n",
              "The target variable is `drafted`, which is a binary variable:\n",
              "- `1` indicates the player was drafted into the NBA.\n",
              "- `0` means the player was not drafted.\n",
              "\n",
              "This aligns directly with the business goal of predicting whether a college basketball player will be drafted. Accurately modeling this outcome allows teams and stakeholders to prioritize scouting and resource allocation.\n",
              "\n",
              "Since this is a classification task, the target variable is defined clearly and is suitable for applying supervised machine learning techniques.\n",
              "</h3>"
            ]
          },
          "metadata": {}
        }
      ]
    },
    {
      "cell_type": "markdown",
      "source": [
        "### C.3 Create Target variable"
      ],
      "metadata": {
        "id": "CtIfwnLmEn51"
      }
    },
    {
      "cell_type": "code",
      "source": [
        "# <Student to fill this section>\n",
        "\n",
        "target_name = 'drafted'"
      ],
      "metadata": {
        "id": "XV8dRa59EpLG"
      },
      "execution_count": 120,
      "outputs": []
    },
    {
      "cell_type": "markdown",
      "source": [
        "### C.4 Explore Target variable"
      ],
      "metadata": {
        "id": "dmSKLrSBFAN5"
      }
    },
    {
      "cell_type": "code",
      "source": [
        "# <Student to fill this section>\n"
      ],
      "metadata": {
        "id": "zeldOL0KFC4E"
      },
      "execution_count": 121,
      "outputs": []
    },
    {
      "cell_type": "code",
      "source": [],
      "metadata": {
        "id": "DBocSNWvVFCU"
      },
      "execution_count": 121,
      "outputs": []
    },
    {
      "cell_type": "code",
      "source": [
        "# <Student to fill this section>\n",
        "target_distribution_explanations = \"\"\"\n",
        "The target variable `drafted` is highly imbalanced, with fewer than 1% of players being drafted.\n",
        "As a result, we use AUROC instead of accuracy as our main evaluation metric, and apply stratified sampling to preserve class distribution.\n",
        "\n",
        "For SGDClassifier, we:\n",
        "1) Standardize the features, as SGD is sensitive to feature scale;\n",
        "2) Use `class_weight='balanced'` or equivalent `sample_weight` to address the class imbalance;\n",
        "3) Set `loss='log_loss'` (logistic regression) to enable probability output for AUROC calculation (or use `decision_function` as an alternative).\n",
        "\n",
        "We also apply regularization (via `alpha` and `penalty`) and early stopping (with `tol` and `max_iter`) to prevent overfitting.\n",
        "\"\"\"\n"
      ],
      "metadata": {
        "id": "5I9ccv-UEr5o"
      },
      "execution_count": 122,
      "outputs": []
    },
    {
      "cell_type": "code",
      "source": [
        "# Do not modify this code\n",
        "print_tile(size=\"h3\", key='target_distribution_explanations', value=target_distribution_explanations)"
      ],
      "metadata": {
        "id": "i45S7xA9EtEV",
        "colab": {
          "base_uri": "https://localhost:8080/",
          "height": 162
        },
        "outputId": "a6e4770f-08c1-4b85-ae4a-51cb4cc4aa7a"
      },
      "execution_count": 123,
      "outputs": [
        {
          "output_type": "display_data",
          "data": {
            "text/plain": [
              "<IPython.core.display.HTML object>"
            ],
            "text/html": [
              "<p style=\"color:grey\">target_distribution_explanations</p><h3 font-size: 3em>\n",
              "The target variable `drafted` is highly imbalanced, with fewer than 1% of players being drafted.\n",
              "As a result, we use AUROC instead of accuracy as our main evaluation metric, and apply stratified sampling to preserve class distribution.\n",
              "\n",
              "For SGDClassifier, we:\n",
              "1) Standardize the features, as SGD is sensitive to feature scale;\n",
              "2) Use `class_weight='balanced'` or equivalent `sample_weight` to address the class imbalance;\n",
              "3) Set `loss='log_loss'` (logistic regression) to enable probability output for AUROC calculation (or use `decision_function` as an alternative).\n",
              "\n",
              "We also apply regularization (via `alpha` and `penalty`) and early stopping (with `tol` and `max_iter`) to prevent overfitting.\n",
              "</h3>"
            ]
          },
          "metadata": {}
        }
      ]
    },
    {
      "cell_type": "code",
      "source": [
        "# Target distribution map (drafted)\n",
        "\n",
        "import seaborn as sns\n",
        "import matplotlib.pyplot as plt\n",
        "\n",
        "plt.figure(figsize=(6, 4))\n",
        "sns.countplot(data=train, x='drafted')\n",
        "plt.title(\"Distribution of Drafted vs Not Drafted Players\")\n",
        "plt.xlabel(\"Drafted\")\n",
        "plt.ylabel(\"Count\")\n",
        "plt.show()"
      ],
      "metadata": {
        "colab": {
          "base_uri": "https://localhost:8080/",
          "height": 410
        },
        "id": "qPvt5GLRobys",
        "outputId": "cbf6558c-93f7-448e-abd7-13298ebed569"
      },
      "execution_count": 124,
      "outputs": [
        {
          "output_type": "display_data",
          "data": {
            "text/plain": [
              "<Figure size 600x400 with 1 Axes>"
            ],
            "image/png": "[encoded data removed]"
          },
          "metadata": {}
        }
      ]
    },
    {
      "cell_type": "markdown",
      "source": [
        "### C.5 Explore Feature of Interest `\\<put feature name here\\>`"
      ],
      "metadata": {
        "id": "37ubEa7SFWXo"
      }
    },
    {
      "cell_type": "code",
      "source": [
        "# <Student to fill this section>"
      ],
      "metadata": {
        "id": "wV9Ldx0gFWks"
      },
      "execution_count": 125,
      "outputs": []
    },
    {
      "cell_type": "code",
      "source": [],
      "metadata": {
        "id": "JJxanj3EVERJ"
      },
      "execution_count": 125,
      "outputs": []
    },
    {
      "cell_type": "code",
      "source": [
        "# <Student to fill this section>\n",
        "feature_1_insights = \"\"\"\n",
        "The feature `Min_per` shows the percentage of minutes a player was on the court, indicating how involved they were during the season.\n",
        "\n",
        "Most players had low court time, while a small group played over 60%, matching the rare nature of drafted players.\n",
        "\n",
        "This feature is useful because high-minute players are more likely to attract scout attention. While some may have low minutes due to injury or rotation, `Min_per` still gives a strong signal for draft likelihood.\n",
        "\n",
        "Since we are using SGDClassifier, we ensure this feature is standardized to avoid scale-related issues during training.\n",
        "\"\"\"\n"
      ],
      "metadata": {
        "id": "y4YLcn_eEyAe"
      },
      "execution_count": 126,
      "outputs": []
    },
    {
      "cell_type": "code",
      "source": [
        "# Do not modify this code\n",
        "print_tile(size=\"h3\", key='feature_1_insights', value=feature_1_insights)"
      ],
      "metadata": {
        "id": "2r1knRxDEyC0",
        "colab": {
          "base_uri": "https://localhost:8080/",
          "height": 162
        },
        "outputId": "522c6f86-f568-4b1d-a510-d389622e8455"
      },
      "execution_count": 127,
      "outputs": [
        {
          "output_type": "display_data",
          "data": {
            "text/plain": [
              "<IPython.core.display.HTML object>"
            ],
            "text/html": [
              "<p style=\"color:grey\">feature_1_insights</p><h3 font-size: 3em>\n",
              "The feature `Min_per` shows the percentage of minutes a player was on the court, indicating how involved they were during the season.\n",
              "\n",
              "Most players had low court time, while a small group played over 60%, matching the rare nature of drafted players.\n",
              "\n",
              "This feature is useful because high-minute players are more likely to attract scout attention. While some may have low minutes due to injury or rotation, `Min_per` still gives a strong signal for draft likelihood.\n",
              "\n",
              "Since we are using SGDClassifier, we ensure this feature is standardized to avoid scale-related issues during training.\n",
              "</h3>"
            ]
          },
          "metadata": {}
        }
      ]
    },
    {
      "cell_type": "code",
      "source": [
        "import matplotlib.pyplot as plt\n",
        "import seaborn as sns\n",
        "\n",
        "plt.figure(figsize=(6, 4))\n",
        "sns.boxplot(data=train, x='drafted', y='porpag', palette='Set2')\n",
        "plt.title(\"PORPAG Distribution by Draft Status\")\n",
        "plt.xlabel(\"Drafted (0 = Not Drafted, 1 = Drafted)\")\n",
        "plt.ylabel(\"PORPAG (Points Over Replacement per Adjusted Game)\")\n",
        "plt.tight_layout()\n",
        "plt.show()\n"
      ],
      "metadata": {
        "colab": {
          "base_uri": "https://localhost:8080/",
          "height": 407
        },
        "id": "EEt5PKxwowSc",
        "outputId": "62e4e841-ece1-430c-ff10-7a050b22aec2"
      },
      "execution_count": 128,
      "outputs": [
        {
          "output_type": "display_data",
          "data": {
            "text/plain": [
              "<Figure size 600x400 with 1 Axes>"
            ],
            "image/png": "[encoded data removed]"
          },
          "metadata": {}
        }
      ]
    },
    {
      "cell_type": "markdown",
      "source": [
        "### C.6 Explore Feature of Interest `\\<put feature name here\\>`"
      ],
      "metadata": {
        "id": "WOqd56IjE0LB"
      }
    },
    {
      "cell_type": "code",
      "source": [
        "# <Student to fill this section>"
      ],
      "metadata": {
        "id": "akQFJsI3E2eM"
      },
      "execution_count": 129,
      "outputs": []
    },
    {
      "cell_type": "code",
      "source": [
        "# <Student to fill this section>\n",
        "feature_2_insights = \"\"\"\n",
        "The feature `pts` (points per game) is a core offensive metric that reflects a player's scoring ability.\n",
        "\n",
        "Players with higher PPG are often more visible and valuable, which increases their draft potential. The majority of players average 2–12 points, while only a few exceed 20.\n",
        "\n",
        "Limitations:\n",
        "- High PPG doesn’t always mean efficiency.\n",
        "- Conference strength may skew stats.\n",
        "\n",
        "Since we are using SGDClassifier, this feature is standardized to ensure effective model training.\n",
        "\n",
        "Overall, `pts` is a key predictor in draft outcomes.\n",
        "\"\"\"\n"
      ],
      "metadata": {
        "id": "u-CfAsO1E2hB"
      },
      "execution_count": 130,
      "outputs": []
    },
    {
      "cell_type": "code",
      "source": [
        "# Do not modify this code\n",
        "print_tile(size=\"h3\", key='feature_2_insights', value=feature_2_insights)"
      ],
      "metadata": {
        "id": "bB87lgCAE2jf",
        "colab": {
          "base_uri": "https://localhost:8080/",
          "height": 142
        },
        "outputId": "0caaa40c-07fc-460c-e80d-4ad1a1c637bf"
      },
      "execution_count": 131,
      "outputs": [
        {
          "output_type": "display_data",
          "data": {
            "text/plain": [
              "<IPython.core.display.HTML object>"
            ],
            "text/html": [
              "<p style=\"color:grey\">feature_2_insights</p><h3 font-size: 3em>\n",
              "The feature `pts` (points per game) is a core offensive metric that reflects a player's scoring ability.\n",
              "\n",
              "Players with higher PPG are often more visible and valuable, which increases their draft potential. The majority of players average 2–12 points, while only a few exceed 20.\n",
              "\n",
              "Limitations:\n",
              "- High PPG doesn’t always mean efficiency.\n",
              "- Conference strength may skew stats.\n",
              "\n",
              "Since we are using SGDClassifier, this feature is standardized to ensure effective model training.\n",
              "\n",
              "Overall, `pts` is a key predictor in draft outcomes.\n",
              "</h3>"
            ]
          },
          "metadata": {}
        }
      ]
    },
    {
      "cell_type": "markdown",
      "source": [
        "### C.6 Explore Feature of Interest `\\<put feature name here\\>`\n"
      ],
      "metadata": {
        "id": "-8J_tiLgE26i"
      }
    },
    {
      "cell_type": "code",
      "source": [
        "# <Student to fill this section>"
      ],
      "metadata": {
        "id": "qeyyEgIrE6GB"
      },
      "execution_count": 132,
      "outputs": []
    },
    {
      "cell_type": "code",
      "source": [
        "# <Student to fill this section>\n",
        "feature_3_insights = \"\"\"\n",
        "The feature `obpm` (Offensive Box Plus/Minus) estimates a player's offensive impact per 100 possessions.\n",
        "\n",
        "Drafted players usually have higher `obpm` scores, indicating stronger offensive value. It captures advanced impact beyond raw stats.\n",
        "\n",
        "Limitations:\n",
        "- May reflect team/system bias.\n",
        "- Outliers may distort interpretation.\n",
        "\n",
        "Since we are using SGDClassifier, this feature is standardized to ensure stability and fair contribution during training.\n",
        "\n",
        "Overall, `obpm` is a strong signal of offensive performance and draft potential.\n",
        "\"\"\"\n"
      ],
      "metadata": {
        "id": "ie8xl4AfVPU7"
      },
      "execution_count": 133,
      "outputs": []
    },
    {
      "cell_type": "code",
      "source": [
        "# Do not modify this code\n",
        "print_tile(size=\"h3\", key='feature_3_insights', value=feature_3_insights)"
      ],
      "metadata": {
        "colab": {
          "base_uri": "https://localhost:8080/",
          "height": 142
        },
        "id": "HKpcdT1PpaXD",
        "outputId": "1464f7fa-b869-4360-c45c-e14b9d2ca6db"
      },
      "execution_count": 134,
      "outputs": [
        {
          "output_type": "display_data",
          "data": {
            "text/plain": [
              "<IPython.core.display.HTML object>"
            ],
            "text/html": [
              "<p style=\"color:grey\">feature_3_insights</p><h3 font-size: 3em>\n",
              "The feature `obpm` (Offensive Box Plus/Minus) estimates a player's offensive impact per 100 possessions.\n",
              "\n",
              "Drafted players usually have higher `obpm` scores, indicating stronger offensive value. It captures advanced impact beyond raw stats.\n",
              "\n",
              "Limitations:\n",
              "- May reflect team/system bias.\n",
              "- Outliers may distort interpretation.\n",
              "\n",
              "Since we are using SGDClassifier, this feature is standardized to ensure stability and fair contribution during training.\n",
              "\n",
              "Overall, `obpm` is a strong signal of offensive performance and draft potential.\n",
              "</h3>"
            ]
          },
          "metadata": {}
        }
      ]
    },
    {
      "cell_type": "markdown",
      "source": [
        "### C.n Explore Feature of Interest `\\<put feature name here\\>`\n",
        "\n",
        "> You can add more cells related to other feeatures in this section"
      ],
      "metadata": {
        "id": "ZcjaUGQ_VbVQ"
      }
    },
    {
      "cell_type": "code",
      "source": [],
      "metadata": {
        "id": "Z_DwQMvDVbfA"
      },
      "execution_count": 134,
      "outputs": []
    },
    {
      "cell_type": "code",
      "source": [],
      "metadata": {
        "id": "4P8cUfkCVbic"
      },
      "execution_count": 134,
      "outputs": []
    },
    {
      "cell_type": "markdown",
      "metadata": {
        "id": "_NCwQQFkU3v5"
      },
      "source": [
        "---\n",
        "## D. Feature Selection\n"
      ]
    },
    {
      "cell_type": "markdown",
      "source": [
        "### D.1 Approach \"\\<describe_approach_here\\>\"\n"
      ],
      "metadata": {
        "id": "0b8C9WON3Toe"
      }
    },
    {
      "cell_type": "code",
      "source": [
        "# <Student to fill this section>"
      ],
      "metadata": {
        "id": "zfC-DLKv4AuM"
      },
      "execution_count": 135,
      "outputs": []
    },
    {
      "cell_type": "code",
      "source": [],
      "metadata": {
        "id": "J2_6it8iViBX"
      },
      "execution_count": 135,
      "outputs": []
    },
    {
      "cell_type": "code",
      "source": [
        "# <Student to fill this section>\n",
        "feature_selection_1_insights = \"\"\"\n",
        "We used XGBoost's built-in feature importance to rank predictors, leveraging its strength in capturing non-linear relationships and handling imbalanced data.\n",
        "\n",
        "Although our final model is SGDClassifier, using XGBoost for feature selection helps identify the most influential predictors based on complex patterns.\n",
        "\n",
        "Top features included: 'pts', 'Min_per', 'obpm', 'TS_per', and 'bpm', all related to scoring, efficiency, and playing time.\n",
        "\n",
        "This approach improves the interpretability and performance of our final model by focusing on high-impact features.\n",
        "\"\"\""
      ],
      "metadata": {
        "id": "Z9myLlFZFQXj"
      },
      "execution_count": 197,
      "outputs": []
    },
    {
      "cell_type": "code",
      "source": [
        "# Do not modify this code\n",
        "print_tile(size=\"h3\", key='feature_3_insights', value=feature_selection_1_insights)"
      ],
      "metadata": {
        "id": "937YFeqDFQgB",
        "colab": {
          "base_uri": "https://localhost:8080/",
          "height": 162
        },
        "outputId": "a3e2c0c2-6ce0-4f55-fe60-8788b88fb236"
      },
      "execution_count": 137,
      "outputs": [
        {
          "output_type": "display_data",
          "data": {
            "text/plain": [
              "<IPython.core.display.HTML object>"
            ],
            "text/html": [
              "<p style=\"color:grey\">feature_3_insights</p><h3 font-size: 3em>\n",
              "We used XGBoost's built-in feature importance to rank predictors, leveraging its strength in capturing non-linear relationships and handling imbalanced data.\n",
              "\n",
              "Although our final model is SGDClassifier, using XGBoost for feature selection helps identify the most influential predictors based on complex patterns.\n",
              "\n",
              "Top features included: 'pts', 'Min_per', 'obpm', 'TS_per', and 'bpm', all related to scoring, efficiency, and playing time.\n",
              "\n",
              "This approach improves the interpretability and performance of our final model by focusing on high-impact features.\n",
              "</h3>"
            ]
          },
          "metadata": {}
        }
      ]
    },
    {
      "cell_type": "markdown",
      "source": [
        "### D.2 Approach \"\\<describe_approach_here\\>\"\n"
      ],
      "metadata": {
        "id": "jqRcgUqu3ZuV"
      }
    },
    {
      "cell_type": "code",
      "source": [
        "# <Student to fill this section>"
      ],
      "metadata": {
        "id": "dAPSiwcg3aJC"
      },
      "execution_count": 138,
      "outputs": []
    },
    {
      "cell_type": "code",
      "source": [],
      "metadata": {
        "id": "Ps25nfue3bL8"
      },
      "execution_count": 138,
      "outputs": []
    },
    {
      "cell_type": "code",
      "source": [
        "# <Student to fill this section>\n",
        "feature_selection_2_insights = \"\"\"\n",
        "We used Pearson correlation to find numerical features that relate most to the target `drafted`.\n",
        "\n",
        "Even though `drafted` is binary, correlation still provides a quick way to identify linear relationships.\n",
        "\n",
        "Top correlated features included: 'pts', 'obpm', 'TS_per', 'bpm', and 'Min_per', which also aligned with model-based feature importance.\n",
        "\n",
        "This method is simple, fast, and effective—especially for linear models like SGDClassifier, which benefit from clearly informative and standardized features.\n",
        "\"\"\"\n"
      ],
      "metadata": {
        "id": "CpQQodTW3a9v"
      },
      "execution_count": 198,
      "outputs": []
    },
    {
      "cell_type": "code",
      "source": [
        "# Do not modify this code\n",
        "print_tile(size=\"h3\", key='feature_selection_2_insights', value=feature_selection_2_insights)"
      ],
      "metadata": {
        "id": "HjN2qhDb3a0G",
        "colab": {
          "base_uri": "https://localhost:8080/",
          "height": 81
        },
        "outputId": "c5fd1f4c-1db5-4fe3-b3b7-2e416452c426"
      },
      "execution_count": 140,
      "outputs": [
        {
          "output_type": "display_data",
          "data": {
            "text/plain": [
              "<IPython.core.display.HTML object>"
            ],
            "text/html": [
              "<p style=\"color:grey\">feature_selection_2_insights</p><h3 font-size: 3em>\n",
              "provide an explanation on why you use this approach for feature selection and describe its results\n",
              "</h3>"
            ]
          },
          "metadata": {}
        }
      ]
    },
    {
      "cell_type": "markdown",
      "source": [
        "### D.n Approach \"\\<describe_approach_here\\>\"\n",
        "\n",
        "> You can add more cells related to other approaches in this section"
      ],
      "metadata": {
        "id": "6sK5poaV3hny"
      }
    },
    {
      "cell_type": "code",
      "source": [],
      "metadata": {
        "id": "AatlZepC3h_D"
      },
      "execution_count": 140,
      "outputs": []
    },
    {
      "cell_type": "markdown",
      "source": [
        "## D.z Final Selection of Features"
      ],
      "metadata": {
        "id": "gS5-tS8_3ryn"
      }
    },
    {
      "cell_type": "code",
      "source": [
        " # <Student to fill this section>\n",
        "\n",
        "features_list = [ 'pts', 'Min_per', 'obpm', 'TS_per', 'bpm', 'mp',\n",
        "                  'eFG', 'usg', 'drtg', 'adrtg' ]"
      ],
      "metadata": {
        "id": "zYY4u2063ioF"
      },
      "execution_count": 141,
      "outputs": []
    },
    {
      "cell_type": "code",
      "source": [],
      "metadata": {
        "id": "-Blv0kUV3ib2"
      },
      "execution_count": 141,
      "outputs": []
    },
    {
      "cell_type": "code",
      "source": [
        "# <Student to fill this section>\n",
        "feature_selection_explanations = \"\"\"\n",
        "The selected features were chosen based on a combination of model-based importance scores (from XGBoost) and Pearson correlation analysis.\n",
        "\n",
        "We selected 10 features that consistently ranked highly across both methods. These features represent key dimensions of player performance:\n",
        "- Offensive ability: 'pts', 'obpm', 'TS_per', 'usg'\n",
        "- Efficiency: 'eFG', 'bpm'\n",
        "- Involvement: 'Min_per', 'mp'\n",
        "- Defensive contribution: 'drtg', 'adrtg'\n",
        "\n",
        "This balanced feature set helps the SGDClassifier focus on informative and standardized inputs, improving generalization and reducing the risk of overfitting and convergence issues.\n",
        "\"\"\"\n",
        "\n"
      ],
      "metadata": {
        "id": "-pxVH1r63vqu"
      },
      "execution_count": 199,
      "outputs": []
    },
    {
      "cell_type": "code",
      "source": [
        "# Do not modify this code\n",
        "print_tile(size=\"h3\", key='feature_selection_explanations', value=feature_selection_explanations)"
      ],
      "metadata": {
        "id": "rHluIUmR3iO3",
        "colab": {
          "base_uri": "https://localhost:8080/",
          "height": 162
        },
        "outputId": "0b94bd95-7d56-4fe0-fd4a-1e8a950c6999"
      },
      "execution_count": 200,
      "outputs": [
        {
          "output_type": "display_data",
          "data": {
            "text/plain": [
              "<IPython.core.display.HTML object>"
            ],
            "text/html": [
              "<p style=\"color:grey\">feature_selection_explanations</p><h3 font-size: 3em>\n",
              "The selected features were chosen based on a combination of model-based importance scores (from XGBoost) and Pearson correlation analysis.\n",
              "\n",
              "We selected 10 features that consistently ranked highly across both methods. These features represent key dimensions of player performance:\n",
              "- Offensive ability: 'pts', 'obpm', 'TS_per', 'usg'\n",
              "- Efficiency: 'eFG', 'bpm'\n",
              "- Involvement: 'Min_per', 'mp'\n",
              "- Defensive contribution: 'drtg', 'adrtg'\n",
              "\n",
              "This balanced feature set helps the SGDClassifier focus on informative and standardized inputs, improving generalization and reducing the risk of overfitting and convergence issues.\n",
              "</h3>"
            ]
          },
          "metadata": {}
        }
      ]
    },
    {
      "cell_type": "markdown",
      "source": [
        "---\n",
        "## E. Data Preparation"
      ],
      "metadata": {
        "id": "j-nNSpJK0Rgu"
      }
    },
    {
      "cell_type": "markdown",
      "source": [
        "### E.1 Data Transformation <put_name_here>"
      ],
      "metadata": {
        "id": "EDtRq1990rcW"
      }
    },
    {
      "cell_type": "code",
      "source": [
        "# <Student to fill this section>"
      ],
      "metadata": {
        "id": "AZN0u9DD0v5X"
      },
      "execution_count": 144,
      "outputs": []
    },
    {
      "cell_type": "code",
      "source": [],
      "metadata": {
        "id": "MjdmojP6Vp6G"
      },
      "execution_count": 144,
      "outputs": []
    },
    {
      "cell_type": "code",
      "source": [
        "# <Student to fill this section>\n",
        "data_cleaning_1_explanations = \"\"\"\n",
        "We cleaned the data by dropping features with excessive missing values (e.g., `ht`, `Rec_Rank`, `dunks_ratio`), as they could introduce noise and reduce model clarity.\n",
        "\n",
        "For features with minimal missing values, we applied median imputation to preserve useful information. The median is a robust choice that handles outliers effectively.\n",
        "\n",
        "This cleaning process ensures a reliable and consistent dataset, which is especially important for training sensitive models like SGDClassifier.\n",
        "\"\"\"\n"
      ],
      "metadata": {
        "id": "eQGXvLtkFU9L"
      },
      "execution_count": 201,
      "outputs": []
    },
    {
      "cell_type": "code",
      "source": [
        "# Do not modify this code\n",
        "print_tile(size=\"h3\", key='data_cleaning_1_explanations', value=data_cleaning_1_explanations)"
      ],
      "metadata": {
        "id": "MPuYme1uFU_4",
        "colab": {
          "base_uri": "https://localhost:8080/",
          "height": 142
        },
        "outputId": "dd4e0d2e-50e9-4806-802d-08f92d18222a"
      },
      "execution_count": 202,
      "outputs": [
        {
          "output_type": "display_data",
          "data": {
            "text/plain": [
              "<IPython.core.display.HTML object>"
            ],
            "text/html": [
              "<p style=\"color:grey\">data_cleaning_1_explanations</p><h3 font-size: 3em>\n",
              "We cleaned the data by dropping features with excessive missing values (e.g., `ht`, `Rec_Rank`, `dunks_ratio`), as they could introduce noise and reduce model clarity.\n",
              "\n",
              "For features with minimal missing values, we applied median imputation to preserve useful information. The median is a robust choice that handles outliers effectively.\n",
              "\n",
              "This cleaning process ensures a reliable and consistent dataset, which is especially important for training sensitive models like SGDClassifier.\n",
              "</h3>"
            ]
          },
          "metadata": {}
        }
      ]
    },
    {
      "cell_type": "markdown",
      "source": [
        "### E.2 Data Transformation <put_name_here>"
      ],
      "metadata": {
        "id": "SxhDoAkw08Eb"
      }
    },
    {
      "cell_type": "code",
      "source": [
        "# <Student to fill this section>"
      ],
      "metadata": {
        "id": "OO5ITMDZ035_"
      },
      "execution_count": 147,
      "outputs": []
    },
    {
      "cell_type": "code",
      "source": [],
      "metadata": {
        "id": "4OlbuimwVqjd"
      },
      "execution_count": 147,
      "outputs": []
    },
    {
      "cell_type": "code",
      "source": [
        "# <Student to fill this section>\n",
        "data_cleaning_2_explanations = \"\"\"\n",
        "Since SGDClassifier is a linear model that relies on gradient descent, it is highly sensitive to feature scale.\n",
        "\n",
        "We applied standardization to all numerical features to ensure stable and efficient model training. Without scaling, features with larger magnitudes could dominate the learning process.\n",
        "\n",
        "Using a standardized pipeline also allows consistent comparisons with other linear models like Logistic Regression, and ensures flexibility when switching between algorithms.\n",
        "\"\"\"\n"
      ],
      "metadata": {
        "id": "NoQ6IWoFFb1y"
      },
      "execution_count": 203,
      "outputs": []
    },
    {
      "cell_type": "code",
      "source": [
        "# Do not modify this code\n",
        "print_tile(size=\"h3\", key='data_cleaning_2_explanations', value=data_cleaning_2_explanations)"
      ],
      "metadata": {
        "id": "n1NG6O-jFdOE",
        "colab": {
          "base_uri": "https://localhost:8080/",
          "height": 142
        },
        "outputId": "14a00572-fb38-4f7f-9e1e-51aa67220d21"
      },
      "execution_count": 204,
      "outputs": [
        {
          "output_type": "display_data",
          "data": {
            "text/plain": [
              "<IPython.core.display.HTML object>"
            ],
            "text/html": [
              "<p style=\"color:grey\">data_cleaning_2_explanations</p><h3 font-size: 3em>\n",
              "Since SGDClassifier is a linear model that relies on gradient descent, it is highly sensitive to feature scale.\n",
              "\n",
              "We applied standardization to all numerical features to ensure stable and efficient model training. Without scaling, features with larger magnitudes could dominate the learning process.\n",
              "\n",
              "Using a standardized pipeline also allows consistent comparisons with other linear models like Logistic Regression, and ensures flexibility when switching between algorithms.\n",
              "</h3>"
            ]
          },
          "metadata": {}
        }
      ]
    },
    {
      "cell_type": "markdown",
      "source": [
        "### E.3 Data Transformation <put_name_here>"
      ],
      "metadata": {
        "id": "ylQxO-4g03qH"
      }
    },
    {
      "cell_type": "code",
      "source": [
        "# <Student to fill this section>"
      ],
      "metadata": {
        "id": "5VymIZpS1Ch7"
      },
      "execution_count": 150,
      "outputs": []
    },
    {
      "cell_type": "code",
      "source": [],
      "metadata": {
        "id": "eGB_A6UsVu81"
      },
      "execution_count": 150,
      "outputs": []
    },
    {
      "cell_type": "code",
      "source": [
        "# <Student to fill this section>\n",
        "data_cleaning_3_explanations = \"\"\"\n",
        "We applied One-Hot Encoding to categorical features like 'team', 'conf', 'year', and 'type'.\n",
        "\n",
        "SGDClassifier, like most linear models, requires all input features to be numeric and cannot handle categorical variables directly.\n",
        "\n",
        "Encoding these categories allows the model to incorporate non-numeric information (e.g., team or conference differences) into its linear decision boundary.\n",
        "\"\"\""
      ],
      "metadata": {
        "id": "BHo46tqSFibl"
      },
      "execution_count": 205,
      "outputs": []
    },
    {
      "cell_type": "code",
      "source": [
        "# Do not modify this code\n",
        "print_tile(size=\"h3\", key='data_cleaning_3_explanations', value=data_cleaning_3_explanations)"
      ],
      "metadata": {
        "id": "D1BIohZLFiiM",
        "colab": {
          "base_uri": "https://localhost:8080/",
          "height": 122
        },
        "outputId": "934b872d-28d9-4239-f8e7-428fb224ec15"
      },
      "execution_count": 206,
      "outputs": [
        {
          "output_type": "display_data",
          "data": {
            "text/plain": [
              "<IPython.core.display.HTML object>"
            ],
            "text/html": [
              "<p style=\"color:grey\">data_cleaning_3_explanations</p><h3 font-size: 3em>\n",
              "We applied One-Hot Encoding to categorical features like 'team', 'conf', 'year', and 'type'.\n",
              "\n",
              "SGDClassifier, like most linear models, requires all input features to be numeric and cannot handle categorical variables directly.\n",
              "\n",
              "Encoding these categories allows the model to incorporate non-numeric information (e.g., team or conference differences) into its linear decision boundary.\n",
              "</h3>"
            ]
          },
          "metadata": {}
        }
      ]
    },
    {
      "cell_type": "markdown",
      "source": [
        "### E.n Fixing \"\\<describe_issue_here\\>\"\n",
        "\n",
        "> You can add more cells related to other issues in this section"
      ],
      "metadata": {
        "id": "w8pDuIcQVxgf"
      }
    },
    {
      "cell_type": "code",
      "source": [],
      "metadata": {
        "id": "L7MGT74hVxm2"
      },
      "execution_count": 152,
      "outputs": []
    },
    {
      "cell_type": "code",
      "source": [],
      "metadata": {
        "id": "_x2xJAZ7Vxpb"
      },
      "execution_count": 152,
      "outputs": []
    },
    {
      "cell_type": "markdown",
      "source": [
        "---\n",
        "## F. Feature Engineering"
      ],
      "metadata": {
        "id": "S80O7okb0RIx"
      }
    },
    {
      "cell_type": "markdown",
      "source": [
        "### F.1 New Feature \"\\<put_name_here\\>\"\n"
      ],
      "metadata": {
        "id": "Kst7h7wp1MFK"
      }
    },
    {
      "cell_type": "code",
      "source": [
        "# <Student to fill this section>"
      ],
      "metadata": {
        "id": "f_wsc2n-1Mdm"
      },
      "execution_count": 153,
      "outputs": []
    },
    {
      "cell_type": "code",
      "source": [],
      "metadata": {
        "id": "d7k_4Q_UV2vi"
      },
      "execution_count": 153,
      "outputs": []
    },
    {
      "cell_type": "code",
      "source": [
        "# <Student to fill this section>\n",
        "feature_engineering_1_explanations = \"\"\"\n",
        "We created a new feature 'FT_rate' by dividing FTM (Free Throws Made) by FTA (Free Throws Attempted), representing a player's Free Throw Percentage.\n",
        "\n",
        "This feature captures shooting efficiency from the free throw line, which reflects technical skill and consistency—important traits scouts may value.\n",
        "\n",
        "Unlike raw FTM or FTA, this ratio provides a normalized measure that is less affected by playing time, making it a fairer indicator of shooting ability.\n",
        "\"\"\"\n"
      ],
      "metadata": {
        "id": "hezUX-UgFpQf"
      },
      "execution_count": 207,
      "outputs": []
    },
    {
      "cell_type": "code",
      "source": [
        "# Do not modify this code\n",
        "print_tile(size=\"h3\", key='feature_engineering_1_explanations', value=feature_engineering_1_explanations)"
      ],
      "metadata": {
        "id": "AKIFmqwVFpTA",
        "colab": {
          "base_uri": "https://localhost:8080/",
          "height": 142
        },
        "outputId": "58875e25-9f06-492e-8d68-b0947d8ee0de"
      },
      "execution_count": 208,
      "outputs": [
        {
          "output_type": "display_data",
          "data": {
            "text/plain": [
              "<IPython.core.display.HTML object>"
            ],
            "text/html": [
              "<p style=\"color:grey\">feature_engineering_1_explanations</p><h3 font-size: 3em>\n",
              "We created a new feature 'FT_rate' by dividing FTM (Free Throws Made) by FTA (Free Throws Attempted), representing a player's Free Throw Percentage.\n",
              "\n",
              "This feature captures shooting efficiency from the free throw line, which reflects technical skill and consistency—important traits scouts may value.\n",
              "\n",
              "Unlike raw FTM or FTA, this ratio provides a normalized measure that is less affected by playing time, making it a fairer indicator of shooting ability.\n",
              "</h3>"
            ]
          },
          "metadata": {}
        }
      ]
    },
    {
      "cell_type": "markdown",
      "source": [
        "### F.2 New Feature \"\\<put_name_here\\>\"\n",
        "\n",
        "\n"
      ],
      "metadata": {
        "id": "xY_hWhC71XAl"
      }
    },
    {
      "cell_type": "code",
      "source": [
        "# <Student to fill this section>"
      ],
      "metadata": {
        "id": "F3DhQoJZ1Xvw"
      },
      "execution_count": 156,
      "outputs": []
    },
    {
      "cell_type": "code",
      "source": [
        "# <Student to fill this section>\n",
        "feature_engineering_2_explanations = \"\"\"\n",
        "We created a new feature 'total_minutes' by multiplying GP (Games Played) by Min_per (percentage of minutes played), estimating a player's total court time over the season.\n",
        "\n",
        "This feature reflects both availability and involvement—key factors that impact a player’s visibility, development, and contribution to the team.\n",
        "\n",
        "Higher total minutes often indicate trust from coaches and sustained performance, making it a useful signal for draft potential.\n",
        "\"\"\"\n"
      ],
      "metadata": {
        "id": "ac-MNGsmFtaH"
      },
      "execution_count": 209,
      "outputs": []
    },
    {
      "cell_type": "code",
      "source": [
        "# Do not modify this code\n",
        "print_tile(size=\"h3\", key='feature_engineering_2_explanations', value=feature_engineering_2_explanations)"
      ],
      "metadata": {
        "id": "xapPh0YfFtca",
        "colab": {
          "base_uri": "https://localhost:8080/",
          "height": 142
        },
        "outputId": "b6a4cfd6-db89-430a-9e9f-804dde21c7b9"
      },
      "execution_count": 210,
      "outputs": [
        {
          "output_type": "display_data",
          "data": {
            "text/plain": [
              "<IPython.core.display.HTML object>"
            ],
            "text/html": [
              "<p style=\"color:grey\">feature_engineering_2_explanations</p><h3 font-size: 3em>\n",
              "We created a new feature 'total_minutes' by multiplying GP (Games Played) by Min_per (percentage of minutes played), estimating a player's total court time over the season.\n",
              "\n",
              "This feature reflects both availability and involvement—key factors that impact a player’s visibility, development, and contribution to the team.\n",
              "\n",
              "Higher total minutes often indicate trust from coaches and sustained performance, making it a useful signal for draft potential.\n",
              "</h3>"
            ]
          },
          "metadata": {}
        }
      ]
    },
    {
      "cell_type": "markdown",
      "source": [
        "### F.3 New Feature \"\\<put_name_here\\>\"\n",
        "\n",
        "> Provide some explanations on why you believe it is important to create this feature and its impacts\n",
        "\n"
      ],
      "metadata": {
        "id": "w0Fhn4271gVu"
      }
    },
    {
      "cell_type": "code",
      "source": [
        "# <Student to fill this section>"
      ],
      "metadata": {
        "id": "N6wBdmYD1g6c"
      },
      "execution_count": 159,
      "outputs": []
    },
    {
      "cell_type": "code",
      "source": [],
      "metadata": {
        "id": "ffmW_bKwV6nX"
      },
      "execution_count": 159,
      "outputs": []
    },
    {
      "cell_type": "code",
      "source": [
        "# <Student to fill this section>\n",
        "feature_engineering_3_explanations = \"\"\"\n",
        "We created a new feature 'three_point_ratio' by dividing TPA (Three-Point Attempts) by the sum of TPA and twoPA (Two-Point Attempts).\n",
        "\n",
        "This ratio reflects a player's shooting tendency—specifically, their reliance on 3-point shots compared to 2-point shots.\n",
        "\n",
        "It helps the model infer player roles (e.g., perimeter shooter vs. inside scorer) and how they might fit into modern team strategies, which can influence draft appeal.\n",
        "\"\"\"\n"
      ],
      "metadata": {
        "id": "Z3gtyjmKFzCK"
      },
      "execution_count": 211,
      "outputs": []
    },
    {
      "cell_type": "code",
      "source": [
        "# Do not modify this code\n",
        "print_tile(size=\"h3\", key='feature_engineering_n_explanations', value=feature_engineering_3_explanations)"
      ],
      "metadata": {
        "id": "7nMfjzkbFzFj",
        "colab": {
          "base_uri": "https://localhost:8080/",
          "height": 142
        },
        "outputId": "5295a793-15f5-41fc-bf68-a4a3bd010c39"
      },
      "execution_count": 212,
      "outputs": [
        {
          "output_type": "display_data",
          "data": {
            "text/plain": [
              "<IPython.core.display.HTML object>"
            ],
            "text/html": [
              "<p style=\"color:grey\">feature_engineering_n_explanations</p><h3 font-size: 3em>\n",
              "We created a new feature 'three_point_ratio' by dividing TPA (Three-Point Attempts) by the sum of TPA and twoPA (Two-Point Attempts).\n",
              "\n",
              "This ratio reflects a player's shooting tendency—specifically, their reliance on 3-point shots compared to 2-point shots.\n",
              "\n",
              "It helps the model infer player roles (e.g., perimeter shooter vs. inside scorer) and how they might fit into modern team strategies, which can influence draft appeal.\n",
              "</h3>"
            ]
          },
          "metadata": {}
        }
      ]
    },
    {
      "cell_type": "markdown",
      "source": [
        "### F.n Fixing \"\\<describe_issue_here\\>\"\n",
        "\n",
        "> You can add more cells related to new features in this section"
      ],
      "metadata": {
        "id": "_NHBVVRxV-CC"
      }
    },
    {
      "cell_type": "code",
      "source": [
        "# <Student to fill this section>\n",
        "\n",
        "feature_Fixing_explanations = \"\"\"\n",
        "The 'ht' feature, originally in string format (e.g., '6-7'), was converted to total inches to make it usable in numerical models.\n",
        "\n",
        "However, since all values were missing in the training data, the feature was ultimately dropped after conversion due to lack of usable information.\n",
        "\"\"\"\n"
      ],
      "metadata": {
        "id": "8x4jHVxnV-Gm"
      },
      "execution_count": 213,
      "outputs": []
    },
    {
      "cell_type": "code",
      "source": [
        "# Do not modify this code\n",
        "print_tile(size=\"h3\", key='feature_engineering_n_explanations', value=feature_Fixing_explanations)"
      ],
      "metadata": {
        "id": "eAl_-gx3V-JT",
        "colab": {
          "base_uri": "https://localhost:8080/",
          "height": 101
        },
        "outputId": "78f7d01e-528b-45fc-e7cb-187c27a2d858"
      },
      "execution_count": 214,
      "outputs": [
        {
          "output_type": "display_data",
          "data": {
            "text/plain": [
              "<IPython.core.display.HTML object>"
            ],
            "text/html": [
              "<p style=\"color:grey\">feature_engineering_n_explanations</p><h3 font-size: 3em>\n",
              "The 'ht' feature, originally in string format (e.g., '6-7'), was converted to total inches to make it usable in numerical models.\n",
              "\n",
              "However, since all values were missing in the training data, the feature was ultimately dropped after conversion due to lack of usable information.\n",
              "</h3>"
            ]
          },
          "metadata": {}
        }
      ]
    },
    {
      "cell_type": "markdown",
      "metadata": {
        "id": "N8MNBrC4Zgz6"
      },
      "source": [
        "---\n",
        "## G. Data Preparation for Modeling"
      ]
    },
    {
      "cell_type": "markdown",
      "source": [
        "### G.1 Split Datasets"
      ],
      "metadata": {
        "id": "HbpTjW2GGkd8"
      }
    },
    {
      "cell_type": "code",
      "source": [
        "# <Student to fill this section>"
      ],
      "metadata": {
        "id": "kcJ8_kh6Gnjl"
      },
      "execution_count": 162,
      "outputs": []
    },
    {
      "cell_type": "code",
      "source": [],
      "metadata": {
        "id": "tyVDHxW4WBGP"
      },
      "execution_count": 162,
      "outputs": []
    },
    {
      "cell_type": "code",
      "source": [
        "from sklearn.model_selection import train_test_split\n",
        "\n",
        "X = train.drop(columns=[\"drafted\", \"player_id\"])\n",
        "y = train[\"drafted\"]\n",
        "\n",
        "# Split with stratification\n",
        "X_train, X_val, y_train, y_val = train_test_split(\n",
        "    X, y, test_size=0.2, stratify=y, random_state=42\n",
        ")\n",
        "\n",
        "print(\"Training size:\", X_train.shape)\n",
        "print(\"Validation size:\", X_val.shape)"
      ],
      "metadata": {
        "id": "dkvHE5g4F3IZ",
        "colab": {
          "base_uri": "https://localhost:8080/"
        },
        "outputId": "24404ebb-6e13-49c3-df78-9797f1e5d65f"
      },
      "execution_count": 215,
      "outputs": [
        {
          "output_type": "stream",
          "name": "stdout",
          "text": [
            "Training size: (11819, 57)\n",
            "Validation size: (2955, 57)\n"
          ]
        }
      ]
    },
    {
      "cell_type": "code",
      "source": [
        "# <Student to fill this section>\n",
        "data_splitting_explanations = \"\"\"\n",
        "We split the dataset into training and validation sets using an 80/20 ratio.\n",
        "\n",
        "This approach enables us to train the model on most of the data while reserving a portion to evaluate generalization performance.\n",
        "\n",
        "Stratified sampling was used to preserve the original class distribution of drafted vs. non-drafted players, which is critical given the extreme class imbalance.\n",
        "\"\"\"\n"
      ],
      "metadata": {
        "id": "FWHFUnRV27OH"
      },
      "execution_count": 216,
      "outputs": []
    },
    {
      "cell_type": "code",
      "source": [
        "# Do not modify this code\n",
        "print_tile(size=\"h3\", key='data_splitting_explanations', value=data_splitting_explanations)"
      ],
      "metadata": {
        "id": "vx4_g0pLF3Lg",
        "colab": {
          "base_uri": "https://localhost:8080/",
          "height": 122
        },
        "outputId": "11fe1154-c2d0-446f-c370-d17a32d2fe02"
      },
      "execution_count": 217,
      "outputs": [
        {
          "output_type": "display_data",
          "data": {
            "text/plain": [
              "<IPython.core.display.HTML object>"
            ],
            "text/html": [
              "<p style=\"color:grey\">data_splitting_explanations</p><h3 font-size: 3em>\n",
              "We split the dataset into training and validation sets using an 80/20 ratio.\n",
              "\n",
              "This approach enables us to train the model on most of the data while reserving a portion to evaluate generalization performance.\n",
              "\n",
              "Stratified sampling was used to preserve the original class distribution of drafted vs. non-drafted players, which is critical given the extreme class imbalance.\n",
              "</h3>"
            ]
          },
          "metadata": {}
        }
      ]
    },
    {
      "cell_type": "markdown",
      "source": [
        "### G.2 Data Transformation \"\\<put_name_here\\>\""
      ],
      "metadata": {
        "id": "JHJ25iRRG1Gb"
      }
    },
    {
      "cell_type": "code",
      "source": [
        "# <Student to fill this section>"
      ],
      "metadata": {
        "id": "_PIDyg9OG17x"
      },
      "execution_count": 165,
      "outputs": []
    },
    {
      "cell_type": "code",
      "source": [],
      "metadata": {
        "id": "Zy6_m4G2WFN5"
      },
      "execution_count": 165,
      "outputs": []
    },
    {
      "cell_type": "code",
      "source": [
        "# <Student to fill this section>\n",
        "data_transformation_1_explanations = \"\"\"\n",
        "Since SGDClassifier is sensitive to feature scale, we standardized all numerical features to have zero mean and unit variance.\n",
        "\n",
        "This transformation helps ensure stable gradient descent updates and allows the model to converge more efficiently.\n",
        "\"\"\""
      ],
      "metadata": {
        "id": "XbWWDBacGn9n"
      },
      "execution_count": 219,
      "outputs": []
    },
    {
      "cell_type": "code",
      "source": [
        "# Do not modify this code\n",
        "print_tile(size=\"h3\", key='data_transformation_1_explanations', value=data_transformation_1_explanations)"
      ],
      "metadata": {
        "id": "vepkbzldGn_8",
        "colab": {
          "base_uri": "https://localhost:8080/",
          "height": 101
        },
        "outputId": "310eedf0-802e-4aea-f7e5-51be34459793"
      },
      "execution_count": 220,
      "outputs": [
        {
          "output_type": "display_data",
          "data": {
            "text/plain": [
              "<IPython.core.display.HTML object>"
            ],
            "text/html": [
              "<p style=\"color:grey\">data_transformation_1_explanations</p><h3 font-size: 3em>\n",
              "Since SGDClassifier is sensitive to feature scale, we standardized all numerical features to have zero mean and unit variance.\n",
              "\n",
              "This transformation helps ensure stable gradient descent updates and allows the model to converge more efficiently.\n",
              "</h3>"
            ]
          },
          "metadata": {}
        }
      ]
    },
    {
      "cell_type": "markdown",
      "source": [
        "### G.3 Data Transformation \"\\<put_name_here\\>\""
      ],
      "metadata": {
        "id": "3YG8_V1DG8YP"
      }
    },
    {
      "cell_type": "code",
      "source": [
        "# <Student to fill this section>"
      ],
      "metadata": {
        "id": "jHtYOtv7HJbw"
      },
      "execution_count": 168,
      "outputs": []
    },
    {
      "cell_type": "code",
      "source": [],
      "metadata": {
        "id": "i-pdTrPyWGgs"
      },
      "execution_count": 168,
      "outputs": []
    },
    {
      "cell_type": "code",
      "source": [
        "# <Student to fill this section>\n",
        "data_transformation_2_explanations = \"\"\"\n",
        "We applied One-Hot Encoding to categorical features such as team, conference, season, and player type to convert them into a numerical format suitable for modeling.\n",
        "\n",
        "This transformation is essential for models like SGDClassifier, which cannot handle categorical variables directly.\n",
        "\n",
        "It also enables the model to learn from structural and contextual differences across teams, conferences, and seasons that may influence draft outcomes.\n",
        "\"\"\"\n"
      ],
      "metadata": {
        "id": "TQR-kDICGoqa"
      },
      "execution_count": 221,
      "outputs": []
    },
    {
      "cell_type": "code",
      "source": [
        "# Do not modify this code\n",
        "print_tile(size=\"h3\", key='data_transformation_2_explanations', value=data_transformation_2_explanations)"
      ],
      "metadata": {
        "id": "bNWRpNiQGotZ",
        "colab": {
          "base_uri": "https://localhost:8080/",
          "height": 142
        },
        "outputId": "9f1dd780-5602-451d-af33-e7c8bb08304a"
      },
      "execution_count": 222,
      "outputs": [
        {
          "output_type": "display_data",
          "data": {
            "text/plain": [
              "<IPython.core.display.HTML object>"
            ],
            "text/html": [
              "<p style=\"color:grey\">data_transformation_2_explanations</p><h3 font-size: 3em>\n",
              "We applied One-Hot Encoding to categorical features such as team, conference, season, and player type to convert them into a numerical format suitable for modeling.\n",
              "\n",
              "This transformation is essential for models like SGDClassifier, which cannot handle categorical variables directly.\n",
              "\n",
              "It also enables the model to learn from structural and contextual differences across teams, conferences, and seasons that may influence draft outcomes.\n",
              "</h3>"
            ]
          },
          "metadata": {}
        }
      ]
    },
    {
      "cell_type": "markdown",
      "source": [
        "### G.4 Data Transformation \"\\<put_name_here\\>\""
      ],
      "metadata": {
        "id": "DfSLKEJTG7QB"
      }
    },
    {
      "cell_type": "code",
      "source": [
        "# <Student to fill this section>"
      ],
      "metadata": {
        "id": "712T36KKG7Yp"
      },
      "execution_count": 171,
      "outputs": []
    },
    {
      "cell_type": "code",
      "source": [],
      "metadata": {
        "id": "bLjLDvaWWHx2"
      },
      "execution_count": 171,
      "outputs": []
    },
    {
      "cell_type": "code",
      "source": [
        "# <Student to fill this section>\n",
        "data_transformation_3_explanations = \"\"\"\n",
        "We applied Standard Scaling to all numerical features to ensure they have zero mean and unit variance.\n",
        "\n",
        "This transformation is critical for SGDClassifier, as it uses gradient-based optimization that is highly sensitive to feature scale.\n",
        "\n",
        "Proper scaling helps the model converge faster and prevents features with larger magnitudes from dominating the learning process.\n",
        "\"\"\""
      ],
      "metadata": {
        "id": "fQkBCxekGpUv"
      },
      "execution_count": 223,
      "outputs": []
    },
    {
      "cell_type": "code",
      "source": [
        "# Do not modify this code\n",
        "print_tile(size=\"h3\", key='data_transformation_3_explanations', value=data_transformation_3_explanations)"
      ],
      "metadata": {
        "id": "Xlo8HKd9GpXM",
        "colab": {
          "base_uri": "https://localhost:8080/",
          "height": 122
        },
        "outputId": "9b598244-cf19-44ba-c7f1-348b56d40479"
      },
      "execution_count": 224,
      "outputs": [
        {
          "output_type": "display_data",
          "data": {
            "text/plain": [
              "<IPython.core.display.HTML object>"
            ],
            "text/html": [
              "<p style=\"color:grey\">data_transformation_3_explanations</p><h3 font-size: 3em>\n",
              "We applied Standard Scaling to all numerical features to ensure they have zero mean and unit variance.\n",
              "\n",
              "This transformation is critical for SGDClassifier, as it uses gradient-based optimization that is highly sensitive to feature scale.\n",
              "\n",
              "Proper scaling helps the model converge faster and prevents features with larger magnitudes from dominating the learning process.\n",
              "</h3>"
            ]
          },
          "metadata": {}
        }
      ]
    },
    {
      "cell_type": "markdown",
      "source": [],
      "metadata": {
        "id": "K0688URxWIQo"
      }
    },
    {
      "cell_type": "code",
      "source": [],
      "metadata": {
        "id": "pqjpS9cXWN-n"
      },
      "execution_count": 173,
      "outputs": []
    },
    {
      "cell_type": "code",
      "source": [],
      "metadata": {
        "id": "cnKmJ6rsWIXs"
      },
      "execution_count": 173,
      "outputs": []
    },
    {
      "cell_type": "markdown",
      "source": [
        "---\n",
        "## H. Save Datasets\n",
        "\n",
        "> Do not change this code"
      ],
      "metadata": {
        "id": "qIj277YWHdFk"
      }
    },
    {
      "cell_type": "code",
      "source": [
        "# Create X_test from test set\n",
        "X_test = test.drop(columns=[\"player_id\"])\n",
        "\n",
        "# Since test set doesn't include labels, create empty y_test as placeholder\n",
        "import numpy as np\n",
        "import pandas as pd\n",
        "y_test = pd.Series([np.nan] * len(X_test))"
      ],
      "metadata": {
        "id": "lSvZD6yo3dXO"
      },
      "execution_count": 225,
      "outputs": []
    },
    {
      "cell_type": "code",
      "source": [
        "# Do not modify this code\n",
        "# Save training set\n",
        "try:\n",
        "  X_train.to_csv(at.folder_path / 'X_train.csv', index=False)\n",
        "  y_train.to_csv(at.folder_path / 'y_train.csv', index=False)\n",
        "\n",
        "  X_val.to_csv(at.folder_path / 'X_val.csv', index=False)\n",
        "  y_val.to_csv(at.folder_path / 'y_val.csv', index=False)\n",
        "\n",
        "  X_test.to_csv(at.folder_path / 'X_test.csv', index=False)\n",
        "  y_test.to_csv(at.folder_path / 'y_test.csv', index=False)\n",
        "except Exception as e:\n",
        "  print(e)"
      ],
      "metadata": {
        "id": "uMNql0SzHhP2",
        "colab": {
          "base_uri": "https://localhost:8080/"
        },
        "outputId": "e90dbda6-d9ac-4afd-8dd6-f4771ff4c35e"
      },
      "execution_count": 226,
      "outputs": [
        {
          "output_type": "stream",
          "name": "stdout",
          "text": [
            "name 'at' is not defined\n"
          ]
        }
      ]
    },
    {
      "cell_type": "markdown",
      "source": [
        "---\n",
        "## I. Selection of Performance Metrics\n",
        "\n",
        "> Provide some explanations on why you believe the performance metrics you chose is appropriate\n"
      ],
      "metadata": {
        "id": "RtLjr7niHpNZ"
      }
    },
    {
      "cell_type": "code",
      "source": [
        "# <Student to fill this section>"
      ],
      "metadata": {
        "id": "KV_pxLAiHxKW"
      },
      "execution_count": 175,
      "outputs": []
    },
    {
      "cell_type": "code",
      "source": [
        "# <Student to fill this section>\n",
        "performance_metrics_explanations = \"\"\"\n",
        "We selected AUROC as the primary evaluation metric because it effectively handles imbalanced datasets and measures the model’s ability to distinguish between drafted and non-drafted players.\n",
        "\n",
        "Accuracy is not reliable in this context, as predicting all players as non-drafted still yields over 99% accuracy due to the extreme class imbalance.\n",
        "\n",
        "In addition, we consider precision, recall, and F1-score to better understand the trade-offs between false positives and false negatives, especially when evaluating model performance on the minority (drafted) class.\n",
        "\"\"\""
      ],
      "metadata": {
        "id": "kC949nluHR5s"
      },
      "execution_count": 228,
      "outputs": []
    },
    {
      "cell_type": "code",
      "source": [
        "# Do not modify this code\n",
        "print_tile(size=\"h3\", key='performance_metrics_explanations', value=performance_metrics_explanations)"
      ],
      "metadata": {
        "id": "wABRzU2sHR8j",
        "colab": {
          "base_uri": "https://localhost:8080/",
          "height": 162
        },
        "outputId": "9e2b85ef-1ad7-4076-d400-7bffcc2de812"
      },
      "execution_count": 229,
      "outputs": [
        {
          "output_type": "display_data",
          "data": {
            "text/plain": [
              "<IPython.core.display.HTML object>"
            ],
            "text/html": [
              "<p style=\"color:grey\">performance_metrics_explanations</p><h3 font-size: 3em>\n",
              "We selected AUROC as the primary evaluation metric because it effectively handles imbalanced datasets and measures the model’s ability to distinguish between drafted and non-drafted players.\n",
              "\n",
              "Accuracy is not reliable in this context, as predicting all players as non-drafted still yields over 99% accuracy due to the extreme class imbalance.\n",
              "\n",
              "In addition, we consider precision, recall, and F1-score to better understand the trade-offs between false positives and false negatives, especially when evaluating model performance on the minority (drafted) class.\n",
              "</h3>"
            ]
          },
          "metadata": {}
        }
      ]
    },
    {
      "cell_type": "markdown",
      "source": [
        "## J. Train Machine Learning Model"
      ],
      "metadata": {
        "id": "ZpxjwSDYIJy6"
      }
    },
    {
      "cell_type": "markdown",
      "source": [
        "### J.1 Import Algorithm\n",
        "\n",
        "> Provide some explanations on why you believe this algorithm is a good fit\n"
      ],
      "metadata": {
        "id": "_XBy7-9PIVcU"
      }
    },
    {
      "cell_type": "code",
      "source": [
        "# <Student to fill this section>"
      ],
      "metadata": {
        "id": "diUB08xMIOuS"
      },
      "execution_count": 178,
      "outputs": []
    },
    {
      "cell_type": "code",
      "source": [
        "from sklearn.linear_model import SGDClassifier\n",
        "from sklearn.metrics import roc_auc_score, roc_curve\n",
        "from sklearn.preprocessing import StandardScaler\n",
        "from sklearn.pipeline import Pipeline\n",
        "import matplotlib.pyplot as plt\n",
        "\n",
        "# feature list\n",
        "features_list = ['pts', 'Min_per', 'obpm', 'TS_per', 'bpm', 'usg', 'eFG', 'mp', 'drtg', 'adrtg']\n",
        "\n",
        "# Use the same features as before\n",
        "X_tr = X_train[features_list]\n",
        "X_va = X_val[features_list]\n",
        "\n",
        "# Build pipeline: standardize + SGDClassifier\n",
        "sgd_pipeline = Pipeline([\n",
        "    ('scaler', StandardScaler()),\n",
        "    ('clf', SGDClassifier(\n",
        "        loss='log_loss',\n",
        "        penalty='elasticnet',\n",
        "        alpha=1e-4,\n",
        "        l1_ratio=0.15,\n",
        "        class_weight='balanced',\n",
        "        max_iter=1000,\n",
        "        tol=1e-4,\n",
        "        random_state=42\n",
        "    ))\n",
        "])\n",
        "\n",
        "# Fit the model\n",
        "sgd_pipeline.fit(X_tr, y_train)\n",
        "\n",
        "# Predict scores (use decision_function for AUROC)\n",
        "y_val_scores = sgd_pipeline.decision_function(X_va)\n",
        "sgd_auc = roc_auc_score(y_val, y_val_scores)\n",
        "print(f\"SGDClassifier AUROC on validation set: {sgd_auc:.4f}\")"
      ],
      "metadata": {
        "colab": {
          "base_uri": "https://localhost:8080/"
        },
        "id": "wK1i2NNl39W9",
        "outputId": "6f488754-e2a2-4273-9f2a-f618c00ffd7b"
      },
      "execution_count": 232,
      "outputs": [
        {
          "output_type": "stream",
          "name": "stdout",
          "text": [
            "SGDClassifier AUROC on validation set: 0.9925\n"
          ]
        }
      ]
    },
    {
      "cell_type": "code",
      "source": [
        "# Plot ROC Curve\n",
        "fpr, tpr, thresholds = roc_curve(y_val, y_val_scores)\n",
        "\n",
        "plt.figure(figsize=(6, 4))\n",
        "plt.plot(fpr, tpr, label=f'SGDClassifier (AUROC = {sgd_auc:.4f})', color='darkorange')\n",
        "plt.plot([0, 1], [0, 1], 'k--', label='Random Guessing')\n",
        "\n",
        "plt.xlabel('False Positive Rate')\n",
        "plt.ylabel('True Positive Rate')\n",
        "plt.title('ROC Curve - Validation Set')\n",
        "plt.legend(loc='lower right')\n",
        "plt.tight_layout()\n",
        "plt.show()\n"
      ],
      "metadata": {
        "colab": {
          "base_uri": "https://localhost:8080/",
          "height": 407
        },
        "id": "N6sUMJUt4T4X",
        "outputId": "a8fa8265-e69c-44f1-eada-0689b0e5f964"
      },
      "execution_count": 233,
      "outputs": [
        {
          "output_type": "display_data",
          "data": {
            "text/plain": [
              "<Figure size 600x400 with 1 Axes>"
            ],
            "image/png": "[encoded data removed]"
          },
          "metadata": {}
        }
      ]
    },
    {
      "cell_type": "code",
      "source": [
        "# <Student to fill this section>\n",
        "algorithm_selection_explanations = \"\"\"\n",
        "We selected SGDClassifier because it is a fast, efficient linear model that scales well to large datasets and high dimensional feature spaces both of which are relevant in our case.\n",
        "\n",
        "SGDClassifier is well suited for binary classification tasks with imbalanced classes, especially when paired with techniques like class weighting and stratified sampling.\n",
        "\n",
        "Its simplicity and interpretability also make it a strong baseline model. Additionally, it integrates easily into pipelines with preprocessing steps like standardization, which improves training stability and model convergence.\n",
        "\"\"\""
      ],
      "metadata": {
        "id": "GIWOpv6CGUTE"
      },
      "execution_count": 238,
      "outputs": []
    },
    {
      "cell_type": "code",
      "source": [
        "# Do not modify this code\n",
        "print_tile(size=\"h3\", key='algorithm_selection_explanations', value=algorithm_selection_explanations)"
      ],
      "metadata": {
        "id": "N4yogQ9aGUVe",
        "colab": {
          "base_uri": "https://localhost:8080/",
          "height": 162
        },
        "outputId": "e87c20f6-4918-4944-f8d9-fef71f8c52b2"
      },
      "execution_count": 239,
      "outputs": [
        {
          "output_type": "display_data",
          "data": {
            "text/plain": [
              "<IPython.core.display.HTML object>"
            ],
            "text/html": [
              "<p style=\"color:grey\">algorithm_selection_explanations</p><h3 font-size: 3em>\n",
              "We selected SGDClassifier because it is a fast, efficient linear model that scales well to large datasets and high dimensional feature spaces both of which are relevant in our case.\n",
              "\n",
              "SGDClassifier is well suited for binary classification tasks with imbalanced classes, especially when paired with techniques like class weighting and stratified sampling.\n",
              "\n",
              "Its simplicity and interpretability also make it a strong baseline model. Additionally, it integrates easily into pipelines with preprocessing steps like standardization, which improves training stability and model convergence.\n",
              "</h3>"
            ]
          },
          "metadata": {}
        }
      ]
    },
    {
      "cell_type": "markdown",
      "source": [
        "### J.2 Set Hyperparameters\n",
        "\n",
        "> Provide some explanations on why you believe this algorithm is a good fit\n"
      ],
      "metadata": {
        "id": "0ks_MmM2mCfm"
      }
    },
    {
      "cell_type": "code",
      "source": [
        "# <Student to fill this section>"
      ],
      "metadata": {
        "id": "NUswpGVLmDXl"
      },
      "execution_count": 181,
      "outputs": []
    },
    {
      "cell_type": "code",
      "source": [
        "# <Student to fill this section>\n",
        "hyperparameters_selection_explanations = \"\"\"\n",
        "For SGDClassifier, we selected hyperparameters to ensure stability, handle class imbalance, and promote generalization:\n",
        "\n",
        "- `loss='log_loss'`: Enables probabilistic outputs suitable for AUROC calculation.\n",
        "- `penalty='elasticnet'` with `l1_ratio=0.15`: Combines L1 and L2 regularization to balance sparsity and stability.\n",
        "- `alpha=1e-4`: Controls regularization strength to prevent overfitting.\n",
        "- `class_weight='balanced'`: Automatically adjusts weights to account for the rare positive class (drafted players).\n",
        "- `max_iter=1000` and `tol=1e-4`: Allow sufficient iterations for convergence while enabling early stopping.\n",
        "- `random_state=42`: Ensures reproducibility.\n",
        "\n",
        "These settings provide a strong and interpretable baseline. Further tuning can be done via grid search or cross-validation if needed.\n",
        "\"\"\""
      ],
      "metadata": {
        "id": "crG_Bm72HfL-"
      },
      "execution_count": 241,
      "outputs": []
    },
    {
      "cell_type": "code",
      "source": [
        "# Do not modify this code\n",
        "print_tile(size=\"h3\", key='hyperparameters_selection_explanations', value=hyperparameters_selection_explanations)"
      ],
      "metadata": {
        "id": "k0uqlRCVHfQI",
        "colab": {
          "base_uri": "https://localhost:8080/",
          "height": 183
        },
        "outputId": "721c4459-5301-4342-a677-136694be362a"
      },
      "execution_count": 242,
      "outputs": [
        {
          "output_type": "display_data",
          "data": {
            "text/plain": [
              "<IPython.core.display.HTML object>"
            ],
            "text/html": [
              "<p style=\"color:grey\">hyperparameters_selection_explanations</p><h3 font-size: 3em>\n",
              "For SGDClassifier, we selected hyperparameters to ensure stability, handle class imbalance, and promote generalization:\n",
              "\n",
              "- `loss='log_loss'`: Enables probabilistic outputs suitable for AUROC calculation.\n",
              "- `penalty='elasticnet'` with `l1_ratio=0.15`: Combines L1 and L2 regularization to balance sparsity and stability.\n",
              "- `alpha=1e-4`: Controls regularization strength to prevent overfitting.\n",
              "- `class_weight='balanced'`: Automatically adjusts weights to account for the rare positive class (drafted players).\n",
              "- `max_iter=1000` and `tol=1e-4`: Allow sufficient iterations for convergence while enabling early stopping.\n",
              "- `random_state=42`: Ensures reproducibility.\n",
              "\n",
              "These settings provide a strong and interpretable baseline. Further tuning can be done via grid search or cross-validation if needed.\n",
              "</h3>"
            ]
          },
          "metadata": {}
        }
      ]
    },
    {
      "cell_type": "markdown",
      "source": [
        "### J.3 Fit Model"
      ],
      "metadata": {
        "id": "VDjdjQjFmkLe"
      }
    },
    {
      "cell_type": "code",
      "source": [
        "# <Student to fill this section>"
      ],
      "metadata": {
        "id": "0Ub3Nrdgmm2N"
      },
      "execution_count": 184,
      "outputs": []
    },
    {
      "cell_type": "code",
      "source": [
        "# <Student to fill this section>\n",
        "\n",
        "fit_model_explanations = \"\"\"\n",
        "We trained an SGDClassifier using the cleaned, standardized, and encoded dataset with the top 10 selected features.\n",
        "\n",
        "The model was configured with key hyperparameters such as `loss='log_loss'`, `penalty='elasticnet'`, and `class_weight='balanced'` to ensure proper learning under extreme class imbalance.\n",
        "\n",
        "All numerical features were standardized using a pipeline to support stable gradient descent.\n",
        "\n",
        "On the validation set, the model achieved an AUROC score of 0.9925, indicating excellent ability to distinguish between drafted and non-drafted players.\n",
        "\n",
        "This result shows that with proper preprocessing and regularization, even a simple linear model like SGDClassifier can perform remarkably well on this classification task.\n",
        "\"\"\""
      ],
      "metadata": {
        "id": "pP5g8TOI512D"
      },
      "execution_count": 243,
      "outputs": []
    },
    {
      "cell_type": "code",
      "source": [
        "# Do not modify this code\n",
        "print_tile(size=\"h3\", key='fit_model_explanations', value=fit_model_explanations)"
      ],
      "metadata": {
        "colab": {
          "base_uri": "https://localhost:8080/",
          "height": 183
        },
        "id": "tJFXETdq55Ua",
        "outputId": "30986cdc-ae9e-4653-d850-6fb6e4689de4"
      },
      "execution_count": 244,
      "outputs": [
        {
          "output_type": "display_data",
          "data": {
            "text/plain": [
              "<IPython.core.display.HTML object>"
            ],
            "text/html": [
              "<p style=\"color:grey\">fit_model_explanations</p><h3 font-size: 3em>\n",
              "We trained an SGDClassifier using the cleaned, standardized, and encoded dataset with the top 10 selected features.\n",
              "\n",
              "The model was configured with key hyperparameters such as `loss='log_loss'`, `penalty='elasticnet'`, and `class_weight='balanced'` to ensure proper learning under extreme class imbalance.\n",
              "\n",
              "All numerical features were standardized using a pipeline to support stable gradient descent.\n",
              "\n",
              "On the validation set, the model achieved an AUROC score of 0.9925, indicating excellent ability to distinguish between drafted and non-drafted players.\n",
              "\n",
              "This result shows that with proper preprocessing and regularization, even a simple linear model like SGDClassifier can perform remarkably well on this classification task.\n",
              "</h3>"
            ]
          },
          "metadata": {}
        }
      ]
    },
    {
      "cell_type": "markdown",
      "source": [
        "### J.4 Model Technical Performance\n",
        "\n",
        "> Provide some explanations on model performance\n"
      ],
      "metadata": {
        "id": "q43YtqpdeniY"
      }
    },
    {
      "cell_type": "code",
      "execution_count": 185,
      "metadata": {
        "id": "x1Q3oxoNhez5"
      },
      "outputs": [],
      "source": [
        "# <Student to fill this section>"
      ]
    },
    {
      "cell_type": "code",
      "source": [
        "# <Student to fill this section>\n",
        "model_performance_explanations = \"\"\"\n",
        "The SGDClassifier model achieved an AUROC of 0.9925 on the validation set.\n",
        "\n",
        "This indicates excellent performance in distinguishing between drafted and non-drafted players,\n",
        "despite the extreme class imbalance.\n",
        "\n",
        "Compared to baseline models like Logistic Regression (AUROC 0.9758),\n",
        "SGDClassifier performs even better while maintaining high efficiency and interpretability.\n",
        "\n",
        "This result highlights that, with proper feature selection, scaling, and regularization,\n",
        "a linear model can be both simple and highly effective for this classification task.\n",
        "\"\"\""
      ],
      "metadata": {
        "id": "_YbQldshHk_3"
      },
      "execution_count": 245,
      "outputs": []
    },
    {
      "cell_type": "code",
      "source": [
        "# Do not modify this code\n",
        "print_tile(size=\"h3\", key='model_performance_explanations', value=model_performance_explanations)"
      ],
      "metadata": {
        "id": "-MkLnLzVHlDO",
        "colab": {
          "base_uri": "https://localhost:8080/",
          "height": 142
        },
        "outputId": "a85daa8f-7a5c-425d-ce12-daa918db4332"
      },
      "execution_count": 246,
      "outputs": [
        {
          "output_type": "display_data",
          "data": {
            "text/plain": [
              "<IPython.core.display.HTML object>"
            ],
            "text/html": [
              "<p style=\"color:grey\">model_performance_explanations</p><h3 font-size: 3em>\n",
              "The SGDClassifier model achieved an AUROC of 0.9925 on the validation set.\n",
              "\n",
              "This indicates excellent performance in distinguishing between drafted and non-drafted players, \n",
              "despite the extreme class imbalance.\n",
              "\n",
              "Compared to baseline models like Logistic Regression (AUROC 0.9758), \n",
              "SGDClassifier performs even better while maintaining high efficiency and interpretability.\n",
              "\n",
              "This result highlights that, with proper feature selection, scaling, and regularization, \n",
              "a linear model can be both simple and highly effective for this classification task.\n",
              "</h3>"
            ]
          },
          "metadata": {}
        }
      ]
    },
    {
      "cell_type": "code",
      "source": [
        "# Plot ROC Curve\n",
        "fpr, tpr, thresholds = roc_curve(y_val, y_val_scores)\n",
        "\n",
        "plt.figure(figsize=(6, 4))\n",
        "plt.plot(fpr, tpr, label=f'SGDClassifier (AUROC = {sgd_auc:.4f})', color='darkorange')\n",
        "plt.plot([0, 1], [0, 1], 'k--', label='Random Guessing')\n",
        "\n",
        "plt.xlabel('False Positive Rate')\n",
        "plt.ylabel('True Positive Rate')\n",
        "plt.title('ROC Curve - Validation Set')\n",
        "plt.legend(loc='lower right')\n",
        "plt.tight_layout()\n",
        "plt.show()\n"
      ],
      "metadata": {
        "colab": {
          "base_uri": "https://localhost:8080/",
          "height": 407
        },
        "id": "Q4zKqI4Y6Iau",
        "outputId": "d01448fd-9a55-4d07-8678-7c5351de9e12"
      },
      "execution_count": 247,
      "outputs": [
        {
          "output_type": "display_data",
          "data": {
            "text/plain": [
              "<Figure size 600x400 with 1 Axes>"
            ],
            "image/png": "[encoded data removed]"
          },
          "metadata": {}
        }
      ]
    },
    {
      "cell_type": "markdown",
      "source": [
        "### J.5 Business Impact from Current Model Performance\n",
        "\n",
        "> Provide some analysis on the model impacts from the business point of view\n"
      ],
      "metadata": {
        "id": "W1HgZMPcmtu7"
      }
    },
    {
      "cell_type": "code",
      "source": [
        "# <Student to fill this section>"
      ],
      "metadata": {
        "id": "XGq2RWyqmuKM"
      },
      "execution_count": 188,
      "outputs": []
    },
    {
      "cell_type": "code",
      "source": [
        "# <Student to fill this section>\n",
        "business_impacts_explanations = \"\"\"\n",
        "The SGDClassifier model (AUROC 0.9925) offers a highly accurate yet efficient way to support scouting decisions by identifying high-potential draft candidates based on performance metrics.\n",
        "\n",
        "Despite being a linear model, it performs exceptionally well and can significantly reduce manual screening time while maintaining decision quality.\n",
        "\n",
        "While some false positives may still occur, the model provides strong value by prioritizing players for further evaluation, allowing teams to allocate scouting resources more effectively.\n",
        "\"\"\""
      ],
      "metadata": {
        "id": "7bcCHiP-Hozj"
      },
      "execution_count": 248,
      "outputs": []
    },
    {
      "cell_type": "code",
      "source": [
        "# Do not modify this code\n",
        "print_tile(size=\"h3\", key='business_impacts_explanations', value=business_impacts_explanations)"
      ],
      "metadata": {
        "id": "RQ3lJGAnHo3O",
        "colab": {
          "base_uri": "https://localhost:8080/",
          "height": 142
        },
        "outputId": "d0d23663-4989-49d0-b91b-e7489b884b9b"
      },
      "execution_count": 249,
      "outputs": [
        {
          "output_type": "display_data",
          "data": {
            "text/plain": [
              "<IPython.core.display.HTML object>"
            ],
            "text/html": [
              "<p style=\"color:grey\">business_impacts_explanations</p><h3 font-size: 3em>\n",
              "The SGDClassifier model (AUROC 0.9925) offers a highly accurate yet efficient way to support scouting decisions by identifying high-potential draft candidates based on performance metrics.\n",
              "\n",
              "Despite being a linear model, it performs exceptionally well and can significantly reduce manual screening time while maintaining decision quality.\n",
              "\n",
              "While some false positives may still occur, the model provides strong value by prioritizing players for further evaluation, allowing teams to allocate scouting resources more effectively.\n",
              "</h3>"
            ]
          },
          "metadata": {}
        }
      ]
    },
    {
      "cell_type": "markdown",
      "source": [
        "## H. Project Outcomes"
      ],
      "metadata": {
        "id": "mp1Ie9o8nDl1"
      }
    },
    {
      "cell_type": "code",
      "source": [
        "# <Student to fill this section>\n",
        "experiment_outcome = \"Hypothesis Confirmed\""
      ],
      "metadata": {
        "id": "AvFNheh1HtPb"
      },
      "execution_count": 250,
      "outputs": []
    },
    {
      "cell_type": "code",
      "source": [
        "# Do not modify this code\n",
        "print_tile(size=\"h2\", key='experiment_outcomes_explanations', value=experiment_outcome)"
      ],
      "metadata": {
        "id": "23bFWNIVHtTU",
        "colab": {
          "base_uri": "https://localhost:8080/",
          "height": 88
        },
        "outputId": "f932a917-5e83-43a4-98d0-861fe7f23540"
      },
      "execution_count": 251,
      "outputs": [
        {
          "output_type": "display_data",
          "data": {
            "text/plain": [
              "<IPython.core.display.HTML object>"
            ],
            "text/html": [
              "<p style=\"color:grey\">experiment_outcomes_explanations</p><h2 font-size: 3em>Hypothesis Confirmed</h2>"
            ]
          },
          "metadata": {}
        }
      ]
    },
    {
      "cell_type": "code",
      "source": [
        "# <Student to fill this section>\n",
        "experiment_results_explanations = \"\"\"\n",
        "The experiment confirmed our hypothesis: using SGDClassifier with selected features resulted in a strong AUROC of 0.9925. This demonstrates that player statistics can reliably predict draft outcomes, even with a simple linear model.\n",
        "\n",
        "We also gained valuable insights into the most influential features such as points per game, minutes played, and efficiency metrics supporting their real world relevance in draft decisions.\n",
        "\n",
        "Next steps:\n",
        "1. Perform hyperparameter tuning or try calibrated models to further refine performance.\n",
        "2. Incorporate SHAP or coefficients analysis to interpret model decisions and improve transparency.\n",
        "3. Explore additional features such as player position, injury history, or scouting reports.\n",
        "\n",
        "Given the current results, this model is highly promising and could be piloted to assist scouts in prioritizing candidates for deeper evaluation.\n",
        "\"\"\""
      ],
      "metadata": {
        "id": "iFF8wsz6HteA"
      },
      "execution_count": 255,
      "outputs": []
    },
    {
      "cell_type": "code",
      "source": [
        "# Do not modify this code\n",
        "print_tile(size=\"h2\", key='experiment_results_explanations', value=experiment_results_explanations)"
      ],
      "metadata": {
        "id": "QpWzEhX2HthW",
        "colab": {
          "base_uri": "https://localhost:8080/",
          "height": 296
        },
        "outputId": "f2fd07f0-93d1-4160-9bc2-462c4afbdcd2"
      },
      "execution_count": 256,
      "outputs": [
        {
          "output_type": "display_data",
          "data": {
            "text/plain": [
              "<IPython.core.display.HTML object>"
            ],
            "text/html": [
              "<p style=\"color:grey\">experiment_results_explanations</p><h2 font-size: 3em>\n",
              "The experiment confirmed our hypothesis: using SGDClassifier with selected features resulted in a strong AUROC of 0.9925. This demonstrates that player statistics can reliably predict draft outcomes, even with a simple linear model.\n",
              "\n",
              "We also gained valuable insights into the most influential features such as points per game, minutes played, and efficiency metrics supporting their real world relevance in draft decisions.\n",
              "\n",
              "Next steps:\n",
              "1. Perform hyperparameter tuning or try calibrated models to further refine performance.\n",
              "2. Incorporate SHAP or coefficients analysis to interpret model decisions and improve transparency.\n",
              "3. Explore additional features such as player position, injury history, or scouting reports.\n",
              "\n",
              "Given the current results, this model is highly promising and could be piloted to assist scouts in prioritizing candidates for deeper evaluation.\n",
              "</h2>"
            ]
          },
          "metadata": {}
        }
      ]
    },
    {
      "cell_type": "code",
      "source": [
        "# Predict scores on the test set (SGDClassifier)\n",
        "test_probs = sgd_pipeline.decision_function(test[features_list])\n",
        "\n",
        "# Sigmoid transformation\n",
        "from scipy.special import expit\n",
        "test_probs = expit(test_probs)\n",
        "\n",
        "# Create Kaggle submission\n",
        "submission = pd.DataFrame({\n",
        "    \"player_id\": test[\"player_id\"],\n",
        "    \"drafted\": test_probs\n",
        "})\n",
        "\n",
        "# Save to CSV\n",
        "submission.to_csv(\"submission.csv\", index=False)\n",
        "print(\"submission.csv saved\")\n",
        "\n",
        "# Download (Google Colab only)\n",
        "from google.colab import files\n",
        "files.download(\"submission.csv\")"
      ],
      "metadata": {
        "id": "4-Fz8eeLH1GR",
        "colab": {
          "base_uri": "https://localhost:8080/",
          "height": 35
        },
        "outputId": "d2475b61-22f1-4509-e9ce-dbb72a4c67f3"
      },
      "execution_count": 257,
      "outputs": [
        {
          "output_type": "stream",
          "name": "stdout",
          "text": [
            "submission.csv saved\n"
          ]
        },
        {
          "output_type": "display_data",
          "data": {
            "text/plain": [
              "<IPython.core.display.Javascript object>"
            ],
            "application/javascript": [
              "\n",
              "    async function download(id, filename, size) {\n",
              "      if (!google.colab.kernel.accessAllowed) {\n",
              "        return;\n",
              "      }\n",
              "      const div = document.createElement('div');\n",
              "      const label = document.createElement('label');\n",
              "      label.textContent = `Downloading \"${filename}\": `;\n",
              "      div.appendChild(label);\n",
              "      const progress = document.createElement('progress');\n",
              "      progress.max = size;\n",
              "      div.appendChild(progress);\n",
              "      document.body.appendChild(div);\n",
              "\n",
              "      const buffers = [];\n",
              "      let downloaded = 0;\n",
              "\n",
              "      const channel = await google.colab.kernel.comms.open(id);\n",
              "      // Send a message to notify the kernel that we're ready.\n",
              "      channel.send({})\n",
              "\n",
              "      for await (const message of channel.messages) {\n",
              "        // Send a message to notify the kernel that we're ready.\n",
              "        channel.send({})\n",
              "        if (message.buffers) {\n",
              "          for (const buffer of message.buffers) {\n",
              "            buffers.push(buffer);\n",
              "            downloaded += buffer.byteLength;\n",
              "            progress.value = downloaded;\n",
              "          }\n",
              "        }\n",
              "      }\n",
              "      const blob = new Blob(buffers, {type: 'application/binary'});\n",
              "      const a = document.createElement('a');\n",
              "      a.href = window.URL.createObjectURL(blob);\n",
              "      a.download = filename;\n",
              "      div.appendChild(a);\n",
              "      a.click();\n",
              "      div.remove();\n",
              "    }\n",
              "  "
            ]
          },
          "metadata": {}
        },
        {
          "output_type": "display_data",
          "data": {
            "text/plain": [
              "<IPython.core.display.Javascript object>"
            ],
            "application/javascript": [
              "download(\"download_676f4843-3a1b-4146-ab14-abcfd1a9caff\", \"submission.csv\", 75986)"
            ]
          },
          "metadata": {}
        }
      ]
    },
    {
      "cell_type": "code",
      "source": [],
      "metadata": {
        "id": "ctaHoeX-H1Ix"
      },
      "execution_count": 194,
      "outputs": []
    }
  ],
  "metadata": {
    "colab": {
      "provenance": []
    },
    "kernelspec": {
      "display_name": "Python 3 (ipykernel)",
      "language": "python",
      "name": "python3"
    },
    "language_info": {
      "codemirror_mode": {
        "name": "ipython",
        "version": 3
      },
      "file_extension": ".py",
      "mimetype": "text/x-python",
      "name": "python",
      "nbconvert_exporter": "python",
      "pygments_lexer": "ipython3",
      "version": "3.10.10"
    }
  },
  "nbformat": 4,
  "nbformat_minor": 0
}