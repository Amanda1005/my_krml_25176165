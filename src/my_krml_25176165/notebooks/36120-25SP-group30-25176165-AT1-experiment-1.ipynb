{
  "cells": [
    {
      "cell_type": "markdown",
      "metadata": {
        "id": "uQ6wc2HE0pke"
      },
      "source": [
        "# **Experiment Notebook**\n",
        "\n"
      ]
    },
    {
      "cell_type": "code",
      "source": [
        "# Do not modify this code\n",
        "!pip install -q utstd\n",
        "\n",
        "from utstd.ipyrenders import *"
      ],
      "metadata": {
        "id": "qNOA146K2c6f",
        "colab": {
          "base_uri": "https://localhost:8080/"
        },
        "outputId": "e24d813b-cf62-49bf-e87c-eb09ab99c84d"
      },
      "execution_count": 1,
      "outputs": [
        {
          "output_type": "stream",
          "name": "stdout",
          "text": [
            "\u001b[2K   \u001b[90m━━━━━━━━━━━━━━━━━━━━━━━━━━━━━━━━━━━━━━━━\u001b[0m \u001b[32m12.9/12.9 MB\u001b[0m \u001b[31m24.4 MB/s\u001b[0m eta \u001b[36m0:00:00\u001b[0m\n",
            "\u001b[2K   \u001b[90m━━━━━━━━━━━━━━━━━━━━━━━━━━━━━━━━━━━━━━━━\u001b[0m \u001b[32m1.6/1.6 MB\u001b[0m \u001b[31m29.4 MB/s\u001b[0m eta \u001b[36m0:00:00\u001b[0m\n",
            "\u001b[?25h\u001b[31mERROR: pip's dependency resolver does not currently take into account all the packages that are installed. This behaviour is the source of the following dependency conflicts.\n",
            "umap-learn 0.5.9.post2 requires scikit-learn>=1.6, but you have scikit-learn 1.5.2 which is incompatible.\u001b[0m\u001b[31m\n",
            "\u001b[0m"
          ]
        }
      ]
    },
    {
      "cell_type": "code",
      "source": [
        "# Do not modify this code\n",
        "import warnings\n",
        "warnings.simplefilter(action='ignore')"
      ],
      "metadata": {
        "id": "6FneOmBfka9G"
      },
      "execution_count": 2,
      "outputs": []
    },
    {
      "cell_type": "markdown",
      "source": [
        "## 0. Import Packages"
      ],
      "metadata": {
        "id": "mXFKfa2tp1ch"
      }
    },
    {
      "cell_type": "code",
      "source": [
        "# <Student to fill this section>\n"
      ],
      "metadata": {
        "id": "GBEAwdncnlAx"
      },
      "execution_count": 3,
      "outputs": []
    },
    {
      "cell_type": "markdown",
      "metadata": {
        "id": "tQgxLRrvjiJb"
      },
      "source": [
        "---\n",
        "## A. Project Description\n"
      ]
    },
    {
      "cell_type": "code",
      "source": [
        "# <Student to fill this section>\n",
        "student_name = \"Nian-Ya, Weng\"\n",
        "student_id = \"25176165\"\n",
        "group_id = \"30\""
      ],
      "metadata": {
        "id": "Je1EzzfFD5hj"
      },
      "execution_count": 4,
      "outputs": []
    },
    {
      "cell_type": "code",
      "source": [
        "# Do not modify this code\n",
        "print_tile(size=\"h1\", key='student_name', value=student_name)"
      ],
      "metadata": {
        "id": "pdKiYvFWD5my",
        "colab": {
          "base_uri": "https://localhost:8080/",
          "height": 98
        },
        "outputId": "0b885ff6-688a-46ff-e98a-0236c99952bf"
      },
      "execution_count": 5,
      "outputs": [
        {
          "output_type": "display_data",
          "data": {
            "text/plain": [
              "<IPython.core.display.HTML object>"
            ],
            "text/html": [
              "<p style=\"color:grey\">student_name</p><h1 font-size: 3em>Nian-Ya, Weng</h1>"
            ]
          },
          "metadata": {}
        }
      ]
    },
    {
      "cell_type": "code",
      "source": [
        "# Do not modify this code\n",
        "print_tile(size=\"h1\", key='student_id', value=student_id)"
      ],
      "metadata": {
        "id": "9KTEbRjqD5o_",
        "colab": {
          "base_uri": "https://localhost:8080/",
          "height": 98
        },
        "outputId": "2f4e1175-c6e9-4277-9ae9-6250d7759843"
      },
      "execution_count": 6,
      "outputs": [
        {
          "output_type": "display_data",
          "data": {
            "text/plain": [
              "<IPython.core.display.HTML object>"
            ],
            "text/html": [
              "<p style=\"color:grey\">student_id</p><h1 font-size: 3em>25176165</h1>"
            ]
          },
          "metadata": {}
        }
      ]
    },
    {
      "cell_type": "code",
      "source": [
        "# Do not modify this code\n",
        "print_tile(size=\"h1\", key='group_id', value=group_id)"
      ],
      "metadata": {
        "id": "UKRt4jK6rInY",
        "colab": {
          "base_uri": "https://localhost:8080/",
          "height": 98
        },
        "outputId": "522ddb57-67db-448b-b974-340845cdd795"
      },
      "execution_count": 7,
      "outputs": [
        {
          "output_type": "display_data",
          "data": {
            "text/plain": [
              "<IPython.core.display.HTML object>"
            ],
            "text/html": [
              "<p style=\"color:grey\">group_id</p><h1 font-size: 3em>30</h1>"
            ]
          },
          "metadata": {}
        }
      ]
    },
    {
      "cell_type": "markdown",
      "source": [
        "---\n",
        "## B. Business Understanding"
      ],
      "metadata": {
        "id": "4q1Bzcejvfpm"
      }
    },
    {
      "cell_type": "code",
      "source": [
        "# <Student to fill this section>\n",
        "business_use_case_description = \"\"\"\n",
        "The goal of this project is to assist NBA teams in identifying college basketball players who are most likely to be drafted. By building a predictive model using historical player statistics, teams can make more informed scouting decisions and better allocate their resources. This tool can also support media and fan engagement platforms that predict player drafts, enhancing audience interaction and content value.\n",
        "\"\"\"\n"
      ],
      "metadata": {
        "id": "Mmo6apC9EEv8"
      },
      "execution_count": 8,
      "outputs": []
    },
    {
      "cell_type": "code",
      "source": [
        "# Do not modify this code\n",
        "print_tile(size=\"h3\", key='business_use_case_description', value=business_use_case_description)"
      ],
      "metadata": {
        "id": "bgb0DkG2EE2e",
        "colab": {
          "base_uri": "https://localhost:8080/",
          "height": 142
        },
        "outputId": "f807e803-e441-49ab-df0b-8b1215344f9e"
      },
      "execution_count": 9,
      "outputs": [
        {
          "output_type": "display_data",
          "data": {
            "text/plain": [
              "<IPython.core.display.HTML object>"
            ],
            "text/html": [
              "<p style=\"color:grey\">business_use_case_description</p><h3 font-size: 3em>\n",
              "The goal of this project is to assist NBA teams in identifying college basketball players who are most likely to be drafted. By building a predictive model using historical player statistics, teams can make more informed scouting decisions and better allocate their resources. This tool can also support media and fan engagement platforms that predict player drafts, enhancing audience interaction and content value.\n",
              "</h3>"
            ]
          },
          "metadata": {}
        }
      ]
    },
    {
      "cell_type": "code",
      "source": [
        "# <Student to fill this section>\n",
        "business_objectives = \"\"\"\n",
        "Accurate predictions can significantly improve the efficiency and success of NBA teams' draft strategies by identifying high-potential players early, reducing scouting costs, and increasing the return on investment in drafted players. It can also enhance fan engagement and media analytics products by providing more reliable draft forecasts.\n",
        "\n",
        "On the other hand, incorrect predictions may lead to poor draft choices, missed opportunities to recruit strong players, wasted resources on ineffective scouting, and reduced confidence in analytics-driven decision-making within the organization.\n",
        "\"\"\""
      ],
      "metadata": {
        "id": "29Yqk3d2EE8q"
      },
      "execution_count": 10,
      "outputs": []
    },
    {
      "cell_type": "code",
      "source": [
        "# Do not modify this code\n",
        "print_tile(size=\"h3\", key='business_objectives', value=business_objectives)"
      ],
      "metadata": {
        "id": "sSu_8J96EFDs",
        "colab": {
          "base_uri": "https://localhost:8080/",
          "height": 162
        },
        "outputId": "be45bdee-6219-4f2a-c17c-6ba5101b1a8f"
      },
      "execution_count": 11,
      "outputs": [
        {
          "output_type": "display_data",
          "data": {
            "text/plain": [
              "<IPython.core.display.HTML object>"
            ],
            "text/html": [
              "<p style=\"color:grey\">business_objectives</p><h3 font-size: 3em>\n",
              "Accurate predictions can significantly improve the efficiency and success of NBA teams' draft strategies by identifying high-potential players early, reducing scouting costs, and increasing the return on investment in drafted players. It can also enhance fan engagement and media analytics products by providing more reliable draft forecasts.\n",
              "\n",
              "On the other hand, incorrect predictions may lead to poor draft choices, missed opportunities to recruit strong players, wasted resources on ineffective scouting, and reduced confidence in analytics-driven decision-making within the organization.\n",
              "</h3>"
            ]
          },
          "metadata": {}
        }
      ]
    },
    {
      "cell_type": "code",
      "source": [
        "# <Student to fill this section>\n",
        "stakeholders_expectations_explanations = \"\"\"\n",
        "The results of the predictions will be used to support NBA team management, scouts, and analysts in making informed draft decisions. The primary users of the predictions will be the team's data analytics departments and decision-makers involved in the player selection process.\n",
        "\n",
        "Other stakeholders impacted by the predictions include players—whose draft chances and career opportunities may be affected—, media platforms that use such data for public draft forecasts, and fans who follow and engage with draft-related content. Accurate predictions are expected to improve trust in analytics and enhance engagement across these stakeholders.\n",
        "\"\"\""
      ],
      "metadata": {
        "id": "Hf4ThY5cEF5W"
      },
      "execution_count": 12,
      "outputs": []
    },
    {
      "cell_type": "code",
      "source": [
        "# Do not modify this code\n",
        "print_tile(size=\"h3\", key='stakeholders_expectations_explanations', value=stakeholders_expectations_explanations)"
      ],
      "metadata": {
        "id": "jH9a2X70EF8M",
        "colab": {
          "base_uri": "https://localhost:8080/",
          "height": 162
        },
        "outputId": "84caea4d-5f3f-4ff5-965a-b4fb7448a4d1"
      },
      "execution_count": 13,
      "outputs": [
        {
          "output_type": "display_data",
          "data": {
            "text/plain": [
              "<IPython.core.display.HTML object>"
            ],
            "text/html": [
              "<p style=\"color:grey\">stakeholders_expectations_explanations</p><h3 font-size: 3em>\n",
              "The results of the predictions will be used to support NBA team management, scouts, and analysts in making informed draft decisions. The primary users of the predictions will be the team's data analytics departments and decision-makers involved in the player selection process.\n",
              "\n",
              "Other stakeholders impacted by the predictions include players—whose draft chances and career opportunities may be affected—, media platforms that use such data for public draft forecasts, and fans who follow and engage with draft-related content. Accurate predictions are expected to improve trust in analytics and enhance engagement across these stakeholders.\n",
              "</h3>"
            ]
          },
          "metadata": {}
        }
      ]
    },
    {
      "cell_type": "markdown",
      "source": [
        "---\n",
        "## C. Data Understanding"
      ],
      "metadata": {
        "id": "P0zsEPshwy1K"
      }
    },
    {
      "cell_type": "markdown",
      "source": [
        "### C.1   Load Datasets\n"
      ],
      "metadata": {
        "id": "sGMWhKSbUl63"
      }
    },
    {
      "cell_type": "code",
      "source": [
        "# <Student to fill this section>"
      ],
      "metadata": {
        "id": "-oW9-06P6qKH"
      },
      "execution_count": 14,
      "outputs": []
    },
    {
      "cell_type": "code",
      "source": [
        "# <Student to fill this section>\n",
        "\n",
        "import os\n",
        "import pandas as pd\n",
        "from pathlib import Path\n",
        "\n",
        "# check if you are in the Colab environment\n",
        "IN_COLAB = \"google.colab\" in str(get_ipython())\n",
        "\n",
        "# automatically set the path\n",
        "if IN_COLAB:\n",
        "    from google.colab import files\n",
        "    print(\"Colab detected. Please upload your 'train.csv' and 'test.csv' files.\")\n",
        "    uploaded = files.upload()\n",
        "    PATH_TRAIN = \"train.csv\"\n",
        "    PATH_TEST = \"test.csv\"\n",
        "else:\n",
        "    PATH_TRAIN = Path(\"data/raw/train.csv\")\n",
        "    PATH_TEST = Path(\"data/raw/test.csv\")\n",
        "\n",
        "# load data\n",
        "train = pd.read_csv(PATH_TRAIN)\n",
        "test = pd.read_csv(PATH_TEST)\n",
        "\n",
        "# show basic information\n",
        "print(\"Train shape:\", train.shape)\n",
        "print(\"Test shape:\", test.shape)\n",
        "print(\"Columns in Train:\", train.columns.tolist())\n",
        "\n",
        "# display data\n",
        "display(train.head())\n"
      ],
      "metadata": {
        "colab": {
          "base_uri": "https://localhost:8080/",
          "height": 682
        },
        "id": "dicZmTUs6rll",
        "outputId": "091fa5b3-fa39-474b-85d5-5b35a1c7439f"
      },
      "execution_count": 15,
      "outputs": [
        {
          "output_type": "stream",
          "name": "stdout",
          "text": [
            "Colab detected. Please upload your 'train.csv' and 'test.csv' files.\n"
          ]
        },
        {
          "output_type": "display_data",
          "data": {
            "text/plain": [
              "<IPython.core.display.HTML object>"
            ],
            "text/html": [
              "\n",
              "     <input type=\"file\" id=\"files-8d09bb3a-96db-4934-8b4b-d256a718e591\" name=\"files[]\" multiple disabled\n",
              "        style=\"border:none\" />\n",
              "     <output id=\"result-8d09bb3a-96db-4934-8b4b-d256a718e591\">\n",
              "      Upload widget is only available when the cell has been executed in the\n",
              "      current browser session. Please rerun this cell to enable.\n",
              "      </output>\n",
              "      <script>// Copyright 2017 Google LLC\n",
              "//\n",
              "// Licensed under the Apache License, Version 2.0 (the \"License\");\n",
              "// you may not use this file except in compliance with the License.\n",
              "// You may obtain a copy of the License at\n",
              "//\n",
              "//      http://www.apache.org/licenses/LICENSE-2.0\n",
              "//\n",
              "// Unless required by applicable law or agreed to in writing, software\n",
              "// distributed under the License is distributed on an \"AS IS\" BASIS,\n",
              "// WITHOUT WARRANTIES OR CONDITIONS OF ANY KIND, either express or implied.\n",
              "// See the License for the specific language governing permissions and\n",
              "// limitations under the License.\n",
              "\n",
              "/**\n",
              " * @fileoverview Helpers for google.colab Python module.\n",
              " */\n",
              "(function(scope) {\n",
              "function span(text, styleAttributes = {}) {\n",
              "  const element = document.createElement('span');\n",
              "  element.textContent = text;\n",
              "  for (const key of Object.keys(styleAttributes)) {\n",
              "    element.style[key] = styleAttributes[key];\n",
              "  }\n",
              "  return element;\n",
              "}\n",
              "\n",
              "// Max number of bytes which will be uploaded at a time.\n",
              "const MAX_PAYLOAD_SIZE = 100 * 1024;\n",
              "\n",
              "function _uploadFiles(inputId, outputId) {\n",
              "  const steps = uploadFilesStep(inputId, outputId);\n",
              "  const outputElement = document.getElementById(outputId);\n",
              "  // Cache steps on the outputElement to make it available for the next call\n",
              "  // to uploadFilesContinue from Python.\n",
              "  outputElement.steps = steps;\n",
              "\n",
              "  return _uploadFilesContinue(outputId);\n",
              "}\n",
              "\n",
              "// This is roughly an async generator (not supported in the browser yet),\n",
              "// where there are multiple asynchronous steps and the Python side is going\n",
              "// to poll for completion of each step.\n",
              "// This uses a Promise to block the python side on completion of each step,\n",
              "// then passes the result of the previous step as the input to the next step.\n",
              "function _uploadFilesContinue(outputId) {\n",
              "  const outputElement = document.getElementById(outputId);\n",
              "  const steps = outputElement.steps;\n",
              "\n",
              "  const next = steps.next(outputElement.lastPromiseValue);\n",
              "  return Promise.resolve(next.value.promise).then((value) => {\n",
              "    // Cache the last promise value to make it available to the next\n",
              "    // step of the generator.\n",
              "    outputElement.lastPromiseValue = value;\n",
              "    return next.value.response;\n",
              "  });\n",
              "}\n",
              "\n",
              "/**\n",
              " * Generator function which is called between each async step of the upload\n",
              " * process.\n",
              " * @param {string} inputId Element ID of the input file picker element.\n",
              " * @param {string} outputId Element ID of the output display.\n",
              " * @return {!Iterable<!Object>} Iterable of next steps.\n",
              " */\n",
              "function* uploadFilesStep(inputId, outputId) {\n",
              "  const inputElement = document.getElementById(inputId);\n",
              "  inputElement.disabled = false;\n",
              "\n",
              "  const outputElement = document.getElementById(outputId);\n",
              "  outputElement.innerHTML = '';\n",
              "\n",
              "  const pickedPromise = new Promise((resolve) => {\n",
              "    inputElement.addEventListener('change', (e) => {\n",
              "      resolve(e.target.files);\n",
              "    });\n",
              "  });\n",
              "\n",
              "  const cancel = document.createElement('button');\n",
              "  inputElement.parentElement.appendChild(cancel);\n",
              "  cancel.textContent = 'Cancel upload';\n",
              "  const cancelPromise = new Promise((resolve) => {\n",
              "    cancel.onclick = () => {\n",
              "      resolve(null);\n",
              "    };\n",
              "  });\n",
              "\n",
              "  // Wait for the user to pick the files.\n",
              "  const files = yield {\n",
              "    promise: Promise.race([pickedPromise, cancelPromise]),\n",
              "    response: {\n",
              "      action: 'starting',\n",
              "    }\n",
              "  };\n",
              "\n",
              "  cancel.remove();\n",
              "\n",
              "  // Disable the input element since further picks are not allowed.\n",
              "  inputElement.disabled = true;\n",
              "\n",
              "  if (!files) {\n",
              "    return {\n",
              "      response: {\n",
              "        action: 'complete',\n",
              "      }\n",
              "    };\n",
              "  }\n",
              "\n",
              "  for (const file of files) {\n",
              "    const li = document.createElement('li');\n",
              "    li.append(span(file.name, {fontWeight: 'bold'}));\n",
              "    li.append(span(\n",
              "        `(${file.type || 'n/a'}) - ${file.size} bytes, ` +\n",
              "        `last modified: ${\n",
              "            file.lastModifiedDate ? file.lastModifiedDate.toLocaleDateString() :\n",
              "                                    'n/a'} - `));\n",
              "    const percent = span('0% done');\n",
              "    li.appendChild(percent);\n",
              "\n",
              "    outputElement.appendChild(li);\n",
              "\n",
              "    const fileDataPromise = new Promise((resolve) => {\n",
              "      const reader = new FileReader();\n",
              "      reader.onload = (e) => {\n",
              "        resolve(e.target.result);\n",
              "      };\n",
              "      reader.readAsArrayBuffer(file);\n",
              "    });\n",
              "    // Wait for the data to be ready.\n",
              "    let fileData = yield {\n",
              "      promise: fileDataPromise,\n",
              "      response: {\n",
              "        action: 'continue',\n",
              "      }\n",
              "    };\n",
              "\n",
              "    // Use a chunked sending to avoid message size limits. See b/62115660.\n",
              "    let position = 0;\n",
              "    do {\n",
              "      const length = Math.min(fileData.byteLength - position, MAX_PAYLOAD_SIZE);\n",
              "      const chunk = new Uint8Array(fileData, position, length);\n",
              "      position += length;\n",
              "\n",
              "      const base64 = btoa(String.fromCharCode.apply(null, chunk));\n",
              "      yield {\n",
              "        response: {\n",
              "          action: 'append',\n",
              "          file: file.name,\n",
              "          data: base64,\n",
              "        },\n",
              "      };\n",
              "\n",
              "      let percentDone = fileData.byteLength === 0 ?\n",
              "          100 :\n",
              "          Math.round((position / fileData.byteLength) * 100);\n",
              "      percent.textContent = `${percentDone}% done`;\n",
              "\n",
              "    } while (position < fileData.byteLength);\n",
              "  }\n",
              "\n",
              "  // All done.\n",
              "  yield {\n",
              "    response: {\n",
              "      action: 'complete',\n",
              "    }\n",
              "  };\n",
              "}\n",
              "\n",
              "scope.google = scope.google || {};\n",
              "scope.google.colab = scope.google.colab || {};\n",
              "scope.google.colab._files = {\n",
              "  _uploadFiles,\n",
              "  _uploadFilesContinue,\n",
              "};\n",
              "})(self);\n",
              "</script> "
            ]
          },
          "metadata": {}
        },
        {
          "output_type": "stream",
          "name": "stdout",
          "text": [
            "Saving test.csv to test.csv\n",
            "Saving train.csv to train.csv\n",
            "Train shape: (14774, 62)\n",
            "Test shape: (1297, 61)\n",
            "Columns in Train: ['team', 'conf', 'GP', 'Min_per', 'Ortg', 'usg', 'eFG', 'TS_per', 'ORB_per', 'DRB_per', 'AST_per', 'TO_per', 'FTM', 'FTA', 'FT_per', 'twoPM', 'twoPA', 'twoP_per', 'TPM', 'TPA', 'TP_per', 'blk_per', 'stl_per', 'ftr', 'yr', 'ht', 'porpag', 'adjoe', 'pfr', 'year', 'type', 'Rec_Rank', 'ast_tov', 'rimmade', 'rimmade_rimmiss', 'midmade', 'midmade_midmiss', 'rim_ratio', 'mid_ratio', 'dunksmade', 'dunksmiss_dunksmade', 'dunks_ratio', 'drtg', 'adrtg', 'dporpag', 'stops', 'bpm', 'obpm', 'dbpm', 'gbpm', 'mp', 'ogbpm', 'dgbpm', 'oreb', 'dreb', 'treb', 'ast', 'stl', 'blk', 'pts', 'player_id', 'drafted']\n"
          ]
        },
        {
          "output_type": "display_data",
          "data": {
            "text/plain": [
              "                team  conf  GP  Min_per   Ortg   usg   eFG  TS_per  ORB_per  \\\n",
              "0            Pacific    BW  26     52.6  111.8  19.3  61.8   64.93      1.1   \n",
              "1        Mississippi   SEC   2      0.8   63.6  29.6  33.3   33.33      0.0   \n",
              "2  Stephen F. Austin  Slnd   4      0.6   61.4  21.7  50.0   50.00      0.0   \n",
              "3           Virginia   ACC  28     59.2   88.2  21.7  46.2   47.25      1.5   \n",
              "4               Elon    SC  21     13.7   47.5  15.0  26.2   26.20      5.8   \n",
              "\n",
              "   DRB_per  ...    dgbpm    oreb    dreb    treb     ast     stl     blk  \\\n",
              "0      7.5  ... -1.34201  0.2308  1.5769  1.8077  2.2308  0.6538  0.0769   \n",
              "1     21.5  ... -5.42104  0.0000  1.0000  1.0000  0.0000  0.0000  0.0000   \n",
              "2      0.0  ...  6.46650  0.0000  0.0000  0.0000  0.0000  0.2500  0.0000   \n",
              "3      9.7  ...  1.45913  0.3214  2.0357  2.3571  3.0000  1.2857  0.0714   \n",
              "4      2.3  ... -3.75694  0.3810  0.1429  0.5238  0.4286  0.1905  0.0000   \n",
              "\n",
              "      pts                             player_id  drafted  \n",
              "0  9.6538  681edf6e-41cb-4fd1-ba91-da573e063fbc      0.0  \n",
              "1  2.0000  3542dcb7-19ad-47f2-8b3a-eb79eb3ec4c4      0.0  \n",
              "2  0.5000  ca0d8700-807d-4fce-a7a9-63922d1981e6      0.0  \n",
              "3  7.7500  01285c6b-bc71-4fa8-941a-28cf3976a117      0.0  \n",
              "4  0.5714  a962c41c-55ff-461e-8585-db32e4fa0580      0.0  \n",
              "\n",
              "[5 rows x 62 columns]"
            ],
            "text/html": [
              "\n",
              "  <div id=\"df-ec1dfe1d-ce5d-4a0e-b79a-097bee039a49\" class=\"colab-df-container\">\n",
              "    <div>\n",
              "<style scoped>\n",
              "    .dataframe tbody tr th:only-of-type {\n",
              "        vertical-align: middle;\n",
              "    }\n",
              "\n",
              "    .dataframe tbody tr th {\n",
              "        vertical-align: top;\n",
              "    }\n",
              "\n",
              "    .dataframe thead th {\n",
              "        text-align: right;\n",
              "    }\n",
              "</style>\n",
              "<table border=\"1\" class=\"dataframe\">\n",
              "  <thead>\n",
              "    <tr style=\"text-align: right;\">\n",
              "      <th></th>\n",
              "      <th>team</th>\n",
              "      <th>conf</th>\n",
              "      <th>GP</th>\n",
              "      <th>Min_per</th>\n",
              "      <th>Ortg</th>\n",
              "      <th>usg</th>\n",
              "      <th>eFG</th>\n",
              "      <th>TS_per</th>\n",
              "      <th>ORB_per</th>\n",
              "      <th>DRB_per</th>\n",
              "      <th>...</th>\n",
              "      <th>dgbpm</th>\n",
              "      <th>oreb</th>\n",
              "      <th>dreb</th>\n",
              "      <th>treb</th>\n",
              "      <th>ast</th>\n",
              "      <th>stl</th>\n",
              "      <th>blk</th>\n",
              "      <th>pts</th>\n",
              "      <th>player_id</th>\n",
              "      <th>drafted</th>\n",
              "    </tr>\n",
              "  </thead>\n",
              "  <tbody>\n",
              "    <tr>\n",
              "      <th>0</th>\n",
              "      <td>Pacific</td>\n",
              "      <td>BW</td>\n",
              "      <td>26</td>\n",
              "      <td>52.6</td>\n",
              "      <td>111.8</td>\n",
              "      <td>19.3</td>\n",
              "      <td>61.8</td>\n",
              "      <td>64.93</td>\n",
              "      <td>1.1</td>\n",
              "      <td>7.5</td>\n",
              "      <td>...</td>\n",
              "      <td>-1.34201</td>\n",
              "      <td>0.2308</td>\n",
              "      <td>1.5769</td>\n",
              "      <td>1.8077</td>\n",
              "      <td>2.2308</td>\n",
              "      <td>0.6538</td>\n",
              "      <td>0.0769</td>\n",
              "      <td>9.6538</td>\n",
              "      <td>681edf6e-41cb-4fd1-ba91-da573e063fbc</td>\n",
              "      <td>0.0</td>\n",
              "    </tr>\n",
              "    <tr>\n",
              "      <th>1</th>\n",
              "      <td>Mississippi</td>\n",
              "      <td>SEC</td>\n",
              "      <td>2</td>\n",
              "      <td>0.8</td>\n",
              "      <td>63.6</td>\n",
              "      <td>29.6</td>\n",
              "      <td>33.3</td>\n",
              "      <td>33.33</td>\n",
              "      <td>0.0</td>\n",
              "      <td>21.5</td>\n",
              "      <td>...</td>\n",
              "      <td>-5.42104</td>\n",
              "      <td>0.0000</td>\n",
              "      <td>1.0000</td>\n",
              "      <td>1.0000</td>\n",
              "      <td>0.0000</td>\n",
              "      <td>0.0000</td>\n",
              "      <td>0.0000</td>\n",
              "      <td>2.0000</td>\n",
              "      <td>3542dcb7-19ad-47f2-8b3a-eb79eb3ec4c4</td>\n",
              "      <td>0.0</td>\n",
              "    </tr>\n",
              "    <tr>\n",
              "      <th>2</th>\n",
              "      <td>Stephen F. Austin</td>\n",
              "      <td>Slnd</td>\n",
              "      <td>4</td>\n",
              "      <td>0.6</td>\n",
              "      <td>61.4</td>\n",
              "      <td>21.7</td>\n",
              "      <td>50.0</td>\n",
              "      <td>50.00</td>\n",
              "      <td>0.0</td>\n",
              "      <td>0.0</td>\n",
              "      <td>...</td>\n",
              "      <td>6.46650</td>\n",
              "      <td>0.0000</td>\n",
              "      <td>0.0000</td>\n",
              "      <td>0.0000</td>\n",
              "      <td>0.0000</td>\n",
              "      <td>0.2500</td>\n",
              "      <td>0.0000</td>\n",
              "      <td>0.5000</td>\n",
              "      <td>ca0d8700-807d-4fce-a7a9-63922d1981e6</td>\n",
              "      <td>0.0</td>\n",
              "    </tr>\n",
              "    <tr>\n",
              "      <th>3</th>\n",
              "      <td>Virginia</td>\n",
              "      <td>ACC</td>\n",
              "      <td>28</td>\n",
              "      <td>59.2</td>\n",
              "      <td>88.2</td>\n",
              "      <td>21.7</td>\n",
              "      <td>46.2</td>\n",
              "      <td>47.25</td>\n",
              "      <td>1.5</td>\n",
              "      <td>9.7</td>\n",
              "      <td>...</td>\n",
              "      <td>1.45913</td>\n",
              "      <td>0.3214</td>\n",
              "      <td>2.0357</td>\n",
              "      <td>2.3571</td>\n",
              "      <td>3.0000</td>\n",
              "      <td>1.2857</td>\n",
              "      <td>0.0714</td>\n",
              "      <td>7.7500</td>\n",
              "      <td>01285c6b-bc71-4fa8-941a-28cf3976a117</td>\n",
              "      <td>0.0</td>\n",
              "    </tr>\n",
              "    <tr>\n",
              "      <th>4</th>\n",
              "      <td>Elon</td>\n",
              "      <td>SC</td>\n",
              "      <td>21</td>\n",
              "      <td>13.7</td>\n",
              "      <td>47.5</td>\n",
              "      <td>15.0</td>\n",
              "      <td>26.2</td>\n",
              "      <td>26.20</td>\n",
              "      <td>5.8</td>\n",
              "      <td>2.3</td>\n",
              "      <td>...</td>\n",
              "      <td>-3.75694</td>\n",
              "      <td>0.3810</td>\n",
              "      <td>0.1429</td>\n",
              "      <td>0.5238</td>\n",
              "      <td>0.4286</td>\n",
              "      <td>0.1905</td>\n",
              "      <td>0.0000</td>\n",
              "      <td>0.5714</td>\n",
              "      <td>a962c41c-55ff-461e-8585-db32e4fa0580</td>\n",
              "      <td>0.0</td>\n",
              "    </tr>\n",
              "  </tbody>\n",
              "</table>\n",
              "<p>5 rows × 62 columns</p>\n",
              "</div>\n",
              "    <div class=\"colab-df-buttons\">\n",
              "\n",
              "  <div class=\"colab-df-container\">\n",
              "    <button class=\"colab-df-convert\" onclick=\"convertToInteractive('df-ec1dfe1d-ce5d-4a0e-b79a-097bee039a49')\"\n",
              "            title=\"Convert this dataframe to an interactive table.\"\n",
              "            style=\"display:none;\">\n",
              "\n",
              "  <svg xmlns=\"http://www.w3.org/2000/svg\" height=\"24px\" viewBox=\"0 -960 960 960\">\n",
              "    <path d=\"M120-120v-720h720v720H120Zm60-500h600v-160H180v160Zm220 220h160v-160H400v160Zm0 220h160v-160H400v160ZM180-400h160v-160H180v160Zm440 0h160v-160H620v160ZM180-180h160v-160H180v160Zm440 0h160v-160H620v160Z\"/>\n",
              "  </svg>\n",
              "    </button>\n",
              "\n",
              "  <style>\n",
              "    .colab-df-container {\n",
              "      display:flex;\n",
              "      gap: 12px;\n",
              "    }\n",
              "\n",
              "    .colab-df-convert {\n",
              "      background-color: #E8F0FE;\n",
              "      border: none;\n",
              "      border-radius: 50%;\n",
              "      cursor: pointer;\n",
              "      display: none;\n",
              "      fill: #1967D2;\n",
              "      height: 32px;\n",
              "      padding: 0 0 0 0;\n",
              "      width: 32px;\n",
              "    }\n",
              "\n",
              "    .colab-df-convert:hover {\n",
              "      background-color: #E2EBFA;\n",
              "      box-shadow: 0px 1px 2px rgba(60, 64, 67, 0.3), 0px 1px 3px 1px rgba(60, 64, 67, 0.15);\n",
              "      fill: #174EA6;\n",
              "    }\n",
              "\n",
              "    .colab-df-buttons div {\n",
              "      margin-bottom: 4px;\n",
              "    }\n",
              "\n",
              "    [theme=dark] .colab-df-convert {\n",
              "      background-color: #3B4455;\n",
              "      fill: #D2E3FC;\n",
              "    }\n",
              "\n",
              "    [theme=dark] .colab-df-convert:hover {\n",
              "      background-color: #434B5C;\n",
              "      box-shadow: 0px 1px 3px 1px rgba(0, 0, 0, 0.15);\n",
              "      filter: drop-shadow(0px 1px 2px rgba(0, 0, 0, 0.3));\n",
              "      fill: #FFFFFF;\n",
              "    }\n",
              "  </style>\n",
              "\n",
              "    <script>\n",
              "      const buttonEl =\n",
              "        document.querySelector('#df-ec1dfe1d-ce5d-4a0e-b79a-097bee039a49 button.colab-df-convert');\n",
              "      buttonEl.style.display =\n",
              "        google.colab.kernel.accessAllowed ? 'block' : 'none';\n",
              "\n",
              "      async function convertToInteractive(key) {\n",
              "        const element = document.querySelector('#df-ec1dfe1d-ce5d-4a0e-b79a-097bee039a49');\n",
              "        const dataTable =\n",
              "          await google.colab.kernel.invokeFunction('convertToInteractive',\n",
              "                                                    [key], {});\n",
              "        if (!dataTable) return;\n",
              "\n",
              "        const docLinkHtml = 'Like what you see? Visit the ' +\n",
              "          '<a target=\"_blank\" href=https://colab.research.google.com/notebooks/data_table.ipynb>data table notebook</a>'\n",
              "          + ' to learn more about interactive tables.';\n",
              "        element.innerHTML = '';\n",
              "        dataTable['output_type'] = 'display_data';\n",
              "        await google.colab.output.renderOutput(dataTable, element);\n",
              "        const docLink = document.createElement('div');\n",
              "        docLink.innerHTML = docLinkHtml;\n",
              "        element.appendChild(docLink);\n",
              "      }\n",
              "    </script>\n",
              "  </div>\n",
              "\n",
              "\n",
              "    <div id=\"df-d981e5f1-e631-42a5-b1d7-33304820c88e\">\n",
              "      <button class=\"colab-df-quickchart\" onclick=\"quickchart('df-d981e5f1-e631-42a5-b1d7-33304820c88e')\"\n",
              "                title=\"Suggest charts\"\n",
              "                style=\"display:none;\">\n",
              "\n",
              "<svg xmlns=\"http://www.w3.org/2000/svg\" height=\"24px\"viewBox=\"0 0 24 24\"\n",
              "     width=\"24px\">\n",
              "    <g>\n",
              "        <path d=\"M19 3H5c-1.1 0-2 .9-2 2v14c0 1.1.9 2 2 2h14c1.1 0 2-.9 2-2V5c0-1.1-.9-2-2-2zM9 17H7v-7h2v7zm4 0h-2V7h2v10zm4 0h-2v-4h2v4z\"/>\n",
              "    </g>\n",
              "</svg>\n",
              "      </button>\n",
              "\n",
              "<style>\n",
              "  .colab-df-quickchart {\n",
              "      --bg-color: #E8F0FE;\n",
              "      --fill-color: #1967D2;\n",
              "      --hover-bg-color: #E2EBFA;\n",
              "      --hover-fill-color: #174EA6;\n",
              "      --disabled-fill-color: #AAA;\n",
              "      --disabled-bg-color: #DDD;\n",
              "  }\n",
              "\n",
              "  [theme=dark] .colab-df-quickchart {\n",
              "      --bg-color: #3B4455;\n",
              "      --fill-color: #D2E3FC;\n",
              "      --hover-bg-color: #434B5C;\n",
              "      --hover-fill-color: #FFFFFF;\n",
              "      --disabled-bg-color: #3B4455;\n",
              "      --disabled-fill-color: #666;\n",
              "  }\n",
              "\n",
              "  .colab-df-quickchart {\n",
              "    background-color: var(--bg-color);\n",
              "    border: none;\n",
              "    border-radius: 50%;\n",
              "    cursor: pointer;\n",
              "    display: none;\n",
              "    fill: var(--fill-color);\n",
              "    height: 32px;\n",
              "    padding: 0;\n",
              "    width: 32px;\n",
              "  }\n",
              "\n",
              "  .colab-df-quickchart:hover {\n",
              "    background-color: var(--hover-bg-color);\n",
              "    box-shadow: 0 1px 2px rgba(60, 64, 67, 0.3), 0 1px 3px 1px rgba(60, 64, 67, 0.15);\n",
              "    fill: var(--button-hover-fill-color);\n",
              "  }\n",
              "\n",
              "  .colab-df-quickchart-complete:disabled,\n",
              "  .colab-df-quickchart-complete:disabled:hover {\n",
              "    background-color: var(--disabled-bg-color);\n",
              "    fill: var(--disabled-fill-color);\n",
              "    box-shadow: none;\n",
              "  }\n",
              "\n",
              "  .colab-df-spinner {\n",
              "    border: 2px solid var(--fill-color);\n",
              "    border-color: transparent;\n",
              "    border-bottom-color: var(--fill-color);\n",
              "    animation:\n",
              "      spin 1s steps(1) infinite;\n",
              "  }\n",
              "\n",
              "  @keyframes spin {\n",
              "    0% {\n",
              "      border-color: transparent;\n",
              "      border-bottom-color: var(--fill-color);\n",
              "      border-left-color: var(--fill-color);\n",
              "    }\n",
              "    20% {\n",
              "      border-color: transparent;\n",
              "      border-left-color: var(--fill-color);\n",
              "      border-top-color: var(--fill-color);\n",
              "    }\n",
              "    30% {\n",
              "      border-color: transparent;\n",
              "      border-left-color: var(--fill-color);\n",
              "      border-top-color: var(--fill-color);\n",
              "      border-right-color: var(--fill-color);\n",
              "    }\n",
              "    40% {\n",
              "      border-color: transparent;\n",
              "      border-right-color: var(--fill-color);\n",
              "      border-top-color: var(--fill-color);\n",
              "    }\n",
              "    60% {\n",
              "      border-color: transparent;\n",
              "      border-right-color: var(--fill-color);\n",
              "    }\n",
              "    80% {\n",
              "      border-color: transparent;\n",
              "      border-right-color: var(--fill-color);\n",
              "      border-bottom-color: var(--fill-color);\n",
              "    }\n",
              "    90% {\n",
              "      border-color: transparent;\n",
              "      border-bottom-color: var(--fill-color);\n",
              "    }\n",
              "  }\n",
              "</style>\n",
              "\n",
              "      <script>\n",
              "        async function quickchart(key) {\n",
              "          const quickchartButtonEl =\n",
              "            document.querySelector('#' + key + ' button');\n",
              "          quickchartButtonEl.disabled = true;  // To prevent multiple clicks.\n",
              "          quickchartButtonEl.classList.add('colab-df-spinner');\n",
              "          try {\n",
              "            const charts = await google.colab.kernel.invokeFunction(\n",
              "                'suggestCharts', [key], {});\n",
              "          } catch (error) {\n",
              "            console.error('Error during call to suggestCharts:', error);\n",
              "          }\n",
              "          quickchartButtonEl.classList.remove('colab-df-spinner');\n",
              "          quickchartButtonEl.classList.add('colab-df-quickchart-complete');\n",
              "        }\n",
              "        (() => {\n",
              "          let quickchartButtonEl =\n",
              "            document.querySelector('#df-d981e5f1-e631-42a5-b1d7-33304820c88e button');\n",
              "          quickchartButtonEl.style.display =\n",
              "            google.colab.kernel.accessAllowed ? 'block' : 'none';\n",
              "        })();\n",
              "      </script>\n",
              "    </div>\n",
              "\n",
              "    </div>\n",
              "  </div>\n"
            ],
            "application/vnd.google.colaboratory.intrinsic+json": {
              "type": "dataframe"
            }
          },
          "metadata": {}
        }
      ]
    },
    {
      "cell_type": "code",
      "source": [
        "# Check the number of missing values\n",
        "\n",
        "missing_train = train.isnull().sum()\n",
        "missing_test = test.isnull().sum()\n",
        "\n",
        "# Show columns with missing values\n",
        "print(\"Train missing fields\")\n",
        "display(missing_train[missing_train > 0])\n",
        "\n",
        "print(\"Test missing fields\")\n",
        "display(missing_test[missing_test > 0])\n"
      ],
      "metadata": {
        "colab": {
          "base_uri": "https://localhost:8080/",
          "height": 1000
        },
        "id": "nfAldYZJ7klo",
        "outputId": "693cb45f-f960-4fb9-82ff-e2e7b0df0895"
      },
      "execution_count": 16,
      "outputs": [
        {
          "output_type": "stream",
          "name": "stdout",
          "text": [
            "Train missing fields\n"
          ]
        },
        {
          "output_type": "display_data",
          "data": {
            "text/plain": [
              "ht                        8\n",
              "Rec_Rank               9885\n",
              "ast_tov                1535\n",
              "rimmade                2075\n",
              "rimmade_rimmiss        2075\n",
              "midmade                2075\n",
              "midmade_midmiss        2075\n",
              "rim_ratio              3203\n",
              "mid_ratio              3191\n",
              "dunksmade              2075\n",
              "dunksmiss_dunksmade    2075\n",
              "dunks_ratio            9388\n",
              "drtg                      5\n",
              "adrtg                     5\n",
              "dporpag                   5\n",
              "stops                     5\n",
              "bpm                       5\n",
              "obpm                      5\n",
              "dbpm                      5\n",
              "gbpm                      5\n",
              "mp                        1\n",
              "ogbpm                     5\n",
              "dgbpm                     5\n",
              "oreb                      1\n",
              "dreb                      1\n",
              "treb                      1\n",
              "ast                       1\n",
              "stl                       1\n",
              "blk                       1\n",
              "pts                       1\n",
              "dtype: int64"
            ],
            "text/html": [
              "<div>\n",
              "<style scoped>\n",
              "    .dataframe tbody tr th:only-of-type {\n",
              "        vertical-align: middle;\n",
              "    }\n",
              "\n",
              "    .dataframe tbody tr th {\n",
              "        vertical-align: top;\n",
              "    }\n",
              "\n",
              "    .dataframe thead th {\n",
              "        text-align: right;\n",
              "    }\n",
              "</style>\n",
              "<table border=\"1\" class=\"dataframe\">\n",
              "  <thead>\n",
              "    <tr style=\"text-align: right;\">\n",
              "      <th></th>\n",
              "      <th>0</th>\n",
              "    </tr>\n",
              "  </thead>\n",
              "  <tbody>\n",
              "    <tr>\n",
              "      <th>ht</th>\n",
              "      <td>8</td>\n",
              "    </tr>\n",
              "    <tr>\n",
              "      <th>Rec_Rank</th>\n",
              "      <td>9885</td>\n",
              "    </tr>\n",
              "    <tr>\n",
              "      <th>ast_tov</th>\n",
              "      <td>1535</td>\n",
              "    </tr>\n",
              "    <tr>\n",
              "      <th>rimmade</th>\n",
              "      <td>2075</td>\n",
              "    </tr>\n",
              "    <tr>\n",
              "      <th>rimmade_rimmiss</th>\n",
              "      <td>2075</td>\n",
              "    </tr>\n",
              "    <tr>\n",
              "      <th>midmade</th>\n",
              "      <td>2075</td>\n",
              "    </tr>\n",
              "    <tr>\n",
              "      <th>midmade_midmiss</th>\n",
              "      <td>2075</td>\n",
              "    </tr>\n",
              "    <tr>\n",
              "      <th>rim_ratio</th>\n",
              "      <td>3203</td>\n",
              "    </tr>\n",
              "    <tr>\n",
              "      <th>mid_ratio</th>\n",
              "      <td>3191</td>\n",
              "    </tr>\n",
              "    <tr>\n",
              "      <th>dunksmade</th>\n",
              "      <td>2075</td>\n",
              "    </tr>\n",
              "    <tr>\n",
              "      <th>dunksmiss_dunksmade</th>\n",
              "      <td>2075</td>\n",
              "    </tr>\n",
              "    <tr>\n",
              "      <th>dunks_ratio</th>\n",
              "      <td>9388</td>\n",
              "    </tr>\n",
              "    <tr>\n",
              "      <th>drtg</th>\n",
              "      <td>5</td>\n",
              "    </tr>\n",
              "    <tr>\n",
              "      <th>adrtg</th>\n",
              "      <td>5</td>\n",
              "    </tr>\n",
              "    <tr>\n",
              "      <th>dporpag</th>\n",
              "      <td>5</td>\n",
              "    </tr>\n",
              "    <tr>\n",
              "      <th>stops</th>\n",
              "      <td>5</td>\n",
              "    </tr>\n",
              "    <tr>\n",
              "      <th>bpm</th>\n",
              "      <td>5</td>\n",
              "    </tr>\n",
              "    <tr>\n",
              "      <th>obpm</th>\n",
              "      <td>5</td>\n",
              "    </tr>\n",
              "    <tr>\n",
              "      <th>dbpm</th>\n",
              "      <td>5</td>\n",
              "    </tr>\n",
              "    <tr>\n",
              "      <th>gbpm</th>\n",
              "      <td>5</td>\n",
              "    </tr>\n",
              "    <tr>\n",
              "      <th>mp</th>\n",
              "      <td>1</td>\n",
              "    </tr>\n",
              "    <tr>\n",
              "      <th>ogbpm</th>\n",
              "      <td>5</td>\n",
              "    </tr>\n",
              "    <tr>\n",
              "      <th>dgbpm</th>\n",
              "      <td>5</td>\n",
              "    </tr>\n",
              "    <tr>\n",
              "      <th>oreb</th>\n",
              "      <td>1</td>\n",
              "    </tr>\n",
              "    <tr>\n",
              "      <th>dreb</th>\n",
              "      <td>1</td>\n",
              "    </tr>\n",
              "    <tr>\n",
              "      <th>treb</th>\n",
              "      <td>1</td>\n",
              "    </tr>\n",
              "    <tr>\n",
              "      <th>ast</th>\n",
              "      <td>1</td>\n",
              "    </tr>\n",
              "    <tr>\n",
              "      <th>stl</th>\n",
              "      <td>1</td>\n",
              "    </tr>\n",
              "    <tr>\n",
              "      <th>blk</th>\n",
              "      <td>1</td>\n",
              "    </tr>\n",
              "    <tr>\n",
              "      <th>pts</th>\n",
              "      <td>1</td>\n",
              "    </tr>\n",
              "  </tbody>\n",
              "</table>\n",
              "</div><br><label><b>dtype:</b> int64</label>"
            ]
          },
          "metadata": {}
        },
        {
          "output_type": "stream",
          "name": "stdout",
          "text": [
            "Test missing fields\n"
          ]
        },
        {
          "output_type": "display_data",
          "data": {
            "text/plain": [
              "ht                       6\n",
              "Rec_Rank               894\n",
              "ast_tov                125\n",
              "rimmade                 61\n",
              "rimmade_rimmiss         61\n",
              "midmade                 61\n",
              "midmade_midmiss         61\n",
              "rim_ratio              178\n",
              "mid_ratio              196\n",
              "dunksmade               61\n",
              "dunksmiss_dunksmade     61\n",
              "dunks_ratio            738\n",
              "dtype: int64"
            ],
            "text/html": [
              "<div>\n",
              "<style scoped>\n",
              "    .dataframe tbody tr th:only-of-type {\n",
              "        vertical-align: middle;\n",
              "    }\n",
              "\n",
              "    .dataframe tbody tr th {\n",
              "        vertical-align: top;\n",
              "    }\n",
              "\n",
              "    .dataframe thead th {\n",
              "        text-align: right;\n",
              "    }\n",
              "</style>\n",
              "<table border=\"1\" class=\"dataframe\">\n",
              "  <thead>\n",
              "    <tr style=\"text-align: right;\">\n",
              "      <th></th>\n",
              "      <th>0</th>\n",
              "    </tr>\n",
              "  </thead>\n",
              "  <tbody>\n",
              "    <tr>\n",
              "      <th>ht</th>\n",
              "      <td>6</td>\n",
              "    </tr>\n",
              "    <tr>\n",
              "      <th>Rec_Rank</th>\n",
              "      <td>894</td>\n",
              "    </tr>\n",
              "    <tr>\n",
              "      <th>ast_tov</th>\n",
              "      <td>125</td>\n",
              "    </tr>\n",
              "    <tr>\n",
              "      <th>rimmade</th>\n",
              "      <td>61</td>\n",
              "    </tr>\n",
              "    <tr>\n",
              "      <th>rimmade_rimmiss</th>\n",
              "      <td>61</td>\n",
              "    </tr>\n",
              "    <tr>\n",
              "      <th>midmade</th>\n",
              "      <td>61</td>\n",
              "    </tr>\n",
              "    <tr>\n",
              "      <th>midmade_midmiss</th>\n",
              "      <td>61</td>\n",
              "    </tr>\n",
              "    <tr>\n",
              "      <th>rim_ratio</th>\n",
              "      <td>178</td>\n",
              "    </tr>\n",
              "    <tr>\n",
              "      <th>mid_ratio</th>\n",
              "      <td>196</td>\n",
              "    </tr>\n",
              "    <tr>\n",
              "      <th>dunksmade</th>\n",
              "      <td>61</td>\n",
              "    </tr>\n",
              "    <tr>\n",
              "      <th>dunksmiss_dunksmade</th>\n",
              "      <td>61</td>\n",
              "    </tr>\n",
              "    <tr>\n",
              "      <th>dunks_ratio</th>\n",
              "      <td>738</td>\n",
              "    </tr>\n",
              "  </tbody>\n",
              "</table>\n",
              "</div><br><label><b>dtype:</b> int64</label>"
            ]
          },
          "metadata": {}
        }
      ]
    },
    {
      "cell_type": "code",
      "source": [
        "import numpy as np\n",
        "\n",
        "# Delete fields with too high a missing value ratio (cannot be filled)\n",
        "cols_to_drop = ['Rec_Rank', 'dunks_ratio', 'ht']\n",
        "train = train.drop(columns=cols_to_drop, errors='ignore')\n",
        "test = test.drop(columns=cols_to_drop, errors='ignore')\n",
        "\n",
        "# These fields are filled with median values\n",
        "num_impute_cols = [\n",
        "    'ast_tov', 'rimmade', 'rimmade_rimmiss', 'midmade', 'midmade_midmiss',\n",
        "    'rim_ratio', 'mid_ratio', 'dunksmade', 'dunksmiss_dunksmade'\n",
        "]\n",
        "\n",
        "for col in num_impute_cols:\n",
        "    if col in train.columns:\n",
        "        train[col] = train[col].fillna(train[col].median())\n",
        "    if col in test.columns:\n",
        "        test[col] = test[col].fillna(test[col].median())\n"
      ],
      "metadata": {
        "id": "99THj3d48wi8"
      },
      "execution_count": 17,
      "outputs": []
    },
    {
      "cell_type": "code",
      "source": [
        "print(\"Train Missing Value Statistics (only non-zero will be shown)\")\n",
        "display(train.isnull().sum()[train.isnull().sum() > 0])\n",
        "\n",
        "print(\"Test Missing Value Statistics (only non-zero will be shown)\")\n",
        "display(test.isnull().sum()[test.isnull().sum() > 0])\n",
        "\n",
        "print(\"'ht' in train:\", 'ht' in train.columns)\n",
        "print(\"'Rec_Rank' in train:\", 'Rec_Rank' in train.columns)\n",
        "print(\"'dunks_ratio' in train:\", 'dunks_ratio' in train.columns)\n",
        "\n",
        "train[['ast_tov', 'rim_ratio', 'mid_ratio']].describe()"
      ],
      "metadata": {
        "colab": {
          "base_uri": "https://localhost:8080/",
          "height": 1000
        },
        "id": "UZ3SlS8n91qA",
        "outputId": "d3f77cf0-dd1f-4bd7-c201-2aeefad3fe30"
      },
      "execution_count": 18,
      "outputs": [
        {
          "output_type": "stream",
          "name": "stdout",
          "text": [
            "Train Missing Value Statistics (only non-zero will be shown)\n"
          ]
        },
        {
          "output_type": "display_data",
          "data": {
            "text/plain": [
              "drtg       5\n",
              "adrtg      5\n",
              "dporpag    5\n",
              "stops      5\n",
              "bpm        5\n",
              "obpm       5\n",
              "dbpm       5\n",
              "gbpm       5\n",
              "mp         1\n",
              "ogbpm      5\n",
              "dgbpm      5\n",
              "oreb       1\n",
              "dreb       1\n",
              "treb       1\n",
              "ast        1\n",
              "stl        1\n",
              "blk        1\n",
              "pts        1\n",
              "dtype: int64"
            ],
            "text/html": [
              "<div>\n",
              "<style scoped>\n",
              "    .dataframe tbody tr th:only-of-type {\n",
              "        vertical-align: middle;\n",
              "    }\n",
              "\n",
              "    .dataframe tbody tr th {\n",
              "        vertical-align: top;\n",
              "    }\n",
              "\n",
              "    .dataframe thead th {\n",
              "        text-align: right;\n",
              "    }\n",
              "</style>\n",
              "<table border=\"1\" class=\"dataframe\">\n",
              "  <thead>\n",
              "    <tr style=\"text-align: right;\">\n",
              "      <th></th>\n",
              "      <th>0</th>\n",
              "    </tr>\n",
              "  </thead>\n",
              "  <tbody>\n",
              "    <tr>\n",
              "      <th>drtg</th>\n",
              "      <td>5</td>\n",
              "    </tr>\n",
              "    <tr>\n",
              "      <th>adrtg</th>\n",
              "      <td>5</td>\n",
              "    </tr>\n",
              "    <tr>\n",
              "      <th>dporpag</th>\n",
              "      <td>5</td>\n",
              "    </tr>\n",
              "    <tr>\n",
              "      <th>stops</th>\n",
              "      <td>5</td>\n",
              "    </tr>\n",
              "    <tr>\n",
              "      <th>bpm</th>\n",
              "      <td>5</td>\n",
              "    </tr>\n",
              "    <tr>\n",
              "      <th>obpm</th>\n",
              "      <td>5</td>\n",
              "    </tr>\n",
              "    <tr>\n",
              "      <th>dbpm</th>\n",
              "      <td>5</td>\n",
              "    </tr>\n",
              "    <tr>\n",
              "      <th>gbpm</th>\n",
              "      <td>5</td>\n",
              "    </tr>\n",
              "    <tr>\n",
              "      <th>mp</th>\n",
              "      <td>1</td>\n",
              "    </tr>\n",
              "    <tr>\n",
              "      <th>ogbpm</th>\n",
              "      <td>5</td>\n",
              "    </tr>\n",
              "    <tr>\n",
              "      <th>dgbpm</th>\n",
              "      <td>5</td>\n",
              "    </tr>\n",
              "    <tr>\n",
              "      <th>oreb</th>\n",
              "      <td>1</td>\n",
              "    </tr>\n",
              "    <tr>\n",
              "      <th>dreb</th>\n",
              "      <td>1</td>\n",
              "    </tr>\n",
              "    <tr>\n",
              "      <th>treb</th>\n",
              "      <td>1</td>\n",
              "    </tr>\n",
              "    <tr>\n",
              "      <th>ast</th>\n",
              "      <td>1</td>\n",
              "    </tr>\n",
              "    <tr>\n",
              "      <th>stl</th>\n",
              "      <td>1</td>\n",
              "    </tr>\n",
              "    <tr>\n",
              "      <th>blk</th>\n",
              "      <td>1</td>\n",
              "    </tr>\n",
              "    <tr>\n",
              "      <th>pts</th>\n",
              "      <td>1</td>\n",
              "    </tr>\n",
              "  </tbody>\n",
              "</table>\n",
              "</div><br><label><b>dtype:</b> int64</label>"
            ]
          },
          "metadata": {}
        },
        {
          "output_type": "stream",
          "name": "stdout",
          "text": [
            "Test Missing Value Statistics (only non-zero will be shown)\n"
          ]
        },
        {
          "output_type": "display_data",
          "data": {
            "text/plain": [
              "Series([], dtype: int64)"
            ],
            "text/html": [
              "<div>\n",
              "<style scoped>\n",
              "    .dataframe tbody tr th:only-of-type {\n",
              "        vertical-align: middle;\n",
              "    }\n",
              "\n",
              "    .dataframe tbody tr th {\n",
              "        vertical-align: top;\n",
              "    }\n",
              "\n",
              "    .dataframe thead th {\n",
              "        text-align: right;\n",
              "    }\n",
              "</style>\n",
              "<table border=\"1\" class=\"dataframe\">\n",
              "  <thead>\n",
              "    <tr style=\"text-align: right;\">\n",
              "      <th></th>\n",
              "      <th>0</th>\n",
              "    </tr>\n",
              "  </thead>\n",
              "  <tbody>\n",
              "  </tbody>\n",
              "</table>\n",
              "</div><br><label><b>dtype:</b> int64</label>"
            ]
          },
          "metadata": {}
        },
        {
          "output_type": "stream",
          "name": "stdout",
          "text": [
            "'ht' in train: False\n",
            "'Rec_Rank' in train: False\n",
            "'dunks_ratio' in train: False\n"
          ]
        },
        {
          "output_type": "execute_result",
          "data": {
            "text/plain": [
              "            ast_tov     rim_ratio     mid_ratio\n",
              "count  14774.000000  14774.000000  14774.000000\n",
              "mean       0.816108      0.545881      0.305822\n",
              "std        0.638141      0.190989      0.170348\n",
              "min        0.000000      0.000000      0.000000\n",
              "25%        0.407446      0.500000      0.250000\n",
              "50%        0.714322      0.558600      0.315800\n",
              "75%        1.066650      0.626900      0.366700\n",
              "max       10.000000      1.000000      1.000000"
            ],
            "text/html": [
              "\n",
              "  <div id=\"df-095fd83b-254c-4585-9b9d-c97d5a460142\" class=\"colab-df-container\">\n",
              "    <div>\n",
              "<style scoped>\n",
              "    .dataframe tbody tr th:only-of-type {\n",
              "        vertical-align: middle;\n",
              "    }\n",
              "\n",
              "    .dataframe tbody tr th {\n",
              "        vertical-align: top;\n",
              "    }\n",
              "\n",
              "    .dataframe thead th {\n",
              "        text-align: right;\n",
              "    }\n",
              "</style>\n",
              "<table border=\"1\" class=\"dataframe\">\n",
              "  <thead>\n",
              "    <tr style=\"text-align: right;\">\n",
              "      <th></th>\n",
              "      <th>ast_tov</th>\n",
              "      <th>rim_ratio</th>\n",
              "      <th>mid_ratio</th>\n",
              "    </tr>\n",
              "  </thead>\n",
              "  <tbody>\n",
              "    <tr>\n",
              "      <th>count</th>\n",
              "      <td>14774.000000</td>\n",
              "      <td>14774.000000</td>\n",
              "      <td>14774.000000</td>\n",
              "    </tr>\n",
              "    <tr>\n",
              "      <th>mean</th>\n",
              "      <td>0.816108</td>\n",
              "      <td>0.545881</td>\n",
              "      <td>0.305822</td>\n",
              "    </tr>\n",
              "    <tr>\n",
              "      <th>std</th>\n",
              "      <td>0.638141</td>\n",
              "      <td>0.190989</td>\n",
              "      <td>0.170348</td>\n",
              "    </tr>\n",
              "    <tr>\n",
              "      <th>min</th>\n",
              "      <td>0.000000</td>\n",
              "      <td>0.000000</td>\n",
              "      <td>0.000000</td>\n",
              "    </tr>\n",
              "    <tr>\n",
              "      <th>25%</th>\n",
              "      <td>0.407446</td>\n",
              "      <td>0.500000</td>\n",
              "      <td>0.250000</td>\n",
              "    </tr>\n",
              "    <tr>\n",
              "      <th>50%</th>\n",
              "      <td>0.714322</td>\n",
              "      <td>0.558600</td>\n",
              "      <td>0.315800</td>\n",
              "    </tr>\n",
              "    <tr>\n",
              "      <th>75%</th>\n",
              "      <td>1.066650</td>\n",
              "      <td>0.626900</td>\n",
              "      <td>0.366700</td>\n",
              "    </tr>\n",
              "    <tr>\n",
              "      <th>max</th>\n",
              "      <td>10.000000</td>\n",
              "      <td>1.000000</td>\n",
              "      <td>1.000000</td>\n",
              "    </tr>\n",
              "  </tbody>\n",
              "</table>\n",
              "</div>\n",
              "    <div class=\"colab-df-buttons\">\n",
              "\n",
              "  <div class=\"colab-df-container\">\n",
              "    <button class=\"colab-df-convert\" onclick=\"convertToInteractive('df-095fd83b-254c-4585-9b9d-c97d5a460142')\"\n",
              "            title=\"Convert this dataframe to an interactive table.\"\n",
              "            style=\"display:none;\">\n",
              "\n",
              "  <svg xmlns=\"http://www.w3.org/2000/svg\" height=\"24px\" viewBox=\"0 -960 960 960\">\n",
              "    <path d=\"M120-120v-720h720v720H120Zm60-500h600v-160H180v160Zm220 220h160v-160H400v160Zm0 220h160v-160H400v160ZM180-400h160v-160H180v160Zm440 0h160v-160H620v160ZM180-180h160v-160H180v160Zm440 0h160v-160H620v160Z\"/>\n",
              "  </svg>\n",
              "    </button>\n",
              "\n",
              "  <style>\n",
              "    .colab-df-container {\n",
              "      display:flex;\n",
              "      gap: 12px;\n",
              "    }\n",
              "\n",
              "    .colab-df-convert {\n",
              "      background-color: #E8F0FE;\n",
              "      border: none;\n",
              "      border-radius: 50%;\n",
              "      cursor: pointer;\n",
              "      display: none;\n",
              "      fill: #1967D2;\n",
              "      height: 32px;\n",
              "      padding: 0 0 0 0;\n",
              "      width: 32px;\n",
              "    }\n",
              "\n",
              "    .colab-df-convert:hover {\n",
              "      background-color: #E2EBFA;\n",
              "      box-shadow: 0px 1px 2px rgba(60, 64, 67, 0.3), 0px 1px 3px 1px rgba(60, 64, 67, 0.15);\n",
              "      fill: #174EA6;\n",
              "    }\n",
              "\n",
              "    .colab-df-buttons div {\n",
              "      margin-bottom: 4px;\n",
              "    }\n",
              "\n",
              "    [theme=dark] .colab-df-convert {\n",
              "      background-color: #3B4455;\n",
              "      fill: #D2E3FC;\n",
              "    }\n",
              "\n",
              "    [theme=dark] .colab-df-convert:hover {\n",
              "      background-color: #434B5C;\n",
              "      box-shadow: 0px 1px 3px 1px rgba(0, 0, 0, 0.15);\n",
              "      filter: drop-shadow(0px 1px 2px rgba(0, 0, 0, 0.3));\n",
              "      fill: #FFFFFF;\n",
              "    }\n",
              "  </style>\n",
              "\n",
              "    <script>\n",
              "      const buttonEl =\n",
              "        document.querySelector('#df-095fd83b-254c-4585-9b9d-c97d5a460142 button.colab-df-convert');\n",
              "      buttonEl.style.display =\n",
              "        google.colab.kernel.accessAllowed ? 'block' : 'none';\n",
              "\n",
              "      async function convertToInteractive(key) {\n",
              "        const element = document.querySelector('#df-095fd83b-254c-4585-9b9d-c97d5a460142');\n",
              "        const dataTable =\n",
              "          await google.colab.kernel.invokeFunction('convertToInteractive',\n",
              "                                                    [key], {});\n",
              "        if (!dataTable) return;\n",
              "\n",
              "        const docLinkHtml = 'Like what you see? Visit the ' +\n",
              "          '<a target=\"_blank\" href=https://colab.research.google.com/notebooks/data_table.ipynb>data table notebook</a>'\n",
              "          + ' to learn more about interactive tables.';\n",
              "        element.innerHTML = '';\n",
              "        dataTable['output_type'] = 'display_data';\n",
              "        await google.colab.output.renderOutput(dataTable, element);\n",
              "        const docLink = document.createElement('div');\n",
              "        docLink.innerHTML = docLinkHtml;\n",
              "        element.appendChild(docLink);\n",
              "      }\n",
              "    </script>\n",
              "  </div>\n",
              "\n",
              "\n",
              "    <div id=\"df-f62d848b-baf4-4878-aeb7-4b769022113d\">\n",
              "      <button class=\"colab-df-quickchart\" onclick=\"quickchart('df-f62d848b-baf4-4878-aeb7-4b769022113d')\"\n",
              "                title=\"Suggest charts\"\n",
              "                style=\"display:none;\">\n",
              "\n",
              "<svg xmlns=\"http://www.w3.org/2000/svg\" height=\"24px\"viewBox=\"0 0 24 24\"\n",
              "     width=\"24px\">\n",
              "    <g>\n",
              "        <path d=\"M19 3H5c-1.1 0-2 .9-2 2v14c0 1.1.9 2 2 2h14c1.1 0 2-.9 2-2V5c0-1.1-.9-2-2-2zM9 17H7v-7h2v7zm4 0h-2V7h2v10zm4 0h-2v-4h2v4z\"/>\n",
              "    </g>\n",
              "</svg>\n",
              "      </button>\n",
              "\n",
              "<style>\n",
              "  .colab-df-quickchart {\n",
              "      --bg-color: #E8F0FE;\n",
              "      --fill-color: #1967D2;\n",
              "      --hover-bg-color: #E2EBFA;\n",
              "      --hover-fill-color: #174EA6;\n",
              "      --disabled-fill-color: #AAA;\n",
              "      --disabled-bg-color: #DDD;\n",
              "  }\n",
              "\n",
              "  [theme=dark] .colab-df-quickchart {\n",
              "      --bg-color: #3B4455;\n",
              "      --fill-color: #D2E3FC;\n",
              "      --hover-bg-color: #434B5C;\n",
              "      --hover-fill-color: #FFFFFF;\n",
              "      --disabled-bg-color: #3B4455;\n",
              "      --disabled-fill-color: #666;\n",
              "  }\n",
              "\n",
              "  .colab-df-quickchart {\n",
              "    background-color: var(--bg-color);\n",
              "    border: none;\n",
              "    border-radius: 50%;\n",
              "    cursor: pointer;\n",
              "    display: none;\n",
              "    fill: var(--fill-color);\n",
              "    height: 32px;\n",
              "    padding: 0;\n",
              "    width: 32px;\n",
              "  }\n",
              "\n",
              "  .colab-df-quickchart:hover {\n",
              "    background-color: var(--hover-bg-color);\n",
              "    box-shadow: 0 1px 2px rgba(60, 64, 67, 0.3), 0 1px 3px 1px rgba(60, 64, 67, 0.15);\n",
              "    fill: var(--button-hover-fill-color);\n",
              "  }\n",
              "\n",
              "  .colab-df-quickchart-complete:disabled,\n",
              "  .colab-df-quickchart-complete:disabled:hover {\n",
              "    background-color: var(--disabled-bg-color);\n",
              "    fill: var(--disabled-fill-color);\n",
              "    box-shadow: none;\n",
              "  }\n",
              "\n",
              "  .colab-df-spinner {\n",
              "    border: 2px solid var(--fill-color);\n",
              "    border-color: transparent;\n",
              "    border-bottom-color: var(--fill-color);\n",
              "    animation:\n",
              "      spin 1s steps(1) infinite;\n",
              "  }\n",
              "\n",
              "  @keyframes spin {\n",
              "    0% {\n",
              "      border-color: transparent;\n",
              "      border-bottom-color: var(--fill-color);\n",
              "      border-left-color: var(--fill-color);\n",
              "    }\n",
              "    20% {\n",
              "      border-color: transparent;\n",
              "      border-left-color: var(--fill-color);\n",
              "      border-top-color: var(--fill-color);\n",
              "    }\n",
              "    30% {\n",
              "      border-color: transparent;\n",
              "      border-left-color: var(--fill-color);\n",
              "      border-top-color: var(--fill-color);\n",
              "      border-right-color: var(--fill-color);\n",
              "    }\n",
              "    40% {\n",
              "      border-color: transparent;\n",
              "      border-right-color: var(--fill-color);\n",
              "      border-top-color: var(--fill-color);\n",
              "    }\n",
              "    60% {\n",
              "      border-color: transparent;\n",
              "      border-right-color: var(--fill-color);\n",
              "    }\n",
              "    80% {\n",
              "      border-color: transparent;\n",
              "      border-right-color: var(--fill-color);\n",
              "      border-bottom-color: var(--fill-color);\n",
              "    }\n",
              "    90% {\n",
              "      border-color: transparent;\n",
              "      border-bottom-color: var(--fill-color);\n",
              "    }\n",
              "  }\n",
              "</style>\n",
              "\n",
              "      <script>\n",
              "        async function quickchart(key) {\n",
              "          const quickchartButtonEl =\n",
              "            document.querySelector('#' + key + ' button');\n",
              "          quickchartButtonEl.disabled = true;  // To prevent multiple clicks.\n",
              "          quickchartButtonEl.classList.add('colab-df-spinner');\n",
              "          try {\n",
              "            const charts = await google.colab.kernel.invokeFunction(\n",
              "                'suggestCharts', [key], {});\n",
              "          } catch (error) {\n",
              "            console.error('Error during call to suggestCharts:', error);\n",
              "          }\n",
              "          quickchartButtonEl.classList.remove('colab-df-spinner');\n",
              "          quickchartButtonEl.classList.add('colab-df-quickchart-complete');\n",
              "        }\n",
              "        (() => {\n",
              "          let quickchartButtonEl =\n",
              "            document.querySelector('#df-f62d848b-baf4-4878-aeb7-4b769022113d button');\n",
              "          quickchartButtonEl.style.display =\n",
              "            google.colab.kernel.accessAllowed ? 'block' : 'none';\n",
              "        })();\n",
              "      </script>\n",
              "    </div>\n",
              "\n",
              "    </div>\n",
              "  </div>\n"
            ],
            "application/vnd.google.colaboratory.intrinsic+json": {
              "type": "dataframe",
              "summary": "{\n  \"name\": \"train[['ast_tov', 'rim_ratio', 'mid_ratio']]\",\n  \"rows\": 8,\n  \"fields\": [\n    {\n      \"column\": \"ast_tov\",\n      \"properties\": {\n        \"dtype\": \"number\",\n        \"std\": 5222.7097773734995,\n        \"min\": 0.0,\n        \"max\": 14774.0,\n        \"num_unique_values\": 8,\n        \"samples\": [\n          0.8161079169175578,\n          0.71432241,\n          14774.0\n        ],\n        \"semantic_type\": \"\",\n        \"description\": \"\"\n      }\n    },\n    {\n      \"column\": \"rim_ratio\",\n      \"properties\": {\n        \"dtype\": \"number\",\n        \"std\": 5223.224945272345,\n        \"min\": 0.0,\n        \"max\": 14774.0,\n        \"num_unique_values\": 8,\n        \"samples\": [\n          0.5458810748612428,\n          0.5586,\n          14774.0\n        ],\n        \"semantic_type\": \"\",\n        \"description\": \"\"\n      }\n    },\n    {\n      \"column\": \"mid_ratio\",\n      \"properties\": {\n        \"dtype\": \"number\",\n        \"std\": 5223.276144508436,\n        \"min\": 0.0,\n        \"max\": 14774.0,\n        \"num_unique_values\": 8,\n        \"samples\": [\n          0.30582190334371195,\n          0.3158,\n          14774.0\n        ],\n        \"semantic_type\": \"\",\n        \"description\": \"\"\n      }\n    }\n  ]\n}"
            }
          },
          "metadata": {},
          "execution_count": 18
        }
      ]
    },
    {
      "cell_type": "code",
      "source": [
        "# Fill the remaining missing values in train (using median)\n",
        "\n",
        "additional_missing_cols = [\n",
        "    'adrtg', 'dporpag', 'stops', 'bpm', 'obpm', 'dbpm', 'gbpm', 'mp',\n",
        "    'ogbpm', 'dgbpm', 'oreb', 'dreb', 'treb', 'ast', 'stl', 'blk', 'pts'\n",
        "]\n",
        "\n",
        "for col in additional_missing_cols:\n",
        "    if col in train.columns:\n",
        "        train[col] = train[col].fillna(train[col].median())\n",
        "\n",
        "    if 'drtg' in train.columns:\n",
        "        train['drtg'] = train['drtg'].fillna(train['drtg'].median())\n",
        "\n",
        "print(\"Final missing values check\")\n",
        "display(train.isnull().sum()[train.isnull().sum() > 0])"
      ],
      "metadata": {
        "colab": {
          "base_uri": "https://localhost:8080/",
          "height": 102
        },
        "id": "MuMvd0un-DuF",
        "outputId": "485bac9f-a7ea-4406-d85e-a3c5941cd086"
      },
      "execution_count": 19,
      "outputs": [
        {
          "output_type": "stream",
          "name": "stdout",
          "text": [
            "Final missing values check\n"
          ]
        },
        {
          "output_type": "display_data",
          "data": {
            "text/plain": [
              "Series([], dtype: int64)"
            ],
            "text/html": [
              "<div>\n",
              "<style scoped>\n",
              "    .dataframe tbody tr th:only-of-type {\n",
              "        vertical-align: middle;\n",
              "    }\n",
              "\n",
              "    .dataframe tbody tr th {\n",
              "        vertical-align: top;\n",
              "    }\n",
              "\n",
              "    .dataframe thead th {\n",
              "        text-align: right;\n",
              "    }\n",
              "</style>\n",
              "<table border=\"1\" class=\"dataframe\">\n",
              "  <thead>\n",
              "    <tr style=\"text-align: right;\">\n",
              "      <th></th>\n",
              "      <th>0</th>\n",
              "    </tr>\n",
              "  </thead>\n",
              "  <tbody>\n",
              "  </tbody>\n",
              "</table>\n",
              "</div><br><label><b>dtype:</b> int64</label>"
            ]
          },
          "metadata": {}
        }
      ]
    },
    {
      "cell_type": "markdown",
      "source": [
        "### C.2 Define Target variable"
      ],
      "metadata": {
        "id": "tpG_mos_EXrY"
      }
    },
    {
      "cell_type": "code",
      "source": [
        "# <Student to fill this section>\n"
      ],
      "metadata": {
        "id": "gsQkuxYLVHb1"
      },
      "execution_count": 20,
      "outputs": []
    },
    {
      "cell_type": "code",
      "source": [
        "import matplotlib.pyplot as plt\n",
        "import seaborn as sns\n",
        "\n",
        "# What does the distribution of Drafted look like\n",
        "plt.figure(figsize=(6,4))\n",
        "sns.countplot(x='drafted', data=train, palette='Set2')\n",
        "plt.title('Distribution of Drafted Players')\n",
        "plt.xlabel('Drafted (1 = Yes, 0 = No)')\n",
        "plt.ylabel('Count')\n",
        "plt.xticks([0,1], ['Not Drafted', 'Drafted'])\n",
        "plt.show()\n",
        "\n",
        "# Show proportions\n",
        "draft_counts = train['drafted'].value_counts(normalize=True)\n",
        "print(\"Proportion of drafted vs not drafted:\")\n",
        "print(draft_counts)\n"
      ],
      "metadata": {
        "id": "4Z0I4L_cVITG",
        "colab": {
          "base_uri": "https://localhost:8080/",
          "height": 499
        },
        "outputId": "87b47811-d230-4fd9-e490-edae6e0ec641"
      },
      "execution_count": 21,
      "outputs": [
        {
          "output_type": "display_data",
          "data": {
            "text/plain": [
              "<Figure size 600x400 with 1 Axes>"
            ],
            "image/png": "[encoded data removed]"
          },
          "metadata": {}
        },
        {
          "output_type": "stream",
          "name": "stdout",
          "text": [
            "Proportion of drafted vs not drafted:\n",
            "drafted\n",
            "0.0    0.992013\n",
            "1.0    0.007987\n",
            "Name: proportion, dtype: float64\n"
          ]
        }
      ]
    },
    {
      "cell_type": "code",
      "source": [
        "# <Student to fill this section>\n",
        "target_definition_explanations = \"\"\"\n",
        "The target variable is `drafted`, which is a binary variable:\n",
        "- `1` indicates the player was drafted into the NBA.\n",
        "- `0` means the player was not drafted.\n",
        "\n",
        "This aligns directly with the business goal of predicting whether a college basketball player will be drafted. Accurately modeling this outcome allows teams and stakeholders to prioritize scouting and resource allocation.\n",
        "\n",
        "Since this is a classification task, the target variable is defined clearly and is suitable for applying supervised machine learning techniques.\n",
        "\"\"\"\n"
      ],
      "metadata": {
        "id": "RiqBkEQ-EjIZ"
      },
      "execution_count": 22,
      "outputs": []
    },
    {
      "cell_type": "code",
      "source": [
        "# Do not modify this code\n",
        "print_tile(size=\"h3\", key='target_definition_explanations', value=target_definition_explanations)"
      ],
      "metadata": {
        "id": "qdeiAKiIElvG",
        "colab": {
          "base_uri": "https://localhost:8080/",
          "height": 142
        },
        "outputId": "0cef9f79-9545-4ebf-a937-ef376d9fd167"
      },
      "execution_count": 23,
      "outputs": [
        {
          "output_type": "display_data",
          "data": {
            "text/plain": [
              "<IPython.core.display.HTML object>"
            ],
            "text/html": [
              "<p style=\"color:grey\">target_definition_explanations</p><h3 font-size: 3em>\n",
              "The target variable is `drafted`, which is a binary variable:\n",
              "- `1` indicates the player was drafted into the NBA.\n",
              "- `0` means the player was not drafted.\n",
              "\n",
              "This aligns directly with the business goal of predicting whether a college basketball player will be drafted. Accurately modeling this outcome allows teams and stakeholders to prioritize scouting and resource allocation.\n",
              "\n",
              "Since this is a classification task, the target variable is defined clearly and is suitable for applying supervised machine learning techniques.\n",
              "</h3>"
            ]
          },
          "metadata": {}
        }
      ]
    },
    {
      "cell_type": "markdown",
      "source": [
        "### C.3 Create Target variable"
      ],
      "metadata": {
        "id": "CtIfwnLmEn51"
      }
    },
    {
      "cell_type": "code",
      "source": [
        "# <Student to fill this section>\n",
        "\n",
        "target_name = 'drafted'"
      ],
      "metadata": {
        "id": "XV8dRa59EpLG"
      },
      "execution_count": 24,
      "outputs": []
    },
    {
      "cell_type": "markdown",
      "source": [
        "### C.4 Explore Target variable"
      ],
      "metadata": {
        "id": "dmSKLrSBFAN5"
      }
    },
    {
      "cell_type": "code",
      "source": [
        "# <Student to fill this section>\n"
      ],
      "metadata": {
        "id": "zeldOL0KFC4E"
      },
      "execution_count": 25,
      "outputs": []
    },
    {
      "cell_type": "code",
      "source": [],
      "metadata": {
        "id": "DBocSNWvVFCU"
      },
      "execution_count": 25,
      "outputs": []
    },
    {
      "cell_type": "code",
      "source": [
        "# <Student to fill this section>\n",
        "target_distribution_explanations = \"\"\"\n",
        "The target variable `drafted` is a binary classification label indicating whether a player was drafted into the NBA (1) or not (0).\n",
        "\n",
        "From the distribution analysis, it is clear that the data is highly imbalanced:\n",
        "- Only around 0.8% of the players in the dataset were actually drafted.\n",
        "- More than 99% of the players were not drafted.\n",
        "\n",
        "This significant imbalance introduces challenges in model training, as many classifiers may be biased towards predicting the majority class (i.e., not drafted). Accuracy would not be a good evaluation metric in this case because a model that always predicts 'not drafted' would still achieve over 99% accuracy.\n",
        "\n",
        "To address this, we will use:\n",
        "- ROC AUC as the primary evaluation metric,\n",
        "- Stratified sampling during cross-validation,\n",
        "- And possibly adjust model training using techniques such as `class_weight='balanced'`.\n",
        "\n",
        "This imbalance reflects the real-world scenario where only a very small proportion of college players make it to the NBA.\n",
        "\"\"\"\n"
      ],
      "metadata": {
        "id": "5I9ccv-UEr5o"
      },
      "execution_count": 26,
      "outputs": []
    },
    {
      "cell_type": "code",
      "source": [
        "# Do not modify this code\n",
        "print_tile(size=\"h3\", key='target_distribution_explanations', value=target_distribution_explanations)"
      ],
      "metadata": {
        "id": "i45S7xA9EtEV",
        "colab": {
          "base_uri": "https://localhost:8080/",
          "height": 223
        },
        "outputId": "db59c7e7-7697-418a-a8c9-272a11a1962a"
      },
      "execution_count": 27,
      "outputs": [
        {
          "output_type": "display_data",
          "data": {
            "text/plain": [
              "<IPython.core.display.HTML object>"
            ],
            "text/html": [
              "<p style=\"color:grey\">target_distribution_explanations</p><h3 font-size: 3em>\n",
              "The target variable `drafted` is a binary classification label indicating whether a player was drafted into the NBA (1) or not (0).\n",
              "\n",
              "From the distribution analysis, it is clear that the data is highly imbalanced:\n",
              "- Only around 0.8% of the players in the dataset were actually drafted.\n",
              "- More than 99% of the players were not drafted.\n",
              "\n",
              "This significant imbalance introduces challenges in model training, as many classifiers may be biased towards predicting the majority class (i.e., not drafted). Accuracy would not be a good evaluation metric in this case because a model that always predicts 'not drafted' would still achieve over 99% accuracy.\n",
              "\n",
              "To address this, we will use:\n",
              "- ROC AUC as the primary evaluation metric,\n",
              "- Stratified sampling during cross-validation,\n",
              "- And possibly adjust model training using techniques such as `class_weight='balanced'`.\n",
              "\n",
              "This imbalance reflects the real-world scenario where only a very small proportion of college players make it to the NBA.\n",
              "</h3>"
            ]
          },
          "metadata": {}
        }
      ]
    },
    {
      "cell_type": "code",
      "source": [
        "# Target distribution map (drafted)\n",
        "import seaborn as sns\n",
        "import matplotlib.pyplot as plt\n",
        "\n",
        "plt.figure(figsize=(6, 4))\n",
        "sns.countplot(data=train, x='drafted')\n",
        "plt.title(\"Distribution of Drafted vs Not Drafted Players\")\n",
        "plt.xlabel(\"Drafted\")\n",
        "plt.ylabel(\"Count\")\n",
        "plt.show()\n"
      ],
      "metadata": {
        "colab": {
          "base_uri": "https://localhost:8080/",
          "height": 410
        },
        "id": "9Xp1KyfY5FtH",
        "outputId": "64598649-797d-4a6f-d62e-0d66bedfeee2"
      },
      "execution_count": 28,
      "outputs": [
        {
          "output_type": "display_data",
          "data": {
            "text/plain": [
              "<Figure size 600x400 with 1 Axes>"
            ],
            "image/png": "[encoded data removed]"
          },
          "metadata": {}
        }
      ]
    },
    {
      "cell_type": "markdown",
      "source": [
        "### C.5 Explore Feature of Interest `\\<put feature name here\\>`"
      ],
      "metadata": {
        "id": "37ubEa7SFWXo"
      }
    },
    {
      "cell_type": "code",
      "source": [
        "# <Student to fill this section>"
      ],
      "metadata": {
        "id": "wV9Ldx0gFWks"
      },
      "execution_count": 29,
      "outputs": []
    },
    {
      "cell_type": "code",
      "source": [],
      "metadata": {
        "id": "JJxanj3EVERJ"
      },
      "execution_count": 29,
      "outputs": []
    },
    {
      "cell_type": "code",
      "source": [
        "# <Student to fill this section>\n",
        "feature_1_insights = \"\"\"\n",
        "The feature `Min_per` represents the percentage of minutes a player was on the court, which is a proxy for how involved the player was in games during the season.\n",
        "\n",
        "From the distribution, most players have relatively low playing time, while only a small subset consistently played over 60% of available minutes. This aligns with the target distribution, as only a small number of players are regular starters or key players, and those are more likely to be drafted.\n",
        "\n",
        "Limitations:\n",
        "- Some players may have high efficiency but low minutes due to injury or rotation, which could misrepresent their real ability.\n",
        "- A few extreme values (near 0 or 100) could affect the model if not scaled properly.\n",
        "\n",
        "Conclusion:\n",
        "`Min_per` is a strong indicator of player exposure and importance, and is likely to correlate with draft probability.\n",
        "\"\"\"\n"
      ],
      "metadata": {
        "id": "y4YLcn_eEyAe"
      },
      "execution_count": 30,
      "outputs": []
    },
    {
      "cell_type": "code",
      "source": [
        "# Do not modify this code\n",
        "print_tile(size=\"h3\", key='feature_1_insights', value=feature_1_insights)"
      ],
      "metadata": {
        "id": "2r1knRxDEyC0",
        "colab": {
          "base_uri": "https://localhost:8080/",
          "height": 183
        },
        "outputId": "20b0d772-0185-4a45-e5a2-c5357f110b13"
      },
      "execution_count": 31,
      "outputs": [
        {
          "output_type": "display_data",
          "data": {
            "text/plain": [
              "<IPython.core.display.HTML object>"
            ],
            "text/html": [
              "<p style=\"color:grey\">feature_1_insights</p><h3 font-size: 3em>\n",
              "The feature `Min_per` represents the percentage of minutes a player was on the court, which is a proxy for how involved the player was in games during the season.\n",
              "\n",
              "From the distribution, most players have relatively low playing time, while only a small subset consistently played over 60% of available minutes. This aligns with the target distribution, as only a small number of players are regular starters or key players, and those are more likely to be drafted.\n",
              "\n",
              "Limitations:\n",
              "- Some players may have high efficiency but low minutes due to injury or rotation, which could misrepresent their real ability.\n",
              "- A few extreme values (near 0 or 100) could affect the model if not scaled properly.\n",
              "\n",
              "Conclusion:\n",
              "`Min_per` is a strong indicator of player exposure and importance, and is likely to correlate with draft probability.\n",
              "</h3>"
            ]
          },
          "metadata": {}
        }
      ]
    },
    {
      "cell_type": "code",
      "source": [
        "# Explore Feature of Interest\n",
        "\n",
        "plt.figure(figsize=(6, 4))\n",
        "sns.boxplot(data=train, x='drafted', y='porpag')\n",
        "plt.title(\"PORPAG by Drafted Status\")\n",
        "plt.xlabel(\"Drafted\")\n",
        "plt.ylabel(\"PORPAG (Points Over Replacement per Adjusted Game)\")\n",
        "plt.show()\n"
      ],
      "metadata": {
        "colab": {
          "base_uri": "https://localhost:8080/",
          "height": 410
        },
        "id": "8JyfM7Yk5zIA",
        "outputId": "9b12db52-f7f9-4988-d787-ac5878f68600"
      },
      "execution_count": 32,
      "outputs": [
        {
          "output_type": "display_data",
          "data": {
            "text/plain": [
              "<Figure size 600x400 with 1 Axes>"
            ],
            "image/png": "[encoded data removed]"
          },
          "metadata": {}
        }
      ]
    },
    {
      "cell_type": "markdown",
      "source": [
        "### C.6 Explore Feature of Interest `\\<put feature name here\\>`"
      ],
      "metadata": {
        "id": "WOqd56IjE0LB"
      }
    },
    {
      "cell_type": "code",
      "source": [
        "# <Student to fill this section>"
      ],
      "metadata": {
        "id": "akQFJsI3E2eM"
      },
      "execution_count": 33,
      "outputs": []
    },
    {
      "cell_type": "code",
      "source": [
        "# <Student to fill this section>\n",
        "feature_2_insights = \"\"\"\n",
        "The feature `pts` captures the average points scored per game by a player. It is one of the most direct performance indicators in basketball.\n",
        "\n",
        "Most players score between 2 and 12 points per game, with very few exceeding 20. Players with higher point averages tend to be more visible and impactful, increasing their chances of being drafted.\n",
        "\n",
        "Limitations:\n",
        "- High scoring may not always translate to team value if efficiency is poor (e.g. low FG%).\n",
        "- Points may be inflated in weak conferences or low-defense games.\n",
        "\n",
        "Conclusion:\n",
        "`pts` is a core offensive metric and, despite limitations, likely plays an important role in draft decisions.\n",
        "\"\"\"\n"
      ],
      "metadata": {
        "id": "u-CfAsO1E2hB"
      },
      "execution_count": 34,
      "outputs": []
    },
    {
      "cell_type": "code",
      "source": [
        "# Do not modify this code\n",
        "print_tile(size=\"h3\", key='feature_2_insights', value=feature_2_insights)"
      ],
      "metadata": {
        "id": "bB87lgCAE2jf",
        "colab": {
          "base_uri": "https://localhost:8080/",
          "height": 162
        },
        "outputId": "fc62d594-8582-48d3-84ec-748cc59d6476"
      },
      "execution_count": 35,
      "outputs": [
        {
          "output_type": "display_data",
          "data": {
            "text/plain": [
              "<IPython.core.display.HTML object>"
            ],
            "text/html": [
              "<p style=\"color:grey\">feature_2_insights</p><h3 font-size: 3em>\n",
              "The feature `pts` captures the average points scored per game by a player. It is one of the most direct performance indicators in basketball.\n",
              "\n",
              "Most players score between 2 and 12 points per game, with very few exceeding 20. Players with higher point averages tend to be more visible and impactful, increasing their chances of being drafted.\n",
              "\n",
              "Limitations:\n",
              "- High scoring may not always translate to team value if efficiency is poor (e.g. low FG%).\n",
              "- Points may be inflated in weak conferences or low-defense games.\n",
              "\n",
              "Conclusion:\n",
              "`pts` is a core offensive metric and, despite limitations, likely plays an important role in draft decisions.\n",
              "</h3>"
            ]
          },
          "metadata": {}
        }
      ]
    },
    {
      "cell_type": "markdown",
      "source": [
        "### C.6 Explore Feature of Interest `\\<put feature name here\\>`\n"
      ],
      "metadata": {
        "id": "-8J_tiLgE26i"
      }
    },
    {
      "cell_type": "code",
      "source": [
        "# <Student to fill this section>"
      ],
      "metadata": {
        "id": "qeyyEgIrE6GB"
      },
      "execution_count": 36,
      "outputs": []
    },
    {
      "cell_type": "code",
      "source": [],
      "metadata": {
        "id": "ie8xl4AfVPU7"
      },
      "execution_count": 36,
      "outputs": []
    },
    {
      "cell_type": "code",
      "source": [
        "# <Student to fill this section>\n",
        "feature_n_insights = \"\"\"\n",
        "provide a detailed analysis on the selected feature, its distribution, limitations, issues, ...\n",
        "\"\"\""
      ],
      "metadata": {
        "id": "_Vlh8usmE6In"
      },
      "execution_count": 37,
      "outputs": []
    },
    {
      "cell_type": "code",
      "source": [
        "# Do not modify this code\n",
        "print_tile(size=\"h3\", key='feature_n_insights', value=feature_n_insights)"
      ],
      "metadata": {
        "id": "BNZGN3nrE6LJ",
        "colab": {
          "base_uri": "https://localhost:8080/",
          "height": 81
        },
        "outputId": "64446f5e-99a1-43d2-f562-f81c64aeb535"
      },
      "execution_count": 38,
      "outputs": [
        {
          "output_type": "display_data",
          "data": {
            "text/plain": [
              "<IPython.core.display.HTML object>"
            ],
            "text/html": [
              "<p style=\"color:grey\">feature_n_insights</p><h3 font-size: 3em>\n",
              "provide a detailed analysis on the selected feature, its distribution, limitations, issues, ...\n",
              "</h3>"
            ]
          },
          "metadata": {}
        }
      ]
    },
    {
      "cell_type": "markdown",
      "source": [
        "### C.n Explore Feature of Interest `\\<put feature name here\\>`\n",
        "\n",
        "> You can add more cells related to other feeatures in this section"
      ],
      "metadata": {
        "id": "ZcjaUGQ_VbVQ"
      }
    },
    {
      "cell_type": "code",
      "source": [
        "# <Student to fill this section>\n",
        "feature_3_insights = \"\"\"\n",
        "The feature `obpm` (Offensive Box Plus/Minus) estimates a player's offensive impact per 100 possessions relative to an average player.\n",
        "\n",
        "Players with high `obpm` scores are generally more effective on offense, and this is often valued in the draft process. From exploratory analysis, drafted players typically have higher `obpm` than non-drafted ones.\n",
        "\n",
        "Limitations:\n",
        "- It is an advanced stat and may be influenced by team play style or lineup strength.\n",
        "- Some extreme outliers may distort the distribution.\n",
        "\n",
        "Conclusion:\n",
        "`obpm` is a valuable feature capturing a player's offensive contribution and is likely to influence draft decisions.\n",
        "\"\"\"\n"
      ],
      "metadata": {
        "id": "Z_DwQMvDVbfA"
      },
      "execution_count": 39,
      "outputs": []
    },
    {
      "cell_type": "code",
      "source": [
        "# Do not modify this code\n",
        "print_tile(size=\"h3\", key='feature_n_insights', value=feature_3_insights)"
      ],
      "metadata": {
        "id": "4P8cUfkCVbic",
        "colab": {
          "base_uri": "https://localhost:8080/",
          "height": 162
        },
        "outputId": "3b435088-cbfb-451c-bcf3-a3676fdb8278"
      },
      "execution_count": 40,
      "outputs": [
        {
          "output_type": "display_data",
          "data": {
            "text/plain": [
              "<IPython.core.display.HTML object>"
            ],
            "text/html": [
              "<p style=\"color:grey\">feature_n_insights</p><h3 font-size: 3em>\n",
              "The feature `obpm` (Offensive Box Plus/Minus) estimates a player's offensive impact per 100 possessions relative to an average player.\n",
              "\n",
              "Players with high `obpm` scores are generally more effective on offense, and this is often valued in the draft process. From exploratory analysis, drafted players typically have higher `obpm` than non-drafted ones.\n",
              "\n",
              "Limitations:\n",
              "- It is an advanced stat and may be influenced by team play style or lineup strength.\n",
              "- Some extreme outliers may distort the distribution.\n",
              "\n",
              "Conclusion:\n",
              "`obpm` is a valuable feature capturing a player's offensive contribution and is likely to influence draft decisions.\n",
              "</h3>"
            ]
          },
          "metadata": {}
        }
      ]
    },
    {
      "cell_type": "markdown",
      "metadata": {
        "id": "_NCwQQFkU3v5"
      },
      "source": [
        "---\n",
        "## D. Feature Selection\n"
      ]
    },
    {
      "cell_type": "markdown",
      "source": [
        "### D.1 Approach \"\\<describe_approach_here\\>\"\n"
      ],
      "metadata": {
        "id": "0b8C9WON3Toe"
      }
    },
    {
      "cell_type": "code",
      "source": [
        "# <Student to fill this section>"
      ],
      "metadata": {
        "id": "zfC-DLKv4AuM"
      },
      "execution_count": 41,
      "outputs": []
    },
    {
      "cell_type": "code",
      "source": [],
      "metadata": {
        "id": "J2_6it8iViBX"
      },
      "execution_count": 41,
      "outputs": []
    },
    {
      "cell_type": "code",
      "source": [
        "# <Student to fill this section>\n",
        "feature_selection_1_insights = \"\"\"\n",
        "We used a tree-based model (Random Forest) to calculate feature importance scores. This approach is useful because it automatically captures non-linear relationships and interactions between features.\n",
        "\n",
        "By training a Random Forest Classifier on the full feature set, we extracted the top N most important features based on the Gini importance metric. These features included: 'pts', 'Min_per', 'obpm', 'TS_per', and 'bpm', all of which make intuitive sense as they reflect offensive performance, efficiency, and playing time.\n",
        "\n",
        "This method is robust and interpretable, and it allows us to reduce dimensionality while keeping the most influential predictors.\n",
        "\"\"\"\n"
      ],
      "metadata": {
        "id": "Z9myLlFZFQXj"
      },
      "execution_count": 42,
      "outputs": []
    },
    {
      "cell_type": "code",
      "source": [
        "# Do not modify this code\n",
        "print_tile(size=\"h3\", key='feature_selection_1_insights', value=feature_selection_1_insights)"
      ],
      "metadata": {
        "id": "937YFeqDFQgB",
        "colab": {
          "base_uri": "https://localhost:8080/",
          "height": 162
        },
        "outputId": "23dcca73-40cc-4c69-9d62-6123be978f5b"
      },
      "execution_count": 43,
      "outputs": [
        {
          "output_type": "display_data",
          "data": {
            "text/plain": [
              "<IPython.core.display.HTML object>"
            ],
            "text/html": [
              "<p style=\"color:grey\">feature_selection_1_insights</p><h3 font-size: 3em>\n",
              "We used a tree-based model (Random Forest) to calculate feature importance scores. This approach is useful because it automatically captures non-linear relationships and interactions between features.\n",
              "\n",
              "By training a Random Forest Classifier on the full feature set, we extracted the top N most important features based on the Gini importance metric. These features included: 'pts', 'Min_per', 'obpm', 'TS_per', and 'bpm', all of which make intuitive sense as they reflect offensive performance, efficiency, and playing time.\n",
              "\n",
              "This method is robust and interpretable, and it allows us to reduce dimensionality while keeping the most influential predictors.\n",
              "</h3>"
            ]
          },
          "metadata": {}
        }
      ]
    },
    {
      "cell_type": "markdown",
      "source": [
        "### D.2 Approach \"\\<describe_approach_here\\>\"\n"
      ],
      "metadata": {
        "id": "jqRcgUqu3ZuV"
      }
    },
    {
      "cell_type": "code",
      "source": [
        "# <Student to fill this section>"
      ],
      "metadata": {
        "id": "dAPSiwcg3aJC"
      },
      "execution_count": 44,
      "outputs": []
    },
    {
      "cell_type": "code",
      "source": [],
      "metadata": {
        "id": "Ps25nfue3bL8"
      },
      "execution_count": 44,
      "outputs": []
    },
    {
      "cell_type": "code",
      "source": [
        "# <Student to fill this section>\n",
        "feature_selection_2_insights = \"\"\"\n",
        "We calculated the Pearson correlation coefficient between each numerical feature and the target variable `drafted`. Features with higher absolute correlation values were selected as potentially important.\n",
        "\n",
        "Although the `drafted` variable is binary, Pearson correlation can still provide a quick insight into linear relationships. The top correlated features included: 'pts', 'obpm', 'TS_per', 'bpm', and 'Min_per', which were also supported by model-based importance.\n",
        "\n",
        "This method is simple and effective for initial filtering, especially when combined with domain knowledge.\n",
        "\"\"\"\n"
      ],
      "metadata": {
        "id": "CpQQodTW3a9v"
      },
      "execution_count": 45,
      "outputs": []
    },
    {
      "cell_type": "code",
      "source": [
        "# Do not modify this code\n",
        "print_tile(size=\"h3\", key='feature_selection_2_insights', value=feature_selection_2_insights)"
      ],
      "metadata": {
        "id": "HjN2qhDb3a0G",
        "colab": {
          "base_uri": "https://localhost:8080/",
          "height": 162
        },
        "outputId": "127084c1-cee4-4a0b-a777-acaf2e4db0c1"
      },
      "execution_count": 46,
      "outputs": [
        {
          "output_type": "display_data",
          "data": {
            "text/plain": [
              "<IPython.core.display.HTML object>"
            ],
            "text/html": [
              "<p style=\"color:grey\">feature_selection_2_insights</p><h3 font-size: 3em>\n",
              "We calculated the Pearson correlation coefficient between each numerical feature and the target variable `drafted`. Features with higher absolute correlation values were selected as potentially important.\n",
              "\n",
              "Although the `drafted` variable is binary, Pearson correlation can still provide a quick insight into linear relationships. The top correlated features included: 'pts', 'obpm', 'TS_per', 'bpm', and 'Min_per', which were also supported by model-based importance.\n",
              "\n",
              "This method is simple and effective for initial filtering, especially when combined with domain knowledge.\n",
              "</h3>"
            ]
          },
          "metadata": {}
        }
      ]
    },
    {
      "cell_type": "markdown",
      "source": [
        "### D.n Approach \"\\<describe_approach_here\\>\"\n",
        "\n",
        "> You can add more cells related to other approaches in this section"
      ],
      "metadata": {
        "id": "6sK5poaV3hny"
      }
    },
    {
      "cell_type": "code",
      "source": [
        "# Manual interaction features\n",
        "for df in [train, test]:\n",
        "    df[\"pts_per_min\"] = df[\"pts\"] / (df[\"mp\"] + 1e-6)   # Points per minute\n",
        "    df[\"ts_usg\"] = df[\"TS_per\"] * df[\"usg\"]             # Usage Rate × True Shooting Percentage\n",
        "    df[\"eff_combo\"] = df[\"bpm\"] * df[\"obpm\"] * df[\"TS_per\"]  # Overall efficiency combination\n",
        "\n",
        "# Feature Selection add new feature\n",
        "features_list = [\n",
        "    'pts', 'Min_per', 'obpm', 'TS_per', 'bpm',\n",
        "    'mp', 'eFG', 'usg', 'drtg', 'adrtg',\n",
        "    'pts_per_min', 'ts_usg', 'eff_combo'\n",
        "]"
      ],
      "metadata": {
        "id": "zYY4u2063ioF"
      },
      "execution_count": 47,
      "outputs": []
    },
    {
      "cell_type": "code",
      "source": [],
      "metadata": {
        "id": "-Blv0kUV3ib2"
      },
      "execution_count": 47,
      "outputs": []
    },
    {
      "cell_type": "code",
      "source": [
        "# <Student to fill this section>\n",
        "\n",
        "feature_selection_explanations = \"\"\"\n",
        "For the baseline Logistic Regression model, we selected 10 key features based on correlation with the target and domain knowledge.\n",
        "\n",
        "We also added 3 manual interaction features:\n",
        "- 'pts_per_min': scoring per minute,\n",
        "- 'ts_usg': usage × shooting accuracy,\n",
        "- 'eff_combo': overall efficiency.\n",
        "\n",
        "This 13-feature set provides a strong yet simple foundation for the baseline model.\n",
        "\"\"\""
      ],
      "metadata": {
        "id": "-pxVH1r63vqu"
      },
      "execution_count": 48,
      "outputs": []
    },
    {
      "cell_type": "code",
      "source": [
        "# Do not modify this code\n",
        "print_tile(size=\"h3\", key='feature_selection_explanations', value=feature_selection_explanations)"
      ],
      "metadata": {
        "id": "rHluIUmR3iO3",
        "colab": {
          "base_uri": "https://localhost:8080/",
          "height": 122
        },
        "outputId": "e78ea48e-b6fc-4650-aa52-86037b3b872c"
      },
      "execution_count": 49,
      "outputs": [
        {
          "output_type": "display_data",
          "data": {
            "text/plain": [
              "<IPython.core.display.HTML object>"
            ],
            "text/html": [
              "<p style=\"color:grey\">feature_selection_explanations</p><h3 font-size: 3em>\n",
              "For the baseline Logistic Regression model, we selected 10 key features based on correlation with the target and domain knowledge.\n",
              "\n",
              "We also added 3 manual interaction features:\n",
              "- 'pts_per_min': scoring per minute,\n",
              "- 'ts_usg': usage × shooting accuracy,\n",
              "- 'eff_combo': overall efficiency.\n",
              "\n",
              "This 13-feature set provides a strong yet simple foundation for the baseline model.\n",
              "</h3>"
            ]
          },
          "metadata": {}
        }
      ]
    },
    {
      "cell_type": "markdown",
      "source": [
        "---\n",
        "## E. Data Preparation"
      ],
      "metadata": {
        "id": "j-nNSpJK0Rgu"
      }
    },
    {
      "cell_type": "markdown",
      "source": [
        "### E.1 Data Transformation <put_name_here>"
      ],
      "metadata": {
        "id": "EDtRq1990rcW"
      }
    },
    {
      "cell_type": "code",
      "source": [
        "# <Student to fill this section>"
      ],
      "metadata": {
        "id": "AZN0u9DD0v5X"
      },
      "execution_count": 50,
      "outputs": []
    },
    {
      "cell_type": "code",
      "source": [],
      "metadata": {
        "id": "MjdmojP6Vp6G"
      },
      "execution_count": 50,
      "outputs": []
    },
    {
      "cell_type": "code",
      "source": [
        "# <Student to fill this section>\n",
        "data_cleaning_1_explanations = \"\"\"\n",
        "During data cleaning, we addressed missing values and removed unusable features. For example, the feature `ht` had no values at all in the training dataset, while `Rec_Rank` and `dunks_ratio` had over 50% missing values. Keeping such features would introduce noise and inconsistencies into the model.\n",
        "\n",
        "For the remaining features with only a small number of missing values, we replaced the missing entries with the median. Median imputation was chosen because it is robust to outliers and ensures that the data remains usable without dropping entire rows.\n",
        "\n",
        "Fixing these issues is important because:\n",
        "- Models cannot train properly with NaN values.\n",
        "- Features with extremely high proportions of missing data add no predictive value.\n",
        "- Consistent feature handling between training and test sets prevents errors during prediction.\n",
        "\n",
        "By applying these transformations, we ensure the dataset is complete, consistent, and ready for modeling, which increases both the reliability and performance of our models.\n",
        "\"\"\"\n"
      ],
      "metadata": {
        "id": "eQGXvLtkFU9L"
      },
      "execution_count": 51,
      "outputs": []
    },
    {
      "cell_type": "code",
      "source": [
        "# Do not modify this code\n",
        "print_tile(size=\"h3\", key='data_cleaning_1_explanations', value=data_cleaning_1_explanations)"
      ],
      "metadata": {
        "id": "MPuYme1uFU_4",
        "colab": {
          "base_uri": "https://localhost:8080/",
          "height": 223
        },
        "outputId": "201455d2-2c0e-4e7d-f724-a76afeb51ae3"
      },
      "execution_count": 52,
      "outputs": [
        {
          "output_type": "display_data",
          "data": {
            "text/plain": [
              "<IPython.core.display.HTML object>"
            ],
            "text/html": [
              "<p style=\"color:grey\">data_cleaning_1_explanations</p><h3 font-size: 3em>\n",
              "During data cleaning, we addressed missing values and removed unusable features. For example, the feature `ht` had no values at all in the training dataset, while `Rec_Rank` and `dunks_ratio` had over 50% missing values. Keeping such features would introduce noise and inconsistencies into the model.\n",
              "\n",
              "For the remaining features with only a small number of missing values, we replaced the missing entries with the median. Median imputation was chosen because it is robust to outliers and ensures that the data remains usable without dropping entire rows.\n",
              "\n",
              "Fixing these issues is important because:\n",
              "- Models cannot train properly with NaN values.\n",
              "- Features with extremely high proportions of missing data add no predictive value.\n",
              "- Consistent feature handling between training and test sets prevents errors during prediction.\n",
              "\n",
              "By applying these transformations, we ensure the dataset is complete, consistent, and ready for modeling, which increases both the reliability and performance of our models.\n",
              "</h3>"
            ]
          },
          "metadata": {}
        }
      ]
    },
    {
      "cell_type": "markdown",
      "source": [
        "### E.2 Data Transformation <put_name_here>"
      ],
      "metadata": {
        "id": "SxhDoAkw08Eb"
      }
    },
    {
      "cell_type": "code",
      "source": [
        "# <Student to fill this section>"
      ],
      "metadata": {
        "id": "OO5ITMDZ035_"
      },
      "execution_count": 53,
      "outputs": []
    },
    {
      "cell_type": "code",
      "source": [],
      "metadata": {
        "id": "4OlbuimwVqjd"
      },
      "execution_count": 53,
      "outputs": []
    },
    {
      "cell_type": "code",
      "source": [
        "# <Student to fill this section>\n",
        "\n",
        "data_cleaning_2_explanations = \"\"\"\n",
        "We standardized numerical features because Logistic Regression is sensitive to feature scales.\n",
        "Without scaling, large-range features (e.g., 'pts') can dominate smaller-range ones (e.g., 'TS_per').\n",
        "Standardization improves convergence and keeps coefficients stable and comparable.\n",
        "\"\"\""
      ],
      "metadata": {
        "id": "NoQ6IWoFFb1y"
      },
      "execution_count": 54,
      "outputs": []
    },
    {
      "cell_type": "code",
      "source": [
        "# Do not modify this code\n",
        "print_tile(size=\"h3\", key='data_cleaning_2_explanations', value=data_cleaning_2_explanations)"
      ],
      "metadata": {
        "id": "n1NG6O-jFdOE",
        "colab": {
          "base_uri": "https://localhost:8080/",
          "height": 122
        },
        "outputId": "4f3371c7-7e37-4c22-aeb5-113092e302f1"
      },
      "execution_count": 55,
      "outputs": [
        {
          "output_type": "display_data",
          "data": {
            "text/plain": [
              "<IPython.core.display.HTML object>"
            ],
            "text/html": [
              "<p style=\"color:grey\">data_cleaning_2_explanations</p><h3 font-size: 3em>\n",
              "We standardized numerical features because Logistic Regression is sensitive to feature scales.\n",
              "Without scaling, large-range features (e.g., 'pts') can dominate smaller-range ones (e.g., 'TS_per').\n",
              "Standardization improves convergence and keeps coefficients stable and comparable.\n",
              "</h3>"
            ]
          },
          "metadata": {}
        }
      ]
    },
    {
      "cell_type": "markdown",
      "source": [
        "### E.3 Data Transformation <put_name_here>"
      ],
      "metadata": {
        "id": "ylQxO-4g03qH"
      }
    },
    {
      "cell_type": "code",
      "source": [
        "# <Student to fill this section>"
      ],
      "metadata": {
        "id": "5VymIZpS1Ch7"
      },
      "execution_count": 56,
      "outputs": []
    },
    {
      "cell_type": "code",
      "source": [],
      "metadata": {
        "id": "eGB_A6UsVu81"
      },
      "execution_count": 56,
      "outputs": []
    },
    {
      "cell_type": "code",
      "source": [
        "# <Student to fill this section>\n",
        "\n",
        "data_cleaning_3_explanations = \"\"\"\n",
        "We encoded categorical features — such as 'team', 'conf', 'year', and 'type' using One-Hot Encoding.\n",
        "These features are important (e.g., players from certain conferences or schools may have better draft chances),\n",
        "but Logistic Regression requires numeric inputs.\n",
        "Encoding allows us to retain this useful information in the model.\n",
        "\"\"\""
      ],
      "metadata": {
        "id": "BHo46tqSFibl"
      },
      "execution_count": 57,
      "outputs": []
    },
    {
      "cell_type": "code",
      "source": [
        "# Do not modify this code\n",
        "print_tile(size=\"h3\", key='data_cleaning_3_explanations', value=data_cleaning_3_explanations)"
      ],
      "metadata": {
        "id": "D1BIohZLFiiM",
        "colab": {
          "base_uri": "https://localhost:8080/",
          "height": 122
        },
        "outputId": "5ffa3beb-0300-461f-a283-3849ecb92f3a"
      },
      "execution_count": 58,
      "outputs": [
        {
          "output_type": "display_data",
          "data": {
            "text/plain": [
              "<IPython.core.display.HTML object>"
            ],
            "text/html": [
              "<p style=\"color:grey\">data_cleaning_3_explanations</p><h3 font-size: 3em>\n",
              "We encoded categorical features — such as 'team', 'conf', 'year', and 'type' using One-Hot Encoding.\n",
              "These features are important (e.g., players from certain conferences or schools may have better draft chances),\n",
              "but Logistic Regression requires numeric inputs.\n",
              "Encoding allows us to retain this useful information in the model.\n",
              "</h3>"
            ]
          },
          "metadata": {}
        }
      ]
    },
    {
      "cell_type": "markdown",
      "source": [
        "### E.n Fixing \"\\<describe_issue_here\\>\"\n",
        "\n",
        "> You can add more cells related to other issues in this section"
      ],
      "metadata": {
        "id": "w8pDuIcQVxgf"
      }
    },
    {
      "cell_type": "code",
      "source": [],
      "metadata": {
        "id": "L7MGT74hVxm2"
      },
      "execution_count": 58,
      "outputs": []
    },
    {
      "cell_type": "code",
      "source": [],
      "metadata": {
        "id": "_x2xJAZ7Vxpb"
      },
      "execution_count": 58,
      "outputs": []
    },
    {
      "cell_type": "markdown",
      "source": [
        "---\n",
        "## F. Feature Engineering"
      ],
      "metadata": {
        "id": "S80O7okb0RIx"
      }
    },
    {
      "cell_type": "markdown",
      "source": [
        "### F.1 New Feature \"\\<put_name_here\\>\"\n"
      ],
      "metadata": {
        "id": "Kst7h7wp1MFK"
      }
    },
    {
      "cell_type": "code",
      "source": [
        "# <Student to fill this section>"
      ],
      "metadata": {
        "id": "f_wsc2n-1Mdm"
      },
      "execution_count": 59,
      "outputs": []
    },
    {
      "cell_type": "code",
      "source": [],
      "metadata": {
        "id": "d7k_4Q_UV2vi"
      },
      "execution_count": 59,
      "outputs": []
    },
    {
      "cell_type": "code",
      "source": [
        "# <Student to fill this section>\n",
        "\n",
        "feature_engineering_1_explanations = \"\"\"\n",
        "We created a new feature 'pts_per_min' by dividing points ('pts') by minutes played ('mp').\n",
        "\n",
        "This captures a player's scoring efficiency per minute, which helps normalize performance across different playing times.\n",
        "\"\"\"\n"
      ],
      "metadata": {
        "id": "hezUX-UgFpQf"
      },
      "execution_count": 60,
      "outputs": []
    },
    {
      "cell_type": "code",
      "source": [
        "# Do not modify this code\n",
        "print_tile(size=\"h3\", key='feature_engineering_1_explanations', value=feature_engineering_1_explanations)"
      ],
      "metadata": {
        "id": "AKIFmqwVFpTA",
        "colab": {
          "base_uri": "https://localhost:8080/",
          "height": 101
        },
        "outputId": "11a8d550-962d-4ea9-fde0-fd08cb130c50"
      },
      "execution_count": 61,
      "outputs": [
        {
          "output_type": "display_data",
          "data": {
            "text/plain": [
              "<IPython.core.display.HTML object>"
            ],
            "text/html": [
              "<p style=\"color:grey\">feature_engineering_1_explanations</p><h3 font-size: 3em>\n",
              "We created a new feature 'pts_per_min' by dividing points ('pts') by minutes played ('mp').\n",
              "\n",
              "This captures a player's scoring efficiency per minute, which helps normalize performance across different playing times.\n",
              "</h3>"
            ]
          },
          "metadata": {}
        }
      ]
    },
    {
      "cell_type": "markdown",
      "source": [
        "### F.2 New Feature \"\\<put_name_here\\>\"\n",
        "\n",
        "\n"
      ],
      "metadata": {
        "id": "xY_hWhC71XAl"
      }
    },
    {
      "cell_type": "code",
      "source": [
        "# <Student to fill this section>"
      ],
      "metadata": {
        "id": "F3DhQoJZ1Xvw"
      },
      "execution_count": 62,
      "outputs": []
    },
    {
      "cell_type": "code",
      "source": [
        "# <Student to fill this section>\n",
        "\n",
        "feature_engineering_2_explanations = \"\"\"\n",
        "We created 'ts_usg' by multiplying True Shooting Percentage ('TS_per') with Usage Rate ('usg').\n",
        "\n",
        "This captures both scoring efficiency and how often the player is involved in offense.\n",
        "\n",
        "It helps identify players who are not only efficient but also play a central role in the team's scoring.\n",
        "\"\"\""
      ],
      "metadata": {
        "id": "ac-MNGsmFtaH"
      },
      "execution_count": 63,
      "outputs": []
    },
    {
      "cell_type": "code",
      "source": [
        "# Do not modify this code\n",
        "print_tile(size=\"h3\", key='feature_engineering_2_explanations', value=feature_engineering_2_explanations)"
      ],
      "metadata": {
        "id": "xapPh0YfFtca",
        "colab": {
          "base_uri": "https://localhost:8080/",
          "height": 122
        },
        "outputId": "acf8e403-4421-47b4-c8c9-41af6b5feae9"
      },
      "execution_count": 64,
      "outputs": [
        {
          "output_type": "display_data",
          "data": {
            "text/plain": [
              "<IPython.core.display.HTML object>"
            ],
            "text/html": [
              "<p style=\"color:grey\">feature_engineering_2_explanations</p><h3 font-size: 3em>\n",
              "We created 'ts_usg' by multiplying True Shooting Percentage ('TS_per') with Usage Rate ('usg').\n",
              "\n",
              "This captures both scoring efficiency and how often the player is involved in offense.\n",
              "\n",
              "It helps identify players who are not only efficient but also play a central role in the team's scoring.\n",
              "</h3>"
            ]
          },
          "metadata": {}
        }
      ]
    },
    {
      "cell_type": "markdown",
      "source": [
        "### F.3 New Feature \"\\<put_name_here\\>\"\n",
        "\n",
        "> Provide some explanations on why you believe it is important to create this feature and its impacts\n",
        "\n"
      ],
      "metadata": {
        "id": "w0Fhn4271gVu"
      }
    },
    {
      "cell_type": "code",
      "source": [
        "# <Student to fill this section>"
      ],
      "metadata": {
        "id": "N6wBdmYD1g6c"
      },
      "execution_count": 65,
      "outputs": []
    },
    {
      "cell_type": "code",
      "source": [],
      "metadata": {
        "id": "ffmW_bKwV6nX"
      },
      "execution_count": 65,
      "outputs": []
    },
    {
      "cell_type": "code",
      "source": [
        "# <Student to fill this section>\n",
        "\n",
        "feature_engineering_3_explanations = \"\"\"\n",
        "We created 'eff_combo' by multiplying Box Plus/Minus ('bpm'), Offensive BPM ('obpm'), and True Shooting Percentage ('TS_per').\n",
        "\n",
        "This feature captures a player's overall offensive efficiency and impact.\n",
        "\n",
        "It combines volume, efficiency, and on-court value into a single indicator that may better reflect draft potential.\n",
        "\"\"\""
      ],
      "metadata": {
        "id": "Z3gtyjmKFzCK"
      },
      "execution_count": 66,
      "outputs": []
    },
    {
      "cell_type": "code",
      "source": [
        "# Do not modify this code\n",
        "print_tile(size=\"h3\", key='feature_engineering_n_explanations', value=feature_engineering_3_explanations)"
      ],
      "metadata": {
        "id": "7nMfjzkbFzFj",
        "colab": {
          "base_uri": "https://localhost:8080/",
          "height": 122
        },
        "outputId": "eabc91b3-5342-442f-8b48-7f18b84b017d"
      },
      "execution_count": 67,
      "outputs": [
        {
          "output_type": "display_data",
          "data": {
            "text/plain": [
              "<IPython.core.display.HTML object>"
            ],
            "text/html": [
              "<p style=\"color:grey\">feature_engineering_n_explanations</p><h3 font-size: 3em>\n",
              "We created 'eff_combo' by multiplying Box Plus/Minus ('bpm'), Offensive BPM ('obpm'), and True Shooting Percentage ('TS_per').\n",
              "\n",
              "This feature captures a player's overall offensive efficiency and impact.\n",
              "\n",
              "It combines volume, efficiency, and on-court value into a single indicator that may better reflect draft potential.\n",
              "</h3>"
            ]
          },
          "metadata": {}
        }
      ]
    },
    {
      "cell_type": "markdown",
      "source": [
        "### F.n Fixing \"\\<describe_issue_here\\>\"\n",
        "\n",
        "> You can add more cells related to new features in this section"
      ],
      "metadata": {
        "id": "_NHBVVRxV-CC"
      }
    },
    {
      "cell_type": "code",
      "source": [
        "# <Student to fill this section>\n",
        "\n",
        "feature_Fixing_explanations = \"\"\"\n",
        "The original 'ht' feature was in string format like '6-7', which is not usable for modeling.\n",
        "\n",
        "We converted it into numerical inches using a custom function. However, since all values were missing, the feature was eventually dropped.\n",
        "\n",
        "This cleaning step ensured that only usable and meaningful features remained in the dataset.\n",
        "\"\"\""
      ],
      "metadata": {
        "id": "8x4jHVxnV-Gm"
      },
      "execution_count": 68,
      "outputs": []
    },
    {
      "cell_type": "code",
      "source": [
        "# Do not modify this code\n",
        "print_tile(size=\"h3\", key='feature_engineering_n_explanations', value=feature_Fixing_explanations)"
      ],
      "metadata": {
        "id": "eAl_-gx3V-JT",
        "colab": {
          "base_uri": "https://localhost:8080/",
          "height": 122
        },
        "outputId": "2370fba4-24c6-45eb-9210-841f852a474e"
      },
      "execution_count": 69,
      "outputs": [
        {
          "output_type": "display_data",
          "data": {
            "text/plain": [
              "<IPython.core.display.HTML object>"
            ],
            "text/html": [
              "<p style=\"color:grey\">feature_engineering_n_explanations</p><h3 font-size: 3em>\n",
              "The original 'ht' feature was in string format like '6-7', which is not usable for modeling.\n",
              "\n",
              "We converted it into numerical inches using a custom function. However, since all values were missing, the feature was eventually dropped.\n",
              "\n",
              "This cleaning step ensured that only usable and meaningful features remained in the dataset.\n",
              "</h3>"
            ]
          },
          "metadata": {}
        }
      ]
    },
    {
      "cell_type": "markdown",
      "metadata": {
        "id": "N8MNBrC4Zgz6"
      },
      "source": [
        "---\n",
        "## G. Data Preparation for Modeling"
      ]
    },
    {
      "cell_type": "markdown",
      "source": [
        "### G.1 Split Datasets"
      ],
      "metadata": {
        "id": "HbpTjW2GGkd8"
      }
    },
    {
      "cell_type": "code",
      "source": [
        "# <Student to fill this section>"
      ],
      "metadata": {
        "id": "kcJ8_kh6Gnjl"
      },
      "execution_count": 70,
      "outputs": []
    },
    {
      "cell_type": "code",
      "source": [
        "from sklearn.model_selection import train_test_split\n",
        "\n",
        "X = train[features_list]\n",
        "y = train[\"drafted\"]\n",
        "\n",
        "X_train, X_val, y_train, y_val = train_test_split(\n",
        "    X, y, test_size=0.2, stratify=y, random_state=42\n",
        ")\n",
        "\n",
        "print(\"Train shape:\", X_train.shape)\n",
        "print(\"Validation shape:\", X_val.shape)"
      ],
      "metadata": {
        "id": "tyVDHxW4WBGP",
        "colab": {
          "base_uri": "https://localhost:8080/"
        },
        "outputId": "dd2e6feb-0eb3-4358-dab7-4b387ad0a292"
      },
      "execution_count": 71,
      "outputs": [
        {
          "output_type": "stream",
          "name": "stdout",
          "text": [
            "Train shape: (11819, 13)\n",
            "Validation shape: (2955, 13)\n"
          ]
        }
      ]
    },
    {
      "cell_type": "code",
      "source": [
        "# <Student to fill this section>\n",
        "data_splitting_explanations = \"\"\"\n",
        "We split the training dataset into training and validation sets using an 80/20 ratio.\n",
        "This strategy allows us to train the model on a majority of the data while still having a held-out set to evaluate its generalization.\n",
        "Stratification is applied to maintain the proportion of drafted vs non-drafted players due to the imbalanced classes.\n",
        "\"\"\""
      ],
      "metadata": {
        "id": "dkvHE5g4F3IZ"
      },
      "execution_count": 72,
      "outputs": []
    },
    {
      "cell_type": "code",
      "source": [
        "# Do not modify this code\n",
        "print_tile(size=\"h3\", key='data_splitting_explanations', value=data_splitting_explanations)"
      ],
      "metadata": {
        "id": "vx4_g0pLF3Lg",
        "colab": {
          "base_uri": "https://localhost:8080/",
          "height": 122
        },
        "outputId": "ad6e8467-1629-4829-a72e-b80be3ea4562"
      },
      "execution_count": 73,
      "outputs": [
        {
          "output_type": "display_data",
          "data": {
            "text/plain": [
              "<IPython.core.display.HTML object>"
            ],
            "text/html": [
              "<p style=\"color:grey\">data_splitting_explanations</p><h3 font-size: 3em>\n",
              "We split the training dataset into training and validation sets using an 80/20 ratio.\n",
              "This strategy allows us to train the model on a majority of the data while still having a held-out set to evaluate its generalization.\n",
              "Stratification is applied to maintain the proportion of drafted vs non-drafted players due to the imbalanced classes.\n",
              "</h3>"
            ]
          },
          "metadata": {}
        }
      ]
    },
    {
      "cell_type": "markdown",
      "source": [
        "### G.2 Data Transformation \"\\<put_name_here\\>\""
      ],
      "metadata": {
        "id": "JHJ25iRRG1Gb"
      }
    },
    {
      "cell_type": "code",
      "source": [
        "# <Student to fill this section>"
      ],
      "metadata": {
        "id": "_PIDyg9OG17x"
      },
      "execution_count": 74,
      "outputs": []
    },
    {
      "cell_type": "code",
      "source": [],
      "metadata": {
        "id": "Zy6_m4G2WFN5"
      },
      "execution_count": 74,
      "outputs": []
    },
    {
      "cell_type": "code",
      "source": [
        "# <Student to fill this section>\n",
        "\n",
        "data_transformation_1_explanations = \"\"\"\n",
        "We applied standardization to all numerical features using StandardScaler to ensure zero mean and unit variance.\n",
        "\n",
        "This transformation is important for Logistic Regression, as it improves training stability and model performance by keeping features on the same scale.\n",
        "\"\"\""
      ],
      "metadata": {
        "id": "XbWWDBacGn9n"
      },
      "execution_count": 75,
      "outputs": []
    },
    {
      "cell_type": "code",
      "source": [
        "# Do not modify this code\n",
        "print_tile(size=\"h3\", key='data_transformation_1_explanations', value=data_transformation_1_explanations)"
      ],
      "metadata": {
        "id": "vepkbzldGn_8",
        "colab": {
          "base_uri": "https://localhost:8080/",
          "height": 101
        },
        "outputId": "38118c3c-98d0-4486-c9ca-7ab46cbdd73d"
      },
      "execution_count": 76,
      "outputs": [
        {
          "output_type": "display_data",
          "data": {
            "text/plain": [
              "<IPython.core.display.HTML object>"
            ],
            "text/html": [
              "<p style=\"color:grey\">data_transformation_1_explanations</p><h3 font-size: 3em>\n",
              "We applied standardization to all numerical features using StandardScaler to ensure zero mean and unit variance.\n",
              "\n",
              "This transformation is important for Logistic Regression, as it improves training stability and model performance by keeping features on the same scale.\n",
              "</h3>"
            ]
          },
          "metadata": {}
        }
      ]
    },
    {
      "cell_type": "markdown",
      "source": [
        "### G.3 Data Transformation \"\\<put_name_here\\>\""
      ],
      "metadata": {
        "id": "3YG8_V1DG8YP"
      }
    },
    {
      "cell_type": "code",
      "source": [
        "# <Student to fill this section>"
      ],
      "metadata": {
        "id": "jHtYOtv7HJbw"
      },
      "execution_count": 77,
      "outputs": []
    },
    {
      "cell_type": "code",
      "source": [],
      "metadata": {
        "id": "i-pdTrPyWGgs"
      },
      "execution_count": 77,
      "outputs": []
    },
    {
      "cell_type": "code",
      "source": [
        "# <Student to fill this section>\n",
        "\n",
        "data_transformation_2_explanations = \"\"\"\n",
        "We applied One-Hot Encoding to categorical features like 'team', 'conf', 'year', and 'type'.\n",
        "\n",
        "This step is necessary because Logistic Regression requires all inputs to be numeric.\n",
        "\n",
        "It also allows the model to learn from group differences across teams, conferences, and seasons.\n",
        "\"\"\""
      ],
      "metadata": {
        "id": "TQR-kDICGoqa"
      },
      "execution_count": 78,
      "outputs": []
    },
    {
      "cell_type": "code",
      "source": [
        "# Do not modify this code\n",
        "print_tile(size=\"h3\", key='data_transformation_2_explanations', value=data_transformation_2_explanations)"
      ],
      "metadata": {
        "id": "bNWRpNiQGotZ",
        "colab": {
          "base_uri": "https://localhost:8080/",
          "height": 122
        },
        "outputId": "b792f692-6c0c-485e-b8fb-509f9a37360f"
      },
      "execution_count": 79,
      "outputs": [
        {
          "output_type": "display_data",
          "data": {
            "text/plain": [
              "<IPython.core.display.HTML object>"
            ],
            "text/html": [
              "<p style=\"color:grey\">data_transformation_2_explanations</p><h3 font-size: 3em>\n",
              "We applied One-Hot Encoding to categorical features like 'team', 'conf', 'year', and 'type'.\n",
              "\n",
              "This step is necessary because Logistic Regression requires all inputs to be numeric.\n",
              "\n",
              "It also allows the model to learn from group differences across teams, conferences, and seasons.\n",
              "</h3>"
            ]
          },
          "metadata": {}
        }
      ]
    },
    {
      "cell_type": "markdown",
      "source": [
        "### G.4 Data Transformation \"\\<put_name_here\\>\""
      ],
      "metadata": {
        "id": "DfSLKEJTG7QB"
      }
    },
    {
      "cell_type": "code",
      "source": [
        "# <Student to fill this section>"
      ],
      "metadata": {
        "id": "712T36KKG7Yp"
      },
      "execution_count": 80,
      "outputs": []
    },
    {
      "cell_type": "code",
      "source": [],
      "metadata": {
        "id": "bLjLDvaWWHx2"
      },
      "execution_count": 80,
      "outputs": []
    },
    {
      "cell_type": "code",
      "source": [
        "# <Student to fill this section>\n",
        "\n",
        "data_transformation_3_explanations = \"\"\"\n",
        "We used a pipeline to apply Standard Scaling consistently across training, validation, and test sets.\n",
        "\n",
        "This ensures that all numeric features remain on the same scale, avoiding data leakage and preserving model integrity.\n",
        "\"\"\""
      ],
      "metadata": {
        "id": "fQkBCxekGpUv"
      },
      "execution_count": 81,
      "outputs": []
    },
    {
      "cell_type": "code",
      "source": [
        "# Do not modify this code\n",
        "print_tile(size=\"h3\", key='data_transformation_3_explanations', value=data_transformation_3_explanations)"
      ],
      "metadata": {
        "id": "Xlo8HKd9GpXM",
        "colab": {
          "base_uri": "https://localhost:8080/",
          "height": 101
        },
        "outputId": "4416e690-5be3-4dce-a33b-46ae3aba9254"
      },
      "execution_count": 82,
      "outputs": [
        {
          "output_type": "display_data",
          "data": {
            "text/plain": [
              "<IPython.core.display.HTML object>"
            ],
            "text/html": [
              "<p style=\"color:grey\">data_transformation_3_explanations</p><h3 font-size: 3em>\n",
              "We used a pipeline to apply Standard Scaling consistently across training, validation, and test sets.\n",
              "\n",
              "This ensures that all numeric features remain on the same scale, avoiding data leakage and preserving model integrity.\n",
              "</h3>"
            ]
          },
          "metadata": {}
        }
      ]
    },
    {
      "cell_type": "markdown",
      "source": [],
      "metadata": {
        "id": "K0688URxWIQo"
      }
    },
    {
      "cell_type": "code",
      "source": [],
      "metadata": {
        "id": "pqjpS9cXWN-n"
      },
      "execution_count": 82,
      "outputs": []
    },
    {
      "cell_type": "code",
      "source": [],
      "metadata": {
        "id": "cnKmJ6rsWIXs"
      },
      "execution_count": 82,
      "outputs": []
    },
    {
      "cell_type": "markdown",
      "source": [
        "---\n",
        "## H. Save Datasets\n",
        "\n",
        "> Do not change this code"
      ],
      "metadata": {
        "id": "qIj277YWHdFk"
      }
    },
    {
      "cell_type": "code",
      "source": [
        "# Create X_test from test set\n",
        "X_test = test.drop(columns=[\"player_id\"])\n",
        "\n",
        "# Since test set doesn't include labels, create empty y_test as placeholder\n",
        "import numpy as np\n",
        "import pandas as pd\n",
        "y_test = pd.Series([np.nan] * len(X_test))"
      ],
      "metadata": {
        "id": "rEuIZC1ub59F"
      },
      "execution_count": 83,
      "outputs": []
    },
    {
      "cell_type": "code",
      "source": [
        "# Do not modify this code\n",
        "# Save training set\n",
        "try:\n",
        "  X_train.to_csv(at.folder_path / 'X_train.csv', index=False)\n",
        "  y_train.to_csv(at.folder_path / 'y_train.csv', index=False)\n",
        "\n",
        "  X_val.to_csv(at.folder_path / 'X_val.csv', index=False)\n",
        "  y_val.to_csv(at.folder_path / 'y_val.csv', index=False)\n",
        "\n",
        "  X_test.to_csv(at.folder_path / 'X_test.csv', index=False)\n",
        "  y_test.to_csv(at.folder_path / 'y_test.csv', index=False)\n",
        "except Exception as e:\n",
        "  print(e)"
      ],
      "metadata": {
        "id": "uMNql0SzHhP2",
        "colab": {
          "base_uri": "https://localhost:8080/"
        },
        "outputId": "f73296fb-9fa8-4a59-81f0-a4caaaff03ac"
      },
      "execution_count": 84,
      "outputs": [
        {
          "output_type": "stream",
          "name": "stdout",
          "text": [
            "name 'at' is not defined\n"
          ]
        }
      ]
    },
    {
      "cell_type": "markdown",
      "source": [
        "---\n",
        "## I. Selection of Performance Metrics\n",
        "\n",
        "> Provide some explanations on why you believe the performance metrics you chose is appropriate\n"
      ],
      "metadata": {
        "id": "RtLjr7niHpNZ"
      }
    },
    {
      "cell_type": "code",
      "source": [
        "# <Student to fill this section>"
      ],
      "metadata": {
        "id": "KV_pxLAiHxKW"
      },
      "execution_count": 85,
      "outputs": []
    },
    {
      "cell_type": "code",
      "source": [
        "# <Student to fill this section>\n",
        "performance_metrics_explanations = \"\"\"\n",
        "The main performance metric selected is the Area Under the Receiver Operating Characteristic Curve (AUROC),\n",
        "as it is robust to imbalanced datasets and focuses on the model’s ability to distinguish between the drafted and non-drafted classes.\n",
        "\n",
        "Accuracy is not suitable due to the heavy class imbalance (less than 1% of players are actually drafted),\n",
        "as a naive model predicting all zeros would still have over 99% accuracy.\n",
        "Therefore, AUROC is more appropriate because it evaluates how well the model ranks drafted players higher than non-drafted ones,\n",
        "regardless of threshold.\n",
        "\n",
        "Other supporting metrics such as precision, recall, and F1-score may also be considered to evaluate the trade-off\n",
        "between false positives and false negatives.\n",
        "\"\"\"\n"
      ],
      "metadata": {
        "id": "kC949nluHR5s"
      },
      "execution_count": 86,
      "outputs": []
    },
    {
      "cell_type": "code",
      "source": [
        "# Do not modify this code\n",
        "print_tile(size=\"h3\", key='performance_metrics_explanations', value=performance_metrics_explanations)"
      ],
      "metadata": {
        "id": "wABRzU2sHR8j",
        "colab": {
          "base_uri": "https://localhost:8080/",
          "height": 183
        },
        "outputId": "4478e432-c7a0-40a3-e6ad-982825690cef"
      },
      "execution_count": 87,
      "outputs": [
        {
          "output_type": "display_data",
          "data": {
            "text/plain": [
              "<IPython.core.display.HTML object>"
            ],
            "text/html": [
              "<p style=\"color:grey\">performance_metrics_explanations</p><h3 font-size: 3em>\n",
              "The main performance metric selected is the Area Under the Receiver Operating Characteristic Curve (AUROC),\n",
              "as it is robust to imbalanced datasets and focuses on the model’s ability to distinguish between the drafted and non-drafted classes.\n",
              "\n",
              "Accuracy is not suitable due to the heavy class imbalance (less than 1% of players are actually drafted),\n",
              "as a naive model predicting all zeros would still have over 99% accuracy.\n",
              "Therefore, AUROC is more appropriate because it evaluates how well the model ranks drafted players higher than non-drafted ones,\n",
              "regardless of threshold.\n",
              "\n",
              "Other supporting metrics such as precision, recall, and F1-score may also be considered to evaluate the trade-off\n",
              "between false positives and false negatives.\n",
              "</h3>"
            ]
          },
          "metadata": {}
        }
      ]
    },
    {
      "cell_type": "markdown",
      "source": [
        "## J. Train Machine Learning Model"
      ],
      "metadata": {
        "id": "ZpxjwSDYIJy6"
      }
    },
    {
      "cell_type": "markdown",
      "source": [
        "### J.1 Import Algorithm\n",
        "\n",
        "> Provide some explanations on why you believe this algorithm is a good fit\n"
      ],
      "metadata": {
        "id": "_XBy7-9PIVcU"
      }
    },
    {
      "cell_type": "code",
      "source": [
        "from sklearn.linear_model import LogisticRegression\n",
        "from sklearn.pipeline import Pipeline\n",
        "from sklearn.preprocessing import StandardScaler\n",
        "from sklearn.metrics import roc_auc_score, classification_report, precision_score, recall_score, f1_score\n",
        "\n",
        "logit_pipeline = Pipeline([\n",
        "    (\"scaler\", StandardScaler()),\n",
        "    (\"clf\", LogisticRegression(\n",
        "        solver=\"saga\",\n",
        "        penalty=\"elasticnet\",\n",
        "        l1_ratio=0.1,\n",
        "        C=1.0,\n",
        "        class_weight=\"balanced\",\n",
        "        max_iter=5000,\n",
        "        random_state=42\n",
        "    ))\n",
        "])\n",
        "\n",
        "logit_pipeline.fit(X_train, y_train)\n",
        "\n",
        "\n",
        "\n",
        "y_val_proba = logit_pipeline.predict_proba(X_val)[:, 1]\n",
        "y_val_pred = logit_pipeline.predict(X_val)\n",
        "\n",
        "print(f\"AUROC: {roc_auc_score(y_val, y_val_proba):.4f}\")\n",
        "print(\"Classification Report:\")\n",
        "print(classification_report(y_val, y_val_pred, digits=4))"
      ],
      "metadata": {
        "colab": {
          "base_uri": "https://localhost:8080/"
        },
        "id": "RGsCfInHxD4W",
        "outputId": "4795d298-3a25-4cb4-e18f-4da9f8ea96bc"
      },
      "execution_count": 88,
      "outputs": [
        {
          "output_type": "stream",
          "name": "stdout",
          "text": [
            "AUROC: 0.9921\n",
            "Classification Report:\n",
            "              precision    recall  f1-score   support\n",
            "\n",
            "         0.0     1.0000    0.9369    0.9674      2931\n",
            "         1.0     0.1148    1.0000    0.2060        24\n",
            "\n",
            "    accuracy                         0.9374      2955\n",
            "   macro avg     0.5574    0.9684    0.5867      2955\n",
            "weighted avg     0.9928    0.9374    0.9612      2955\n",
            "\n"
          ]
        }
      ]
    },
    {
      "cell_type": "code",
      "source": [
        "import matplotlib.pyplot as plt\n",
        "from sklearn.metrics import (\n",
        "    roc_curve, roc_auc_score,\n",
        "    PrecisionRecallDisplay,\n",
        "    ConfusionMatrixDisplay\n",
        ")\n",
        "\n",
        "logit_auc = roc_auc_score(y_val, y_val_proba)\n",
        "\n",
        "# --- ROC Curve ---\n",
        "fpr, tpr, _ = roc_curve(y_val, y_val_proba)\n",
        "plt.figure(figsize=(6, 4))\n",
        "plt.plot(fpr, tpr, label=f\"Logistic Regression (AUROC = {logit_auc:.4f})\")\n",
        "plt.plot([0, 1], [0, 1], linestyle='--', label=\"Random Guess\")\n",
        "plt.xlabel(\"False Positive Rate\")\n",
        "plt.ylabel(\"True Positive Rate\")\n",
        "plt.title(\"ROC Curve — Logistic Regression\")\n",
        "plt.legend(loc=\"lower right\")\n",
        "plt.grid(True)\n",
        "plt.tight_layout()\n",
        "plt.show()\n",
        "\n",
        "# --- Precision-Recall Curve ---\n",
        "plt.figure(figsize=(6, 4))\n",
        "PrecisionRecallDisplay.from_predictions(y_val, y_val_proba)\n",
        "plt.title(\"Precision-Recall Curve — Logistic Regression\")\n",
        "plt.grid(True)\n",
        "plt.tight_layout()\n",
        "plt.show()\n",
        "\n",
        "# --- Confusion Matrix ---\n",
        "plt.figure(figsize=(6, 4))\n",
        "ConfusionMatrixDisplay.from_predictions(y_val, y_val_pred)\n",
        "plt.title(\"Confusion Matrix — Logistic Regression\")\n",
        "plt.grid(False)\n",
        "plt.tight_layout()\n",
        "plt.show()\n"
      ],
      "metadata": {
        "colab": {
          "base_uri": "https://localhost:8080/",
          "height": 1000
        },
        "id": "-poYzZRd9PJ_",
        "outputId": "aed08525-bcb9-40e4-8ae3-01d37d7e2b2b"
      },
      "execution_count": 89,
      "outputs": [
        {
          "output_type": "display_data",
          "data": {
            "text/plain": [
              "<Figure size 600x400 with 1 Axes>"
            ],
            "image/png": "[encoded data removed]"
          },
          "metadata": {}
        },
        {
          "output_type": "display_data",
          "data": {
            "text/plain": [
              "<Figure size 600x400 with 0 Axes>"
            ]
          },
          "metadata": {}
        },
        {
          "output_type": "display_data",
          "data": {
            "text/plain": [
              "<Figure size 640x480 with 1 Axes>"
            ],
            "image/png": "[encoded data removed]"
          },
          "metadata": {}
        },
        {
          "output_type": "display_data",
          "data": {
            "text/plain": [
              "<Figure size 600x400 with 0 Axes>"
            ]
          },
          "metadata": {}
        },
        {
          "output_type": "display_data",
          "data": {
            "text/plain": [
              "<Figure size 640x480 with 2 Axes>"
            ],
            "image/png": "[encoded data removed]"
          },
          "metadata": {}
        }
      ]
    },
    {
      "cell_type": "code",
      "source": [
        "import os\n",
        "import joblib\n",
        "os.makedirs(\"models\", exist_ok=True)"
      ],
      "metadata": {
        "id": "LYPfLKXOqX3o"
      },
      "execution_count": 90,
      "outputs": []
    },
    {
      "cell_type": "code",
      "source": [
        "joblib.dump(logit_pipeline.named_steps[\"clf\"], \"models/logit_model.pkl\")\n",
        "joblib.dump(logit_pipeline.named_steps[\"scaler\"], \"models/logit_scaler.pkl\")"
      ],
      "metadata": {
        "colab": {
          "base_uri": "https://localhost:8080/"
        },
        "id": "IZkRPKGg9ctS",
        "outputId": "88903b46-3b59-493d-85dd-1fb87fcfcb09"
      },
      "execution_count": 91,
      "outputs": [
        {
          "output_type": "execute_result",
          "data": {
            "text/plain": [
              "['models/logit_scaler.pkl']"
            ]
          },
          "metadata": {},
          "execution_count": 91
        }
      ]
    },
    {
      "cell_type": "code",
      "source": [
        "from google.colab import files\n",
        "\n",
        "# Download the Logistic Regression model\n",
        "files.download(\"models/logit_model.pkl\")\n",
        "\n",
        "# Download the Scaler\n",
        "files.download(\"models/logit_scaler.pkl\")\n"
      ],
      "metadata": {
        "colab": {
          "base_uri": "https://localhost:8080/",
          "height": 17
        },
        "id": "2EZtOQTLrLJb",
        "outputId": "426f6cf2-5489-419e-c5e8-d99afa45a4f6"
      },
      "execution_count": 92,
      "outputs": [
        {
          "output_type": "display_data",
          "data": {
            "text/plain": [
              "<IPython.core.display.Javascript object>"
            ],
            "application/javascript": [
              "\n",
              "    async function download(id, filename, size) {\n",
              "      if (!google.colab.kernel.accessAllowed) {\n",
              "        return;\n",
              "      }\n",
              "      const div = document.createElement('div');\n",
              "      const label = document.createElement('label');\n",
              "      label.textContent = `Downloading \"${filename}\": `;\n",
              "      div.appendChild(label);\n",
              "      const progress = document.createElement('progress');\n",
              "      progress.max = size;\n",
              "      div.appendChild(progress);\n",
              "      document.body.appendChild(div);\n",
              "\n",
              "      const buffers = [];\n",
              "      let downloaded = 0;\n",
              "\n",
              "      const channel = await google.colab.kernel.comms.open(id);\n",
              "      // Send a message to notify the kernel that we're ready.\n",
              "      channel.send({})\n",
              "\n",
              "      for await (const message of channel.messages) {\n",
              "        // Send a message to notify the kernel that we're ready.\n",
              "        channel.send({})\n",
              "        if (message.buffers) {\n",
              "          for (const buffer of message.buffers) {\n",
              "            buffers.push(buffer);\n",
              "            downloaded += buffer.byteLength;\n",
              "            progress.value = downloaded;\n",
              "          }\n",
              "        }\n",
              "      }\n",
              "      const blob = new Blob(buffers, {type: 'application/binary'});\n",
              "      const a = document.createElement('a');\n",
              "      a.href = window.URL.createObjectURL(blob);\n",
              "      a.download = filename;\n",
              "      div.appendChild(a);\n",
              "      a.click();\n",
              "      div.remove();\n",
              "    }\n",
              "  "
            ]
          },
          "metadata": {}
        },
        {
          "output_type": "display_data",
          "data": {
            "text/plain": [
              "<IPython.core.display.Javascript object>"
            ],
            "application/javascript": [
              "download(\"download_a740ddcd-bda8-43be-a224-b79bdc6404da\", \"logit_model.pkl\", 975)"
            ]
          },
          "metadata": {}
        },
        {
          "output_type": "display_data",
          "data": {
            "text/plain": [
              "<IPython.core.display.Javascript object>"
            ],
            "application/javascript": [
              "\n",
              "    async function download(id, filename, size) {\n",
              "      if (!google.colab.kernel.accessAllowed) {\n",
              "        return;\n",
              "      }\n",
              "      const div = document.createElement('div');\n",
              "      const label = document.createElement('label');\n",
              "      label.textContent = `Downloading \"${filename}\": `;\n",
              "      div.appendChild(label);\n",
              "      const progress = document.createElement('progress');\n",
              "      progress.max = size;\n",
              "      div.appendChild(progress);\n",
              "      document.body.appendChild(div);\n",
              "\n",
              "      const buffers = [];\n",
              "      let downloaded = 0;\n",
              "\n",
              "      const channel = await google.colab.kernel.comms.open(id);\n",
              "      // Send a message to notify the kernel that we're ready.\n",
              "      channel.send({})\n",
              "\n",
              "      for await (const message of channel.messages) {\n",
              "        // Send a message to notify the kernel that we're ready.\n",
              "        channel.send({})\n",
              "        if (message.buffers) {\n",
              "          for (const buffer of message.buffers) {\n",
              "            buffers.push(buffer);\n",
              "            downloaded += buffer.byteLength;\n",
              "            progress.value = downloaded;\n",
              "          }\n",
              "        }\n",
              "      }\n",
              "      const blob = new Blob(buffers, {type: 'application/binary'});\n",
              "      const a = document.createElement('a');\n",
              "      a.href = window.URL.createObjectURL(blob);\n",
              "      a.download = filename;\n",
              "      div.appendChild(a);\n",
              "      a.click();\n",
              "      div.remove();\n",
              "    }\n",
              "  "
            ]
          },
          "metadata": {}
        },
        {
          "output_type": "display_data",
          "data": {
            "text/plain": [
              "<IPython.core.display.Javascript object>"
            ],
            "application/javascript": [
              "download(\"download_6f307fc7-2587-4dca-add7-459cd44b529f\", \"logit_scaler.pkl\", 1263)"
            ]
          },
          "metadata": {}
        }
      ]
    },
    {
      "cell_type": "code",
      "source": [
        "# <Student to fill this section>\n",
        "\n",
        "algorithm_selection_explanations = \"\"\"\n",
        "We selected Logistic Regression with elastic net regularization as our baseline model for this binary classification task.\n",
        "\n",
        "It is simple, interpretable, and provides well-calibrated probabilistic outputs suitable for AUROC evaluation.\n",
        "\n",
        "With `class_weight='balanced'` and elastic net penalty, the model handles extreme class imbalance and prevents overfitting,\n",
        "making it a solid starting point for understanding the relationship between player stats and draft outcomes.\n",
        "\"\"\""
      ],
      "metadata": {
        "id": "GIWOpv6CGUTE"
      },
      "execution_count": 93,
      "outputs": []
    },
    {
      "cell_type": "code",
      "source": [
        "# Do not modify this code\n",
        "print_tile(size=\"h3\", key='algorithm_selection_explanations', value=algorithm_selection_explanations)"
      ],
      "metadata": {
        "id": "N4yogQ9aGUVe",
        "colab": {
          "base_uri": "https://localhost:8080/",
          "height": 142
        },
        "outputId": "2aa3c913-d607-4051-bcaa-31b9979098d8"
      },
      "execution_count": 94,
      "outputs": [
        {
          "output_type": "display_data",
          "data": {
            "text/plain": [
              "<IPython.core.display.HTML object>"
            ],
            "text/html": [
              "<p style=\"color:grey\">algorithm_selection_explanations</p><h3 font-size: 3em>\n",
              "We selected Logistic Regression with elastic net regularization as our baseline model for this binary classification task.\n",
              "\n",
              "It is simple, interpretable, and provides well-calibrated probabilistic outputs suitable for AUROC evaluation.\n",
              "\n",
              "With `class_weight='balanced'` and elastic net penalty, the model handles extreme class imbalance and prevents overfitting,\n",
              "making it a solid starting point for understanding the relationship between player stats and draft outcomes.\n",
              "</h3>"
            ]
          },
          "metadata": {}
        }
      ]
    },
    {
      "cell_type": "markdown",
      "source": [
        "### J.2 Set Hyperparameters\n",
        "\n",
        "> Provide some explanations on why you believe this algorithm is a good fit\n"
      ],
      "metadata": {
        "id": "0ks_MmM2mCfm"
      }
    },
    {
      "cell_type": "code",
      "source": [
        "# <Student to fill this section>"
      ],
      "metadata": {
        "id": "NUswpGVLmDXl"
      },
      "execution_count": 95,
      "outputs": []
    },
    {
      "cell_type": "code",
      "source": [
        "# <Student to fill this section>\n",
        "\n",
        "hyperparameters_selection_explanations = \"\"\"\n",
        "We used `solver='saga'` to support elastic net regularization, which combines L1 and L2 penalties for better generalization.\n",
        "\n",
        "The `penalty='elasticnet'` with `l1_ratio=0.1` allows the model to perform both feature selection and shrinkage.\n",
        "\n",
        "We set `class_weight='balanced'` to address the extreme class imbalance, and used `C=1.0` as a default strength of regularization.\n",
        "\n",
        "These hyperparameters provide a strong starting point for robust and interpretable performance.\n",
        "\"\"\""
      ],
      "metadata": {
        "id": "crG_Bm72HfL-"
      },
      "execution_count": 96,
      "outputs": []
    },
    {
      "cell_type": "code",
      "source": [
        "# Do not modify this code\n",
        "print_tile(size=\"h3\", key='hyperparameters_selection_explanations', value=hyperparameters_selection_explanations)"
      ],
      "metadata": {
        "id": "k0uqlRCVHfQI",
        "colab": {
          "base_uri": "https://localhost:8080/",
          "height": 142
        },
        "outputId": "f52d8574-4c05-4ca0-a225-6999361f7d39"
      },
      "execution_count": 97,
      "outputs": [
        {
          "output_type": "display_data",
          "data": {
            "text/plain": [
              "<IPython.core.display.HTML object>"
            ],
            "text/html": [
              "<p style=\"color:grey\">hyperparameters_selection_explanations</p><h3 font-size: 3em>\n",
              "We used `solver='saga'` to support elastic net regularization, which combines L1 and L2 penalties for better generalization.\n",
              "\n",
              "The `penalty='elasticnet'` with `l1_ratio=0.1` allows the model to perform both feature selection and shrinkage.\n",
              "\n",
              "We set `class_weight='balanced'` to address the extreme class imbalance, and used `C=1.0` as a default strength of regularization.\n",
              "\n",
              "These hyperparameters provide a strong starting point for robust and interpretable performance.\n",
              "</h3>"
            ]
          },
          "metadata": {}
        }
      ]
    },
    {
      "cell_type": "markdown",
      "source": [
        "### J.3 Fit Model"
      ],
      "metadata": {
        "id": "VDjdjQjFmkLe"
      }
    },
    {
      "cell_type": "code",
      "source": [
        "# <Student to fill this section>"
      ],
      "metadata": {
        "id": "0Ub3Nrdgmm2N"
      },
      "execution_count": 98,
      "outputs": []
    },
    {
      "cell_type": "code",
      "source": [
        "# <Student to fill this section>\n",
        "\n",
        "fit_model_explanations = \"\"\"\n",
        "We trained a Logistic Regression model with elastic net regularization and class balancing on the cleaned and encoded dataset.\n",
        "\n",
        "Using a pipeline with standardized features, the model achieved an AUROC of 0.9921 on the validation set,\n",
        "showing excellent ability to distinguish between drafted and non-drafted players.\n",
        "\n",
        "This confirms that a regularized linear model can perform very well when paired with proper preprocessing and feature engineering.\n",
        "\"\"\""
      ],
      "metadata": {
        "id": "djxVtnv_yR-t"
      },
      "execution_count": 99,
      "outputs": []
    },
    {
      "cell_type": "code",
      "source": [
        "# Do not modify this code\n",
        "print_tile(size=\"h3\", key='fit_model_explanations', value=fit_model_explanations)"
      ],
      "metadata": {
        "id": "wAG8cmvkyVMG",
        "colab": {
          "base_uri": "https://localhost:8080/",
          "height": 142
        },
        "outputId": "52dd2914-a611-4ca9-db59-7cc86f0bb9f6"
      },
      "execution_count": 100,
      "outputs": [
        {
          "output_type": "display_data",
          "data": {
            "text/plain": [
              "<IPython.core.display.HTML object>"
            ],
            "text/html": [
              "<p style=\"color:grey\">fit_model_explanations</p><h3 font-size: 3em>\n",
              "We trained a Logistic Regression model with elastic net regularization and class balancing on the cleaned and encoded dataset.\n",
              "\n",
              "Using a pipeline with standardized features, the model achieved an AUROC of 0.9921 on the validation set,\n",
              "showing excellent ability to distinguish between drafted and non-drafted players.\n",
              "\n",
              "This confirms that a regularized linear model can perform very well when paired with proper preprocessing and feature engineering.\n",
              "</h3>"
            ]
          },
          "metadata": {}
        }
      ]
    },
    {
      "cell_type": "markdown",
      "source": [
        "### J.4 Model Technical Performance\n",
        "\n",
        "> Provide some explanations on model performance\n"
      ],
      "metadata": {
        "id": "q43YtqpdeniY"
      }
    },
    {
      "cell_type": "code",
      "execution_count": 101,
      "metadata": {
        "id": "x1Q3oxoNhez5"
      },
      "outputs": [],
      "source": [
        "# <Student to fill this section>"
      ]
    },
    {
      "cell_type": "code",
      "source": [
        "# <Student to fill this section>\n",
        "\n",
        "model_performance_explanations = \"\"\"\n",
        "The Logistic Regression model achieved an AUROC of 0.9921 on the validation set.\n",
        "\n",
        "This indicates excellent ability to distinguish between drafted and non-drafted players,\n",
        "despite the extreme class imbalance.\n",
        "\n",
        "With proper preprocessing and regularization, this model serves as a strong benchmark for evaluating future improvements.\n",
        "\"\"\""
      ],
      "metadata": {
        "id": "_YbQldshHk_3"
      },
      "execution_count": 102,
      "outputs": []
    },
    {
      "cell_type": "code",
      "source": [
        "# Do not modify this code\n",
        "print_tile(size=\"h3\", key='model_performance_explanations', value=model_performance_explanations)"
      ],
      "metadata": {
        "id": "-MkLnLzVHlDO",
        "colab": {
          "base_uri": "https://localhost:8080/",
          "height": 122
        },
        "outputId": "32525da2-c3aa-446c-85d6-e661b7e0b5bc"
      },
      "execution_count": 103,
      "outputs": [
        {
          "output_type": "display_data",
          "data": {
            "text/plain": [
              "<IPython.core.display.HTML object>"
            ],
            "text/html": [
              "<p style=\"color:grey\">model_performance_explanations</p><h3 font-size: 3em>\n",
              "The Logistic Regression model achieved an AUROC of 0.9921 on the validation set.\n",
              "\n",
              "This indicates excellent ability to distinguish between drafted and non-drafted players,\n",
              "despite the extreme class imbalance.\n",
              "\n",
              "With proper preprocessing and regularization, this model serves as a strong benchmark for evaluating future improvements.\n",
              "</h3>"
            ]
          },
          "metadata": {}
        }
      ]
    },
    {
      "cell_type": "markdown",
      "source": [
        "### J.5 Business Impact from Current Model Performance\n",
        "\n",
        "> Provide some analysis on the model impacts from the business point of view\n"
      ],
      "metadata": {
        "id": "W1HgZMPcmtu7"
      }
    },
    {
      "cell_type": "code",
      "source": [
        "# <Student to fill this section>"
      ],
      "metadata": {
        "id": "XGq2RWyqmuKM"
      },
      "execution_count": 105,
      "outputs": []
    },
    {
      "cell_type": "code",
      "source": [
        "# <Student to fill this section>\n",
        "\n",
        "business_impacts_explanations = \"\"\"\n",
        "The current model provides highly accurate predictions (AUROC 0.9921),\n",
        "which can help NBA teams or scouts prioritize college players more effectively.\n",
        "\n",
        "Correct predictions can improve scouting efficiency and investment decisions.\n",
        "However, incorrect predictions — especially false positives (predicting a player will be drafted when they are not) —\n",
        "may lead to wasted scouting resources or missed opportunities.\n",
        "\n",
        "Because the draft is highly competitive and resource-limited, a model with this performance\n",
        "can offer significant value in narrowing down top prospects.\n",
        "\"\"\""
      ],
      "metadata": {
        "id": "7bcCHiP-Hozj"
      },
      "execution_count": 106,
      "outputs": []
    },
    {
      "cell_type": "code",
      "source": [
        "# Do not modify this code\n",
        "print_tile(size=\"h3\", key='business_impacts_explanations', value=business_impacts_explanations)"
      ],
      "metadata": {
        "id": "RQ3lJGAnHo3O",
        "colab": {
          "base_uri": "https://localhost:8080/",
          "height": 162
        },
        "outputId": "7e375e20-9fea-403d-97de-31a49a555049"
      },
      "execution_count": 107,
      "outputs": [
        {
          "output_type": "display_data",
          "data": {
            "text/plain": [
              "<IPython.core.display.HTML object>"
            ],
            "text/html": [
              "<p style=\"color:grey\">business_impacts_explanations</p><h3 font-size: 3em>\n",
              "The current model provides highly accurate predictions (AUROC 0.9921),\n",
              "which can help NBA teams or scouts prioritize college players more effectively.\n",
              "\n",
              "Correct predictions can improve scouting efficiency and investment decisions.\n",
              "However, incorrect predictions — especially false positives (predicting a player will be drafted when they are not) —\n",
              "may lead to wasted scouting resources or missed opportunities.\n",
              "\n",
              "Because the draft is highly competitive and resource-limited, a model with this performance\n",
              "can offer significant value in narrowing down top prospects.\n",
              "</h3>"
            ]
          },
          "metadata": {}
        }
      ]
    },
    {
      "cell_type": "markdown",
      "source": [
        "## H. Project Outcomes"
      ],
      "metadata": {
        "id": "mp1Ie9o8nDl1"
      }
    },
    {
      "cell_type": "code",
      "source": [
        "# <Student to fill this section>\n",
        "experiment_outcome = \"Hypothesis Confirmed\""
      ],
      "metadata": {
        "id": "AvFNheh1HtPb"
      },
      "execution_count": 108,
      "outputs": []
    },
    {
      "cell_type": "code",
      "source": [
        "# Do not modify this code\n",
        "print_tile(size=\"h2\", key='experiment_outcomes_explanations', value=experiment_outcome)"
      ],
      "metadata": {
        "id": "23bFWNIVHtTU",
        "colab": {
          "base_uri": "https://localhost:8080/",
          "height": 88
        },
        "outputId": "3a1c9136-b475-4a1e-8980-f0d7badbfd50"
      },
      "execution_count": 109,
      "outputs": [
        {
          "output_type": "display_data",
          "data": {
            "text/plain": [
              "<IPython.core.display.HTML object>"
            ],
            "text/html": [
              "<p style=\"color:grey\">experiment_outcomes_explanations</p><h2 font-size: 3em>Hypothesis Confirmed</h2>"
            ]
          },
          "metadata": {}
        }
      ]
    },
    {
      "cell_type": "code",
      "source": [
        "# <Student to fill this section>\n",
        "\n",
        "experiment_results_explanations = \"\"\"\n",
        "The experiment confirms that Logistic Regression is highly effective, achieving an AUROC of 0.9921. This indicates the data is well-preprocessed and the model captures important signals for draft prediction.\n",
        "\n",
        "Next steps:\n",
        "- Try other models like XGBoost or ensemble methods for comparison.\n",
        "- Tune regularization parameters to further improve precision and reduce false positives.\n",
        "- Explore more engineered features or re-balance techniques if needed.\n",
        "\n",
        "If performance gains are minimal, this model is already strong enough to support decision-making in a real-world setting.\n",
        "\"\"\""
      ],
      "metadata": {
        "id": "iFF8wsz6HteA"
      },
      "execution_count": 110,
      "outputs": []
    },
    {
      "cell_type": "code",
      "source": [
        "# Do not modify this code\n",
        "print_tile(size=\"h2\", key='experiment_results_explanations', value=experiment_results_explanations)"
      ],
      "metadata": {
        "id": "QpWzEhX2HthW",
        "colab": {
          "base_uri": "https://localhost:8080/",
          "height": 218
        },
        "outputId": "24026c63-c477-42cd-9797-8bcdcdebcc32"
      },
      "execution_count": 111,
      "outputs": [
        {
          "output_type": "display_data",
          "data": {
            "text/plain": [
              "<IPython.core.display.HTML object>"
            ],
            "text/html": [
              "<p style=\"color:grey\">experiment_results_explanations</p><h2 font-size: 3em>\n",
              "The experiment confirms that Logistic Regression is highly effective, achieving an AUROC of 0.9921. This indicates the data is well-preprocessed and the model captures important signals for draft prediction.\n",
              "\n",
              "Next steps:\n",
              "- Try other models like XGBoost or ensemble methods for comparison.\n",
              "- Tune regularization parameters to further improve precision and reduce false positives.\n",
              "- Explore more engineered features or re-balance techniques if needed.\n",
              "\n",
              "If performance gains are minimal, this model is already strong enough to support decision-making in a real-world setting.\n",
              "</h2>"
            ]
          },
          "metadata": {}
        }
      ]
    },
    {
      "cell_type": "code",
      "source": [
        "import pandas as pd\n",
        "\n",
        "test_probs = logit_pipeline.predict_proba(test[features_list])[:, 1]\n",
        "\n",
        "submission = pd.DataFrame({\n",
        "    \"player_id\": test[\"player_id\"],\n",
        "    \"drafted\": test_probs\n",
        "})\n",
        "\n",
        "submission.to_csv(\"submission.csv\", index=False)\n",
        "print(\"submission.csv saved\")\n",
        "\n",
        "# Colab\n",
        "from google.colab import files\n",
        "files.download(\"submission.csv\")\n"
      ],
      "metadata": {
        "id": "4-Fz8eeLH1GR",
        "colab": {
          "base_uri": "https://localhost:8080/",
          "height": 35
        },
        "outputId": "a3cd0999-8b50-495d-8024-77941bcbdfb1"
      },
      "execution_count": 112,
      "outputs": [
        {
          "output_type": "stream",
          "name": "stdout",
          "text": [
            "submission.csv saved\n"
          ]
        },
        {
          "output_type": "display_data",
          "data": {
            "text/plain": [
              "<IPython.core.display.Javascript object>"
            ],
            "application/javascript": [
              "\n",
              "    async function download(id, filename, size) {\n",
              "      if (!google.colab.kernel.accessAllowed) {\n",
              "        return;\n",
              "      }\n",
              "      const div = document.createElement('div');\n",
              "      const label = document.createElement('label');\n",
              "      label.textContent = `Downloading \"${filename}\": `;\n",
              "      div.appendChild(label);\n",
              "      const progress = document.createElement('progress');\n",
              "      progress.max = size;\n",
              "      div.appendChild(progress);\n",
              "      document.body.appendChild(div);\n",
              "\n",
              "      const buffers = [];\n",
              "      let downloaded = 0;\n",
              "\n",
              "      const channel = await google.colab.kernel.comms.open(id);\n",
              "      // Send a message to notify the kernel that we're ready.\n",
              "      channel.send({})\n",
              "\n",
              "      for await (const message of channel.messages) {\n",
              "        // Send a message to notify the kernel that we're ready.\n",
              "        channel.send({})\n",
              "        if (message.buffers) {\n",
              "          for (const buffer of message.buffers) {\n",
              "            buffers.push(buffer);\n",
              "            downloaded += buffer.byteLength;\n",
              "            progress.value = downloaded;\n",
              "          }\n",
              "        }\n",
              "      }\n",
              "      const blob = new Blob(buffers, {type: 'application/binary'});\n",
              "      const a = document.createElement('a');\n",
              "      a.href = window.URL.createObjectURL(blob);\n",
              "      a.download = filename;\n",
              "      div.appendChild(a);\n",
              "      a.click();\n",
              "      div.remove();\n",
              "    }\n",
              "  "
            ]
          },
          "metadata": {}
        },
        {
          "output_type": "display_data",
          "data": {
            "text/plain": [
              "<IPython.core.display.Javascript object>"
            ],
            "application/javascript": [
              "download(\"download_24cbde5e-a484-4285-a3d2-9f021a7e13bc\", \"submission.csv\", 75214)"
            ]
          },
          "metadata": {}
        }
      ]
    },
    {
      "cell_type": "code",
      "source": [],
      "metadata": {
        "id": "ctaHoeX-H1Ix"
      },
      "execution_count": 112,
      "outputs": []
    }
  ],
  "metadata": {
    "colab": {
      "provenance": []
    },
    "kernelspec": {
      "display_name": "Python 3 (ipykernel)",
      "language": "python",
      "name": "python3"
    },
    "language_info": {
      "codemirror_mode": {
        "name": "ipython",
        "version": 3
      },
      "file_extension": ".py",
      "mimetype": "text/x-python",
      "name": "python",
      "nbconvert_exporter": "python",
      "pygments_lexer": "ipython3",
      "version": "3.10.10"
    }
  },
  "nbformat": 4,
  "nbformat_minor": 0
}