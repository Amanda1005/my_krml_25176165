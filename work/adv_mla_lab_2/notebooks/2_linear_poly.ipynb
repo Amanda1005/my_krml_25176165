{
 "cells": [
  {
   "cell_type": "code",
   "execution_count": 2,
   "id": "3b89bbc3-a35e-4b94-930a-58813d26fac4",
   "metadata": {},
   "outputs": [
    {
     "name": "stdout",
     "output_type": "stream",
     "text": [
      "The autoreload extension is already loaded. To reload it, use:\n",
      "  %reload_ext autoreload\n"
     ]
    },
    {
     "data": {
      "text/plain": [
       "((30000, 8), (30000,), (10000, 8), (10000,), (10000, 8), (10000,))"
      ]
     },
     "execution_count": 2,
     "metadata": {},
     "output_type": "execute_result"
    }
   ],
   "source": [
    "%load_ext autoreload\n",
    "%autoreload 2\n",
    "\n",
    "import numpy as np\n",
    "import pandas as pd\n",
    "from joblib import dump\n",
    "\n",
    "from my_krml_25176165.data.sets import load_sets\n",
    "\n",
    "X_train, y_train, X_val, y_val, X_test, y_test = load_sets()\n",
    "\n",
    "X_train.shape, y_train.shape, X_val.shape, y_val.shape, X_test.shape, y_test.shape\n"
   ]
  },
  {
   "cell_type": "code",
   "execution_count": null,
   "id": "34aae453-cf1a-422e-ae88-05b3f5c0e5ee",
   "metadata": {},
   "outputs": [],
   "source": [
    "# Apply Polynomial Transformation"
   ]
  },
  {
   "cell_type": "code",
   "execution_count": 3,
   "id": "a1ce4b59-79d6-40a6-a38e-e50a7695b6dc",
   "metadata": {},
   "outputs": [],
   "source": [
    "from sklearn.preprocessing import PolynomialFeatures\n",
    "\n",
    "# [3.2] 建立 PolynomialFeatures（degree=2）\n",
    "poly = PolynomialFeatures(degree=2)\n",
    "\n",
    "# [3.3] 對 X_train 擬合並轉換\n",
    "X_train = poly.fit_transform(X_train)\n",
    "\n",
    "# [3.4] 查看轉換後的維度\n",
    "X_train.shape\n",
    "\n",
    "# [3.5] 對 X_val 與 X_test 進行相同轉換（不重新 fit）\n",
    "X_val = poly.transform(X_val)\n",
    "X_test = poly.transform(X_test)\n"
   ]
  },
  {
   "cell_type": "code",
   "execution_count": null,
   "id": "0c077dde-d7e4-4643-82be-19d80662a35d",
   "metadata": {},
   "outputs": [],
   "source": [
    "# Train Linear Regression model"
   ]
  },
  {
   "cell_type": "code",
   "execution_count": 7,
   "id": "f7ea2e7e-1caf-49c5-995a-017b55c54001",
   "metadata": {},
   "outputs": [
    {
     "name": "stdout",
     "output_type": "stream",
     "text": [
      "RMSE Training: 6107.132246057445\n",
      "MAE Training: 4110.85016821403\n",
      "RMSE Validation: 6124.952553912255\n",
      "MAE Validation: 4130.709044283882\n",
      "RMSE Testing: 6193.338727890162\n",
      "MAE Testing: 4229.675154268106\n"
     ]
    }
   ],
   "source": [
    "from sklearn.linear_model import LinearRegression\n",
    "\n",
    "reg = LinearRegression()\n",
    "\n",
    "reg.fit(X_train, y_train)\n",
    "\n",
    "from pathlib import Path\n",
    "\n",
    "Path(\"../models\").mkdir(parents=True, exist_ok=True)\n",
    "dump(reg, '../models/linear_poly_2.joblib')\n",
    "\n",
    "y_train_preds = reg.predict(X_train)\n",
    "y_val_preds = reg.predict(X_val)\n",
    "\n",
    "from my_krml_25176165.models.performance import print_regressor_scores\n",
    "\n",
    "print_regressor_scores(y_preds=y_train_preds, y_actuals=y_train, set_name='Training')\n",
    "\n",
    "print_regressor_scores(y_preds=y_val_preds, y_actuals=y_val, set_name='Validation')\n",
    "\n",
    "y_test_preds = reg.predict(X_test)\n",
    "print_regressor_scores(y_preds=y_test_preds, y_actuals=y_test, set_name='Testing')\n",
    "\n"
   ]
  },
  {
   "cell_type": "code",
   "execution_count": null,
   "id": "03832c7f-f171-471d-9c57-3854c9257c74",
   "metadata": {},
   "outputs": [],
   "source": []
  }
 ],
 "metadata": {
  "kernelspec": {
   "display_name": "Python 3 (ipykernel)",
   "language": "python",
   "name": "python3"
  },
  "language_info": {
   "codemirror_mode": {
    "name": "ipython",
    "version": 3
   },
   "file_extension": ".py",
   "mimetype": "text/x-python",
   "name": "python",
   "nbconvert_exporter": "python",
   "pygments_lexer": "ipython3",
   "version": "3.11.4"
  }
 },
 "nbformat": 4,
 "nbformat_minor": 5
}
