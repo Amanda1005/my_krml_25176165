{
 "cells": [
  {
   "cell_type": "code",
   "execution_count": 2,
   "id": "5e2017e4-d29d-4390-b46f-fe98fd8240ea",
   "metadata": {},
   "outputs": [
    {
     "name": "stdout",
     "output_type": "stream",
     "text": [
      "Looking in indexes: https://test.pypi.org/simple, https://pypi.org/simple\n",
      "Collecting my-krml-25176165==2025.0.2.1\n",
      "  Downloading https://test-files.pythonhosted.org/packages/2d/cd/1665874abfc1f7cb107352257dc55f2047c53d9cab4e0947a5e9cec0c275/my_krml_25176165-2025.0.2.1-py3-none-any.whl.metadata (1.1 kB)\n",
      "Requirement already satisfied: pandas==2.2.2 in /Users/amanda/Library/Caches/pypoetry/virtualenvs/my-krml-25176165-PnbAkav1-py3.11/lib/python3.11/site-packages (from my-krml-25176165==2025.0.2.1) (2.2.2)\n",
      "Requirement already satisfied: scikit-learn==1.5.1 in /Users/amanda/Library/Caches/pypoetry/virtualenvs/my-krml-25176165-PnbAkav1-py3.11/lib/python3.11/site-packages (from my-krml-25176165==2025.0.2.1) (1.5.1)\n",
      "Requirement already satisfied: numpy>=1.23.2 in /Users/amanda/Library/Caches/pypoetry/virtualenvs/my-krml-25176165-PnbAkav1-py3.11/lib/python3.11/site-packages (from pandas==2.2.2->my-krml-25176165==2025.0.2.1) (2.3.2)\n",
      "Requirement already satisfied: python-dateutil>=2.8.2 in /Users/amanda/Library/Caches/pypoetry/virtualenvs/my-krml-25176165-PnbAkav1-py3.11/lib/python3.11/site-packages (from pandas==2.2.2->my-krml-25176165==2025.0.2.1) (2.9.0.post0)\n",
      "Requirement already satisfied: pytz>=2020.1 in /Users/amanda/Library/Caches/pypoetry/virtualenvs/my-krml-25176165-PnbAkav1-py3.11/lib/python3.11/site-packages (from pandas==2.2.2->my-krml-25176165==2025.0.2.1) (2025.2)\n",
      "Requirement already satisfied: tzdata>=2022.7 in /Users/amanda/Library/Caches/pypoetry/virtualenvs/my-krml-25176165-PnbAkav1-py3.11/lib/python3.11/site-packages (from pandas==2.2.2->my-krml-25176165==2025.0.2.1) (2025.2)\n",
      "Requirement already satisfied: scipy>=1.6.0 in /Users/amanda/Library/Caches/pypoetry/virtualenvs/my-krml-25176165-PnbAkav1-py3.11/lib/python3.11/site-packages (from scikit-learn==1.5.1->my-krml-25176165==2025.0.2.1) (1.16.1)\n",
      "Requirement already satisfied: joblib>=1.2.0 in /Users/amanda/Library/Caches/pypoetry/virtualenvs/my-krml-25176165-PnbAkav1-py3.11/lib/python3.11/site-packages (from scikit-learn==1.5.1->my-krml-25176165==2025.0.2.1) (1.5.1)\n",
      "Requirement already satisfied: threadpoolctl>=3.1.0 in /Users/amanda/Library/Caches/pypoetry/virtualenvs/my-krml-25176165-PnbAkav1-py3.11/lib/python3.11/site-packages (from scikit-learn==1.5.1->my-krml-25176165==2025.0.2.1) (3.6.0)\n",
      "Requirement already satisfied: six>=1.5 in /Users/amanda/Library/Caches/pypoetry/virtualenvs/my-krml-25176165-PnbAkav1-py3.11/lib/python3.11/site-packages (from python-dateutil>=2.8.2->pandas==2.2.2->my-krml-25176165==2025.0.2.1) (1.17.0)\n",
      "Downloading https://test-files.pythonhosted.org/packages/2d/cd/1665874abfc1f7cb107352257dc55f2047c53d9cab4e0947a5e9cec0c275/my_krml_25176165-2025.0.2.1-py3-none-any.whl (5.0 kB)\n",
      "Installing collected packages: my-krml-25176165\n",
      "  Attempting uninstall: my-krml-25176165\n",
      "    Found existing installation: my_krml_25176165 2025.0.2.0\n",
      "    Uninstalling my_krml_25176165-2025.0.2.0:\n",
      "      Successfully uninstalled my_krml_25176165-2025.0.2.0\n",
      "Successfully installed my-krml-25176165-2025.0.2.1\n",
      "\n",
      "\u001b[1m[\u001b[0m\u001b[34;49mnotice\u001b[0m\u001b[1;39;49m]\u001b[0m\u001b[39;49m A new release of pip is available: \u001b[0m\u001b[31;49m25.1.1\u001b[0m\u001b[39;49m -> \u001b[0m\u001b[32;49m25.2\u001b[0m\n",
      "\u001b[1m[\u001b[0m\u001b[34;49mnotice\u001b[0m\u001b[1;39;49m]\u001b[0m\u001b[39;49m To update, run: \u001b[0m\u001b[32;49mpip install --upgrade pip\u001b[0m\n"
     ]
    }
   ],
   "source": [
    "!pip install -i https://test.pypi.org/simple my-krml-25176165==2025.0.2.1 --upgrade --extra-index-url https://pypi.org/simple"
   ]
  },
  {
   "cell_type": "code",
   "execution_count": 6,
   "id": "0c866f29-afc4-4e08-a431-3e8c02f6c2f1",
   "metadata": {},
   "outputs": [],
   "source": [
    "from pathlib import Path\n",
    "import sys\n",
    "sys.path.insert(0, str(Path.cwd().parents[2] / \"src\"))"
   ]
  },
  {
   "cell_type": "code",
   "execution_count": 7,
   "id": "a4203b92-b21e-42bf-8313-28e50bb21093",
   "metadata": {},
   "outputs": [],
   "source": [
    "%load_ext autoreload\n",
    "%autoreload 2"
   ]
  },
  {
   "cell_type": "code",
   "execution_count": 8,
   "id": "3f66e463-c6d2-4dfd-a25d-4e5566c2165c",
   "metadata": {
    "scrolled": true
   },
   "outputs": [
    {
     "name": "stdout",
     "output_type": "stream",
     "text": [
      "  % Total    % Received % Xferd  Average Speed   Time    Time     Time  Current\n",
      "                                 Dload  Upload   Total   Spent    Left  Speed\n",
      "100 1983k  100 1983k    0     0  88869      0  0:00:22  0:00:22 --:--:--  369k  0     0      0      0 --:--:--  0:00:08 --:--:--     00  0:01:13  0:00:19  0:00:54  103k     0  50474      0  0:00:40  0:00:22  0:00:18  141k\n"
     ]
    }
   ],
   "source": [
    "!mkdir -p ../../data/raw\n",
    "\n",
    "!curl -L -o ../../data/raw/insurance.csv \\\n",
    "https://raw.githubusercontent.com/aso-uts/labs_datasets/main/36120-adv_mla/lab02/insurance.csv\n"
   ]
  },
  {
   "cell_type": "code",
   "execution_count": 15,
   "id": "83629bd3-c103-494f-b344-d76371cf579e",
   "metadata": {},
   "outputs": [
    {
     "name": "stdout",
     "output_type": "stream",
     "text": [
      "<class 'pandas.core.frame.DataFrame'>\n",
      "RangeIndex: 50000 entries, 0 to 49999\n",
      "Data columns (total 7 columns):\n",
      " #   Column    Non-Null Count  Dtype  \n",
      "---  ------    --------------  -----  \n",
      " 0   age       50000 non-null  int64  \n",
      " 1   sex       50000 non-null  object \n",
      " 2   bmi       50000 non-null  float64\n",
      " 3   children  50000 non-null  int64  \n",
      " 4   smoker    50000 non-null  object \n",
      " 5   region    50000 non-null  object \n",
      " 6   charges   50000 non-null  float64\n",
      "dtypes: float64(2), int64(2), object(3)\n",
      "memory usage: 2.7+ MB\n"
     ]
    },
    {
     "data": {
      "text/html": [
       "<div>\n",
       "<style scoped>\n",
       "    .dataframe tbody tr th:only-of-type {\n",
       "        vertical-align: middle;\n",
       "    }\n",
       "\n",
       "    .dataframe tbody tr th {\n",
       "        vertical-align: top;\n",
       "    }\n",
       "\n",
       "    .dataframe thead th {\n",
       "        text-align: right;\n",
       "    }\n",
       "</style>\n",
       "<table border=\"1\" class=\"dataframe\">\n",
       "  <thead>\n",
       "    <tr style=\"text-align: right;\">\n",
       "      <th></th>\n",
       "      <th>age</th>\n",
       "      <th>sex</th>\n",
       "      <th>bmi</th>\n",
       "      <th>children</th>\n",
       "      <th>smoker</th>\n",
       "      <th>region</th>\n",
       "      <th>charges</th>\n",
       "    </tr>\n",
       "  </thead>\n",
       "  <tbody>\n",
       "    <tr>\n",
       "      <th>count</th>\n",
       "      <td>50000.000000</td>\n",
       "      <td>50000</td>\n",
       "      <td>50000.000000</td>\n",
       "      <td>50000.000000</td>\n",
       "      <td>50000</td>\n",
       "      <td>50000</td>\n",
       "      <td>50000.000000</td>\n",
       "    </tr>\n",
       "    <tr>\n",
       "      <th>unique</th>\n",
       "      <td>NaN</td>\n",
       "      <td>2</td>\n",
       "      <td>NaN</td>\n",
       "      <td>NaN</td>\n",
       "      <td>2</td>\n",
       "      <td>4</td>\n",
       "      <td>NaN</td>\n",
       "    </tr>\n",
       "    <tr>\n",
       "      <th>top</th>\n",
       "      <td>NaN</td>\n",
       "      <td>male</td>\n",
       "      <td>NaN</td>\n",
       "      <td>NaN</td>\n",
       "      <td>no</td>\n",
       "      <td>southeast</td>\n",
       "      <td>NaN</td>\n",
       "    </tr>\n",
       "    <tr>\n",
       "      <th>freq</th>\n",
       "      <td>NaN</td>\n",
       "      <td>25176</td>\n",
       "      <td>NaN</td>\n",
       "      <td>NaN</td>\n",
       "      <td>38976</td>\n",
       "      <td>14197</td>\n",
       "      <td>NaN</td>\n",
       "    </tr>\n",
       "    <tr>\n",
       "      <th>mean</th>\n",
       "      <td>39.463120</td>\n",
       "      <td>NaN</td>\n",
       "      <td>30.713734</td>\n",
       "      <td>1.113760</td>\n",
       "      <td>NaN</td>\n",
       "      <td>NaN</td>\n",
       "      <td>13343.216363</td>\n",
       "    </tr>\n",
       "    <tr>\n",
       "      <th>std</th>\n",
       "      <td>14.117142</td>\n",
       "      <td>NaN</td>\n",
       "      <td>6.092727</td>\n",
       "      <td>1.212835</td>\n",
       "      <td>NaN</td>\n",
       "      <td>NaN</td>\n",
       "      <td>12131.222744</td>\n",
       "    </tr>\n",
       "    <tr>\n",
       "      <th>min</th>\n",
       "      <td>18.000000</td>\n",
       "      <td>NaN</td>\n",
       "      <td>17.291000</td>\n",
       "      <td>0.000000</td>\n",
       "      <td>NaN</td>\n",
       "      <td>NaN</td>\n",
       "      <td>1137.535900</td>\n",
       "    </tr>\n",
       "    <tr>\n",
       "      <th>25%</th>\n",
       "      <td>27.000000</td>\n",
       "      <td>NaN</td>\n",
       "      <td>26.600000</td>\n",
       "      <td>0.000000</td>\n",
       "      <td>NaN</td>\n",
       "      <td>NaN</td>\n",
       "      <td>4694.431800</td>\n",
       "    </tr>\n",
       "    <tr>\n",
       "      <th>50%</th>\n",
       "      <td>40.000000</td>\n",
       "      <td>NaN</td>\n",
       "      <td>30.300000</td>\n",
       "      <td>1.000000</td>\n",
       "      <td>NaN</td>\n",
       "      <td>NaN</td>\n",
       "      <td>9399.232775</td>\n",
       "    </tr>\n",
       "    <tr>\n",
       "      <th>75%</th>\n",
       "      <td>51.000000</td>\n",
       "      <td>NaN</td>\n",
       "      <td>34.570000</td>\n",
       "      <td>2.000000</td>\n",
       "      <td>NaN</td>\n",
       "      <td>NaN</td>\n",
       "      <td>17340.746925</td>\n",
       "    </tr>\n",
       "    <tr>\n",
       "      <th>max</th>\n",
       "      <td>64.000000</td>\n",
       "      <td>NaN</td>\n",
       "      <td>47.740000</td>\n",
       "      <td>5.000000</td>\n",
       "      <td>NaN</td>\n",
       "      <td>NaN</td>\n",
       "      <td>52589.810300</td>\n",
       "    </tr>\n",
       "  </tbody>\n",
       "</table>\n",
       "</div>"
      ],
      "text/plain": [
       "                 age    sex           bmi      children smoker     region  \\\n",
       "count   50000.000000  50000  50000.000000  50000.000000  50000      50000   \n",
       "unique           NaN      2           NaN           NaN      2          4   \n",
       "top              NaN   male           NaN           NaN     no  southeast   \n",
       "freq             NaN  25176           NaN           NaN  38976      14197   \n",
       "mean       39.463120    NaN     30.713734      1.113760    NaN        NaN   \n",
       "std        14.117142    NaN      6.092727      1.212835    NaN        NaN   \n",
       "min        18.000000    NaN     17.291000      0.000000    NaN        NaN   \n",
       "25%        27.000000    NaN     26.600000      0.000000    NaN        NaN   \n",
       "50%        40.000000    NaN     30.300000      1.000000    NaN        NaN   \n",
       "75%        51.000000    NaN     34.570000      2.000000    NaN        NaN   \n",
       "max        64.000000    NaN     47.740000      5.000000    NaN        NaN   \n",
       "\n",
       "             charges  \n",
       "count   50000.000000  \n",
       "unique           NaN  \n",
       "top              NaN  \n",
       "freq             NaN  \n",
       "mean    13343.216363  \n",
       "std     12131.222744  \n",
       "min      1137.535900  \n",
       "25%      4694.431800  \n",
       "50%      9399.232775  \n",
       "75%     17340.746925  \n",
       "max     52589.810300  "
      ]
     },
     "execution_count": 15,
     "metadata": {},
     "output_type": "execute_result"
    }
   ],
   "source": [
    "import pandas as pd\n",
    "import numpy as np\n",
    "df = pd.read_csv(\"../../data/raw/insurance.csv\")\n",
    "\n",
    "df.head()       \n",
    "df.shape        \n",
    "df.info()       \n",
    "df.describe(include=\"all\") \n"
   ]
  },
  {
   "cell_type": "code",
   "execution_count": 16,
   "id": "afa692bd-cc82-4ac6-9c4e-01f70147f03a",
   "metadata": {},
   "outputs": [
    {
     "data": {
      "text/plain": [
       "['../../models/scaler.joblib']"
      ]
     },
     "execution_count": 16,
     "metadata": {},
     "output_type": "execute_result"
    }
   ],
   "source": [
    "df_cleaned = df.copy()\n",
    "target = df_cleaned.pop(\"charges\")\n",
    "\n",
    "num_cols = list(df_cleaned.select_dtypes(\"number\").columns)\n",
    "cat_cols = list(set(df_cleaned.columns) - set(num_cols))\n",
    "num_cols, cat_cols\n",
    "\n",
    "from sklearn.preprocessing import StandardScaler, OneHotEncoder\n",
    "ohe = OneHotEncoder(sparse_output=False, drop=\"first\", handle_unknown=\"ignore\")\n",
    "features = ohe.fit_transform(df_cleaned[cat_cols])\n",
    "features = pd.DataFrame(features, columns=ohe.get_feature_names_out())\n",
    "scaler = StandardScaler()\n",
    "\n",
    "features[num_cols] = scaler.fit_transform(df_cleaned[num_cols])\n",
    "features.head()\n",
    "\n",
    "from joblib import dump\n",
    "import os\n",
    "os.makedirs(\"../../models\", exist_ok=True)\n",
    "\n",
    "dump(ohe, \"../../models/ohe.joblib\")\n",
    "dump(scaler, \"../../models/scaler.joblib\")"
   ]
  },
  {
   "cell_type": "code",
   "execution_count": 17,
   "id": "1fc9c434-29d4-4f1e-93ec-0c1c23383710",
   "metadata": {},
   "outputs": [],
   "source": [
    "# Split Dataset"
   ]
  },
  {
   "cell_type": "code",
   "execution_count": 18,
   "id": "833ee743-dc13-419f-9596-8f7f66cf4fd6",
   "metadata": {},
   "outputs": [
    {
     "name": "stdout",
     "output_type": "stream",
     "text": [
      "(30000, 8)\n",
      "(10000, 8)\n",
      "(10000, 8)\n"
     ]
    }
   ],
   "source": [
    "from my_krml_25176165.data.sets import split_sets_random\n",
    "X_train, y_train, X_val, y_val, X_test, y_test = split_sets_random(features, target, test_ratio=0.2)\n",
    "\n",
    "print(X_train.shape)\n",
    "print(X_val.shape)\n",
    "print(X_test.shape)"
   ]
  },
  {
   "cell_type": "code",
   "execution_count": 19,
   "id": "7c62b9d2-74b1-450e-94d0-34b0bd20098a",
   "metadata": {},
   "outputs": [
    {
     "name": "stdout",
     "output_type": "stream",
     "text": [
      "(30000, 8)\n",
      "(10000, 8)\n",
      "(10000, 8)\n"
     ]
    }
   ],
   "source": [
    "import os\n",
    "from my_krml_25176165.data.sets import split_sets_random, save_sets\n",
    "\n",
    "os.makedirs('../data/processed', exist_ok=True)\n",
    "\n",
    "X_train, y_train, X_val, y_val, X_test, y_test = split_sets_random(features, target, test_ratio=0.2)\n",
    "\n",
    "print(X_train.shape)\n",
    "print(X_val.shape)\n",
    "print(X_test.shape)\n",
    "\n",
    "save_sets(X_train, y_train, X_val, y_val, X_test, y_test, path='../data/processed/')\n",
    "\n"
   ]
  },
  {
   "cell_type": "code",
   "execution_count": 20,
   "id": "cecc0fd2-bdd9-43c1-a296-341706cd5918",
   "metadata": {},
   "outputs": [
    {
     "name": "stdout",
     "output_type": "stream",
     "text": [
      "RMSE Training: 12101.506007041873\n",
      "MAE Training: 9111.058822092036\n"
     ]
    }
   ],
   "source": [
    "from sklearn.dummy import DummyRegressor\n",
    "from my_krml_25176165.models.performance import print_regressor_scores\n",
    "\n",
    "# 建立 baseline model\n",
    "base_reg = DummyRegressor(strategy=\"mean\")\n",
    "\n",
    "# 訓練 baseline model\n",
    "base_reg.fit(X_train, y_train)\n",
    "\n",
    "# 對訓練集做預測\n",
    "y_base_train = base_reg.predict(X_train)\n",
    "\n",
    "# 計算 RMSE 和 MAE\n",
    "print_regressor_scores(y_preds=y_base_train, y_actuals=y_train, set_name=\"Training\")\n"
   ]
  },
  {
   "cell_type": "code",
   "execution_count": 21,
   "id": "3edb67d9-4aec-48e4-985b-332c055ee15c",
   "metadata": {},
   "outputs": [],
   "source": [
    "# Get Baseline Model"
   ]
  },
  {
   "cell_type": "code",
   "execution_count": 22,
   "id": "141377b5-c81f-4390-b3fe-f604e3b60efd",
   "metadata": {},
   "outputs": [
    {
     "name": "stdout",
     "output_type": "stream",
     "text": [
      "RMSE Training: 12101.506007041873\n",
      "MAE Training: 9111.058822092036\n"
     ]
    }
   ],
   "source": [
    "from my_krml_25176165.models.performance import print_regressor_scores\n",
    "print_regressor_scores(y_preds=y_base_train, y_actuals=y_train, set_name=\"Training\")\n"
   ]
  },
  {
   "cell_type": "code",
   "execution_count": null,
   "id": "a502dc80-6d79-46b2-8837-caf27222d19c",
   "metadata": {},
   "outputs": [],
   "source": []
  }
 ],
 "metadata": {
  "kernelspec": {
   "display_name": "Python 3 (ipykernel)",
   "language": "python",
   "name": "python3"
  },
  "language_info": {
   "codemirror_mode": {
    "name": "ipython",
    "version": 3
   },
   "file_extension": ".py",
   "mimetype": "text/x-python",
   "name": "python",
   "nbconvert_exporter": "python",
   "pygments_lexer": "ipython3",
   "version": "3.11.4"
  }
 },
 "nbformat": 4,
 "nbformat_minor": 5
}
